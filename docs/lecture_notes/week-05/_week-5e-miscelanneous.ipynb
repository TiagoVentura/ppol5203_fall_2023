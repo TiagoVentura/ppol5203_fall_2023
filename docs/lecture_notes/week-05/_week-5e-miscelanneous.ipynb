{
 "cells": [
  {
   "cell_type": "markdown",
   "id": "dd9b9e62",
   "metadata": {},
   "source": [
    "<h1><center> PPOL 5203 Data Science I: Foundations <br><br> \n",
    "<font color='grey'> Miscellaneous in Pandas<br><br>\n",
    "Tiago Ventura</center></center> <h1> \n",
    "\n",
    "---"
   ]
  },
  {
   "cell_type": "markdown",
   "id": "07e09ea3",
   "metadata": {},
   "source": [
    "**In this Notebook we cover some miscellaneous data wrangling techniques:**\n",
    "\n",
    "- Pipining operations in Pandas. \n",
    "- Dealing with Missing values/imputation\n",
    "- Apply and Map Methods in Pandas\n",
    "\n"
   ]
  },
  {
   "cell_type": "markdown",
   "id": "a19bf5fd",
   "metadata": {},
   "source": [
    "## Setup"
   ]
  },
  {
   "cell_type": "code",
   "execution_count": 1,
   "id": "9870cb46",
   "metadata": {},
   "outputs": [],
   "source": [
    "import pandas as pd\n",
    "import numpy as np"
   ]
  },
  {
   "cell_type": "markdown",
   "id": "9b152245",
   "metadata": {},
   "source": [
    "## Piping\n",
    "\n",
    "If you started your data science career, or are simultaneously learning, R, it is likely you were exposed to the `tidyverse` world, and the famous `pipe`. Here it is for you:\n",
    "\n",
    "![](https://magrittr.tidyverse.org/logo.png)\n",
    "\n",
    "\n",
    "Pipe operators, introduced by tha magritt package in R, absolutely transformed the way of writing coding in R. It did for good reasons. And in the past few years, piping has also become more prevalent in Python. \n",
    "\n",
    "Pipe operators allows you to:\n",
    "\n",
    "- **Chain together data manipulations in a single operational sequence.**\n",
    "\n",
    "In pandas, piping allows you to chain together in a single workflow a sequence of methods. Pipe operators (`.pipe()`) in `pandas` were introduced relatively recently (version 0.16.2).\n",
    "\n",
    "Let's see some examples using the world cup data. We want to count which country played more world cup games."
   ]
  },
  {
   "cell_type": "code",
   "execution_count": 2,
   "id": "048aa05f",
   "metadata": {},
   "outputs": [],
   "source": [
    "# read world cup data\n",
    "wc = pd.read_csv(\"WorldCupMatches.csv\")"
   ]
  },
  {
   "cell_type": "markdown",
   "id": "d9a735c2",
   "metadata": {},
   "source": [
    "#### _Method 1_: sequentially overwrite the object"
   ]
  },
  {
   "cell_type": "code",
   "execution_count": 3,
   "id": "cfc1464e",
   "metadata": {
    "scrolled": true
   },
   "outputs": [
    {
     "data": {
      "text/html": [
       "<div>\n",
       "<style scoped>\n",
       "    .dataframe tbody tr th:only-of-type {\n",
       "        vertical-align: middle;\n",
       "    }\n",
       "\n",
       "    .dataframe tbody tr th {\n",
       "        vertical-align: top;\n",
       "    }\n",
       "\n",
       "    .dataframe thead th {\n",
       "        text-align: right;\n",
       "    }\n",
       "</style>\n",
       "<table border=\"1\" class=\"dataframe\">\n",
       "  <thead>\n",
       "    <tr style=\"text-align: right;\">\n",
       "      <th></th>\n",
       "      <th>country</th>\n",
       "      <th>n</th>\n",
       "    </tr>\n",
       "  </thead>\n",
       "  <tbody>\n",
       "    <tr>\n",
       "      <th>7</th>\n",
       "      <td>Brazil</td>\n",
       "      <td>108</td>\n",
       "    </tr>\n",
       "    <tr>\n",
       "      <th>39</th>\n",
       "      <td>Italy</td>\n",
       "      <td>83</td>\n",
       "    </tr>\n",
       "    <tr>\n",
       "      <th>2</th>\n",
       "      <td>Argentina</td>\n",
       "      <td>81</td>\n",
       "    </tr>\n",
       "    <tr>\n",
       "      <th>25</th>\n",
       "      <td>England</td>\n",
       "      <td>62</td>\n",
       "    </tr>\n",
       "    <tr>\n",
       "      <th>29</th>\n",
       "      <td>Germany FR</td>\n",
       "      <td>62</td>\n",
       "    </tr>\n",
       "    <tr>\n",
       "      <th>26</th>\n",
       "      <td>France</td>\n",
       "      <td>61</td>\n",
       "    </tr>\n",
       "    <tr>\n",
       "      <th>66</th>\n",
       "      <td>Spain</td>\n",
       "      <td>59</td>\n",
       "    </tr>\n",
       "    <tr>\n",
       "      <th>45</th>\n",
       "      <td>Mexico</td>\n",
       "      <td>54</td>\n",
       "    </tr>\n",
       "    <tr>\n",
       "      <th>47</th>\n",
       "      <td>Netherlands</td>\n",
       "      <td>54</td>\n",
       "    </tr>\n",
       "    <tr>\n",
       "      <th>74</th>\n",
       "      <td>Uruguay</td>\n",
       "      <td>52</td>\n",
       "    </tr>\n",
       "  </tbody>\n",
       "</table>\n",
       "</div>"
      ],
      "text/plain": [
       "        country    n\n",
       "7        Brazil  108\n",
       "39        Italy   83\n",
       "2     Argentina   81\n",
       "25      England   62\n",
       "29   Germany FR   62\n",
       "26       France   61\n",
       "66        Spain   59\n",
       "45       Mexico   54\n",
       "47  Netherlands   54\n",
       "74      Uruguay   52"
      ]
     },
     "execution_count": 3,
     "metadata": {},
     "output_type": "execute_result"
    }
   ],
   "source": [
    "wc = pd.read_csv(\"WorldCupMatches.csv\")\n",
    "\n",
    "# select columns\n",
    "wc = wc.filter(['Year','Home Team Name','Away Team Name'])\n",
    "\n",
    "# make it tidy\n",
    "wc = wc.melt(id_vars=[\"Year\"], var_name=\"var\", value_name=\"country\")\n",
    "\n",
    "# group by\n",
    "wc = wc.groupby(\"country\")\n",
    "\n",
    "# count occurrences\n",
    "wc = wc.size()\n",
    "\n",
    "# move index to column with new name\n",
    "wc = wc.reset_index(name=\"n\")\n",
    "\n",
    "# sort\n",
    "wc = wc.sort_values(by=\"n\", ascending=False)\n",
    "\n",
    "# print 10\n",
    "wc.head(10)"
   ]
  },
  {
   "cell_type": "markdown",
   "id": "7f5fabe4",
   "metadata": {},
   "source": [
    "#### Method 2: Pandas Pipe"
   ]
  },
  {
   "cell_type": "code",
   "execution_count": 4,
   "id": "36985909",
   "metadata": {},
   "outputs": [
    {
     "data": {
      "text/html": [
       "<div>\n",
       "<style scoped>\n",
       "    .dataframe tbody tr th:only-of-type {\n",
       "        vertical-align: middle;\n",
       "    }\n",
       "\n",
       "    .dataframe tbody tr th {\n",
       "        vertical-align: top;\n",
       "    }\n",
       "\n",
       "    .dataframe thead th {\n",
       "        text-align: right;\n",
       "    }\n",
       "</style>\n",
       "<table border=\"1\" class=\"dataframe\">\n",
       "  <thead>\n",
       "    <tr style=\"text-align: right;\">\n",
       "      <th></th>\n",
       "      <th>country</th>\n",
       "      <th>n</th>\n",
       "    </tr>\n",
       "  </thead>\n",
       "  <tbody>\n",
       "    <tr>\n",
       "      <th>7</th>\n",
       "      <td>Brazil</td>\n",
       "      <td>108</td>\n",
       "    </tr>\n",
       "    <tr>\n",
       "      <th>39</th>\n",
       "      <td>Italy</td>\n",
       "      <td>83</td>\n",
       "    </tr>\n",
       "    <tr>\n",
       "      <th>2</th>\n",
       "      <td>Argentina</td>\n",
       "      <td>81</td>\n",
       "    </tr>\n",
       "    <tr>\n",
       "      <th>25</th>\n",
       "      <td>England</td>\n",
       "      <td>62</td>\n",
       "    </tr>\n",
       "    <tr>\n",
       "      <th>29</th>\n",
       "      <td>Germany FR</td>\n",
       "      <td>62</td>\n",
       "    </tr>\n",
       "    <tr>\n",
       "      <th>26</th>\n",
       "      <td>France</td>\n",
       "      <td>61</td>\n",
       "    </tr>\n",
       "    <tr>\n",
       "      <th>66</th>\n",
       "      <td>Spain</td>\n",
       "      <td>59</td>\n",
       "    </tr>\n",
       "    <tr>\n",
       "      <th>45</th>\n",
       "      <td>Mexico</td>\n",
       "      <td>54</td>\n",
       "    </tr>\n",
       "    <tr>\n",
       "      <th>47</th>\n",
       "      <td>Netherlands</td>\n",
       "      <td>54</td>\n",
       "    </tr>\n",
       "    <tr>\n",
       "      <th>74</th>\n",
       "      <td>Uruguay</td>\n",
       "      <td>52</td>\n",
       "    </tr>\n",
       "  </tbody>\n",
       "</table>\n",
       "</div>"
      ],
      "text/plain": [
       "        country    n\n",
       "7        Brazil  108\n",
       "39        Italy   83\n",
       "2     Argentina   81\n",
       "25      England   62\n",
       "29   Germany FR   62\n",
       "26       France   61\n",
       "66        Spain   59\n",
       "45       Mexico   54\n",
       "47  Netherlands   54\n",
       "74      Uruguay   52"
      ]
     },
     "execution_count": 4,
     "metadata": {},
     "output_type": "execute_result"
    }
   ],
   "source": [
    "wc = pd.read_csv(\"WorldCupMatches.csv\")\n",
    "\n",
    "# select columns\n",
    "wc_10 = (wc.filter(['Year','Home Team Name','Away Team Name']).\n",
    "             melt(id_vars=[\"Year\"], var_name=\"var\", value_name=\"country\"). \n",
    "             groupby(\"country\"). \n",
    "             size(). \n",
    "             reset_index(name=\"n\").\n",
    "             sort_values(by=\"n\", ascending=False)\n",
    "        )\n",
    "\n",
    "# print 10\n",
    "wc_10.head(10)"
   ]
  },
  {
   "cell_type": "markdown",
   "id": "3c842256",
   "metadata": {},
   "source": [
    "#### Notice that a sequential chain would also work\n",
    "\n",
    "But it is not a nice code to read!"
   ]
  },
  {
   "cell_type": "code",
   "execution_count": 5,
   "id": "28f2ad82",
   "metadata": {},
   "outputs": [
    {
     "data": {
      "text/html": [
       "<div>\n",
       "<style scoped>\n",
       "    .dataframe tbody tr th:only-of-type {\n",
       "        vertical-align: middle;\n",
       "    }\n",
       "\n",
       "    .dataframe tbody tr th {\n",
       "        vertical-align: top;\n",
       "    }\n",
       "\n",
       "    .dataframe thead th {\n",
       "        text-align: right;\n",
       "    }\n",
       "</style>\n",
       "<table border=\"1\" class=\"dataframe\">\n",
       "  <thead>\n",
       "    <tr style=\"text-align: right;\">\n",
       "      <th></th>\n",
       "      <th>country</th>\n",
       "      <th>n</th>\n",
       "    </tr>\n",
       "  </thead>\n",
       "  <tbody>\n",
       "    <tr>\n",
       "      <th>7</th>\n",
       "      <td>Brazil</td>\n",
       "      <td>108</td>\n",
       "    </tr>\n",
       "    <tr>\n",
       "      <th>39</th>\n",
       "      <td>Italy</td>\n",
       "      <td>83</td>\n",
       "    </tr>\n",
       "    <tr>\n",
       "      <th>2</th>\n",
       "      <td>Argentina</td>\n",
       "      <td>81</td>\n",
       "    </tr>\n",
       "    <tr>\n",
       "      <th>25</th>\n",
       "      <td>England</td>\n",
       "      <td>62</td>\n",
       "    </tr>\n",
       "    <tr>\n",
       "      <th>29</th>\n",
       "      <td>Germany FR</td>\n",
       "      <td>62</td>\n",
       "    </tr>\n",
       "    <tr>\n",
       "      <th>26</th>\n",
       "      <td>France</td>\n",
       "      <td>61</td>\n",
       "    </tr>\n",
       "    <tr>\n",
       "      <th>66</th>\n",
       "      <td>Spain</td>\n",
       "      <td>59</td>\n",
       "    </tr>\n",
       "    <tr>\n",
       "      <th>45</th>\n",
       "      <td>Mexico</td>\n",
       "      <td>54</td>\n",
       "    </tr>\n",
       "    <tr>\n",
       "      <th>47</th>\n",
       "      <td>Netherlands</td>\n",
       "      <td>54</td>\n",
       "    </tr>\n",
       "    <tr>\n",
       "      <th>74</th>\n",
       "      <td>Uruguay</td>\n",
       "      <td>52</td>\n",
       "    </tr>\n",
       "  </tbody>\n",
       "</table>\n",
       "</div>"
      ],
      "text/plain": [
       "        country    n\n",
       "7        Brazil  108\n",
       "39        Italy   83\n",
       "2     Argentina   81\n",
       "25      England   62\n",
       "29   Germany FR   62\n",
       "26       France   61\n",
       "66        Spain   59\n",
       "45       Mexico   54\n",
       "47  Netherlands   54\n",
       "74      Uruguay   52"
      ]
     },
     "execution_count": 5,
     "metadata": {},
     "output_type": "execute_result"
    }
   ],
   "source": [
    "wc.filter(['Year','Home Team Name','Away Team Name']).melt(id_vars=[\"Year\"], var_name=\"var\", value_name=\"country\"). groupby(\"country\"). size(). reset_index(name=\"n\").sort_values(by=\"n\", ascending=False).head(10)\n",
    "        "
   ]
  },
  {
   "cell_type": "markdown",
   "id": "b0aba9fd",
   "metadata": {},
   "source": [
    "#### Final notes in Piping\n",
    "\n",
    "<div class=\"alert alert-block alert-info\">\n",
    "\n",
    "To understand pipes, you should always remember: **data in, data out**. That's what pipes do: apply methods sequentially to `pandas dataframes`. \n",
    "    \n",
    "</div>\n"
   ]
  },
  {
   "cell_type": "markdown",
   "id": "20cd3b1e",
   "metadata": {},
   "source": [
    "It should be clear by now, but these are some of the advantages of piping your code: \n",
    "    \n",
    "- Improves code structure\n",
    "- Eliminates intermediate variables\t\n",
    "- Can improve code readability\n",
    "- Memory efficiency by eliminating intermediate variables\n",
    "- Makes easies to add steps anywhere in the sequence of operations\n",
    "\n",
    "Keep in mind pipes also have some disadvantages. In my view, specially when working in notebook in which you do not execute line by line, pipes can make codes a bit harder to debug and also embed errors that you could perceive more easier by examining intermediate variables. "
   ]
  },
  {
   "cell_type": "markdown",
   "id": "6505a1d4",
   "metadata": {},
   "source": []
  },
  {
   "cell_type": "markdown",
   "id": "ee3335e6",
   "metadata": {},
   "source": [
    "# Missing Values in Pandas\n",
    "\n",
    "[Read more about Missing Data in Python Data Science Handbook](https://jakevdp.github.io/PythonDataScienceHandbook/03.04-missing-values.html)\n",
    "\n",
    "Real datasets are messy. \n",
    "\n",
    "Missingness (such as non-response in surveys, lack of information from a particular year, wrong input in a databases) are frequent visitors on our day-to-day work with datasets. \n",
    "\n",
    "Let's see a few approaches to work with missing data in `pandas`\n",
    "\n",
    "At first, we should learn how `pandas` records missing data. Pandas use sentinels (a global annotation) to handle missing values, and more specifically Pandas use two already-existing Python null values to identify missings:\n",
    "\n",
    "- None object.\n",
    "- floating-point NaN value\n",
    "\n",
    "Let's see how to work with these values"
   ]
  },
  {
   "cell_type": "markdown",
   "id": "4a7a0295",
   "metadata": {},
   "source": [
    "### Handling Missing Data"
   ]
  },
  {
   "cell_type": "code",
   "execution_count": 28,
   "id": "f4b9f6b0",
   "metadata": {},
   "outputs": [
    {
     "data": {
      "text/html": [
       "<div>\n",
       "<style scoped>\n",
       "    .dataframe tbody tr th:only-of-type {\n",
       "        vertical-align: middle;\n",
       "    }\n",
       "\n",
       "    .dataframe tbody tr th {\n",
       "        vertical-align: top;\n",
       "    }\n",
       "\n",
       "    .dataframe thead th {\n",
       "        text-align: right;\n",
       "    }\n",
       "</style>\n",
       "<table border=\"1\" class=\"dataframe\">\n",
       "  <thead>\n",
       "    <tr style=\"text-align: right;\">\n",
       "      <th></th>\n",
       "      <th>id</th>\n",
       "      <th>age</th>\n",
       "      <th>gender</th>\n",
       "      <th>politics</th>\n",
       "      <th>super_sensitive_item</th>\n",
       "      <th>social_media</th>\n",
       "    </tr>\n",
       "  </thead>\n",
       "  <tbody>\n",
       "    <tr>\n",
       "      <th>0</th>\n",
       "      <td>id_1929</td>\n",
       "      <td>30</td>\n",
       "      <td>M</td>\n",
       "      <td>NaN</td>\n",
       "      <td>NaN</td>\n",
       "      <td>Twitter</td>\n",
       "    </tr>\n",
       "    <tr>\n",
       "      <th>1</th>\n",
       "      <td>id_2982</td>\n",
       "      <td>5</td>\n",
       "      <td>F</td>\n",
       "      <td>stronly agree</td>\n",
       "      <td>NaN</td>\n",
       "      <td>Facebook</td>\n",
       "    </tr>\n",
       "    <tr>\n",
       "      <th>2</th>\n",
       "      <td>id_2902</td>\n",
       "      <td>30</td>\n",
       "      <td>None</td>\n",
       "      <td>agree</td>\n",
       "      <td>prefer not to answer</td>\n",
       "      <td></td>\n",
       "    </tr>\n",
       "  </tbody>\n",
       "</table>\n",
       "</div>"
      ],
      "text/plain": [
       "        id  age gender       politics  super_sensitive_item social_media\n",
       "0  id_1929   30      M            NaN                   NaN      Twitter\n",
       "1  id_2982    5      F  stronly agree                   NaN     Facebook\n",
       "2  id_2902   30   None          agree  prefer not to answer             "
      ]
     },
     "execution_count": 28,
     "metadata": {},
     "output_type": "execute_result"
    }
   ],
   "source": [
    "import numpy as np\n",
    "import pandas as pd\n",
    "df = pd.DataFrame({'id': [\"id_1929\", \"id_2982\", \"id_2902\"],\n",
    "                  'age': [30, 5, 30],\n",
    "                  'gender': [\"M\", \"F\", None],\n",
    "                  'politics': [np.nan, \"stronly agree\", \"agree\"],\n",
    "                  'super_sensitive_item': [np.nan,np.nan,\"prefer not to answer\"],\n",
    "                  'social_media': [\"Twitter\", \"Facebook\",\"\"]})\n",
    "df"
   ]
  },
  {
   "cell_type": "markdown",
   "id": "389dd96f",
   "metadata": {},
   "source": [
    "**`pd.isnull()`: detect nulls**"
   ]
  },
  {
   "cell_type": "code",
   "execution_count": 18,
   "id": "595e82f7",
   "metadata": {},
   "outputs": [
    {
     "data": {
      "text/html": [
       "<div>\n",
       "<style scoped>\n",
       "    .dataframe tbody tr th:only-of-type {\n",
       "        vertical-align: middle;\n",
       "    }\n",
       "\n",
       "    .dataframe tbody tr th {\n",
       "        vertical-align: top;\n",
       "    }\n",
       "\n",
       "    .dataframe thead th {\n",
       "        text-align: right;\n",
       "    }\n",
       "</style>\n",
       "<table border=\"1\" class=\"dataframe\">\n",
       "  <thead>\n",
       "    <tr style=\"text-align: right;\">\n",
       "      <th></th>\n",
       "      <th>id</th>\n",
       "      <th>age</th>\n",
       "      <th>gende5</th>\n",
       "      <th>politics</th>\n",
       "      <th>social_media</th>\n",
       "    </tr>\n",
       "  </thead>\n",
       "  <tbody>\n",
       "    <tr>\n",
       "      <th>0</th>\n",
       "      <td>False</td>\n",
       "      <td>False</td>\n",
       "      <td>False</td>\n",
       "      <td>True</td>\n",
       "      <td>False</td>\n",
       "    </tr>\n",
       "    <tr>\n",
       "      <th>1</th>\n",
       "      <td>False</td>\n",
       "      <td>False</td>\n",
       "      <td>False</td>\n",
       "      <td>False</td>\n",
       "      <td>False</td>\n",
       "    </tr>\n",
       "    <tr>\n",
       "      <th>2</th>\n",
       "      <td>False</td>\n",
       "      <td>False</td>\n",
       "      <td>True</td>\n",
       "      <td>False</td>\n",
       "      <td>False</td>\n",
       "    </tr>\n",
       "  </tbody>\n",
       "</table>\n",
       "</div>"
      ],
      "text/plain": [
       "      id    age  gende5  politics  social_media\n",
       "0  False  False   False      True         False\n",
       "1  False  False   False     False         False\n",
       "2  False  False    True     False         False"
      ]
     },
     "execution_count": 18,
     "metadata": {},
     "output_type": "execute_result"
    }
   ],
   "source": [
    "# check nulls for all columns\n",
    "df.isnull()"
   ]
  },
  {
   "cell_type": "code",
   "execution_count": 22,
   "id": "7b160969",
   "metadata": {},
   "outputs": [
    {
     "data": {
      "text/plain": [
       "id                      0\n",
       "age                     0\n",
       "gende5                  1\n",
       "politics                1\n",
       "super_sensitive_item    2\n",
       "social_media            0\n",
       "dtype: int64"
      ]
     },
     "execution_count": 22,
     "metadata": {},
     "output_type": "execute_result"
    }
   ],
   "source": [
    "# lets see overall\n",
    "df.isnull().sum()"
   ]
  },
  {
   "cell_type": "markdown",
   "id": "cbbaf460",
   "metadata": {},
   "source": [
    "### Dealing with incompleteness \n",
    "\n",
    "There are three main approaches when we need to deal with missing values\n",
    "\n",
    "1. **list-wise deletion**: ignore them and drop them.\n",
    "\n",
    "2. **recoding values**: recode answers as missing\n",
    "\n",
    "3. **imputation**: guess a plausible value that the data could take on. (your home work will focus on this!)\n"
   ]
  },
  {
   "cell_type": "markdown",
   "id": "497286eb",
   "metadata": {},
   "source": [
    "#### `.dropna()`: List-wise deletion\n",
    "\n",
    "If missings are just noise, and do not matter for your analysis, you could choose to just drop them:"
   ]
  },
  {
   "cell_type": "code",
   "execution_count": 29,
   "id": "02075245",
   "metadata": {},
   "outputs": [
    {
     "data": {
      "text/html": [
       "<div>\n",
       "<style scoped>\n",
       "    .dataframe tbody tr th:only-of-type {\n",
       "        vertical-align: middle;\n",
       "    }\n",
       "\n",
       "    .dataframe tbody tr th {\n",
       "        vertical-align: top;\n",
       "    }\n",
       "\n",
       "    .dataframe thead th {\n",
       "        text-align: right;\n",
       "    }\n",
       "</style>\n",
       "<table border=\"1\" class=\"dataframe\">\n",
       "  <thead>\n",
       "    <tr style=\"text-align: right;\">\n",
       "      <th></th>\n",
       "      <th>id</th>\n",
       "      <th>age</th>\n",
       "      <th>gender</th>\n",
       "      <th>politics</th>\n",
       "      <th>super_sensitive_item</th>\n",
       "      <th>social_media</th>\n",
       "    </tr>\n",
       "  </thead>\n",
       "  <tbody>\n",
       "  </tbody>\n",
       "</table>\n",
       "</div>"
      ],
      "text/plain": [
       "Empty DataFrame\n",
       "Columns: [id, age, gender, politics, super_sensitive_item, social_media]\n",
       "Index: []"
      ]
     },
     "execution_count": 29,
     "metadata": {},
     "output_type": "execute_result"
    }
   ],
   "source": [
    "# To drop row if any NaN values are present:\n",
    "df.dropna(axis=0)"
   ]
  },
  {
   "cell_type": "code",
   "execution_count": 30,
   "id": "1408cb8a",
   "metadata": {},
   "outputs": [
    {
     "data": {
      "text/html": [
       "<div>\n",
       "<style scoped>\n",
       "    .dataframe tbody tr th:only-of-type {\n",
       "        vertical-align: middle;\n",
       "    }\n",
       "\n",
       "    .dataframe tbody tr th {\n",
       "        vertical-align: top;\n",
       "    }\n",
       "\n",
       "    .dataframe thead th {\n",
       "        text-align: right;\n",
       "    }\n",
       "</style>\n",
       "<table border=\"1\" class=\"dataframe\">\n",
       "  <thead>\n",
       "    <tr style=\"text-align: right;\">\n",
       "      <th></th>\n",
       "      <th>id</th>\n",
       "      <th>age</th>\n",
       "      <th>social_media</th>\n",
       "    </tr>\n",
       "  </thead>\n",
       "  <tbody>\n",
       "    <tr>\n",
       "      <th>0</th>\n",
       "      <td>id_1929</td>\n",
       "      <td>30</td>\n",
       "      <td>Twitter</td>\n",
       "    </tr>\n",
       "    <tr>\n",
       "      <th>1</th>\n",
       "      <td>id_2982</td>\n",
       "      <td>5</td>\n",
       "      <td>Facebook</td>\n",
       "    </tr>\n",
       "    <tr>\n",
       "      <th>2</th>\n",
       "      <td>id_2902</td>\n",
       "      <td>30</td>\n",
       "      <td></td>\n",
       "    </tr>\n",
       "  </tbody>\n",
       "</table>\n",
       "</div>"
      ],
      "text/plain": [
       "        id  age social_media\n",
       "0  id_1929   30      Twitter\n",
       "1  id_2982    5     Facebook\n",
       "2  id_2902   30             "
      ]
     },
     "execution_count": 30,
     "metadata": {},
     "output_type": "execute_result"
    }
   ],
   "source": [
    "# To drop column if any NaN values are present:\n",
    "df.dropna(axis=1)"
   ]
  },
  {
   "cell_type": "markdown",
   "id": "00189507",
   "metadata": {},
   "source": [
    "#### Recode Missings\n",
    "\n",
    "For example, sometimes we have values we consider to be missings, for example, empty responses or prefer not to answer type of responses. Let's see a few different ways to do that. "
   ]
  },
  {
   "cell_type": "code",
   "execution_count": 31,
   "id": "96f5a241",
   "metadata": {},
   "outputs": [
    {
     "data": {
      "text/html": [
       "<div>\n",
       "<style scoped>\n",
       "    .dataframe tbody tr th:only-of-type {\n",
       "        vertical-align: middle;\n",
       "    }\n",
       "\n",
       "    .dataframe tbody tr th {\n",
       "        vertical-align: top;\n",
       "    }\n",
       "\n",
       "    .dataframe thead th {\n",
       "        text-align: right;\n",
       "    }\n",
       "</style>\n",
       "<table border=\"1\" class=\"dataframe\">\n",
       "  <thead>\n",
       "    <tr style=\"text-align: right;\">\n",
       "      <th></th>\n",
       "      <th>id</th>\n",
       "      <th>age</th>\n",
       "      <th>gender</th>\n",
       "      <th>politics</th>\n",
       "      <th>super_sensitive_item</th>\n",
       "      <th>social_media</th>\n",
       "    </tr>\n",
       "  </thead>\n",
       "  <tbody>\n",
       "    <tr>\n",
       "      <th>0</th>\n",
       "      <td>id_1929</td>\n",
       "      <td>30</td>\n",
       "      <td>M</td>\n",
       "      <td>NaN</td>\n",
       "      <td>NaN</td>\n",
       "      <td>Twitter</td>\n",
       "    </tr>\n",
       "    <tr>\n",
       "      <th>1</th>\n",
       "      <td>id_2982</td>\n",
       "      <td>5</td>\n",
       "      <td>F</td>\n",
       "      <td>stronly agree</td>\n",
       "      <td>NaN</td>\n",
       "      <td>Facebook</td>\n",
       "    </tr>\n",
       "    <tr>\n",
       "      <th>2</th>\n",
       "      <td>id_2902</td>\n",
       "      <td>30</td>\n",
       "      <td>None</td>\n",
       "      <td>agree</td>\n",
       "      <td>prefer not to answer</td>\n",
       "      <td>NaN</td>\n",
       "    </tr>\n",
       "  </tbody>\n",
       "</table>\n",
       "</div>"
      ],
      "text/plain": [
       "        id  age gender       politics  super_sensitive_item social_media\n",
       "0  id_1929   30      M            NaN                   NaN      Twitter\n",
       "1  id_2982    5      F  stronly agree                   NaN     Facebook\n",
       "2  id_2902   30   None          agree  prefer not to answer          NaN"
      ]
     },
     "execution_count": 31,
     "metadata": {},
     "output_type": "execute_result"
    }
   ],
   "source": [
    "# with assign method\n",
    "(df.assign(social_media=np.where(df.social_media==\"\", np.nan, df.social_media)))"
   ]
  },
  {
   "cell_type": "code",
   "execution_count": 34,
   "id": "e20f7423",
   "metadata": {},
   "outputs": [
    {
     "data": {
      "text/html": [
       "<div>\n",
       "<style scoped>\n",
       "    .dataframe tbody tr th:only-of-type {\n",
       "        vertical-align: middle;\n",
       "    }\n",
       "\n",
       "    .dataframe tbody tr th {\n",
       "        vertical-align: top;\n",
       "    }\n",
       "\n",
       "    .dataframe thead th {\n",
       "        text-align: right;\n",
       "    }\n",
       "</style>\n",
       "<table border=\"1\" class=\"dataframe\">\n",
       "  <thead>\n",
       "    <tr style=\"text-align: right;\">\n",
       "      <th></th>\n",
       "      <th>id</th>\n",
       "      <th>age</th>\n",
       "      <th>gender</th>\n",
       "      <th>politics</th>\n",
       "      <th>super_sensitive_item</th>\n",
       "      <th>social_media</th>\n",
       "    </tr>\n",
       "  </thead>\n",
       "  <tbody>\n",
       "    <tr>\n",
       "      <th>0</th>\n",
       "      <td>id_1929</td>\n",
       "      <td>30</td>\n",
       "      <td>M</td>\n",
       "      <td>NaN</td>\n",
       "      <td>NaN</td>\n",
       "      <td>Twitter</td>\n",
       "    </tr>\n",
       "    <tr>\n",
       "      <th>1</th>\n",
       "      <td>id_2982</td>\n",
       "      <td>5</td>\n",
       "      <td>F</td>\n",
       "      <td>stronly agree</td>\n",
       "      <td>NaN</td>\n",
       "      <td>Facebook</td>\n",
       "    </tr>\n",
       "    <tr>\n",
       "      <th>2</th>\n",
       "      <td>id_2902</td>\n",
       "      <td>30</td>\n",
       "      <td>None</td>\n",
       "      <td>agree</td>\n",
       "      <td>prefer not to answer</td>\n",
       "      <td>NaN</td>\n",
       "    </tr>\n",
       "  </tbody>\n",
       "</table>\n",
       "</div>"
      ],
      "text/plain": [
       "        id  age gender       politics  super_sensitive_item social_media\n",
       "0  id_1929   30      M            NaN                   NaN      Twitter\n",
       "1  id_2982    5      F  stronly agree                   NaN     Facebook\n",
       "2  id_2902   30   None          agree  prefer not to answer          NaN"
      ]
     },
     "execution_count": 34,
     "metadata": {},
     "output_type": "execute_result"
    }
   ],
   "source": [
    "# with a simple replace\n",
    "df.replace(\"\", np.nan)"
   ]
  },
  {
   "cell_type": "markdown",
   "id": "644e843e",
   "metadata": {},
   "source": [
    "#### `pd.fillna()`: imputation\n",
    "\n",
    "Rather we can fill the value with a place holder."
   ]
  },
  {
   "cell_type": "code",
   "execution_count": 36,
   "id": "e9a3d1dd",
   "metadata": {},
   "outputs": [
    {
     "data": {
      "text/html": [
       "<div>\n",
       "<style scoped>\n",
       "    .dataframe tbody tr th:only-of-type {\n",
       "        vertical-align: middle;\n",
       "    }\n",
       "\n",
       "    .dataframe tbody tr th {\n",
       "        vertical-align: top;\n",
       "    }\n",
       "\n",
       "    .dataframe thead th {\n",
       "        text-align: right;\n",
       "    }\n",
       "</style>\n",
       "<table border=\"1\" class=\"dataframe\">\n",
       "  <thead>\n",
       "    <tr style=\"text-align: right;\">\n",
       "      <th></th>\n",
       "      <th>id</th>\n",
       "      <th>age</th>\n",
       "      <th>gender</th>\n",
       "      <th>politics</th>\n",
       "      <th>super_sensitive_item</th>\n",
       "      <th>social_media</th>\n",
       "    </tr>\n",
       "  </thead>\n",
       "  <tbody>\n",
       "    <tr>\n",
       "      <th>0</th>\n",
       "      <td>id_1929</td>\n",
       "      <td>30</td>\n",
       "      <td>M</td>\n",
       "      <td>0</td>\n",
       "      <td>0</td>\n",
       "      <td>Twitter</td>\n",
       "    </tr>\n",
       "    <tr>\n",
       "      <th>1</th>\n",
       "      <td>id_2982</td>\n",
       "      <td>5</td>\n",
       "      <td>F</td>\n",
       "      <td>stronly agree</td>\n",
       "      <td>0</td>\n",
       "      <td>Facebook</td>\n",
       "    </tr>\n",
       "    <tr>\n",
       "      <th>2</th>\n",
       "      <td>id_2902</td>\n",
       "      <td>30</td>\n",
       "      <td>0</td>\n",
       "      <td>agree</td>\n",
       "      <td>prefer not to answer</td>\n",
       "      <td></td>\n",
       "    </tr>\n",
       "  </tbody>\n",
       "</table>\n",
       "</div>"
      ],
      "text/plain": [
       "        id  age gender       politics  super_sensitive_item social_media\n",
       "0  id_1929   30      M              0                     0      Twitter\n",
       "1  id_2982    5      F  stronly agree                     0     Facebook\n",
       "2  id_2902   30      0          agree  prefer not to answer             "
      ]
     },
     "execution_count": 36,
     "metadata": {},
     "output_type": "execute_result"
    }
   ],
   "source": [
    "# set all nas to zero\n",
    "df.fillna(0) "
   ]
  },
  {
   "cell_type": "code",
   "execution_count": 37,
   "id": "eb37aa27",
   "metadata": {},
   "outputs": [
    {
     "data": {
      "text/html": [
       "<div>\n",
       "<style scoped>\n",
       "    .dataframe tbody tr th:only-of-type {\n",
       "        vertical-align: middle;\n",
       "    }\n",
       "\n",
       "    .dataframe tbody tr th {\n",
       "        vertical-align: top;\n",
       "    }\n",
       "\n",
       "    .dataframe thead th {\n",
       "        text-align: right;\n",
       "    }\n",
       "</style>\n",
       "<table border=\"1\" class=\"dataframe\">\n",
       "  <thead>\n",
       "    <tr style=\"text-align: right;\">\n",
       "      <th></th>\n",
       "      <th>id</th>\n",
       "      <th>age</th>\n",
       "      <th>gender</th>\n",
       "      <th>politics</th>\n",
       "      <th>super_sensitive_item</th>\n",
       "      <th>social_media</th>\n",
       "    </tr>\n",
       "  </thead>\n",
       "  <tbody>\n",
       "    <tr>\n",
       "      <th>0</th>\n",
       "      <td>id_1929</td>\n",
       "      <td>30</td>\n",
       "      <td>M</td>\n",
       "      <td>Missing</td>\n",
       "      <td>Missing</td>\n",
       "      <td>Twitter</td>\n",
       "    </tr>\n",
       "    <tr>\n",
       "      <th>1</th>\n",
       "      <td>id_2982</td>\n",
       "      <td>5</td>\n",
       "      <td>F</td>\n",
       "      <td>stronly agree</td>\n",
       "      <td>Missing</td>\n",
       "      <td>Facebook</td>\n",
       "    </tr>\n",
       "    <tr>\n",
       "      <th>2</th>\n",
       "      <td>id_2902</td>\n",
       "      <td>30</td>\n",
       "      <td>Missing</td>\n",
       "      <td>agree</td>\n",
       "      <td>prefer not to answer</td>\n",
       "      <td></td>\n",
       "    </tr>\n",
       "  </tbody>\n",
       "</table>\n",
       "</div>"
      ],
      "text/plain": [
       "        id  age   gender       politics  super_sensitive_item social_media\n",
       "0  id_1929   30        M        Missing               Missing      Twitter\n",
       "1  id_2982    5        F  stronly agree               Missing     Facebook\n",
       "2  id_2902   30  Missing          agree  prefer not to answer             "
      ]
     },
     "execution_count": 37,
     "metadata": {},
     "output_type": "execute_result"
    }
   ],
   "source": [
    "# another texct\n",
    "df.fillna(\"Missing\")"
   ]
  },
  {
   "cell_type": "markdown",
   "id": "54fa2c01",
   "metadata": {},
   "source": [
    "**forward-fill**: forward propagation of previous values into current values."
   ]
  },
  {
   "cell_type": "code",
   "execution_count": 38,
   "id": "8406937c",
   "metadata": {},
   "outputs": [
    {
     "data": {
      "text/html": [
       "<div>\n",
       "<style scoped>\n",
       "    .dataframe tbody tr th:only-of-type {\n",
       "        vertical-align: middle;\n",
       "    }\n",
       "\n",
       "    .dataframe tbody tr th {\n",
       "        vertical-align: top;\n",
       "    }\n",
       "\n",
       "    .dataframe thead th {\n",
       "        text-align: right;\n",
       "    }\n",
       "</style>\n",
       "<table border=\"1\" class=\"dataframe\">\n",
       "  <thead>\n",
       "    <tr style=\"text-align: right;\">\n",
       "      <th></th>\n",
       "      <th>id</th>\n",
       "      <th>age</th>\n",
       "      <th>gender</th>\n",
       "      <th>politics</th>\n",
       "      <th>super_sensitive_item</th>\n",
       "      <th>social_media</th>\n",
       "    </tr>\n",
       "  </thead>\n",
       "  <tbody>\n",
       "    <tr>\n",
       "      <th>0</th>\n",
       "      <td>id_1929</td>\n",
       "      <td>30</td>\n",
       "      <td>M</td>\n",
       "      <td>NaN</td>\n",
       "      <td>NaN</td>\n",
       "      <td>Twitter</td>\n",
       "    </tr>\n",
       "    <tr>\n",
       "      <th>1</th>\n",
       "      <td>id_2982</td>\n",
       "      <td>5</td>\n",
       "      <td>F</td>\n",
       "      <td>stronly agree</td>\n",
       "      <td>NaN</td>\n",
       "      <td>Facebook</td>\n",
       "    </tr>\n",
       "    <tr>\n",
       "      <th>2</th>\n",
       "      <td>id_2902</td>\n",
       "      <td>30</td>\n",
       "      <td>F</td>\n",
       "      <td>agree</td>\n",
       "      <td>prefer not to answer</td>\n",
       "      <td></td>\n",
       "    </tr>\n",
       "  </tbody>\n",
       "</table>\n",
       "</div>"
      ],
      "text/plain": [
       "        id  age gender       politics  super_sensitive_item social_media\n",
       "0  id_1929   30      M            NaN                   NaN      Twitter\n",
       "1  id_2982    5      F  stronly agree                   NaN     Facebook\n",
       "2  id_2902   30      F          agree  prefer not to answer             "
      ]
     },
     "execution_count": 38,
     "metadata": {},
     "output_type": "execute_result"
    }
   ],
   "source": [
    "df.ffill() "
   ]
  },
  {
   "cell_type": "markdown",
   "id": "b630f718",
   "metadata": {},
   "source": [
    "**back-fill**: backward propagation of future values into current values."
   ]
  },
  {
   "cell_type": "code",
   "execution_count": 39,
   "id": "7db89400",
   "metadata": {
    "scrolled": false
   },
   "outputs": [
    {
     "data": {
      "text/html": [
       "<div>\n",
       "<style scoped>\n",
       "    .dataframe tbody tr th:only-of-type {\n",
       "        vertical-align: middle;\n",
       "    }\n",
       "\n",
       "    .dataframe tbody tr th {\n",
       "        vertical-align: top;\n",
       "    }\n",
       "\n",
       "    .dataframe thead th {\n",
       "        text-align: right;\n",
       "    }\n",
       "</style>\n",
       "<table border=\"1\" class=\"dataframe\">\n",
       "  <thead>\n",
       "    <tr style=\"text-align: right;\">\n",
       "      <th></th>\n",
       "      <th>id</th>\n",
       "      <th>age</th>\n",
       "      <th>gender</th>\n",
       "      <th>politics</th>\n",
       "      <th>super_sensitive_item</th>\n",
       "      <th>social_media</th>\n",
       "    </tr>\n",
       "  </thead>\n",
       "  <tbody>\n",
       "    <tr>\n",
       "      <th>0</th>\n",
       "      <td>id_1929</td>\n",
       "      <td>30</td>\n",
       "      <td>M</td>\n",
       "      <td>stronly agree</td>\n",
       "      <td>prefer not to answer</td>\n",
       "      <td>Twitter</td>\n",
       "    </tr>\n",
       "    <tr>\n",
       "      <th>1</th>\n",
       "      <td>id_2982</td>\n",
       "      <td>5</td>\n",
       "      <td>F</td>\n",
       "      <td>stronly agree</td>\n",
       "      <td>prefer not to answer</td>\n",
       "      <td>Facebook</td>\n",
       "    </tr>\n",
       "    <tr>\n",
       "      <th>2</th>\n",
       "      <td>id_2902</td>\n",
       "      <td>30</td>\n",
       "      <td>None</td>\n",
       "      <td>agree</td>\n",
       "      <td>prefer not to answer</td>\n",
       "      <td></td>\n",
       "    </tr>\n",
       "  </tbody>\n",
       "</table>\n",
       "</div>"
      ],
      "text/plain": [
       "        id  age gender       politics  super_sensitive_item social_media\n",
       "0  id_1929   30      M  stronly agree  prefer not to answer      Twitter\n",
       "1  id_2982    5      F  stronly agree  prefer not to answer     Facebook\n",
       "2  id_2902   30   None          agree  prefer not to answer             "
      ]
     },
     "execution_count": 39,
     "metadata": {},
     "output_type": "execute_result"
    }
   ],
   "source": [
    "df.bfill()"
   ]
  },
  {
   "cell_type": "markdown",
   "id": "dd2ecea8",
   "metadata": {},
   "source": [
    "Forward and back fill make little sense when we're not explicitly dealing with a time series containing the same units (e.g. countries). "
   ]
  },
  {
   "cell_type": "markdown",
   "id": "3c8ef9dd",
   "metadata": {},
   "source": [
    "Note that this <u>_barely scratches the surface of imputation techniques_</u>. But we'll always want to think carefully about what it means to manufacture data when data doesn't exist.\n",
    "\n",
    "Most often, imputation will come from statistical assumptions about the data generation process of your variable of interest. For example: can we impute partisanship for american voters if we know their gender, age, race and where they vote? probably yes..."
   ]
  },
  {
   "cell_type": "markdown",
   "id": "71d4c256",
   "metadata": {},
   "source": [
    "# Apply, Map and Applymap\n",
    "\n",
    "Quite often as we do data analysis, we need ways to apply flexible user-defined functions on entries (row,columns, or cells) of our data frames. Writing a for-loop to iterate through Pandas DataFrame and Series will often work for these tasks, but we know loops can be inneficient and hard to read. \n",
    "\n",
    "Pandas offers a set of built-in methods to apply user-defined functions on dataframes. Those are similar to apply family functions in base R, or the map functions in tidyverse. \n",
    "9\n",
    "This is additional material. You will see some of these tasks can also be done with `.transform()` and `.agg()`. But as you start consuming Python code from other programmers, it is useful to know how more about `.apply()`, `.map()` and `.applymap()` in Pandas. "
   ]
  },
  {
   "cell_type": "markdown",
   "id": "56ef2c0d",
   "metadata": {},
   "source": [
    "### `.apply()`\n",
    "\n",
    "The apply() function is used when you want to apply a function along  the axis of a DataFrame (either rows or columns).  This function can be both an in-built function or a user-defined function.\n"
   ]
  },
  {
   "cell_type": "code",
   "execution_count": 3,
   "id": "d4da60a3",
   "metadata": {},
   "outputs": [
    {
     "data": {
      "text/html": [
       "<div>\n",
       "<style scoped>\n",
       "    .dataframe tbody tr th:only-of-type {\n",
       "        vertical-align: middle;\n",
       "    }\n",
       "\n",
       "    .dataframe tbody tr th {\n",
       "        vertical-align: top;\n",
       "    }\n",
       "\n",
       "    .dataframe thead th {\n",
       "        text-align: right;\n",
       "    }\n",
       "</style>\n",
       "<table border=\"1\" class=\"dataframe\">\n",
       "  <thead>\n",
       "    <tr style=\"text-align: right;\">\n",
       "      <th></th>\n",
       "      <th>A</th>\n",
       "      <th>B</th>\n",
       "      <th>C</th>\n",
       "    </tr>\n",
       "  </thead>\n",
       "  <tbody>\n",
       "    <tr>\n",
       "      <th>0</th>\n",
       "      <td>2</td>\n",
       "      <td>20</td>\n",
       "      <td>200</td>\n",
       "    </tr>\n",
       "    <tr>\n",
       "      <th>1</th>\n",
       "      <td>4</td>\n",
       "      <td>40</td>\n",
       "      <td>400</td>\n",
       "    </tr>\n",
       "    <tr>\n",
       "      <th>2</th>\n",
       "      <td>6</td>\n",
       "      <td>60</td>\n",
       "      <td>600</td>\n",
       "    </tr>\n",
       "    <tr>\n",
       "      <th>3</th>\n",
       "      <td>8</td>\n",
       "      <td>80</td>\n",
       "      <td>800</td>\n",
       "    </tr>\n",
       "  </tbody>\n",
       "</table>\n",
       "</div>"
      ],
      "text/plain": [
       "   A   B    C\n",
       "0  2  20  200\n",
       "1  4  40  400\n",
       "2  6  60  600\n",
       "3  8  80  800"
      ]
     },
     "execution_count": 3,
     "metadata": {},
     "output_type": "execute_result"
    }
   ],
   "source": [
    "import pandas as pd\n",
    "# Creating a simple dataframe\n",
    "df = pd.DataFrame({\n",
    "    'A': [1, 2, 3, 4],\n",
    "    'B': [10, 20, 30, 40],\n",
    "    'C': [100, 200, 300, 400]\n",
    "})\n",
    "\n",
    "# Define a function to apply\n",
    "def my_func(x):\n",
    "    return x*2\n",
    "\n",
    "# Using apply function\n",
    "df.apply(my_func)"
   ]
  },
  {
   "cell_type": "markdown",
   "id": "23dab886",
   "metadata": {},
   "source": [
    "In this case, the `apply()` function will take each column  (or row if axis=1 is specified) and apply the function `my_func` to it.  The result will be a DataFrame with all elements doubled."
   ]
  },
  {
   "cell_type": "markdown",
   "id": "810bfd53",
   "metadata": {},
   "source": [
    "### `map()`\n",
    "\n",
    "The `map()` function is used to substitute each value in a Series with another value.  It's typically used for mapping categorical data to numerical data, for example,  when preparing data for a machine learning algorithm.  It can take a function, a dictionary, or a Series."
   ]
  },
  {
   "cell_type": "code",
   "execution_count": 4,
   "id": "0f625c26",
   "metadata": {},
   "outputs": [
    {
     "data": {
      "text/plain": [
       "0    1\n",
       "1    2\n",
       "2    3\n",
       "3    1\n",
       "4    2\n",
       "5    3\n",
       "dtype: int64"
      ]
     },
     "execution_count": 4,
     "metadata": {},
     "output_type": "execute_result"
    }
   ],
   "source": [
    "#Here's an example usage of map():\n",
    "\n",
    "import pandas as pd\n",
    "\n",
    "# Creating a simple series\n",
    "s = pd.Series(['cat', 'dog', 'cow', 'cat', 'dog', 'cow'])\n",
    "\n",
    "# Creating a mapping dictionary\n",
    "animals = {'cat': 1, 'dog': 2, 'cow': 3}\n",
    "\n",
    "# Using map function\n",
    "s.map(animals)"
   ]
  },
  {
   "cell_type": "markdown",
   "id": "7bf12ed8",
   "metadata": {},
   "source": [
    "###  `applymap()`\n",
    "\n",
    "The `applymap()` function is used to apply a function to every single element in a DataFrame. It's similar to `apply()`, but it works element-wise. In this case, applymap() will apply the function my_func to every single element in the DataFrame,  and the result will be a DataFrame with all elements doubled.\n"
   ]
  },
  {
   "cell_type": "code",
   "execution_count": null,
   "id": "a417b474",
   "metadata": {},
   "outputs": [],
   "source": [
    "# Here's an example usage of applymap():\n",
    "\n",
    "import pandas as pd\n",
    "\n",
    "# Creating a simple dataframe\n",
    "df = pd.DataFrame({\n",
    "    'A': [1, 2, 3, 4],\n",
    "    'B': [10, 20, 30, 40],\n",
    "    'C': [100, 200, 300, 400]\n",
    "})\n",
    "\n",
    "# Define a function to apply\n",
    "def my_func(x):\n",
    "    return x*2\n",
    "\n",
    "# Using applymap function\n",
    "df.applymap(my_func)"
   ]
  },
  {
   "cell_type": "markdown",
   "id": "c9c8d2a5",
   "metadata": {},
   "source": [
    "#### Summary\n",
    "\n",
    "- apply() is used to apply a function along an axis of the DataFrame or on values of Series.\n",
    "- map() is used to substitute each value in a Series with another value.\n",
    "- applymap() is used to apply a function to every single element in the DataFrame."
   ]
  },
  {
   "cell_type": "markdown",
   "id": "e5007550",
   "metadata": {},
   "source": [
    "### Multiple columnes \n",
    "\n",
    "`apply()` allows you to use multiple columns, which is useful when you need to perform operations that require values from several columns. When you set axis=1, the function you're applying will receive each row (instead of each column when axis=0)."
   ]
  },
  {
   "cell_type": "code",
   "execution_count": null,
   "id": "d62440d3",
   "metadata": {},
   "outputs": [],
   "source": [
    "# Here is an example where the goal is to compute a new column as the product of two existing columns:\n",
    "import pandas as pd\n",
    "\n",
    "# Creating a simple dataframe\n",
    "df = pd.DataFrame({\n",
    "    'A': [1, 2, 3, 4],\n",
    "    'B': [10, 20, 30, 40]\n",
    "})\n",
    "\n",
    "# Define a function to apply\n",
    "def multiply_cols(row):\n",
    "    return row['A'] * row['B']\n",
    "\n",
    "# Using apply function\n",
    "df['C'] = df.apply(multiply_cols, axis=1)\n",
    "df"
   ]
  },
  {
   "cell_type": "markdown",
   "id": "cf3a1c98",
   "metadata": {},
   "source": [
    "You can also use `.apply()` with multiple arguments"
   ]
  },
  {
   "cell_type": "code",
   "execution_count": null,
   "id": "841a9b9e",
   "metadata": {},
   "outputs": [],
   "source": [
    "# Defining multiple arguments in the function: If you have a function that takes multiple arguments, you can apply that function to a DataFrame or Series and specify the other arguments in the apply() call.\n",
    "# Here's an example:\n",
    "\n",
    "# Creating a simple dataframe\n",
    "df = pd.DataFrame({\n",
    "    'A': [1, 2, 3, 4],\n",
    "    'B': [10, 20, 30, 40]\n",
    "})\n",
    "\n",
    "# Define a function to apply that takes multiple arguments\n",
    "def multiply_by_factor(x, factor):\n",
    "    return x * factor\n",
    "\n",
    "# Using apply function with multiple arguments\n",
    "df['A'] = df['A'].apply(multiply_by_factor, factor=2)"
   ]
  },
  {
   "cell_type": "markdown",
   "id": "6c3e358b",
   "metadata": {},
   "source": [
    "And of course, you can also use lambda functions:"
   ]
  },
  {
   "cell_type": "code",
   "execution_count": null,
   "id": "e8a187d5",
   "metadata": {},
   "outputs": [],
   "source": [
    "# Creating a simple dataframe\n",
    "df = pd.DataFrame({\n",
    "    'A': [1, 2, 3, 4],\n",
    "    'B': [10, 20, 30, 40]\n",
    "})\n",
    "\n",
    "# Using apply with a lambda function\n",
    "df['C'] = df.apply(lambda row: row['A'] * row['B'], axis=1)\n",
    "\n",
    "\n",
    "#Lambda functions can also take additional parameters. Here's how to do it:\n",
    "\n",
    "\n",
    "# Creating a simple dataframe\n",
    "df = pd.DataFrame({\n",
    "    'A': [1, 2, 3, 4],\n",
    "    'B': [10, 20, 30, 40]\n",
    "})\n",
    "\n",
    "# Using apply with a lambda function and an additional parameter\n",
    "df['C'] = df.apply(lambda row, factor: row['A'] * row['B'] * factor, axis=1, factor=2)"
   ]
  },
  {
   "cell_type": "markdown",
   "id": "66bec5aa",
   "metadata": {},
   "source": [
    "### See this [medium piece here](https://towardsdatascience.com/difference-between-apply-and-transform-in-pandas-242e5cf32705) to read more about these methods"
   ]
  }
 ],
 "metadata": {
  "kernelspec": {
   "display_name": "Python 3 (ipykernel)",
   "language": "python",
   "name": "python3"
  },
  "language_info": {
   "codemirror_mode": {
    "name": "ipython",
    "version": 3
   },
   "file_extension": ".py",
   "mimetype": "text/x-python",
   "name": "python",
   "nbconvert_exporter": "python",
   "pygments_lexer": "ipython3",
   "version": "3.8.16"
  }
 },
 "nbformat": 4,
 "nbformat_minor": 5
}
