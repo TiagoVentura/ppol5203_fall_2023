{
 "cells": [
  {
   "cell_type": "markdown",
   "id": "eea98e6d",
   "metadata": {},
   "source": [
    "<h1><center> PPOL 5203 Data Science I: Foundations <br><br> \n",
    "<font color='grey'>Intro do Python: Intro to Python - Control Statements, Loops and Functions<br><br>\n",
    "Tiago Ventura </center> <h1> \n",
    "\n",
    "---"
   ]
  },
  {
   "cell_type": "markdown",
   "id": "bdc946bc",
   "metadata": {},
   "source": [
    "## Learning Objectives\n",
    "\n",
    "For the second half of the week three class, we will go over some concepts that are very general over any programming language. These are:\n",
    "\n",
    "-   Explore iterating through containers using **loops**\n",
    "-   Using **logical operators** for comparisons.\n",
    "-   Control the behavior of code when iterating using **control statements**.\n",
    "-   Defining **functions** to make code more flexible, debuggable, and readable."
   ]
  },
  {
   "cell_type": "markdown",
   "id": "aee3790a",
   "metadata": {},
   "source": [
    "## Comparison Operators\n",
    "\n",
    "Comparison operators check whether a relationship holds between two objects. Since the relationship either holds or doesn't hold, these operators always return Boolean values. See below for a list of these operators\n",
    "\n",
    "| Operator     | Property                |\n",
    "|--------------|-------------------------|\n",
    "| **`==`**     | (value) equivalence     |\n",
    "| **`>`**      | greater than            |\n",
    "| **`<`**      | strictly less than      |\n",
    "| **`<=`**     | less than or equal      |\n",
    "| **`>`**      | strictly greater than   |\n",
    "| **`>=`**     | greater than or equal   |\n",
    "| **`!=`**     | Not Equals              |\n",
    "| **`is`**     | object identity         |\n",
    "| **`is not`** | negated object identity |\n",
    "| **`in`**     | membership in           |\n",
    "| **`not in`** | negated membership in   |"
   ]
  },
  {
   "cell_type": "code",
   "execution_count": null,
   "id": "8c8b6600",
   "metadata": {},
   "outputs": [],
   "source": [
    "# Some examples\n",
    "\n",
    "# Comparisons\n",
    "x = 7\n",
    "y = 6"
   ]
  },
  {
   "cell_type": "code",
   "execution_count": 4,
   "id": "1f73d22e",
   "metadata": {},
   "outputs": [
    {
     "data": {
      "text/plain": [
       "True"
      ]
     },
     "execution_count": 4,
     "metadata": {},
     "output_type": "execute_result"
    }
   ],
   "source": [
    "# simple comparisons\n",
    "x >= y"
   ]
  },
  {
   "cell_type": "code",
   "execution_count": 5,
   "id": "0e60594d",
   "metadata": {},
   "outputs": [
    {
     "data": {
      "text/plain": [
       "True"
      ]
     },
     "execution_count": 5,
     "metadata": {},
     "output_type": "execute_result"
    }
   ],
   "source": [
    "x > y"
   ]
  },
  {
   "cell_type": "code",
   "execution_count": 6,
   "id": "4367632d",
   "metadata": {},
   "outputs": [
    {
     "data": {
      "text/plain": [
       "False"
      ]
     },
     "execution_count": 6,
     "metadata": {},
     "output_type": "execute_result"
    }
   ],
   "source": [
    "x < y"
   ]
  },
  {
   "cell_type": "code",
   "execution_count": 7,
   "id": "65a25c13",
   "metadata": {},
   "outputs": [
    {
     "data": {
      "text/plain": [
       "False"
      ]
     },
     "execution_count": 7,
     "metadata": {},
     "output_type": "execute_result"
    }
   ],
   "source": [
    "x <= y"
   ]
  },
  {
   "cell_type": "code",
   "execution_count": 8,
   "id": "f8698a57",
   "metadata": {},
   "outputs": [
    {
     "data": {
      "text/plain": [
       "False"
      ]
     },
     "execution_count": 8,
     "metadata": {},
     "output_type": "execute_result"
    }
   ],
   "source": [
    "# \"in\" for contains\n",
    "\"d\" in [\"x\",\"a\",\"v\"]"
   ]
  },
  {
   "cell_type": "markdown",
   "id": "33f67395",
   "metadata": {},
   "source": [
    "### Boolean Comparison\n",
    "\n",
    "Another type of operators are those that take as input boolen types and return as outputs the data types. These are often super useful when we are working with recoding of multiple variables. See table below:\n",
    "\n",
    "| Operator | Logical Operation |\n",
    "|----------|-------------------|\n",
    "| `and`    | Conjunction       |\n",
    "| `or`     | Disjunction       |\n",
    "| `not`    | Negation          |"
   ]
  },
  {
   "cell_type": "code",
   "execution_count": 9,
   "id": "4002a6ce",
   "metadata": {},
   "outputs": [
    {
     "data": {
      "text/plain": [
       "False"
      ]
     },
     "execution_count": 9,
     "metadata": {},
     "output_type": "execute_result"
    }
   ],
   "source": [
    "# examples\n",
    "# and\n",
    "True and False"
   ]
  },
  {
   "cell_type": "code",
   "execution_count": 10,
   "id": "0fa39fa8",
   "metadata": {},
   "outputs": [
    {
     "data": {
      "text/plain": [
       "True"
      ]
     },
     "execution_count": 10,
     "metadata": {},
     "output_type": "execute_result"
    }
   ],
   "source": [
    "# or\n",
    "True  or False"
   ]
  },
  {
   "cell_type": "markdown",
   "id": "774a8245",
   "metadata": {},
   "source": [
    "> All this is barely scratching the surface [**For a in-depth discussion of comparison operators in python, see here.**](https://realpython.com/python-boolean/#boolean-operators)"
   ]
  },
  {
   "cell_type": "markdown",
   "id": "3328befc",
   "metadata": {},
   "source": [
    "## Conditional Statements\n",
    "\n",
    "Any programming language needs statements that controls the sequence of execution of a particular piece of code. These statements are called control statements, and they enable you to write programs that can perform different actions based on different inputs or situations. A `for loop` is a type of of control statement.\n",
    "\n",
    "The most common control statements are `conditional statements`. The name speaks by itself: these statements control when a program run conditional on meeting a certain criteria. The most popular conditional statements are `if`, `elif`, and `else` statements.\n",
    "\n",
    "These statements have the following structure:"
   ]
  },
  {
   "cell_type": "markdown",
   "id": "e54e8129",
   "metadata": {},
   "source": [
    "```\n",
    "#| eval: false\n",
    "if <logical statement>:\n",
    "  ~~~~ CODE ~~~~\n",
    "elif <logical statement>:\n",
    "  ~~~~ CODE ~~~~\n",
    "else:\n",
    "  ~~~~ CODE ~~~~\n",
    "```"
   ]
  },
  {
   "cell_type": "markdown",
   "id": "e8dec7a4",
   "metadata": {},
   "source": [
    "**Notice the indentation in the code blocks of the conditional statements!**"
   ]
  },
  {
   "cell_type": "markdown",
   "id": "7ddddf15",
   "metadata": {},
   "source": [
    "### `if` statement\n",
    "\n",
    "The `if` statement evaluates an expression, and if that expression is `True`, it then executes the following indented code. If the expression is `False`, nothing is executed"
   ]
  },
  {
   "cell_type": "code",
   "execution_count": 11,
   "id": "ba090d84",
   "metadata": {},
   "outputs": [
    {
     "name": "stdout",
     "output_type": "stream",
     "text": [
      "This statement is True\n"
     ]
    }
   ],
   "source": [
    "# most basic statement\n",
    "if True:\n",
    "    print(\"This statement is True\")\n"
   ]
  },
  {
   "cell_type": "code",
   "execution_count": 12,
   "id": "df20aef2",
   "metadata": {},
   "outputs": [],
   "source": [
    "# with a number\n",
    "x = 5\n",
    "if x > 10: # state some condition\n",
    "    print(\"High\")"
   ]
  },
  {
   "cell_type": "code",
   "execution_count": 13,
   "id": "ef0af7c3",
   "metadata": {},
   "outputs": [],
   "source": [
    "# with a number\n",
    "x = 5\n",
    "if x > 10: # state some condition\n",
    "    print(\"High\")\n"
   ]
  },
  {
   "cell_type": "markdown",
   "id": "10100048",
   "metadata": {},
   "source": [
    "### `else` statement\n",
    "\n",
    "The `else` statement executes only if the evaluation of the `if` and all the `elif` expressions are False. It is a negation statement by nature."
   ]
  },
  {
   "cell_type": "code",
   "execution_count": 31,
   "id": "2fc9befc",
   "metadata": {},
   "outputs": [
    {
     "ename": "SyntaxError",
     "evalue": "invalid syntax (1955761925.py, line 5)",
     "output_type": "error",
     "traceback": [
      "\u001b[0;36m  Cell \u001b[0;32mIn[31], line 5\u001b[0;36m\u001b[0m\n\u001b[0;31m    else:\u001b[0m\n\u001b[0m    ^\u001b[0m\n\u001b[0;31mSyntaxError\u001b[0m\u001b[0;31m:\u001b[0m invalid syntax\n"
     ]
    }
   ],
   "source": [
    "# with a number\n",
    "x = 5\n",
    "if x > 10: # state some condition\n",
    "    print(\"High\")\n",
    "else:\n",
    "    print(\"Low\")\n"
   ]
  },
  {
   "cell_type": "markdown",
   "id": "56fa50b5",
   "metadata": {},
   "source": [
    "### `elif` statement\n",
    "\n",
    "`elif` stands for else if in plain english. It allows the programmer to concatenate multiple conditional statements. Only after the `if` statement expression is `False`, the `elif` statement is evaluated and executed"
   ]
  },
  {
   "cell_type": "code",
   "execution_count": 29,
   "id": "fec84616",
   "metadata": {
    "scrolled": true
   },
   "outputs": [
    {
     "name": "stdout",
     "output_type": "stream",
     "text": [
      "C\n"
     ]
    }
   ],
   "source": [
    "x = \n",
    "if x is None:\n",
    "    print(\"A\")\n",
    "elif x < 0:\n",
    "    print(\"B\")\n",
    "elif x >10:\n",
    "    print(\"C\")\n",
    "else:\n",
    "    print(\"D\")\n"
   ]
  },
  {
   "cell_type": "markdown",
   "id": "d738ded6",
   "metadata": {},
   "source": [
    "Notice we can use nested conditions to separate ambiguity, for example. Indentation means nesting here. "
   ]
  },
  {
   "cell_type": "code",
   "execution_count": 32,
   "id": "a3a0590a",
   "metadata": {},
   "outputs": [
    {
     "name": "stdout",
     "output_type": "stream",
     "text": [
      "Positive number\n"
     ]
    }
   ],
   "source": [
    "num = 15\n",
    "if num >= 0:\n",
    "    if num == 0:\n",
    "        print(\"Zero\")\n",
    "    else:\n",
    "        print(\"Positive number\")\n",
    "else:\n",
    "    print(\"Negative number\")"
   ]
  },
  {
   "cell_type": "markdown",
   "id": "a5ee9559",
   "metadata": {},
   "source": [
    "## Iteration\n",
    "\n",
    "A basic building block of any program is to be to be able to repeat some code over and over again. Whether it is to collect data for a list of websites, apply some function to a sequence of dataframes, or retrieve information form a set of different models, we are often interested as data scientist in repeating a certain action through a sequence of unit. This process is called **iteration** and it is often performed using a `loop` function."
   ]
  },
  {
   "cell_type": "markdown",
   "id": "fff2cdc5",
   "metadata": {},
   "source": [
    "### for loops\n",
    "\n",
    "**Iteration** in a basic sense is simply taking one item at a time from a collection. We start at the beginning of the collection and mover through it until we reach the end. Any time we use a loop we are going over each and every item in collection\n",
    "\n",
    "In python, we can iterate over any non-scalar class with an `iter()` associated method. Examples are:\n",
    "\n",
    "-   lists\n",
    "\n",
    "-   strings\n",
    "\n",
    "-   dictionaries\n",
    "\n",
    "-   file connections\n",
    "\n",
    "-   grouped pandas df"
   ]
  },
  {
   "cell_type": "markdown",
   "id": "1734120c",
   "metadata": {},
   "source": [
    "#### for loop with lists"
   ]
  },
  {
   "cell_type": "code",
   "execution_count": null,
   "id": "15df9a67",
   "metadata": {},
   "outputs": [],
   "source": [
    "# create a list\n",
    "my_list = [1, 2, 3, 4, 5]\n",
    "\n",
    "# iterate\n",
    "for m in my_list:\n",
    "  print(m)\n"
   ]
  },
  {
   "cell_type": "markdown",
   "id": "e14791f3",
   "metadata": {},
   "source": [
    "#### for loop with strings"
   ]
  },
  {
   "cell_type": "code",
   "execution_count": null,
   "id": "147b7ed3",
   "metadata": {},
   "outputs": [],
   "source": [
    "# create a list\n",
    "my_string = \"Georgetown\"\n",
    "\n",
    "# iterate\n",
    "for letter in my_string:\n",
    "  print(letter)\n"
   ]
  },
  {
   "cell_type": "markdown",
   "id": "ff8731bc",
   "metadata": {},
   "source": [
    "#### for loop with `range()`\n"
   ]
  },
  {
   "cell_type": "code",
   "execution_count": null,
   "id": "2ff30a6a",
   "metadata": {},
   "outputs": [],
   "source": [
    "# one value 0 to 10\n",
    "for i in range(10):\n",
    "    print(i)\n"
   ]
  },
  {
   "cell_type": "markdown",
   "id": "3568dea1",
   "metadata": {},
   "source": [
    "The instance from a `range()` is just a simple iterator"
   ]
  },
  {
   "cell_type": "code",
   "execution_count": null,
   "id": "3d9f28d9",
   "metadata": {},
   "outputs": [],
   "source": [
    "# create a range\n",
    "iter_ = range(10)\n",
    "iter_[0]\n",
    "iter_[1]"
   ]
  },
  {
   "cell_type": "code",
   "execution_count": null,
   "id": "28b788bb",
   "metadata": {},
   "outputs": [],
   "source": [
    "# we can convert to a list to see the object\n",
    "list(iter_)"
   ]
  },
  {
   "cell_type": "markdown",
   "id": "8afcf434",
   "metadata": {},
   "source": [
    "#### for loop with `enumerate()`"
   ]
  },
  {
   "cell_type": "markdown",
   "id": "bab1ca6d",
   "metadata": {},
   "source": [
    "The enumerate function converts an iterable object in a tuple with a index and the iterator"
   ]
  },
  {
   "cell_type": "code",
   "execution_count": null,
   "id": "21c16d41",
   "metadata": {},
   "outputs": [],
   "source": [
    "# create a string\n",
    "iterable = \"McCourt\""
   ]
  },
  {
   "cell_type": "code",
   "execution_count": null,
   "id": "ce2b8efc",
   "metadata": {},
   "outputs": [],
   "source": [
    "# enumerate\n",
    "for index, letter in enumerate(iterable):\n",
    "  print(f'index = {index}; value == {letter}')\n",
    "\n"
   ]
  },
  {
   "cell_type": "markdown",
   "id": "808d9db5",
   "metadata": {},
   "source": [
    "<div class=\"alert alert-block alert-info\">\n",
    "\n",
    "A `for` loop is just another control statement. At its most basic sense, as a programmer, you are asking for a particular program to iterate over a sequence of values.\n",
    "<div>"
   ]
  },
  {
   "cell_type": "markdown",
   "id": "616c6254",
   "metadata": {},
   "source": [
    "### In-depth understanding of loops\n",
    "\n",
    "We just learned in practive how loops work. Let's break down a bit more so that we actually grasp what is going on behind the scenes here.\n",
    "\n",
    "#### Syntax\n",
    "\n",
    "First, let's fully understand the syntax of a loop. A loop had the following syntax:"
   ]
  },
  {
   "cell_type": "markdown",
   "id": "49166c52",
   "metadata": {},
   "source": [
    "    for <var> in <iterable>:\n",
    "        <statement(s)>"
   ]
  },
  {
   "cell_type": "markdown",
   "id": "87c146b0",
   "metadata": {},
   "source": [
    "-   `<iterable>`: is a collection of objects. This is the container through which our loop is navigating element-wise\n",
    "-   `<statement(s)>`: this is the juice. It is a sequence of code that describes what is the action our program wants to repeat for each component of the iterable. Notice, `<statements>` in the loop body are denoted by indentation, as with all Python control structures.\n",
    "-   `<var>`: it is a local value for every of the next element in <iterable> each time through the loop."
   ]
  },
  {
   "cell_type": "markdown",
   "id": "766e577b",
   "metadata": {},
   "source": [
    "#### Iterator\n",
    "\n",
    "**iterable** is any object that contains the `__iter__` methods. This method returns an \"**iterator**\" object. An **iterator** object has a special method called `__next__()`, which summons each item in the collection one at a time."
   ]
  },
  {
   "cell_type": "code",
   "execution_count": 33,
   "id": "09eefa33",
   "metadata": {},
   "outputs": [
    {
     "name": "stdout",
     "output_type": "stream",
     "text": [
      "['UFPA', 'UERJ', 'UMD', 'NYU', 'Georgetown']\n"
     ]
    }
   ],
   "source": [
    "# create a iterable\n",
    "my_list = [\"UFPA\", \"UERJ\", \"UMD\", \"NYU\", \"Georgetown\"]\n",
    "print(my_list)"
   ]
  },
  {
   "cell_type": "code",
   "execution_count": 34,
   "id": "9dd53f19",
   "metadata": {},
   "outputs": [
    {
     "data": {
      "text/plain": [
       "<list_iterator at 0x1105fc340>"
      ]
     },
     "execution_count": 34,
     "metadata": {},
     "output_type": "execute_result"
    }
   ],
   "source": [
    "# convert to a iterator\n",
    "iter(my_list)\n",
    "my_list.__iter__()"
   ]
  },
  {
   "cell_type": "code",
   "execution_count": 35,
   "id": "58548242",
   "metadata": {},
   "outputs": [],
   "source": [
    "# iterate over the elements\n",
    "iter_my_list = iter(my_list)"
   ]
  },
  {
   "cell_type": "code",
   "execution_count": 36,
   "id": "700ab96d",
   "metadata": {},
   "outputs": [
    {
     "data": {
      "text/plain": [
       "'UFPA'"
      ]
     },
     "execution_count": 36,
     "metadata": {},
     "output_type": "execute_result"
    }
   ],
   "source": [
    "# first\n",
    "next(iter_my_list)"
   ]
  },
  {
   "cell_type": "code",
   "execution_count": 37,
   "id": "4e4aa12c",
   "metadata": {},
   "outputs": [
    {
     "data": {
      "text/plain": [
       "'UERJ'"
      ]
     },
     "execution_count": 37,
     "metadata": {},
     "output_type": "execute_result"
    }
   ],
   "source": [
    "# first\n",
    "next(iter_my_list)"
   ]
  },
  {
   "cell_type": "code",
   "execution_count": 38,
   "id": "59b29ed8",
   "metadata": {},
   "outputs": [
    {
     "data": {
      "text/plain": [
       "'UMD'"
      ]
     },
     "execution_count": 38,
     "metadata": {},
     "output_type": "execute_result"
    }
   ],
   "source": [
    "# second\n",
    "next(iter_my_list)"
   ]
  },
  {
   "cell_type": "code",
   "execution_count": 39,
   "id": "43d91de0",
   "metadata": {},
   "outputs": [
    {
     "data": {
      "text/plain": [
       "'NYU'"
      ]
     },
     "execution_count": 39,
     "metadata": {},
     "output_type": "execute_result"
    }
   ],
   "source": [
    "# third\n",
    "next(iter_my_list)"
   ]
  },
  {
   "cell_type": "code",
   "execution_count": 40,
   "id": "51973f5b",
   "metadata": {},
   "outputs": [
    {
     "data": {
      "text/plain": [
       "'Georgetown'"
      ]
     },
     "execution_count": 40,
     "metadata": {},
     "output_type": "execute_result"
    }
   ],
   "source": [
    "# fourth\n",
    "next(iter_my_list)"
   ]
  },
  {
   "cell_type": "code",
   "execution_count": 41,
   "id": "dba5c406",
   "metadata": {},
   "outputs": [
    {
     "ename": "StopIteration",
     "evalue": "",
     "output_type": "error",
     "traceback": [
      "\u001b[0;31m---------------------------------------------------------------------------\u001b[0m",
      "\u001b[0;31mStopIteration\u001b[0m                             Traceback (most recent call last)",
      "Cell \u001b[0;32mIn[41], line 2\u001b[0m\n\u001b[1;32m      1\u001b[0m \u001b[38;5;66;03m# firth: stop iteration\u001b[39;00m\n\u001b[0;32m----> 2\u001b[0m \u001b[38;5;28mnext\u001b[39m(iter_my_list)\n",
      "\u001b[0;31mStopIteration\u001b[0m: "
     ]
    }
   ],
   "source": [
    "# firth: stop iteration\n",
    "next(iter_my_list)"
   ]
  },
  {
   "cell_type": "markdown",
   "id": "c66750df",
   "metadata": {},
   "source": [
    "**So what does a `for` loop do?**\n",
    "\n",
    "1.  The `for` statement calls `iter()` on the container object (e.g. a list).\n",
    "2.  The function returns an iterator object that defines the method `__next__()` which accesses elements in the container *one at a time*.\n",
    "3.  When there are no more elements, `__next__()` raises a `StopIteration` exception which tells the `for` loop to terminate."
   ]
  },
  {
   "cell_type": "markdown",
   "id": "40fde0ca",
   "metadata": {},
   "source": [
    "### While loops\n",
    "\n",
    "For loops are literally iterations. While loops are all about repetitions. These loops are super useful when we have some target and want to keep our program running up to certain threeshold. For example, while loops are heavily used in maximization functions, in which we keep the algorithm running until our error function is at a minimum/maximum."
   ]
  },
  {
   "cell_type": "code",
   "execution_count": 42,
   "id": "17c1c19b",
   "metadata": {},
   "outputs": [
    {
     "name": "stdout",
     "output_type": "stream",
     "text": [
      "This\n",
      "This\n",
      "This\n",
      "This\n",
      "This\n"
     ]
    }
   ],
   "source": [
    "x = 0\n",
    "while x < 5:\n",
    "    print(\"This\")\n",
    "    x += 1\n"
   ]
  },
  {
   "cell_type": "markdown",
   "id": "54143856",
   "metadata": {},
   "source": [
    "**Remember to increment your condition** and avoid an infinite loop."
   ]
  },
  {
   "cell_type": "markdown",
   "id": "376f0bf8",
   "metadata": {},
   "source": [
    "## User Defined Functions\n",
    "\n",
    "Most often when we start our first steps as data scientists, we learn to write code in two basic steps: write code sequentially to solve your immediate needs, and reuse this code for similar tasks. With that in mind, our code usually becomes unecessarily long, repetitive and hard to read.\n",
    "\n",
    "**What is the problem of a long and repetitive code?** You can execute the same task with a long, repetitive code than with a modular, function-based implementation. However, a sequential and repetitive code exposes you as a data scientist to errors you want to avoid. These are:\n",
    "\n",
    "-   Lack of general utility.\n",
    "-   Need to edit/copy/paste your code every time you want to **reuse it.**\n",
    "-   Need to re-write the code when you need to make small extenstion\n",
    "-   **More important**: The more code a program contains, the more chance there is for something to go wrong, and the harder the code is to maintain.\n",
    "\n",
    "For this reason, the single best thing you can do to make your code more professional is to encapsulate your code in smaller, independent parts. This is usually refereed as [modularity](https://www.kaggle.com/code/rtatman/six-steps-to-more-professional-data-science-code) in programming, and it is achieved by writing your own user-defined functions."
   ]
  },
  {
   "cell_type": "markdown",
   "id": "57ec27ab",
   "metadata": {},
   "source": [
    "## When should I transform my code into a function?\n",
    "\n",
    "Once you find yourself copying the same code more than once or twice, it's time to sink some time into writing a function."
   ]
  },
  {
   "cell_type": "markdown",
   "id": "8e29f7b4",
   "metadata": {},
   "source": [
    "### Functions in Python.\n",
    "\n",
    "A function is a chunk of code that performs some operation. Python comes with several built-in functions. These are standard functions (`type()`, `str()`, `float()`, etc..) or methods associated with native python classes (`str.capitalize()`,`list.append()`, etc...)\n",
    "\n",
    "In addition you can create your own functions through:\n",
    "\n",
    "-   function definition with `def()`\n",
    "\n",
    "-   anonymous functions with `lambda functions`"
   ]
  },
  {
   "cell_type": "markdown",
   "id": "6f830bc4",
   "metadata": {},
   "source": [
    "#### `def()`"
   ]
  },
  {
   "cell_type": "code",
   "execution_count": 43,
   "id": "a9c54fab",
   "metadata": {},
   "outputs": [],
   "source": [
    "# create a square function\n",
    "def square(x):\n",
    "    y = x*x\n",
    "    return y"
   ]
  },
  {
   "cell_type": "code",
   "execution_count": 44,
   "id": "67cb7ea9",
   "metadata": {},
   "outputs": [
    {
     "data": {
      "text/plain": [
       "100"
      ]
     },
     "execution_count": 44,
     "metadata": {},
     "output_type": "execute_result"
    }
   ],
   "source": [
    "# run\n",
    "square(10)"
   ]
  },
  {
   "cell_type": "markdown",
   "id": "7f08d305",
   "metadata": {},
   "source": [
    "The code block above has the following elements:\n",
    "\n",
    "-   **`def`**: keyword for generating a function\n",
    "\n",
    "    -   `def` + some_name + `()` + `:` to set up a function header\n",
    "\n",
    "-   **Arguments**: things we want to feed into the function and do something to.\n",
    "\n",
    "-   **`return`**: keyword for returning a specific value from a function"
   ]
  },
  {
   "cell_type": "markdown",
   "id": "bacc07d7",
   "metadata": {},
   "source": [
    "##### Docstrings\n",
    "\n",
    "Help yourself and others who will use your functions in the future. A good practice is to use docstrings to describe your function behavior, inputs, and outputs. Docstrings are strings that occur as the first statement within a named function block."
   ]
  },
  {
   "cell_type": "markdown",
   "id": "1913121e",
   "metadata": {},
   "source": [
    "```{python}\n",
    "#| eval: false\n",
    "def function_name(input):\n",
    "    '''\n",
    "    Your docstring goes here.\n",
    "    '''\n",
    "    |\n",
    "    |\n",
    "    | Function block\n",
    "    |\n",
    "    |\n",
    "    return something \n",
    "\n",
    "```"
   ]
  },
  {
   "cell_type": "markdown",
   "id": "0b6522c4",
   "metadata": {},
   "source": [
    "**The goal of the docstring is to tell us what the function *does*.** We can request a functions docstring using the `help()` function."
   ]
  },
  {
   "cell_type": "code",
   "execution_count": 45,
   "id": "81240e4c",
   "metadata": {},
   "outputs": [
    {
     "name": "stdout",
     "output_type": "stream",
     "text": [
      "Help on function square in module __main__:\n",
      "\n",
      "square(x)\n",
      "    Takes the square of a number\n",
      "    input: int object\n",
      "    outpur: int object\n",
      "\n"
     ]
    }
   ],
   "source": [
    "def square(x):\n",
    "  '''\n",
    "  Takes the square of a number\n",
    "  input: int object\n",
    "  outpur: int object\n",
    "  '''\n",
    "  y = x*x\n",
    "  return y\n",
    "\n",
    "help(square)\n"
   ]
  },
  {
   "cell_type": "markdown",
   "id": "99c44a35",
   "metadata": {},
   "source": [
    "#### Arguments\n",
    "\n",
    "Arguments are all the input values that lie inside the parentheses.\n",
    "\n",
    "    `def fun(argument_1,argument_2):`\n",
    "\n",
    "We can supply **default values** to one or all arguments; in doing so, we've specified a default argument.\n",
    "\n",
    "    `def fun(argument_1 = \"default 1\",argument_2 = \"default 2\"):`"
   ]
  },
  {
   "cell_type": "code",
   "execution_count": 46,
   "id": "e48214b9",
   "metadata": {},
   "outputs": [],
   "source": [
    "def fun(a,b=\"\"):\n",
    "  pass\n"
   ]
  },
  {
   "cell_type": "markdown",
   "id": "d7817062",
   "metadata": {},
   "source": [
    "-   argument `a` is called a **positional argument** (`*arg`). We provide value to it by matching the position in the sequence.\n",
    "-   argument `b` is called a **keyword argument** (`**kwargs`). Because we give it a default value.\n",
    "\n",
    "Keyword arguments must ***come after*** positional arguments, or python will throw a SyntaxError."
   ]
  },
  {
   "cell_type": "markdown",
   "id": "53a6fc1e",
   "metadata": {},
   "source": [
    "**What is the `pass` statement in the chunk above?**"
   ]
  },
  {
   "cell_type": "markdown",
   "id": "b0682681",
   "metadata": {},
   "source": [
    "#### Returning Multiple Arguments\n",
    "\n",
    "Python function can return multiple arguments. That possibility gives you a lot of flexibility when programming in Python. This is an important difference between Python and R, since R functions don't return multiple objects in the strict sense."
   ]
  },
  {
   "cell_type": "code",
   "execution_count": 48,
   "id": "674bb887",
   "metadata": {},
   "outputs": [],
   "source": [
    "def raise_both(value1, value2):\n",
    "  \"\"\"\n",
    "  Raise value1 to the power of value2\n",
    "  and vice versa.\n",
    "  \"\"\"\n",
    "  new_value1 = value1 ** value2\n",
    "  new_value2 = value2 ** value1\n",
    "  return (new_value1, new_value2)"
   ]
  },
  {
   "cell_type": "code",
   "execution_count": 49,
   "id": "5d9e5f99",
   "metadata": {},
   "outputs": [
    {
     "name": "stdout",
     "output_type": "stream",
     "text": [
      "8\n",
      "9\n"
     ]
    }
   ],
   "source": [
    "value1, value2 = raise_both(2, 3)\n",
    "print(value1)\n",
    "print(value2)"
   ]
  },
  {
   "cell_type": "markdown",
   "id": "b58e9693",
   "metadata": {},
   "source": [
    "Under the hood, you are using a tuple as a return object, and unpacking the tuple in the assignment."
   ]
  },
  {
   "cell_type": "markdown",
   "id": "2ce1c39b",
   "metadata": {},
   "source": [
    "#### Scoping\n",
    "\n",
    "A scope is part of the program where an object or name may be accessible in Python. Not all objects can be accessed in the same way, and live in the same environment.\n",
    "\n",
    "There are three main scopes we are interested :\n",
    "\n",
    "1.  Local: name is defined inside the current function\n",
    "2.  Global: Any and all names defined at the top level of a module.\n",
    "3.  Built-in: names \"built into\" python through the builtins module"
   ]
  },
  {
   "cell_type": "markdown",
   "id": "a4b0f841",
   "metadata": {},
   "source": [
    "<div class=\"alert alert-block alert-info\">\n",
    "Note that `for` loops and code blocks ***do not*** introduce new nested scopes. We can alter the rules slightly when need by using the `global` and `local` calls\n",
    "</div>"
   ]
  },
  {
   "cell_type": "markdown",
   "id": "98790f5f",
   "metadata": {},
   "source": [
    "    \n",
    "Let's check this code showing case a local variables"
   ]
  },
  {
   "cell_type": "code",
   "execution_count": 50,
   "id": "8481d3c2",
   "metadata": {},
   "outputs": [],
   "source": [
    "# new_val is local \n",
    "#create function\n",
    "def square(value):\n",
    "  \"\"\"Returns the square of a number.\"\"\"\n",
    "  new_val = value ** 2\n",
    "  return new_val"
   ]
  },
  {
   "cell_type": "code",
   "execution_count": 51,
   "id": "2c7df8ee",
   "metadata": {},
   "outputs": [
    {
     "data": {
      "text/plain": [
       "9"
      ]
     },
     "execution_count": 51,
     "metadata": {},
     "output_type": "execute_result"
    }
   ],
   "source": [
    "# run\n",
    "square(3)"
   ]
  },
  {
   "cell_type": "code",
   "execution_count": 52,
   "id": "c9d3c47f",
   "metadata": {},
   "outputs": [
    {
     "ename": "NameError",
     "evalue": "name 'new_val' is not defined",
     "output_type": "error",
     "traceback": [
      "\u001b[0;31m---------------------------------------------------------------------------\u001b[0m",
      "\u001b[0;31mNameError\u001b[0m                                 Traceback (most recent call last)",
      "Cell \u001b[0;32mIn[52], line 2\u001b[0m\n\u001b[1;32m      1\u001b[0m \u001b[38;5;66;03m# print new_val\u001b[39;00m\n\u001b[0;32m----> 2\u001b[0m \u001b[38;5;28mprint\u001b[39m(new_val)\n",
      "\u001b[0;31mNameError\u001b[0m: name 'new_val' is not defined"
     ]
    }
   ],
   "source": [
    "# print new_val\n",
    "print(new_val)"
   ]
  },
  {
   "cell_type": "code",
   "execution_count": 53,
   "id": "9fbec649",
   "metadata": {},
   "outputs": [
    {
     "data": {
      "text/plain": [
       "9"
      ]
     },
     "execution_count": 53,
     "metadata": {},
     "output_type": "execute_result"
    }
   ],
   "source": [
    "# create a global variable\n",
    "new_val = 10\n",
    "\n",
    "# write the same function (nor necessary)\n",
    "def square(value):\n",
    "  \"\"\"Returns the square of a number.\"\"\"\n",
    "  new_val = value ** 2\n",
    "  return new_val\n",
    "\n",
    "# run\n",
    "square(3)"
   ]
  },
  {
   "cell_type": "code",
   "execution_count": 54,
   "id": "b4a892db",
   "metadata": {},
   "outputs": [
    {
     "name": "stdout",
     "output_type": "stream",
     "text": [
      "10\n"
     ]
    }
   ],
   "source": [
    "# print var\n",
    "print(new_val)"
   ]
  },
  {
   "cell_type": "markdown",
   "id": "6036fabf",
   "metadata": {},
   "source": [
    "**What if we want to access a global variables from a local scope?**"
   ]
  },
  {
   "cell_type": "code",
   "execution_count": 55,
   "id": "ead3c6be",
   "metadata": {},
   "outputs": [
    {
     "name": "stdout",
     "output_type": "stream",
     "text": [
      "0\n"
     ]
    }
   ],
   "source": [
    "a = 0\n",
    "\n",
    "def my_function():\n",
    "    print(a)\n",
    "\n",
    "my_function()\n"
   ]
  },
  {
   "cell_type": "markdown",
   "id": "b4c509da",
   "metadata": {},
   "source": [
    "And what about this program?"
   ]
  },
  {
   "cell_type": "code",
   "execution_count": 56,
   "id": "1555710e",
   "metadata": {},
   "outputs": [
    {
     "name": "stdout",
     "output_type": "stream",
     "text": [
      "3\n"
     ]
    }
   ],
   "source": [
    "a = 0\n",
    "\n",
    "def my_function():\n",
    "    a = 3\n",
    "    print(a)\n",
    "\n",
    "my_function()"
   ]
  },
  {
   "cell_type": "code",
   "execution_count": 57,
   "id": "2a052659",
   "metadata": {},
   "outputs": [
    {
     "name": "stdout",
     "output_type": "stream",
     "text": [
      "0\n"
     ]
    }
   ],
   "source": [
    "print(a)"
   ]
  },
  {
   "cell_type": "markdown",
   "id": "099f8724",
   "metadata": {},
   "source": [
    "And modify a global variable?"
   ]
  },
  {
   "cell_type": "code",
   "execution_count": 58,
   "id": "d5f2fef7",
   "metadata": {},
   "outputs": [
    {
     "name": "stdout",
     "output_type": "stream",
     "text": [
      "10\n"
     ]
    }
   ],
   "source": [
    "a = 0\n",
    "\n",
    "def my_function():\n",
    "    global a\n",
    "    a = 10\n",
    "    print(a)\n",
    "\n",
    "my_function()"
   ]
  },
  {
   "cell_type": "code",
   "execution_count": 59,
   "id": "f0b7cf9e",
   "metadata": {},
   "outputs": [
    {
     "name": "stdout",
     "output_type": "stream",
     "text": [
      "10\n"
     ]
    }
   ],
   "source": [
    "print(a)"
   ]
  },
  {
   "cell_type": "markdown",
   "id": "341cf513",
   "metadata": {},
   "source": [
    "> From Python Documentation: it is usually very bad practice to access global variables from inside functions, and even worse practice to modify them. This makes it difficult to arrange our program into logically encapsulated parts which do not affect each other in unexpected ways. If a function needs to access some external value, we should pass the value into the function as a parameter.\n",
    "\n",
    "Refer to the python documentation for a more [detailed outline](https://python-textbok.readthedocs.io/en/1.0/Variables_and_Scope.html) of scoping conditions in python."
   ]
  },
  {
   "cell_type": "markdown",
   "id": "ba2412fc",
   "metadata": {},
   "source": [
    "#### Lambda functions\n",
    "\n",
    "In addition to user defined functions, Python also supports the use of **anonymous functions**, or so-called **lambda functions**. These are essentially straightforward functions that comprise only one statement, and the value returned by that statement becomes the function's result. These functions are referred to as anonymous because they lack a formal name or identifier. To define such functions, the lambda keyword is employed, which serves the sole purpose of indicating the declaration of an anonymous function.\n",
    "\n",
    "      `lambda x: x*2`\n",
    "      `lambda args: return value`"
   ]
  },
  {
   "cell_type": "code",
   "execution_count": 60,
   "id": "03336659",
   "metadata": {},
   "outputs": [
    {
     "data": {
      "text/plain": [
       "function"
      ]
     },
     "execution_count": 60,
     "metadata": {},
     "output_type": "execute_result"
    }
   ],
   "source": [
    "# user-defined\n",
    "def square(value):\n",
    "  \"\"\"Returns the square of a number.\"\"\"\n",
    "  new_val = value ** 2\n",
    "  return new_val\n",
    "\n",
    "#lambda function\n",
    "type(lambda x: x^2)\n"
   ]
  },
  {
   "cell_type": "markdown",
   "id": "45cb2a31",
   "metadata": {},
   "source": [
    "Notice that the output of a lambda function is a function. This function returns the `return_value` of the lambda functions"
   ]
  },
  {
   "cell_type": "markdown",
   "id": "442ffe1f",
   "metadata": {},
   "source": [
    "**Using a lambda function**"
   ]
  },
  {
   "cell_type": "code",
   "execution_count": 61,
   "id": "eaf57a6d",
   "metadata": {},
   "outputs": [
    {
     "data": {
      "text/plain": [
       "4"
      ]
     },
     "execution_count": 61,
     "metadata": {},
     "output_type": "execute_result"
    }
   ],
   "source": [
    "#create a funnction from a lambda function -- this makes no sense\n",
    "square=lambda x: x**2\n",
    "square(2)"
   ]
  },
  {
   "cell_type": "code",
   "execution_count": 62,
   "id": "8537008d",
   "metadata": {},
   "outputs": [
    {
     "data": {
      "text/plain": [
       "4"
      ]
     },
     "execution_count": 62,
     "metadata": {},
     "output_type": "execute_result"
    }
   ],
   "source": [
    "# encapsulating on parenthesis\n",
    "(lambda x: x**2)(2)"
   ]
  },
  {
   "cell_type": "markdown",
   "id": "6600bb07",
   "metadata": {},
   "source": [
    "By itself, lambda functions are not super powerful. However, these shortcuts become very handy when combined with higher-order functions, which are functions that take other functions as input. For example, using the `map()` high-order function that applies a function to ALL elements in the sequence.\n",
    "\n",
    "We will see much more of this when we learn apply methods in pandas. "
   ]
  },
  {
   "cell_type": "code",
   "execution_count": 63,
   "id": "96162ce0",
   "metadata": {},
   "outputs": [
    {
     "name": "stdout",
     "output_type": "stream",
     "text": [
      "[2304, 36, 81, 441, 1]\n"
     ]
    }
   ],
   "source": [
    "nums = [48, 6, 9, 21, 1]\n",
    "square_all = map(lambda x: x ** 2, nums)\n",
    "print(list(square_all))\n"
   ]
  },
  {
   "cell_type": "code",
   "execution_count": 64,
   "id": "99a20dec",
   "metadata": {},
   "outputs": [
    {
     "name": "stdout",
     "output_type": "stream",
     "text": [
      "[NbConvertApp] Converting notebook _week-03_iter_control_functions.ipynb to html\n",
      "[NbConvertApp] Writing 339445 bytes to _week-03_iter_control_functions.html\n"
     ]
    }
   ],
   "source": [
    "!jupyter nbconvert _week-03_iter_control_functions.ipynb --to html --template classic\n"
   ]
  }
 ],
 "metadata": {
  "kernelspec": {
   "display_name": "Python 3 (ipykernel)",
   "language": "python",
   "name": "python3"
  },
  "language_info": {
   "codemirror_mode": {
    "name": "ipython",
    "version": 3
   },
   "file_extension": ".py",
   "mimetype": "text/x-python",
   "name": "python",
   "nbconvert_exporter": "python",
   "pygments_lexer": "ipython3",
   "version": "3.11.4"
  }
 },
 "nbformat": 4,
 "nbformat_minor": 5
}
