{
 "cells": [
  {
   "cell_type": "markdown",
   "id": "2d2d26fe",
   "metadata": {},
   "source": [
    "<h1><center> PPOL564 - Data Science I: Foundations<br><br><font color='grey'> Working with Nested Lists </font> </center><h1>"
   ]
  },
  {
   "cell_type": "markdown",
   "id": "0bde27f5",
   "metadata": {},
   "source": [
    "## Learning Goals\n",
    "\n",
    "In this notebook, we will cover:\n",
    "\n",
    "- open csv as nested lists\n",
    "- Working with retangular data as nested lists\n",
    "\n",
    "This is mostly code I will go over during the lecture. "
   ]
  },
  {
   "cell_type": "code",
   "execution_count": 22,
   "id": "8303edeb",
   "metadata": {},
   "outputs": [],
   "source": [
    "# Batteries included Functions\n",
    "import csv # convert a .csv to a nested list\n",
    "import os  # library for managing our operating system. \n",
    "\n",
    "\n",
    "# Read in the gapminder data \n",
    "with open(\"gapminder.csv\",mode=\"rt\") as file:\n",
    "    data = [row for row in csv.reader(file)]"
   ]
  },
  {
   "cell_type": "markdown",
   "id": "05da46e5",
   "metadata": {},
   "source": [
    "What does the data looks like?"
   ]
  },
  {
   "cell_type": "code",
   "execution_count": 14,
   "id": "8f673f19",
   "metadata": {},
   "outputs": [
    {
     "data": {
      "text/plain": [
       "[['country', 'lifeExp', 'gdpPercap'],\n",
       " ['Guinea_Bissau', '39.21', '652.157'],\n",
       " ['Bolivia', '52.505', '2961.229'],\n",
       " ['Austria', '73.103', '20411.916'],\n",
       " ['Malawi', '43.352', '575.447'],\n",
       " ['Finland', '72.992', '17473.723'],\n",
       " ['North_Korea', '63.607', '2591.853'],\n",
       " ['Malaysia', '64.28', '5406.038'],\n",
       " ['Hungary', '69.393', '10888.176'],\n",
       " ['Congo', '52.502', '3312.788'],\n",
       " ['Morocco', '57.609', '2447.909'],\n",
       " ['Germany', '73.444', '20556.684'],\n",
       " ['Ecuador', '62.817', '5733.625'],\n",
       " ['Kuwait', '68.922', '65332.91'],\n",
       " ['New_Zealand', '73.989', '17262.623'],\n",
       " ['Mauritania', '52.302', '1356.671'],\n",
       " ['Uganda', '47.619', '810.384'],\n",
       " ['Equatorial Guinea', '42.96', '2469.167'],\n",
       " ['Croatia', '70.056', '9331.712'],\n",
       " ['Indonesia', '54.336', '1741.365'],\n",
       " ['Canada', '74.903', '22410.746'],\n",
       " ['Comoros', '52.382', '1314.38'],\n",
       " ['Montenegro', '70.299', '7208.065'],\n",
       " ['Slovenia', '71.601', '14074.582'],\n",
       " ['Trinidad and Tobago', '66.828', '7866.872'],\n",
       " ['Poland', '70.177', '8416.554'],\n",
       " ['Lesotho', '50.007', '780.553'],\n",
       " ['Italy', '74.014', '16245.209'],\n",
       " ['Tunisia', '60.721', '3477.21'],\n",
       " ['Kenya', '52.681', '1200.416'],\n",
       " ['Gambia', '44.401', '680.133'],\n",
       " ['Bosnia and Herzegovina', '67.708', '3484.779'],\n",
       " ['Libya', '59.304', '12013.579'],\n",
       " ['Greece', '73.733', '13969.037'],\n",
       " ['Ghana', '52.341', '1044.582'],\n",
       " ['Peru', '58.859', '5613.844'],\n",
       " ['Turkey', '59.696', '4469.453'],\n",
       " ['Reunion', '66.644', '4898.398'],\n",
       " ['Sri_Lanka', '66.526', '1854.731'],\n",
       " ['Cambodia', '47.903', '675.368'],\n",
       " ['Bulgaria', '69.744', '6384.055'],\n",
       " ['Lebanon', '65.866', '7269.216'],\n",
       " ['Togo', '51.499', '1153.82'],\n",
       " ['Yemen', '46.78', '1569.275'],\n",
       " ['Jamaica', '68.749', '6197.645'],\n",
       " ['Swaziland', '49.002', '3163.352'],\n",
       " ['Chile', '67.431', '6703.289'],\n",
       " ['Israel', '73.646', '14160.936'],\n",
       " ['Algeria', '59.03', '4426.026'],\n",
       " ['Czech_Republic', '71.511', '13920.011'],\n",
       " ['Djibouti', '46.381', '2697.833'],\n",
       " ['Singapore', '71.22', '17425.382'],\n",
       " ['Nigeria', '43.581', '1488.309'],\n",
       " ['Bangladesh', '49.834', '817.559'],\n",
       " ['DRC', '44.544', '648.343'],\n",
       " ['Cuba', '71.045', '6283.259'],\n",
       " ['Namibia', '53.491', '3675.582'],\n",
       " ['Sudan', '48.401', '1835.01'],\n",
       " ['Syria', '61.346', '3009.288'],\n",
       " ['Rwanda', '41.482', '675.669'],\n",
       " ['Puerto Rico', '72.739', '10863.164'],\n",
       " ['Albania', '68.433', '3255.367'],\n",
       " ['Vietnam', '57.48', '1017.713'],\n",
       " ['Mozambique', '40.38', '542.278'],\n",
       " ['Mali', '43.413', '673.093'],\n",
       " ['Saudi Arabia', '58.679', '20261.744'],\n",
       " ['Liberia', '42.476', '604.814'],\n",
       " ['Madagascar', '47.771', '1335.595'],\n",
       " ['Chad', '46.774', '1165.454'],\n",
       " ['Gabon', '51.221', '11529.865'],\n",
       " ['Mauritius', '64.953', '4768.942'],\n",
       " ['Zambia', '45.996', '1358.199'],\n",
       " ['Romania', '68.291', '7300.17'],\n",
       " ['Dominican Republic', '61.554', '2844.856'],\n",
       " ['Egypt', '56.243', '3074.031'],\n",
       " ['Senegal', '50.626', '1533.122'],\n",
       " ['Oman', '58.443', '12138.562'],\n",
       " ['Zimbabwe', '52.663', '635.858'],\n",
       " ['Botswana', '54.598', '5031.504'],\n",
       " [\"Cote d'Ivoire\", '48.436', '1912.825'],\n",
       " ['Afghanistan', '37.479', '802.675'],\n",
       " ['Mexico', '65.409', '7724.113'],\n",
       " ['Sao Tome and Principe', '57.896', '1382.782'],\n",
       " ['Myanmar', '53.322', '439.333'],\n",
       " ['Switzerland', '75.565', '27074.334'],\n",
       " ['United Kingdom', '73.923', '19380.473'],\n",
       " ['Japan', '74.827', '17750.87'],\n",
       " ['El Salvador', '59.633', '4431.847'],\n",
       " ['India', '53.166', '1057.296'],\n",
       " ['Thailand', '62.2', '3045.966'],\n",
       " ['Bahrain', '65.606', '18077.664'],\n",
       " ['Australia', '74.663', '19980.596'],\n",
       " ['Mongolia', '55.89', '1692.805'],\n",
       " ['Nepal', '48.986', '782.729'],\n",
       " ['Iran', '58.637', '7376.583'],\n",
       " ['Honduras', '57.921', '2834.413'],\n",
       " ['Guinea', '43.24', '776.067'],\n",
       " ['Venezuela', '66.581', '10088.516'],\n",
       " ['Iceland', '76.511', '20531.422'],\n",
       " ['Somalia', '40.989', '1140.793'],\n",
       " ['Burundi', '44.817', '471.663'],\n",
       " ['Panama', '67.802', '5754.827'],\n",
       " ['Costa Rica', '70.181', '5448.611'],\n",
       " ['Philippines', '60.967', '2174.771'],\n",
       " ['Denmark', '74.37', '21671.825'],\n",
       " ['Benin', '48.78', '1155.395'],\n",
       " ['Eritrea', '45.999', '541.003'],\n",
       " ['Belgium', '73.642', '19900.758'],\n",
       " ['West Bank and Gaza', '60.329', '3759.997'],\n",
       " ['South_Korea', '65.001', '8217.318'],\n",
       " ['Ethiopia', '44.476', '509.115'],\n",
       " ['Guatemala', '56.729', '4015.403'],\n",
       " ['Colombia', '63.898', '4195.343'],\n",
       " ['Cameroon', '48.129', '1774.634'],\n",
       " ['United States', '73.478', '26261.151'],\n",
       " ['Pakistan', '54.882', '1439.271'],\n",
       " ['China', '61.785', '1488.308'],\n",
       " ['Sierra Leone', '36.769', '1072.819'],\n",
       " ['Slovak Republic', '70.696', '10415.531'],\n",
       " ['Tanzania', '47.912', '849.281'],\n",
       " ['Paraguay', '66.809', '3239.607'],\n",
       " ['Argentina', '69.06', '8955.554'],\n",
       " ['Spain', '74.203', '14029.826'],\n",
       " ['Netherlands', '75.648', '21748.852'],\n",
       " ['France', '74.349', '18833.57'],\n",
       " ['Niger', '44.559', '781.077'],\n",
       " ['Central African Republic', '43.867', '958.785'],\n",
       " ['Serbia', '68.551', '9305.049'],\n",
       " ['Iraq', '56.582', '7811.809'],\n",
       " ['Uruguay', '70.782', '7100.133'],\n",
       " ['Angola', '37.883', '3607.101'],\n",
       " ['Sweden', '76.177', '19943.126'],\n",
       " ['Nicaragua', '58.349', '3424.656'],\n",
       " ['South Africa', '53.993', '7247.431'],\n",
       " ['Burkina Faso', '44.694', '843.991'],\n",
       " ['Haiti', '50.165', '1620.739'],\n",
       " ['Norway', '75.843', '26747.307'],\n",
       " ['Taiwan', '70.337', '10224.807'],\n",
       " ['Portugal', '70.42', '11354.092'],\n",
       " ['Jordan', '59.786', '3128.121'],\n",
       " ['Ireland', '73.017', '15758.606'],\n",
       " ['Brazil', '62.239', '5829.317']]"
      ]
     },
     "execution_count": 14,
     "metadata": {},
     "output_type": "execute_result"
    }
   ],
   "source": [
    "# it is a nested list. \n",
    "data"
   ]
  },
  {
   "cell_type": "markdown",
   "id": "d2e5e255",
   "metadata": {},
   "source": [
    "## Indexing Nested Lists\n",
    "\n",
    "Notice something important here, because we open the data using a iterator, the code doesn't know that the first row is the header of the csv"
   ]
  },
  {
   "cell_type": "code",
   "execution_count": 15,
   "id": "49aef660",
   "metadata": {},
   "outputs": [
    {
     "name": "stdout",
     "output_type": "stream",
     "text": [
      "['country', 'lifeExp', 'gdpPercap']\n",
      "['Burundi', '44.817', '471.663']\n"
     ]
    }
   ],
   "source": [
    "# accessing the header\n",
    "print(data[0])\n",
    "\n",
    "# %% -----------------------------------------\n",
    "# Indexing Rows\n",
    "\n",
    "\n",
    "# For any row > 0, row == 0 is the column names. \n",
    "print(data[100])"
   ]
  },
  {
   "cell_type": "markdown",
   "id": "503c7911",
   "metadata": {},
   "source": [
    "### Indexing by columns"
   ]
  },
  {
   "cell_type": "code",
   "execution_count": 23,
   "id": "add5ee92",
   "metadata": {},
   "outputs": [
    {
     "data": {
      "text/plain": [
       "'44.817'"
      ]
     },
     "execution_count": 23,
     "metadata": {},
     "output_type": "execute_result"
    }
   ],
   "source": [
    "# Indexing Columns - Remember this is a nested lest\n",
    "\n",
    "# Referencing a column data value\n",
    "d = data[100] # First select the row\n",
    "d[1] # Then reference the column\n",
    "\n",
    "# doing the above all in one step\n",
    "data[100][1]\n",
    "\n",
    "# The key is to keep in mind the column names\n",
    "cnames = data.pop(0)\n",
    "\n",
    "cnames\n",
    "\n",
    "# We can now reference this column name list to pull out the columns we're interested in.\n",
    "ind = cnames.index(\"lifeExp\") # Index allows us to \"look up\" the location of a data value. \n",
    "data[99][ind]"
   ]
  },
  {
   "cell_type": "markdown",
   "id": "766e4156",
   "metadata": {},
   "source": [
    "## Accessing a entire column\n",
    "\n",
    "If I want to extract all the values of a particular column, I need to loop through all the *j* element of a sublist. "
   ]
  },
  {
   "cell_type": "code",
   "execution_count": 1,
   "id": "14e51ad7",
   "metadata": {},
   "outputs": [
    {
     "ename": "NameError",
     "evalue": "name 'data' is not defined",
     "output_type": "error",
     "traceback": [
      "\u001b[0;31m---------------------------------------------------------------------------\u001b[0m",
      "\u001b[0;31mNameError\u001b[0m                                 Traceback (most recent call last)",
      "Cell \u001b[0;32mIn[1], line 3\u001b[0m\n\u001b[1;32m      1\u001b[0m \u001b[38;5;66;03m# Looping through each row pulling out the relevant data value\u001b[39;00m\n\u001b[1;32m      2\u001b[0m life_exp \u001b[38;5;241m=\u001b[39m []\n\u001b[0;32m----> 3\u001b[0m \u001b[38;5;28;01mfor\u001b[39;00m row \u001b[38;5;129;01min\u001b[39;00m data:\n\u001b[1;32m      4\u001b[0m     life_exp\u001b[38;5;241m.\u001b[39mappend(\u001b[38;5;28mfloat\u001b[39m(row[ind]))\n\u001b[1;32m      6\u001b[0m \u001b[38;5;66;03m# Same idea, but as a list comprehension \u001b[39;00m\n",
      "\u001b[0;31mNameError\u001b[0m: name 'data' is not defined"
     ]
    }
   ],
   "source": [
    "# Looping through each row pulling out the relevant data value\n",
    "life_exp = []\n",
    "for row in data:\n",
    "    life_exp.append(float(row[ind]))\n",
    "\n",
    "# Same idea, but as a list comprehension \n",
    "life_exp = [float(row[ind]) for row in data]\n",
    "print(life_exp)\n",
    "\n",
    "# Make this code more flexible with list comprehensions\n",
    "var_name = \"gdpPercap\"\n",
    "out = [row[cnames.index(var_name)] for row in data]"
   ]
  },
  {
   "cell_type": "markdown",
   "id": "2640357f",
   "metadata": {},
   "source": [
    "## Motivating Numpy\n",
    "\n",
    "All of the above seems a little too much for working with retangular data in Python. And it is. So of course, there are more recent, modern and easy to work with strategies to work with data frames in Python. \n",
    "\n",
    "A first approach to facilitate working with Data Frames in Python comes through using `numpy` to convert nested lists in `arrays`. \n",
    "\n",
    "**If you coming from R, think about numpy arrays as matrices.**\n",
    "\n",
    "We will see more of numpy soon. But, let's see briefly how numpy works and the speed boost of using numpy to access data in Python\n"
   ]
  },
  {
   "cell_type": "code",
   "execution_count": 25,
   "id": "d0580ee3",
   "metadata": {},
   "outputs": [
    {
     "data": {
      "text/plain": [
       "array([['Guinea_Bissau', '39.21', '652.157'],\n",
       "       ['Bolivia', '52.505', '2961.229'],\n",
       "       ['Austria', '73.103', '20411.916'],\n",
       "       ['Malawi', '43.352', '575.447'],\n",
       "       ['Finland', '72.992', '17473.723'],\n",
       "       ['North_Korea', '63.607', '2591.853'],\n",
       "       ['Malaysia', '64.28', '5406.038'],\n",
       "       ['Hungary', '69.393', '10888.176'],\n",
       "       ['Congo', '52.502', '3312.788'],\n",
       "       ['Morocco', '57.609', '2447.909'],\n",
       "       ['Germany', '73.444', '20556.684'],\n",
       "       ['Ecuador', '62.817', '5733.625'],\n",
       "       ['Kuwait', '68.922', '65332.91'],\n",
       "       ['New_Zealand', '73.989', '17262.623'],\n",
       "       ['Mauritania', '52.302', '1356.671'],\n",
       "       ['Uganda', '47.619', '810.384'],\n",
       "       ['Equatorial Guinea', '42.96', '2469.167'],\n",
       "       ['Croatia', '70.056', '9331.712'],\n",
       "       ['Indonesia', '54.336', '1741.365'],\n",
       "       ['Canada', '74.903', '22410.746'],\n",
       "       ['Comoros', '52.382', '1314.38'],\n",
       "       ['Montenegro', '70.299', '7208.065'],\n",
       "       ['Slovenia', '71.601', '14074.582'],\n",
       "       ['Trinidad and Tobago', '66.828', '7866.872'],\n",
       "       ['Poland', '70.177', '8416.554'],\n",
       "       ['Lesotho', '50.007', '780.553'],\n",
       "       ['Italy', '74.014', '16245.209'],\n",
       "       ['Tunisia', '60.721', '3477.21'],\n",
       "       ['Kenya', '52.681', '1200.416'],\n",
       "       ['Gambia', '44.401', '680.133'],\n",
       "       ['Bosnia and Herzegovina', '67.708', '3484.779'],\n",
       "       ['Libya', '59.304', '12013.579'],\n",
       "       ['Greece', '73.733', '13969.037'],\n",
       "       ['Ghana', '52.341', '1044.582'],\n",
       "       ['Peru', '58.859', '5613.844'],\n",
       "       ['Turkey', '59.696', '4469.453'],\n",
       "       ['Reunion', '66.644', '4898.398'],\n",
       "       ['Sri_Lanka', '66.526', '1854.731'],\n",
       "       ['Cambodia', '47.903', '675.368'],\n",
       "       ['Bulgaria', '69.744', '6384.055'],\n",
       "       ['Lebanon', '65.866', '7269.216'],\n",
       "       ['Togo', '51.499', '1153.82'],\n",
       "       ['Yemen', '46.78', '1569.275'],\n",
       "       ['Jamaica', '68.749', '6197.645'],\n",
       "       ['Swaziland', '49.002', '3163.352'],\n",
       "       ['Chile', '67.431', '6703.289'],\n",
       "       ['Israel', '73.646', '14160.936'],\n",
       "       ['Algeria', '59.03', '4426.026'],\n",
       "       ['Czech_Republic', '71.511', '13920.011'],\n",
       "       ['Djibouti', '46.381', '2697.833'],\n",
       "       ['Singapore', '71.22', '17425.382'],\n",
       "       ['Nigeria', '43.581', '1488.309'],\n",
       "       ['Bangladesh', '49.834', '817.559'],\n",
       "       ['DRC', '44.544', '648.343'],\n",
       "       ['Cuba', '71.045', '6283.259'],\n",
       "       ['Namibia', '53.491', '3675.582'],\n",
       "       ['Sudan', '48.401', '1835.01'],\n",
       "       ['Syria', '61.346', '3009.288'],\n",
       "       ['Rwanda', '41.482', '675.669'],\n",
       "       ['Puerto Rico', '72.739', '10863.164'],\n",
       "       ['Albania', '68.433', '3255.367'],\n",
       "       ['Vietnam', '57.48', '1017.713'],\n",
       "       ['Mozambique', '40.38', '542.278'],\n",
       "       ['Mali', '43.413', '673.093'],\n",
       "       ['Saudi Arabia', '58.679', '20261.744'],\n",
       "       ['Liberia', '42.476', '604.814'],\n",
       "       ['Madagascar', '47.771', '1335.595'],\n",
       "       ['Chad', '46.774', '1165.454'],\n",
       "       ['Gabon', '51.221', '11529.865'],\n",
       "       ['Mauritius', '64.953', '4768.942'],\n",
       "       ['Zambia', '45.996', '1358.199'],\n",
       "       ['Romania', '68.291', '7300.17'],\n",
       "       ['Dominican Republic', '61.554', '2844.856'],\n",
       "       ['Egypt', '56.243', '3074.031'],\n",
       "       ['Senegal', '50.626', '1533.122'],\n",
       "       ['Oman', '58.443', '12138.562'],\n",
       "       ['Zimbabwe', '52.663', '635.858'],\n",
       "       ['Botswana', '54.598', '5031.504'],\n",
       "       [\"Cote d'Ivoire\", '48.436', '1912.825'],\n",
       "       ['Afghanistan', '37.479', '802.675'],\n",
       "       ['Mexico', '65.409', '7724.113'],\n",
       "       ['Sao Tome and Principe', '57.896', '1382.782'],\n",
       "       ['Myanmar', '53.322', '439.333'],\n",
       "       ['Switzerland', '75.565', '27074.334'],\n",
       "       ['United Kingdom', '73.923', '19380.473'],\n",
       "       ['Japan', '74.827', '17750.87'],\n",
       "       ['El Salvador', '59.633', '4431.847'],\n",
       "       ['India', '53.166', '1057.296'],\n",
       "       ['Thailand', '62.2', '3045.966'],\n",
       "       ['Bahrain', '65.606', '18077.664'],\n",
       "       ['Australia', '74.663', '19980.596'],\n",
       "       ['Mongolia', '55.89', '1692.805'],\n",
       "       ['Nepal', '48.986', '782.729'],\n",
       "       ['Iran', '58.637', '7376.583'],\n",
       "       ['Honduras', '57.921', '2834.413'],\n",
       "       ['Guinea', '43.24', '776.067'],\n",
       "       ['Venezuela', '66.581', '10088.516'],\n",
       "       ['Iceland', '76.511', '20531.422'],\n",
       "       ['Somalia', '40.989', '1140.793'],\n",
       "       ['Burundi', '44.817', '471.663'],\n",
       "       ['Panama', '67.802', '5754.827'],\n",
       "       ['Costa Rica', '70.181', '5448.611'],\n",
       "       ['Philippines', '60.967', '2174.771'],\n",
       "       ['Denmark', '74.37', '21671.825'],\n",
       "       ['Benin', '48.78', '1155.395'],\n",
       "       ['Eritrea', '45.999', '541.003'],\n",
       "       ['Belgium', '73.642', '19900.758'],\n",
       "       ['West Bank and Gaza', '60.329', '3759.997'],\n",
       "       ['South_Korea', '65.001', '8217.318'],\n",
       "       ['Ethiopia', '44.476', '509.115'],\n",
       "       ['Guatemala', '56.729', '4015.403'],\n",
       "       ['Colombia', '63.898', '4195.343'],\n",
       "       ['Cameroon', '48.129', '1774.634'],\n",
       "       ['United States', '73.478', '26261.151'],\n",
       "       ['Pakistan', '54.882', '1439.271'],\n",
       "       ['China', '61.785', '1488.308'],\n",
       "       ['Sierra Leone', '36.769', '1072.819'],\n",
       "       ['Slovak Republic', '70.696', '10415.531'],\n",
       "       ['Tanzania', '47.912', '849.281'],\n",
       "       ['Paraguay', '66.809', '3239.607'],\n",
       "       ['Argentina', '69.06', '8955.554'],\n",
       "       ['Spain', '74.203', '14029.826'],\n",
       "       ['Netherlands', '75.648', '21748.852'],\n",
       "       ['France', '74.349', '18833.57'],\n",
       "       ['Niger', '44.559', '781.077'],\n",
       "       ['Central African Republic', '43.867', '958.785'],\n",
       "       ['Serbia', '68.551', '9305.049'],\n",
       "       ['Iraq', '56.582', '7811.809'],\n",
       "       ['Uruguay', '70.782', '7100.133'],\n",
       "       ['Angola', '37.883', '3607.101'],\n",
       "       ['Sweden', '76.177', '19943.126'],\n",
       "       ['Nicaragua', '58.349', '3424.656'],\n",
       "       ['South Africa', '53.993', '7247.431'],\n",
       "       ['Burkina Faso', '44.694', '843.991'],\n",
       "       ['Haiti', '50.165', '1620.739'],\n",
       "       ['Norway', '75.843', '26747.307'],\n",
       "       ['Taiwan', '70.337', '10224.807'],\n",
       "       ['Portugal', '70.42', '11354.092'],\n",
       "       ['Jordan', '59.786', '3128.121'],\n",
       "       ['Ireland', '73.017', '15758.606'],\n",
       "       ['Brazil', '62.239', '5829.317']], dtype='<U24')"
      ]
     },
     "execution_count": 25,
     "metadata": {},
     "output_type": "execute_result"
    }
   ],
   "source": [
    "# %% -----------------------------------------\n",
    "# Numpy offers an efficiency boost, especially when indexing\n",
    "import numpy as np\n",
    "\n",
    "\n",
    "# Convert to a numpy array\n",
    "data_np = np.array(data)\n",
    "data_np"
   ]
  },
  {
   "cell_type": "markdown",
   "id": "7e7f8bc6",
   "metadata": {},
   "source": [
    "### slicing data with numpy"
   ]
  },
  {
   "cell_type": "code",
   "execution_count": 26,
   "id": "23194d4b",
   "metadata": {},
   "outputs": [
    {
     "data": {
      "text/plain": [
       "array(['652.157', '2961.229', '20411.916', '575.447', '17473.723',\n",
       "       '2591.853', '5406.038', '10888.176', '3312.788', '2447.909',\n",
       "       '20556.684', '5733.625', '65332.91', '17262.623', '1356.671',\n",
       "       '810.384', '2469.167', '9331.712', '1741.365', '22410.746',\n",
       "       '1314.38', '7208.065', '14074.582', '7866.872', '8416.554',\n",
       "       '780.553', '16245.209', '3477.21', '1200.416', '680.133',\n",
       "       '3484.779', '12013.579', '13969.037', '1044.582', '5613.844',\n",
       "       '4469.453', '4898.398', '1854.731', '675.368', '6384.055',\n",
       "       '7269.216', '1153.82', '1569.275', '6197.645', '3163.352',\n",
       "       '6703.289', '14160.936', '4426.026', '13920.011', '2697.833',\n",
       "       '17425.382', '1488.309', '817.559', '648.343', '6283.259',\n",
       "       '3675.582', '1835.01', '3009.288', '675.669', '10863.164',\n",
       "       '3255.367', '1017.713', '542.278', '673.093', '20261.744',\n",
       "       '604.814', '1335.595', '1165.454', '11529.865', '4768.942',\n",
       "       '1358.199', '7300.17', '2844.856', '3074.031', '1533.122',\n",
       "       '12138.562', '635.858', '5031.504', '1912.825', '802.675',\n",
       "       '7724.113', '1382.782', '439.333', '27074.334', '19380.473',\n",
       "       '17750.87', '4431.847', '1057.296', '3045.966', '18077.664',\n",
       "       '19980.596', '1692.805', '782.729', '7376.583', '2834.413',\n",
       "       '776.067', '10088.516', '20531.422', '1140.793', '471.663',\n",
       "       '5754.827', '5448.611', '2174.771', '21671.825', '1155.395',\n",
       "       '541.003', '19900.758', '3759.997', '8217.318', '509.115',\n",
       "       '4015.403', '4195.343', '1774.634', '26261.151', '1439.271',\n",
       "       '1488.308', '1072.819', '10415.531', '849.281', '3239.607',\n",
       "       '8955.554', '14029.826', '21748.852', '18833.57', '781.077',\n",
       "       '958.785', '9305.049', '7811.809', '7100.133', '3607.101',\n",
       "       '19943.126', '3424.656', '7247.431', '843.991', '1620.739',\n",
       "       '26747.307', '10224.807', '11354.092', '3128.121', '15758.606',\n",
       "       '5829.317'], dtype='<U24')"
      ]
     },
     "execution_count": 26,
     "metadata": {},
     "output_type": "execute_result"
    }
   ],
   "source": [
    "# simple slicing of rows and columns of your 2d array\n",
    "# array[rows, columns]\n",
    "data_np[:,2]\n"
   ]
  },
  {
   "cell_type": "code",
   "execution_count": 49,
   "id": "335e94ae",
   "metadata": {},
   "outputs": [
    {
     "name": "stdout",
     "output_type": "stream",
     "text": [
      "8.48 µs ± 103 ns per loop (mean ± std. dev. of 7 runs, 100,000 loops each)\n"
     ]
    }
   ],
   "source": [
    "# loop approach\n",
    "%%timeit \n",
    "out1 = []\n",
    "for row in data:\n",
    "    out1.append(row[var_ind])"
   ]
  },
  {
   "cell_type": "code",
   "execution_count": 50,
   "id": "cf2a7243",
   "metadata": {},
   "outputs": [
    {
     "name": "stdout",
     "output_type": "stream",
     "text": [
      "4.99 µs ± 32.4 ns per loop (mean ± std. dev. of 7 runs, 100,000 loops each)\n"
     ]
    }
   ],
   "source": [
    "# list comprehension\n",
    "%%timeit\n",
    "out2 = [row[var_ind] for row in data]"
   ]
  },
  {
   "cell_type": "code",
   "execution_count": 51,
   "id": "a85c866e",
   "metadata": {},
   "outputs": [
    {
     "name": "stdout",
     "output_type": "stream",
     "text": [
      "144 ns ± 0.417 ns per loop (mean ± std. dev. of 7 runs, 10,000,000 loops each)\n"
     ]
    }
   ],
   "source": [
    "# numpy\n",
    "%%timeit\n",
    "out3 = data_np[:,var_ind]"
   ]
  },
  {
   "cell_type": "code",
   "execution_count": 1,
   "id": "3dd66a06",
   "metadata": {},
   "outputs": [
    {
     "name": "stdout",
     "output_type": "stream",
     "text": [
      "[NbConvertApp] Converting notebook _week_4_nested_lists.ipynb to html\n",
      "[NbConvertApp] Writing 310867 bytes to _week_4_nested_lists.html\n"
     ]
    }
   ],
   "source": [
    "!jupyter nbconvert _week_4_nested_lists.ipynb --to html --template classic\n"
   ]
  }
 ],
 "metadata": {
  "kernelspec": {
   "display_name": "Python 3 (ipykernel)",
   "language": "python",
   "name": "python3"
  },
  "language_info": {
   "codemirror_mode": {
    "name": "ipython",
    "version": 3
   },
   "file_extension": ".py",
   "mimetype": "text/x-python",
   "name": "python",
   "nbconvert_exporter": "python",
   "pygments_lexer": "ipython3",
   "version": "3.11.4"
  }
 },
 "nbformat": 4,
 "nbformat_minor": 5
}
