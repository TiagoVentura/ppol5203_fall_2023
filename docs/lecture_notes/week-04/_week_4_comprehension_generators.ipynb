{
 "cells": [
  {
   "cell_type": "markdown",
   "id": "33643de4",
   "metadata": {},
   "source": [
    "<h1><center> PPOL 5203 Data Science I: Foundations <br><br> \n",
    "<font color='grey'>Comprehensions <br><br>\n",
    "Tiago Ventura</center></center> <h1> \n",
    "\n",
    "---"
   ]
  },
  {
   "cell_type": "markdown",
   "id": "266dfeff",
   "metadata": {},
   "source": [
    "# Learning goals\n",
    "\n",
    "In this notebook, we will cover:\n",
    "\n",
    "- List and Dicitonary Comprehensions\n",
    "- Generators of iterables\n",
    "    - itertools\n",
    "    - zip\n",
    "    - enumerate\n",
    "\n",
    "\n",
    "As a Data Scientist, quite often you will need to iterate over a sequence. We learned one general approach to iterations: `loops`.\n",
    "\n",
    "There are some more `efficient` and more `readable` options to repeat operations compared to loops. \n",
    "\n",
    "**For Efficiency**: we will always prefer a vectorize approach compared to element-wise repetions. This will be covered in the Numpy notebook\n",
    "\n",
    "Instead of focusing on efficiency, this notebook will focus on readability. The notebook discusses comprehensions and generators. These are different ways, in general more redable,  to repeat operations in Python over a series of elements. \n"
   ]
  },
  {
   "cell_type": "markdown",
   "id": "b44a42d2",
   "metadata": {},
   "source": [
    "## Comprehensions\n",
    "\n",
    "Provide a readable and effective way of performing a particular expression on a iterable series of items.\n",
    "\n",
    "The general form of the comprehension:\n",
    "\n",
    "![](https://python-3-patterns-idioms-test.readthedocs.io/en/latest/_images/listComprehensions.gif)\n",
    "\n",
    "See [here](https://python-3-patterns-idioms-test.readthedocs.io/en/latest/Comprehensions.html) for more details.\n",
    "\n",
    "## Equivalency in Loops\n",
    "\n",
    "This operation would be equivalent to the following loop:\n",
    "\n",
    "```\n",
    "a_list = [...]\n",
    "result = []\n",
    "for e in a_list:\n",
    "    if type(e) == int:  # use int for Python 3\n",
    "        result.append(e**2)\n",
    "```\n",
    "\n",
    "**Attention on the output:** \n",
    "\n",
    "- Comprehensions already simplify and aggregates your operation into a list/dict/set."
   ]
  },
  {
   "cell_type": "markdown",
   "id": "354a35bc",
   "metadata": {},
   "source": [
    "## List Comprehensions\n",
    "\n",
    "Using the list literals `[]` (brackets), we construct a `for` loop from within."
   ]
  },
  {
   "cell_type": "code",
   "execution_count": 18,
   "id": "6daa3772",
   "metadata": {},
   "outputs": [
    {
     "data": {
      "text/plain": [
       "['This', 'is', 'a', 'such', 'a', 'long', '', '', '', 'course']"
      ]
     },
     "execution_count": 18,
     "metadata": {},
     "output_type": "execute_result"
    }
   ],
   "source": [
    "words = \"This is a such a long    course\".split(\" \")\n",
    "words"
   ]
  },
  {
   "cell_type": "markdown",
   "id": "77e93fd5",
   "metadata": {},
   "source": [
    "#### simple list comprehension"
   ]
  },
  {
   "cell_type": "code",
   "execution_count": 19,
   "id": "e5928369",
   "metadata": {},
   "outputs": [
    {
     "data": {
      "text/plain": [
       "['This', 'is', 'a', 'such', 'a', 'long', '', '', '', 'course']"
      ]
     },
     "execution_count": 19,
     "metadata": {},
     "output_type": "execute_result"
    }
   ],
   "source": [
    "[word for word in words]"
   ]
  },
  {
   "cell_type": "markdown",
   "id": "0b600a09",
   "metadata": {},
   "source": [
    "####  easy to apply functions to elements"
   ]
  },
  {
   "cell_type": "code",
   "execution_count": 20,
   "id": "a3b48840",
   "metadata": {},
   "outputs": [
    {
     "data": {
      "text/plain": [
       "[4, 2, 1, 4, 1, 4, 0, 0, 0, 6]"
      ]
     },
     "execution_count": 20,
     "metadata": {},
     "output_type": "execute_result"
    }
   ],
   "source": [
    "[len(word) for word in words]"
   ]
  },
  {
   "cell_type": "markdown",
   "id": "31e57a29",
   "metadata": {},
   "source": [
    "#### as well as adding conditions"
   ]
  },
  {
   "cell_type": "code",
   "execution_count": 21,
   "id": "ea13762a",
   "metadata": {},
   "outputs": [
    {
     "data": {
      "text/plain": [
       "[4, 2, 4, 4, 6]"
      ]
     },
     "execution_count": 21,
     "metadata": {},
     "output_type": "execute_result"
    }
   ],
   "source": [
    "[len(word) for word in words if len(word) >1]"
   ]
  },
  {
   "cell_type": "markdown",
   "id": "bd9cb076",
   "metadata": {},
   "source": [
    "List comprehensions are a tool for transforming one list (or any container object in Python3) into another list. This is a syntactic  work around for the long standing `filter()` and `map()` functions in python, or a loop. "
   ]
  },
  {
   "cell_type": "code",
   "execution_count": 29,
   "id": "60cf01ab",
   "metadata": {},
   "outputs": [
    {
     "name": "stdout",
     "output_type": "stream",
     "text": [
      "['This', 'is', 'such', 'long', 'course']\n"
     ]
    }
   ],
   "source": [
    "# object\n",
    "words = \"This is a such a long   course\".split(\" \")\n",
    "\n",
    "# Filter step: include those with more than one character\n",
    "filtered_words = list(filter(lambda word: len(word) > 1, words))\n",
    "print(filtered_words)"
   ]
  },
  {
   "cell_type": "code",
   "execution_count": 31,
   "id": "509197af",
   "metadata": {},
   "outputs": [
    {
     "name": "stdout",
     "output_type": "stream",
     "text": [
      "[4, 2, 4, 4, 6]\n"
     ]
    }
   ],
   "source": [
    "# Map step: apply a function to a containned\n",
    "lengths = list(map(len, filtered_words))\n",
    "print(lengths)"
   ]
  },
  {
   "cell_type": "markdown",
   "id": "b05e8dc5",
   "metadata": {},
   "source": [
    "### Work around with loops"
   ]
  },
  {
   "cell_type": "code",
   "execution_count": 16,
   "id": "64eaa46b",
   "metadata": {},
   "outputs": [],
   "source": [
    "result = []\n",
    "for word in words:\n",
    "    if len(word) > 1:\n",
    "        result.append(len(word))"
   ]
  },
  {
   "cell_type": "markdown",
   "id": "c8697dac",
   "metadata": {},
   "source": [
    "## Set Comprehensions\n",
    "_(New to Python 3)_\n",
    "\n",
    "Using the set literals `{}`, we construct a `for` loop from within.\n",
    "\n",
    "> Recall the difference between a set and dictionary is whether there is a key:value pair within the curly brackets. When there is a key:value pair within the brackets, it's a dictionary. When there are only values, it's a set. Use `type()` if you are unsure."
   ]
  },
  {
   "cell_type": "code",
   "execution_count": 17,
   "id": "ca3c6f2f",
   "metadata": {},
   "outputs": [
    {
     "data": {
      "text/plain": [
       "{0, 1, 2, 4, 6}"
      ]
     },
     "execution_count": 17,
     "metadata": {},
     "output_type": "execute_result"
    }
   ],
   "source": [
    "{len(word) for word in words}"
   ]
  },
  {
   "cell_type": "markdown",
   "id": "97fbfe47",
   "metadata": {},
   "source": [
    "## Dictionary Comprehensions\n",
    "_(New to Python 3)_\n",
    "\n",
    "Using the set literals `{}` and assigning a key value pair `{key : value}`, we construct a `for` loop from within.\n",
    "\n",
    "As with lists/sets:  \n",
    "\n",
    "- Dictionary comprehension can replace loops when creating dictionaries\n",
    "\n",
    "- Or for transforming one dictionary into another dictionary. \n",
    "    - Items/Keys  within the original dictionary can be conditionally included\n",
    "    - Items/keys can be transformed as needed.\n"
   ]
  },
  {
   "cell_type": "code",
   "execution_count": 37,
   "id": "3b2746b4",
   "metadata": {},
   "outputs": [
    {
     "name": "stdout",
     "output_type": "stream",
     "text": [
      "{'This': 4, 'is': 2, 'a': 1, 'such': 4, 'long': 4, 'course': 6}\n"
     ]
    }
   ],
   "source": [
    "# object\n",
    "words = \"This is a such a long course\".split(\" \")\n",
    "\n",
    "# dict comprehension\n",
    "dict_ = {word:len(word) for word in words}\n",
    "\n",
    "print(dict_)"
   ]
  },
  {
   "cell_type": "code",
   "execution_count": 38,
   "id": "13db0036",
   "metadata": {},
   "outputs": [
    {
     "data": {
      "text/plain": [
       "{'THIS': 4, 'IS': 2, 'A': 1, 'SUCH': 4, 'LONG': 4, 'COURSE': 6}"
      ]
     },
     "execution_count": 38,
     "metadata": {},
     "output_type": "execute_result"
    }
   ],
   "source": [
    "# modifying a fully formed dictionary => Use .items() methods\n",
    "dict_.items()\n",
    "\n",
    "# dict comprehension modifying both keys and values\n",
    "{keys.upper(): values for keys, values in dict_.items()}"
   ]
  },
  {
   "cell_type": "markdown",
   "id": "a0b1e303",
   "metadata": {},
   "source": [
    "## `if` statements in comprehensions"
   ]
  },
  {
   "cell_type": "code",
   "execution_count": 39,
   "id": "d2370288",
   "metadata": {},
   "outputs": [
    {
     "data": {
      "text/plain": [
       "[0, 1, 2, 3, 4, 5, 6, 7, 8, 9]"
      ]
     },
     "execution_count": 39,
     "metadata": {},
     "output_type": "execute_result"
    }
   ],
   "source": [
    "# Quickly produce a series of numbers\n",
    "[i for i in range(10)]"
   ]
  },
  {
   "cell_type": "code",
   "execution_count": 40,
   "id": "35b6455a",
   "metadata": {},
   "outputs": [
    {
     "data": {
      "text/plain": [
       "[6, 7, 8, 9]"
      ]
     },
     "execution_count": 40,
     "metadata": {},
     "output_type": "execute_result"
    }
   ],
   "source": [
    "[i for i in range(10) if i > 5 ]"
   ]
  },
  {
   "cell_type": "markdown",
   "id": "36874a85",
   "metadata": {},
   "source": [
    "`else` statements aren't valid in a comprehension, so the code statement needs to be kept simple."
   ]
  },
  {
   "cell_type": "code",
   "execution_count": 41,
   "id": "67038481",
   "metadata": {},
   "outputs": [
    {
     "ename": "SyntaxError",
     "evalue": "invalid syntax (1659651617.py, line 1)",
     "output_type": "error",
     "traceback": [
      "\u001b[0;36m  Cell \u001b[0;32mIn[41], line 1\u001b[0;36m\u001b[0m\n\u001b[0;31m    [i for i in range(10) if i > 5 else \"hello\"]\u001b[0m\n\u001b[0m                                   ^\u001b[0m\n\u001b[0;31mSyntaxError\u001b[0m\u001b[0;31m:\u001b[0m invalid syntax\n"
     ]
    }
   ],
   "source": [
    "[i for i in range(10) if i > 5 else \"hello\"]"
   ]
  },
  {
   "cell_type": "markdown",
   "id": "16ae3b67",
   "metadata": {},
   "source": [
    "## Conditional Expressions\n",
    "\n",
    "Concise `if-then` statements\n",
    "\n",
    "```python\n",
    "<this_thing> if <this_is_true> else <this_other_thing>\n",
    "```"
   ]
  },
  {
   "cell_type": "code",
   "execution_count": 9,
   "id": "82da6033",
   "metadata": {},
   "outputs": [
    {
     "data": {
      "text/plain": [
       "'No'"
      ]
     },
     "execution_count": 9,
     "metadata": {},
     "output_type": "execute_result"
    }
   ],
   "source": [
    "x = 4\n",
    "\"Yes\" if x > 5 else \"No\""
   ]
  },
  {
   "cell_type": "code",
   "execution_count": 10,
   "id": "ca8b29b0",
   "metadata": {},
   "outputs": [
    {
     "data": {
      "text/plain": [
       "'Yes'"
      ]
     },
     "execution_count": 10,
     "metadata": {},
     "output_type": "execute_result"
    }
   ],
   "source": [
    "x = 6\n",
    "\"Yes\" if x > 5 else \"No\""
   ]
  },
  {
   "cell_type": "code",
   "execution_count": 42,
   "id": "988f3a6f",
   "metadata": {},
   "outputs": [
    {
     "data": {
      "text/plain": [
       "['No', 'No', 'No', 'No', 'No', 'No', 'Yes', 'Yes', 'Yes', 'Yes']"
      ]
     },
     "execution_count": 42,
     "metadata": {},
     "output_type": "execute_result"
    }
   ],
   "source": [
    "[\"Yes\" if x > 5 else \"No\" for x in range(10)]"
   ]
  },
  {
   "cell_type": "markdown",
   "id": "bc068150",
   "metadata": {},
   "source": [
    "## Nested comprehensions"
   ]
  },
  {
   "cell_type": "code",
   "execution_count": 57,
   "id": "abfd4914",
   "metadata": {},
   "outputs": [],
   "source": [
    "# Started with a nested list\n",
    "nested_list = [[1, 2, 3, 4, 5], \n",
    "              [\"this\", \"is\", \"starting\", \"to\", \"get\", \"weird\"]]"
   ]
  },
  {
   "cell_type": "markdown",
   "id": "372ed7c8",
   "metadata": {},
   "source": [
    "Works as a nested loop: starts from the outer to the inned element."
   ]
  },
  {
   "cell_type": "code",
   "execution_count": 60,
   "id": "4187c355",
   "metadata": {},
   "outputs": [
    {
     "data": {
      "text/plain": [
       "[1, 2, 3, 4, 5, 'this', 'is', 'starting', 'to', 'get', 'weird']"
      ]
     },
     "execution_count": 60,
     "metadata": {},
     "output_type": "execute_result"
    }
   ],
   "source": [
    "# Unnesting a nested list, for example. \n",
    "[element for sublist in nested_list for element in sublist] # notice the order inverted here"
   ]
  },
  {
   "cell_type": "markdown",
   "id": "bab04326",
   "metadata": {},
   "source": [
    "### <span style='color:red'> Alert, Alert, Alert!! </span> \n",
    "\n",
    "#### Loops, Map/Filter or Comprehensions?\n",
    "\n",
    "\n",
    "Read [here](https://medium.com/globant/for-loop-vs-list-comprehension-vs-high-order-functions-a766a8b9cbe1#:~:text=List%20comprehensions%20are%20generally%20faster,great%20choice%20for%20simple%20iterations.) for a in-depth discussion about the performance of loops, map/filter, and comprehensions techniques in Python. \n",
    "\n",
    "\n",
    "#### <span style='color:red'> TLDR: </span> \n",
    "\n",
    "- Comprehensions are generally faster (no middle-man). \n",
    "\n",
    "- Map/Filter can improve perfomance on complex functions. \n",
    "\n",
    "- IMHO:\n",
    "    - Learn all the three, and get proficient on reading code with any. \n",
    "    - Write your code with the technique you feel more comfortable with. \n",
    "    - If writing code at large scale, experiment with more efficient solutions. \n"
   ]
  },
  {
   "cell_type": "markdown",
   "id": "e70d7e32",
   "metadata": {},
   "source": [
    "### Example of speed boost from list comprehension\n",
    "\n",
    "Comprehensions not only make our code more concise, they also increase the speed of our code"
   ]
  },
  {
   "cell_type": "code",
   "execution_count": 68,
   "id": "4d4c68a2",
   "metadata": {},
   "outputs": [
    {
     "data": {
      "text/plain": [
       "3.160512924194336"
      ]
     },
     "execution_count": 68,
     "metadata": {},
     "output_type": "execute_result"
    }
   ],
   "source": [
    "import time\n",
    "start = time.time()\n",
    "container = []\n",
    "for i in range(100000000):\n",
    "    container.append(i)\n",
    "end = time.time()\n",
    "end-start"
   ]
  },
  {
   "cell_type": "code",
   "execution_count": 69,
   "id": "5834aa64",
   "metadata": {},
   "outputs": [
    {
     "data": {
      "text/plain": [
       "1.6011388301849365"
      ]
     },
     "execution_count": 69,
     "metadata": {},
     "output_type": "execute_result"
    }
   ],
   "source": [
    "import time\n",
    "start = time.time()\n",
    "container = []\n",
    "container = [i for i in range(100000000)]\n",
    "end = time.time()\n",
    "end-start"
   ]
  },
  {
   "cell_type": "markdown",
   "id": "66bc2443",
   "metadata": {},
   "source": [
    "The comprehension expression takes half of the time!"
   ]
  },
  {
   "cell_type": "markdown",
   "id": "287c45df",
   "metadata": {},
   "source": [
    "----\n",
    "# Generators\n",
    "\n",
    "We will now introduce an important tool in Python called `generators`.\n",
    "\n",
    "\n",
    "**Definition:**  Generators are a special type of function in Python that create an iterator. It allows you to generate a series of values over time, rather than computing them at once and holding them in memory. \n",
    "\n",
    "## Compare with list\n",
    "\n",
    "Let's compare the idea of a generator with a simple iterable object, a list. A list readily stores all of its members; you can access any of its contents via indexing, or iterating over them with a loop.  A generator, on the other hand, works with lazy evalution, and only create contents as request. A generator produces one value at a time, on the fly, only when you ask for it. \n",
    "\n",
    "**The whole point of this is that you can use a generator to produce a long sequence of items, without having to store them all in memory**\n"
   ]
  },
  {
   "cell_type": "markdown",
   "id": "8f44aae9",
   "metadata": {},
   "source": [
    "### The range generator \n",
    "\n",
    "An extremely popular built-in **generator** is `range`. Range is often used as a way to implement loops. It takes the following inputs `range(start, stop, step)`, where:  \n",
    "\n",
    "    ‘start’ (inclusive, default=0)\n",
    "\n",
    "    ‘stop’ (exclusive)\n",
    "\n",
    "    ‘step’ (default=1)\n",
    "\n",
    "As a generator, `range` will generate the corresponding sequence of integers (from start to stop, using the step size) upon iteration. But remember, this will be a lazy evaluation. "
   ]
  },
  {
   "cell_type": "markdown",
   "id": "01ba0a69",
   "metadata": {},
   "source": [
    "### Build a very simple Generator:"
   ]
  },
  {
   "cell_type": "code",
   "execution_count": 9,
   "id": "25f5fe13",
   "metadata": {},
   "outputs": [],
   "source": [
    "def gen123():\n",
    "    yield 1\n",
    "    yield 2\n",
    "    yield 3"
   ]
  },
  {
   "cell_type": "code",
   "execution_count": 10,
   "id": "43fd4b02",
   "metadata": {},
   "outputs": [
    {
     "data": {
      "text/plain": [
       "<function __main__.gen123()>"
      ]
     },
     "execution_count": 10,
     "metadata": {},
     "output_type": "execute_result"
    }
   ],
   "source": [
    "gen123"
   ]
  },
  {
   "cell_type": "code",
   "execution_count": 11,
   "id": "e402f118",
   "metadata": {},
   "outputs": [
    {
     "data": {
      "text/plain": [
       "<generator object gen123 at 0x11053fd70>"
      ]
     },
     "execution_count": 11,
     "metadata": {},
     "output_type": "execute_result"
    }
   ],
   "source": [
    "g = gen123() # initiate in an object\n",
    "g"
   ]
  },
  {
   "cell_type": "markdown",
   "id": "e318c6c6",
   "metadata": {},
   "source": [
    "Generators are similar to functions; however, rather than use the `return` keyword, we leverage the `yield` keyword. If you use the `yield` keyword once in a function, then that function is a generator.\n",
    "\n",
    "**Understanding yield function**\n",
    "\n",
    "When a generator function calls yield, the \"state\" of the generator function is frozen; the values of all variables are saved and the next line of code to be executed is recorded, until the generator is called again. Once it is, it picks up where it left off and continues execution until it hits another yield statement.\n",
    "\n",
    "To recap, Generators:\n",
    "\n",
    "- Specify an iterable sequence that you evaluate lazily (compute on demand). \n",
    "- All generators are iterators\n",
    "- Can model infinite sequences (such as data streams with no definite end)\n"
   ]
  },
  {
   "cell_type": "markdown",
   "id": "4c1dba05",
   "metadata": {},
   "source": [
    "Behaves just like an iterator; however, the next thing being demanded isn't the next item, but rather the next computation"
   ]
  },
  {
   "cell_type": "code",
   "execution_count": 12,
   "id": "efc2b24a",
   "metadata": {},
   "outputs": [
    {
     "data": {
      "text/plain": [
       "1"
      ]
     },
     "execution_count": 12,
     "metadata": {},
     "output_type": "execute_result"
    }
   ],
   "source": [
    "next(g)"
   ]
  },
  {
   "cell_type": "code",
   "execution_count": 13,
   "id": "650a7498",
   "metadata": {},
   "outputs": [
    {
     "data": {
      "text/plain": [
       "2"
      ]
     },
     "execution_count": 13,
     "metadata": {},
     "output_type": "execute_result"
    }
   ],
   "source": [
    "next(g)"
   ]
  },
  {
   "cell_type": "code",
   "execution_count": 14,
   "id": "7b8b8923",
   "metadata": {},
   "outputs": [
    {
     "data": {
      "text/plain": [
       "3"
      ]
     },
     "execution_count": 14,
     "metadata": {},
     "output_type": "execute_result"
    }
   ],
   "source": [
    "next(g)"
   ]
  },
  {
   "cell_type": "code",
   "execution_count": 15,
   "id": "4ffa5e06",
   "metadata": {},
   "outputs": [
    {
     "ename": "StopIteration",
     "evalue": "",
     "output_type": "error",
     "traceback": [
      "\u001b[0;31m---------------------------------------------------------------------------\u001b[0m",
      "\u001b[0;31mStopIteration\u001b[0m                             Traceback (most recent call last)",
      "Cell \u001b[0;32mIn[15], line 1\u001b[0m\n\u001b[0;32m----> 1\u001b[0m \u001b[38;5;28mnext\u001b[39m(g)\n",
      "\u001b[0;31mStopIteration\u001b[0m: "
     ]
    }
   ],
   "source": [
    "next(g)"
   ]
  },
  {
   "cell_type": "markdown",
   "id": "4bee80c8",
   "metadata": {},
   "source": [
    "### To keep in mind:\n",
    "\n",
    "A generator is a simple way to construct a new iterator object, and evaluate lazily. You can feed a non-iterable object, and make it iterable with a generator. \n",
    "\n",
    "That flexibility gives Python many different ways to create iterable objects. \n",
    "\n",
    "Let's see some examples of three built-in modules that return **generators**. Notice that when a function returns a generator, it doesn't have to generate all the output at once. Instead, it generates each item one at a time on-the-fly as you iterate over the generator. This means that a generator can generate a very large, or even infinite, amount of output while using very little memory.\n",
    "\n",
    "We will focus on two that are heavily used in data science: \n",
    "\n",
    "- `range()`\n",
    "- `zip()` \n",
    "- `enumerate()`\n"
   ]
  },
  {
   "cell_type": "markdown",
   "id": "801abd07",
   "metadata": {},
   "source": [
    "### `range()`\n",
    "\n",
    "An extremely popular built-in **generator** is `range`. Range is often used as a way to implement loops. It takes the following inputs `range(start, stop, step)`, where:  \n",
    "\n",
    "    ‘start’ (inclusive, default=0)\n",
    "\n",
    "    ‘stop’ (exclusive)\n",
    "\n",
    "    ‘step’ (default=1)\n",
    "\n",
    "As a generator, `range` will generate the corresponding sequence of integers (from start to stop, using the step size) upon iteration. But remember, this will be a lazy evaluation. \n",
    "\n",
    "Consider the following example usages of range:\n",
    "\n"
   ]
  },
  {
   "cell_type": "code",
   "execution_count": 10,
   "id": "2914fee3",
   "metadata": {},
   "outputs": [],
   "source": [
    "# create a range\n",
    "r = range(0, 10, 2)"
   ]
  },
  {
   "cell_type": "code",
   "execution_count": 11,
   "id": "8d152c4a",
   "metadata": {},
   "outputs": [
    {
     "data": {
      "text/plain": [
       "range"
      ]
     },
     "execution_count": 11,
     "metadata": {},
     "output_type": "execute_result"
    }
   ],
   "source": [
    "# type\n",
    "type(r)"
   ]
  },
  {
   "cell_type": "code",
   "execution_count": 20,
   "id": "4e0f68d9",
   "metadata": {},
   "outputs": [
    {
     "name": "stdout",
     "output_type": "stream",
     "text": [
      "[0, 2, 4, 6, 8]\n"
     ]
    }
   ],
   "source": [
    "# list comprehension\n",
    "print([r_ for r_ in r])"
   ]
  },
  {
   "cell_type": "markdown",
   "id": "09dd77eb",
   "metadata": {},
   "source": [
    "## `zip()`\n",
    "syncs two series of numbers up into tuples."
   ]
  },
  {
   "cell_type": "code",
   "execution_count": 85,
   "id": "85631b7c",
   "metadata": {},
   "outputs": [
    {
     "data": {
      "text/plain": [
       "<zip at 0x11110b440>"
      ]
     },
     "execution_count": 85,
     "metadata": {},
     "output_type": "execute_result"
    }
   ],
   "source": [
    "a = list(range(10))\n",
    "b = list(range(-10,0))\n",
    "sync = zip(a,b) # It's own object type\n",
    "sync"
   ]
  },
  {
   "cell_type": "code",
   "execution_count": 86,
   "id": "ad769ec5",
   "metadata": {},
   "outputs": [
    {
     "data": {
      "text/plain": [
       "(0, -10)"
      ]
     },
     "execution_count": 86,
     "metadata": {},
     "output_type": "execute_result"
    }
   ],
   "source": [
    "next(sync)"
   ]
  },
  {
   "cell_type": "code",
   "execution_count": 80,
   "id": "2bcf5246",
   "metadata": {},
   "outputs": [
    {
     "data": {
      "text/plain": [
       "[(0, -10),\n",
       " (1, -9),\n",
       " (2, -8),\n",
       " (3, -7),\n",
       " (4, -6),\n",
       " (5, -5),\n",
       " (6, -4),\n",
       " (7, -3),\n",
       " (8, -2),\n",
       " (9, -1)]"
      ]
     },
     "execution_count": 80,
     "metadata": {},
     "output_type": "execute_result"
    }
   ],
   "source": [
    "[item for item in zip(a,b)]"
   ]
  },
  {
   "cell_type": "code",
   "execution_count": 83,
   "id": "06b097ac",
   "metadata": {},
   "outputs": [
    {
     "name": "stdout",
     "output_type": "stream",
     "text": [
      "element a: 0 element b: -10\n",
      "element a: 1 element b: -9\n",
      "element a: 2 element b: -8\n",
      "element a: 3 element b: -7\n",
      "element a: 4 element b: -6\n",
      "element a: 5 element b: -5\n",
      "element a: 6 element b: -4\n",
      "element a: 7 element b: -3\n",
      "element a: 8 element b: -2\n",
      "element a: 9 element b: -1\n"
     ]
    }
   ],
   "source": [
    "# you can also unpack those\n",
    "for a_, b_ in zip(a,b):\n",
    "    print(\"element a:\", a_, \"element b:\", b_)"
   ]
  },
  {
   "cell_type": "markdown",
   "id": "e66eefc2",
   "metadata": {},
   "source": [
    "## `enumerate()`\n",
    "Generates an index and value tuple pairing "
   ]
  },
  {
   "cell_type": "code",
   "execution_count": 37,
   "id": "4c69889a",
   "metadata": {},
   "outputs": [
    {
     "name": "stdout",
     "output_type": "stream",
     "text": [
      "['Iterator', 'tools', 'are', 'useful', 'to', 'move', 'across', 'iterable', 'objects', 'in', 'complex', 'ways.']\n"
     ]
    }
   ],
   "source": [
    "my_list = 'Iterator tools are useful to move across iterable objects in complex ways.'.split()\n",
    "print(my_list)"
   ]
  },
  {
   "cell_type": "code",
   "execution_count": 39,
   "id": "cdca81a3",
   "metadata": {},
   "outputs": [
    {
     "data": {
      "text/plain": [
       "(0, 'Iterator')"
      ]
     },
     "execution_count": 39,
     "metadata": {},
     "output_type": "execute_result"
    }
   ],
   "source": [
    "my_list_gen = enumerate(my_list)\n",
    "next(my_list_gen)"
   ]
  },
  {
   "cell_type": "code",
   "execution_count": 119,
   "id": "9eabc24c",
   "metadata": {},
   "outputs": [
    {
     "data": {
      "text/plain": [
       "[(0, 'Iterator'),\n",
       " (1, 'tools'),\n",
       " (2, 'are'),\n",
       " (3, 'useful'),\n",
       " (4, 'to'),\n",
       " (5, 'move'),\n",
       " (6, 'across'),\n",
       " (7, 'iterable'),\n",
       " (8, 'objects'),\n",
       " (9, 'in'),\n",
       " (10, 'complex'),\n",
       " (11, 'ways.')]"
      ]
     },
     "execution_count": 119,
     "metadata": {},
     "output_type": "execute_result"
    }
   ],
   "source": [
    "[i for i in enumerate(my_list)]"
   ]
  },
  {
   "cell_type": "markdown",
   "id": "f40d0d35",
   "metadata": {},
   "source": [
    "# itertools\n",
    "\n",
    "Part of the python standard library. Itertools deals with pythons iterator objects. This provides a robust functionaliy for iterable sequences. Functions in itertools operate on iterators to produce more complex iterators. \n",
    "\n",
    "There are many methods in itertools. See the documentation [here](https://docs.python.org/3.4/library/itertools.html). Most importantly, try to understand what is going on behind each function just reading the documentation. It is fun!\n"
   ]
  },
  {
   "cell_type": "markdown",
   "id": "b24b79a0",
   "metadata": {},
   "source": [
    "## .combinations()\n",
    "\n",
    "Permutations of all potential combinations"
   ]
  },
  {
   "cell_type": "code",
   "execution_count": 40,
   "id": "3dac9f14",
   "metadata": {},
   "outputs": [
    {
     "data": {
      "text/plain": [
       "[('a', 'b'), ('a', 'c'), ('a', 'd'), ('b', 'c'), ('b', 'd'), ('c', 'd')]"
      ]
     },
     "execution_count": 40,
     "metadata": {},
     "output_type": "execute_result"
    }
   ],
   "source": [
    "import itertools\n",
    "x = ['a','b','c','d']\n",
    "[i for i in itertools.combinations(x,2)]"
   ]
  },
  {
   "cell_type": "markdown",
   "id": "67b60698",
   "metadata": {},
   "source": [
    "## .permutations()"
   ]
  },
  {
   "cell_type": "code",
   "execution_count": 41,
   "id": "b742c4b3",
   "metadata": {},
   "outputs": [
    {
     "name": "stdout",
     "output_type": "stream",
     "text": [
      "('a', 'b', 'c', 'd')\n",
      "('a', 'b', 'd', 'c')\n",
      "('a', 'c', 'b', 'd')\n",
      "('a', 'c', 'd', 'b')\n",
      "('a', 'd', 'b', 'c')\n",
      "('a', 'd', 'c', 'b')\n",
      "('b', 'a', 'c', 'd')\n",
      "('b', 'a', 'd', 'c')\n",
      "('b', 'c', 'a', 'd')\n",
      "('b', 'c', 'd', 'a')\n",
      "('b', 'd', 'a', 'c')\n",
      "('b', 'd', 'c', 'a')\n",
      "('c', 'a', 'b', 'd')\n",
      "('c', 'a', 'd', 'b')\n",
      "('c', 'b', 'a', 'd')\n",
      "('c', 'b', 'd', 'a')\n",
      "('c', 'd', 'a', 'b')\n",
      "('c', 'd', 'b', 'a')\n",
      "('d', 'a', 'b', 'c')\n",
      "('d', 'a', 'c', 'b')\n",
      "('d', 'b', 'a', 'c')\n",
      "('d', 'b', 'c', 'a')\n",
      "('d', 'c', 'a', 'b')\n",
      "('d', 'c', 'b', 'a')\n"
     ]
    }
   ],
   "source": [
    "for i in itertools.permutations(x):\n",
    "    print(i)"
   ]
  },
  {
   "cell_type": "markdown",
   "id": "360ce1e5",
   "metadata": {},
   "source": [
    "## .count()\n",
    "\n",
    "Creates a count generator."
   ]
  },
  {
   "cell_type": "code",
   "execution_count": 46,
   "id": "dff01fa1",
   "metadata": {},
   "outputs": [],
   "source": [
    "# don't loop over this. it is a infinite generator\n",
    "counter = itertools.count(start=0,step=.3)"
   ]
  },
  {
   "cell_type": "code",
   "execution_count": 47,
   "id": "d3a814dd",
   "metadata": {},
   "outputs": [
    {
     "data": {
      "text/plain": [
       "0"
      ]
     },
     "execution_count": 47,
     "metadata": {},
     "output_type": "execute_result"
    }
   ],
   "source": [
    "next(counter)"
   ]
  },
  {
   "cell_type": "code",
   "execution_count": 48,
   "id": "f77fea62",
   "metadata": {},
   "outputs": [
    {
     "data": {
      "text/plain": [
       "0.3"
      ]
     },
     "execution_count": 48,
     "metadata": {},
     "output_type": "execute_result"
    }
   ],
   "source": [
    "next(counter)"
   ]
  },
  {
   "cell_type": "code",
   "execution_count": 49,
   "id": "bfb7a8ab",
   "metadata": {
    "scrolled": true
   },
   "outputs": [
    {
     "data": {
      "text/plain": [
       "[(0, 'G'),\n",
       " (5, 'e'),\n",
       " (10, 'o'),\n",
       " (15, 'r'),\n",
       " (20, 'g'),\n",
       " (25, 'e'),\n",
       " (30, 't'),\n",
       " (35, 'o'),\n",
       " (40, 'w'),\n",
       " (45, 'n')]"
      ]
     },
     "execution_count": 49,
     "metadata": {},
     "output_type": "execute_result"
    }
   ],
   "source": [
    "list(zip(itertools.count(step=5),\"Georgetown\"))"
   ]
  },
  {
   "cell_type": "markdown",
   "id": "c2df0892",
   "metadata": {},
   "source": [
    "## .chain()\n",
    "\n",
    "lazily concatenate lists together without the memory overhead of duplication."
   ]
  },
  {
   "cell_type": "code",
   "execution_count": 50,
   "id": "ca4c7217",
   "metadata": {},
   "outputs": [
    {
     "data": {
      "text/plain": [
       "['A', 'B', 'C', 'D', 'E', 'F']"
      ]
     },
     "execution_count": 50,
     "metadata": {},
     "output_type": "execute_result"
    }
   ],
   "source": [
    "list(itertools.chain('ABC', 'DEF'))"
   ]
  },
  {
   "cell_type": "markdown",
   "id": "e0650197",
   "metadata": {},
   "source": [
    "## .repeat()"
   ]
  },
  {
   "cell_type": "code",
   "execution_count": 51,
   "id": "73205a41",
   "metadata": {},
   "outputs": [
    {
     "data": {
      "text/plain": [
       "['a', 'a', 'a', 'a', 'a', 'a', 'a', 'a', 'a', 'a']"
      ]
     },
     "execution_count": 51,
     "metadata": {},
     "output_type": "execute_result"
    }
   ],
   "source": [
    "list(itertools.repeat(\"a\",10))"
   ]
  },
  {
   "cell_type": "markdown",
   "id": "960a140a",
   "metadata": {},
   "source": [
    "## These are but a few! Check out all that itertools has to offer [here](https://docs.python.org/3.4/library/itertools.html)"
   ]
  },
  {
   "cell_type": "code",
   "execution_count": 84,
   "id": "0ccbc261",
   "metadata": {},
   "outputs": [
    {
     "name": "stdout",
     "output_type": "stream",
     "text": [
      "[NbConvertApp] Converting notebook _week_4_comprehension_generators.ipynb to html\n",
      "[NbConvertApp] Writing 339390 bytes to _week_4_comprehension_generators.html\n"
     ]
    }
   ],
   "source": [
    "!jupyter nbconvert _week_4_comprehension_generators.ipynb --to html --template classic\n"
   ]
  }
 ],
 "metadata": {
  "kernelspec": {
   "display_name": "Python 3 (ipykernel)",
   "language": "python",
   "name": "python3"
  },
  "language_info": {
   "codemirror_mode": {
    "name": "ipython",
    "version": 3
   },
   "file_extension": ".py",
   "mimetype": "text/x-python",
   "name": "python",
   "nbconvert_exporter": "python",
   "pygments_lexer": "ipython3",
   "version": "3.11.4"
  }
 },
 "nbformat": 4,
 "nbformat_minor": 5
}
