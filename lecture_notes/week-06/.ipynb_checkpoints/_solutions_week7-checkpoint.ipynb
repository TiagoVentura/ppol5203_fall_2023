{
 "cells": [
  {
   "cell_type": "markdown",
   "id": "8821b3a4",
   "metadata": {},
   "source": [
    "## solutions in class exercise"
   ]
  },
  {
   "cell_type": "code",
   "execution_count": 3,
   "id": "5db22a99",
   "metadata": {},
   "outputs": [],
   "source": [
    "import pandas as pd\n",
    "import numpy as np"
   ]
  },
  {
   "cell_type": "markdown",
   "id": "08667094",
   "metadata": {},
   "source": [
    "## Practice\n",
    "\n",
    "Using the World Cup Matches Datasets from the Data Wrangling Notebook:\n",
    "    \n",
    "1. Select the following columns: MatchID, Year, Stage, Home Team Name, Away Team Name, Home Team Goals, Away Team Goals.\n",
    "    \n",
    "2. Clean the column names.    \n",
    "    \n",
    "3. Convert this data to the long format, having both a single collumn for the team playing and the goals scored  \n",
    "\n",
    "4. Which team have played more games in the history of the world cup?\n",
    "\n",
    "5. Which team have a higher average of goals in the history of the world cup?\n",
    "    "
   ]
  },
  {
   "cell_type": "code",
   "execution_count": 1,
   "id": "d7fb5b3e",
   "metadata": {},
   "outputs": [
    {
     "ename": "NameError",
     "evalue": "name 'pd' is not defined",
     "output_type": "error",
     "traceback": [
      "\u001b[0;31m---------------------------------------------------------------------------\u001b[0m",
      "\u001b[0;31mNameError\u001b[0m                                 Traceback (most recent call last)",
      "Cell \u001b[0;32mIn[1], line 2\u001b[0m\n\u001b[1;32m      1\u001b[0m \u001b[38;5;66;03m# load worldcup dataset\u001b[39;00m\n\u001b[0;32m----> 2\u001b[0m wc \u001b[38;5;241m=\u001b[39m pd\u001b[38;5;241m.\u001b[39mread_csv(\u001b[38;5;124m\"\u001b[39m\u001b[38;5;124mWorldCups.csv\u001b[39m\u001b[38;5;124m\"\u001b[39m)\n\u001b[1;32m      3\u001b[0m wc_matches \u001b[38;5;241m=\u001b[39m pd\u001b[38;5;241m.\u001b[39mread_csv(\u001b[38;5;124m\"\u001b[39m\u001b[38;5;124mWorldCupMatches.csv\u001b[39m\u001b[38;5;124m\"\u001b[39m)\n\u001b[1;32m      5\u001b[0m wc_matches\n",
      "\u001b[0;31mNameError\u001b[0m: name 'pd' is not defined"
     ]
    }
   ],
   "source": [
    "# load worldcup dataset\n",
    "wc = pd.read_csv(\"WorldCups.csv\")\n",
    "wc_matches = pd.read_csv(\"WorldCupMatches.csv\")\n",
    "\n",
    "wc_matches\n",
    "\n",
    "# 1 and 2\n",
    "wc_copy = (wc_matches.filter([\"MatchID\", \"Year\", \"Stage\", \"Home Team Name\", \"Away Team Name\", \"Home Team Goals\", \"Away Team Goals\"]).\n",
    "     rename(columns={col: col.lower().replace(\" \", \"_\") for col in wc_matches.columns}).copy()\n",
    ")"
   ]
  },
  {
   "cell_type": "code",
   "execution_count": null,
   "id": "0f425c64",
   "metadata": {},
   "outputs": [],
   "source": [
    "# 3\n",
    "wc_home = (wc_copy.\n",
    "    filter([\"matchid\", \"year\", \"stage\", \"home_team_name\", \"away_team_name\"]).\n",
    "    melt(id_vars=[\"matchid\", \"year\", \"stage\"], \n",
    "            var_name=\"team_host\", \n",
    "            value_name=\"team_name\").\n",
    "    assign(team_host= lambda x: x[\"team_host\"].str.replace(\"_team_name\", \"\"))\n",
    ")"
   ]
  },
  {
   "cell_type": "code",
   "execution_count": null,
   "id": "35925d5e",
   "metadata": {},
   "outputs": [],
   "source": [
    "# 3\n",
    "wc_goals = (wc_copy.\n",
    "    filter([\"matchid\", \"year\", \"stage\", \"home_team_goals\", \"away_team_goals\"]).\n",
    "    melt(id_vars=[\"matchid\",\"year\", \"stage\"], \n",
    "             var_name=\"team_host\", \n",
    "            value_name=\"team_goals\").\n",
    "    filter([\"matchid\",\"team_host\", \"team_goals\"])\n",
    "    \n",
    ")"
   ]
  },
  {
   "cell_type": "code",
   "execution_count": null,
   "id": "85830ca0",
   "metadata": {},
   "outputs": [],
   "source": [
    "# 3\n",
    "wc_tidy = pd.concat([wc_home, wc_goals],axis=1)\n",
    "\n",
    "wc_tidy"
   ]
  },
  {
   "cell_type": "code",
   "execution_count": null,
   "id": "da194114",
   "metadata": {},
   "outputs": [],
   "source": [
    "# 4\n",
    "(wc_tidy\n",
    "     .groupby([\"team_name\"], as_index=False)\n",
    "     [\"team_name\"]\n",
    "     .size()\n",
    "     .sort_values(\"size\", ascending=False)\n",
    ")        "
   ]
  },
  {
   "cell_type": "code",
   "execution_count": 4,
   "id": "20437bcd",
   "metadata": {},
   "outputs": [
    {
     "data": {
      "text/html": [
       "<div>\n",
       "<style scoped>\n",
       "    .dataframe tbody tr th:only-of-type {\n",
       "        vertical-align: middle;\n",
       "    }\n",
       "\n",
       "    .dataframe tbody tr th {\n",
       "        vertical-align: top;\n",
       "    }\n",
       "\n",
       "    .dataframe thead th {\n",
       "        text-align: right;\n",
       "    }\n",
       "</style>\n",
       "<table border=\"1\" class=\"dataframe\">\n",
       "  <thead>\n",
       "    <tr style=\"text-align: right;\">\n",
       "      <th></th>\n",
       "      <th>mean</th>\n",
       "      <th>count</th>\n",
       "    </tr>\n",
       "    <tr>\n",
       "      <th>team_name</th>\n",
       "      <th></th>\n",
       "      <th></th>\n",
       "    </tr>\n",
       "  </thead>\n",
       "  <tbody>\n",
       "    <tr>\n",
       "      <th>Hungary</th>\n",
       "      <td>2.718750</td>\n",
       "      <td>32</td>\n",
       "    </tr>\n",
       "    <tr>\n",
       "      <th>Germany</th>\n",
       "      <td>2.166667</td>\n",
       "      <td>48</td>\n",
       "    </tr>\n",
       "    <tr>\n",
       "      <th>Germany FR</th>\n",
       "      <td>2.112903</td>\n",
       "      <td>62</td>\n",
       "    </tr>\n",
       "    <tr>\n",
       "      <th>Brazil</th>\n",
       "      <td>2.083333</td>\n",
       "      <td>108</td>\n",
       "    </tr>\n",
       "    <tr>\n",
       "      <th>Turkey</th>\n",
       "      <td>2.000000</td>\n",
       "      <td>10</td>\n",
       "    </tr>\n",
       "    <tr>\n",
       "      <th>France</th>\n",
       "      <td>1.770492</td>\n",
       "      <td>61</td>\n",
       "    </tr>\n",
       "    <tr>\n",
       "      <th>Soviet Union</th>\n",
       "      <td>1.709677</td>\n",
       "      <td>31</td>\n",
       "    </tr>\n",
       "    <tr>\n",
       "      <th>Denmark</th>\n",
       "      <td>1.687500</td>\n",
       "      <td>16</td>\n",
       "    </tr>\n",
       "    <tr>\n",
       "      <th>Netherlands</th>\n",
       "      <td>1.685185</td>\n",
       "      <td>54</td>\n",
       "    </tr>\n",
       "    <tr>\n",
       "      <th>Cuba</th>\n",
       "      <td>1.666667</td>\n",
       "      <td>3</td>\n",
       "    </tr>\n",
       "  </tbody>\n",
       "</table>\n",
       "</div>"
      ],
      "text/plain": [
       "                  mean  count\n",
       "team_name                    \n",
       "Hungary       2.718750     32\n",
       "Germany       2.166667     48\n",
       "Germany FR    2.112903     62\n",
       "Brazil        2.083333    108\n",
       "Turkey        2.000000     10\n",
       "France        1.770492     61\n",
       "Soviet Union  1.709677     31\n",
       "Denmark       1.687500     16\n",
       "Netherlands   1.685185     54\n",
       "Cuba          1.666667      3"
      ]
     },
     "execution_count": 4,
     "metadata": {},
     "output_type": "execute_result"
    }
   ],
   "source": [
    "# 5\n",
    "(wc_tidy\n",
    "     .groupby([\"team_name\"], as_index=False)\n",
    "     [\"team_goals\"]\n",
    "     .agg([\"mean\", \"count\"])\n",
    "     .sort_values(\"mean\", ascending=False). \n",
    "    head(10)\n",
    ")"
   ]
  }
 ],
 "metadata": {
  "kernelspec": {
   "display_name": "Python 3 (ipykernel)",
   "language": "python",
   "name": "python3"
  },
  "language_info": {
   "codemirror_mode": {
    "name": "ipython",
    "version": 3
   },
   "file_extension": ".py",
   "mimetype": "text/x-python",
   "name": "python",
   "nbconvert_exporter": "python",
   "pygments_lexer": "ipython3",
   "version": "3.11.4"
  }
 },
 "nbformat": 4,
 "nbformat_minor": 5
}
