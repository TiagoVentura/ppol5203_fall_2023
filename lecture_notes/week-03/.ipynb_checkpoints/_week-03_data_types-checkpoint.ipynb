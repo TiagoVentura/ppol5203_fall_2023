{
 "cells": [
  {
   "cell_type": "markdown",
   "id": "5fa35c59",
   "metadata": {},
   "source": [
    "<h1><center> PPOL 5203 Data Science I: Foundations <br><br> \n",
    "<font color='grey'>Intro do Python: OOP + Data Types <br><br>\n",
    "Tiago Ventura </center> <h1> \n",
    "\n",
    "---"
   ]
  },
  {
   "cell_type": "markdown",
   "id": "9b5a4953",
   "metadata": {},
   "source": [
    "# Learning Objectives\n",
    "\n",
    "We will start this class with a broader overview of what **Object-Oriented Programming** means. This might sound a bit generic, but it is a super important concept for you to grasp and build a more general understanding of Python.\n",
    "\n",
    "After that, we will go more into a classic introduction to Python, with a focus on Data Types and Data Collections\n",
    "\n",
    "-   Get some intuition behind **objects** in Python\n",
    "-   Explore the different built-in **data types**.\n",
    "-   Examine how to look up values in collection data type using an **index** and/or **key**\n",
    "-   Learn about the issues that can arise when **copying mutable objects** and how to resolve them.\n",
    "\n",
    "\n",
    "*This notebook draws from materials developed by [Dr. Eric Dunford](http://ericdunford.com/) for a previous iteration of PPOL 5203*\n"
   ]
  },
  {
   "cell_type": "markdown",
   "id": "6ad8cfa3",
   "metadata": {},
   "source": [
    "## Notion of Object-Oriented Programming\n",
    "\n",
    "Python is an [object-oriented programming language](https://en.wikipedia.org/wiki/Object-oriented_programming) (OOP) where the object plays a more fundamental role for how we structure a program. Specifically, OOP allows one to bundle properties and behavior into individual objects. In Python, objects can hold both the data and the methods used to manipulate that data.\n",
    "\n",
    "As you are progressing in the DSPP, you are also being introduced to R. R, on the other hand, is a functional programming language where functions are objects and data is manipulated using functions.\n",
    "\n",
    "At first glance, the distinction is subtle, but the way we build programs in R and Python differs considerably. In practice, the OOP vs. Functional distinction changes how one engages with objects instantiated in the environment.\n",
    "\n",
    "In Python, methods (functions) are self-contained in the object; whereas in R functions are external to the object. In other words, while much of the work in R consists on writing functions that are stores outside of classes/objects, in Python, you can borrow from general classes, inherit their methods/functions, or just add new functionalities to objects created by others.\n",
    "\n",
    "**The core of OOP Languages are the objects. They are also important in R, but not as flexible as in Python**\n",
    "\n",
    "\n",
    "As an example, see the differences between taking the mean of a vector in R (using a function) and the mean of a pandas series in Python (using a method). "
   ]
  },
  {
   "cell_type": "markdown",
   "id": "d07c78f6",
   "metadata": {},
   "source": [
    "### Python OOP in Practice\n",
    "```\n",
    "# call library\n",
    "import pandas as pd\n",
    "\n",
    "# Using a Pandas Series method (OOP)\n",
    "s = pd.Series([1, 2, 3, 4, 5])\n",
    "s.mean()\n",
    "```\n",
    "\n",
    "### R Function Programming in Practice\n",
    "\n",
    "```\n",
    "vec <- c(1, 2, 3, 4, 5)\n",
    "mean(vec)\n",
    "```\n",
    "\n",
    "You access methods and attributes from objects using `.` function in Python\n"
   ]
  },
  {
   "cell_type": "markdown",
   "id": "784a2eb1",
   "metadata": {},
   "source": [
    "### Creating object in Python\n",
    "\n",
    "`=` is the **assignment** operator in Python. Different from R, in which there are multiple assignment operators, in Python, you only have **the** (`=`) assignment operator"
   ]
  },
  {
   "cell_type": "code",
   "execution_count": 69,
   "id": "3a0cfdef",
   "metadata": {},
   "outputs": [],
   "source": [
    "# creating an object in Python\n",
    "x = 4"
   ]
  },
  {
   "cell_type": "markdown",
   "id": "88ed593b",
   "metadata": {},
   "source": [
    "\n",
    "This simple act of creating an object in Python comprise three different, and interesting actions.\n",
    "\n",
    "1)  When using it, a **reference** is assigned to an object (e.g. below, `x` references the object `4` in the statement `x = 4`). This is the name of the object as it is saved in your environment. But notice this is not how the object is saved in your machine\n"
   ]
  },
  {
   "cell_type": "code",
   "execution_count": 70,
   "id": "1139b1e7",
   "metadata": {},
   "outputs": [
    {
     "data": {
      "text/plain": [
       "4379304960"
      ]
     },
     "execution_count": 70,
     "metadata": {},
     "output_type": "execute_result"
    }
   ],
   "source": [
    "# in your machine\n",
    "id(x)"
   ]
  },
  {
   "cell_type": "markdown",
   "id": "f6a3af55",
   "metadata": {},
   "source": [
    "In Python, variable names:\n",
    "\n",
    "-   can include letters, digits, and underscores\n",
    "-   cannot start with a digit\n",
    "-   are case sensitive.\n",
    "\n",
    "**Use names that make sense**. This simple action will make you code much easier to read.\n",
    "\n",
    "2)  An ***objects type*** is defined at runtime (also known as [\"duck typing\"](https://en.wikipedia.org/wiki/Duck_typing)). Python is a dynamically typed language, which differs from other languages where type must be made explicit (e.g. C++, Java). Type cannot be changed once an object is created (coercing an object into a different type actually creates a new object).\n"
   ]
  },
  {
   "cell_type": "markdown",
   "id": "89a59307",
   "metadata": {},
   "source": [
    "```\n",
    "# Creating object in C\n",
    "int result = 0;\n",
    "```"
   ]
  },
  {
   "cell_type": "markdown",
   "id": "e2f8b1e3",
   "metadata": {},
   "source": [
    "3)  Object's class is *instantiated* upon assignment. An objects ***class*** provides a blueprint for object behavior and functionality. We use the pointer `.` to access an objects methods and attributes."
   ]
  },
  {
   "cell_type": "code",
   "execution_count": 71,
   "id": "28506492",
   "metadata": {},
   "outputs": [
    {
     "data": {
      "text/plain": [
       "int"
      ]
     },
     "execution_count": 71,
     "metadata": {},
     "output_type": "execute_result"
    }
   ],
   "source": [
    "# what is the class?\n",
    "type(x)"
   ]
  },
  {
   "cell_type": "code",
   "execution_count": 72,
   "id": "e4e461c5",
   "metadata": {},
   "outputs": [
    {
     "data": {
      "text/plain": [
       "3"
      ]
     },
     "execution_count": 72,
     "metadata": {},
     "output_type": "execute_result"
    }
   ],
   "source": [
    "# Access methods (behaviors) using .\n",
    "x.bit_length()"
   ]
  },
  {
   "cell_type": "code",
   "execution_count": 73,
   "id": "b2432e6f",
   "metadata": {},
   "outputs": [
    {
     "data": {
      "text/plain": [
       "['__abs__',\n",
       " '__add__',\n",
       " '__and__',\n",
       " '__bool__',\n",
       " '__ceil__',\n",
       " '__class__',\n",
       " '__delattr__',\n",
       " '__dir__',\n",
       " '__divmod__',\n",
       " '__doc__',\n",
       " '__eq__',\n",
       " '__float__',\n",
       " '__floor__',\n",
       " '__floordiv__',\n",
       " '__format__',\n",
       " '__ge__',\n",
       " '__getattribute__',\n",
       " '__getnewargs__',\n",
       " '__getstate__',\n",
       " '__gt__',\n",
       " '__hash__',\n",
       " '__index__',\n",
       " '__init__',\n",
       " '__init_subclass__',\n",
       " '__int__',\n",
       " '__invert__',\n",
       " '__le__',\n",
       " '__lshift__',\n",
       " '__lt__',\n",
       " '__mod__',\n",
       " '__mul__',\n",
       " '__ne__',\n",
       " '__neg__',\n",
       " '__new__',\n",
       " '__or__',\n",
       " '__pos__',\n",
       " '__pow__',\n",
       " '__radd__',\n",
       " '__rand__',\n",
       " '__rdivmod__',\n",
       " '__reduce__',\n",
       " '__reduce_ex__',\n",
       " '__repr__',\n",
       " '__rfloordiv__',\n",
       " '__rlshift__',\n",
       " '__rmod__',\n",
       " '__rmul__',\n",
       " '__ror__',\n",
       " '__round__',\n",
       " '__rpow__',\n",
       " '__rrshift__',\n",
       " '__rshift__',\n",
       " '__rsub__',\n",
       " '__rtruediv__',\n",
       " '__rxor__',\n",
       " '__setattr__',\n",
       " '__sizeof__',\n",
       " '__str__',\n",
       " '__sub__',\n",
       " '__subclasshook__',\n",
       " '__truediv__',\n",
       " '__trunc__',\n",
       " '__xor__',\n",
       " 'as_integer_ratio',\n",
       " 'bit_count',\n",
       " 'bit_length',\n",
       " 'conjugate',\n",
       " 'denominator',\n",
       " 'from_bytes',\n",
       " 'imag',\n",
       " 'numerator',\n",
       " 'real',\n",
       " 'to_bytes']"
      ]
     },
     "execution_count": 73,
     "metadata": {},
     "output_type": "execute_result"
    }
   ],
   "source": [
    "# see all\n",
    "dir(x)"
   ]
  },
  {
   "cell_type": "markdown",
   "id": "5de6f62c",
   "metadata": {},
   "source": [
    "### 101 on Python classes (or the core of OOP in Python)\n",
    "\n",
    "Every time we create an object, this objects inherits a class. This is what we called **instantiating**.\n",
    "\n",
    "**Classes** are used to create user-defined data structures. A class is a blueprint for how something should be defined. \n",
    "\n",
    "**An instance** is a realization of a particular class. And this instance inherits the characteristics of its class. \n",
    "\n",
    "Imagine we have a class called `dog()`, every time I use this class to create a new, concrete dog (object), I am capturing a instance, or a realization of this abstract class.\n",
    "\n",
    "**Classes** have two major components:\n",
    "\n",
    "-   Attributes: these are constant features, data, a characteristic of the broader class\n",
    "\n",
    "-   Methods: these are actions, behaviors of this class.\n",
    "\n",
    "Both *attributes* and *methods* are accessed through `.` function. \n",
    "\n",
    "We will see later how to create our own classes. Most important now is for you to understand that every object in python has a class, and every realization of this class inherits both attributes and methods of the pre-defined class.\n",
    "\n",
    "Let's see a quick example here."
   ]
  },
  {
   "cell_type": "code",
   "execution_count": 75,
   "id": "288f45d5",
   "metadata": {},
   "outputs": [],
   "source": [
    "# create a class\n",
    "class Example():\n",
    "  def __init__ (self, name):\n",
    "    self.name = name\n",
    "  def hello(self):\n",
    "    print('Hi, I am ' + self.name)"
   ]
  },
  {
   "cell_type": "code",
   "execution_count": 76,
   "id": "ea014663",
   "metadata": {},
   "outputs": [],
   "source": [
    "# Instatiate\n",
    "me = Example(name=\"Tiago\")"
   ]
  },
  {
   "cell_type": "code",
   "execution_count": 77,
   "id": "50b17af3",
   "metadata": {},
   "outputs": [
    {
     "data": {
      "text/plain": [
       "'Tiago'"
      ]
     },
     "execution_count": 77,
     "metadata": {},
     "output_type": "execute_result"
    }
   ],
   "source": [
    "# Attributes\n",
    "me.name"
   ]
  },
  {
   "cell_type": "code",
   "execution_count": 78,
   "id": "8edb6ce5",
   "metadata": {},
   "outputs": [
    {
     "name": "stdout",
     "output_type": "stream",
     "text": [
      "Hi, I am Tiago\n"
     ]
    }
   ],
   "source": [
    "# method\n",
    "me.hello()"
   ]
  },
  {
   "cell_type": "markdown",
   "id": "2debb916",
   "metadata": {},
   "source": [
    "Here we can print out all the different methods using the `dir()` function (which provides an internal directory of all the methods contained within the class). As we can see, there is a lot going on inside this single `set` object!"
   ]
  },
  {
   "cell_type": "code",
   "execution_count": 33,
   "id": "d111b3fd",
   "metadata": {},
   "outputs": [
    {
     "data": {
      "text/plain": [
       "['__class__',\n",
       " '__delattr__',\n",
       " '__dict__',\n",
       " '__dir__',\n",
       " '__doc__',\n",
       " '__eq__',\n",
       " '__format__',\n",
       " '__ge__',\n",
       " '__getattribute__',\n",
       " '__getstate__',\n",
       " '__gt__',\n",
       " '__hash__',\n",
       " '__init__',\n",
       " '__init_subclass__',\n",
       " '__le__',\n",
       " '__lt__',\n",
       " '__module__',\n",
       " '__ne__',\n",
       " '__new__',\n",
       " '__reduce__',\n",
       " '__reduce_ex__',\n",
       " '__repr__',\n",
       " '__setattr__',\n",
       " '__sizeof__',\n",
       " '__str__',\n",
       " '__subclasshook__',\n",
       " '__weakref__',\n",
       " 'hello',\n",
       " 'name']"
      ]
     },
     "execution_count": 33,
     "metadata": {},
     "output_type": "execute_result"
    }
   ],
   "source": [
    "dir(me)"
   ]
  },
  {
   "cell_type": "markdown",
   "id": "19649d9b",
   "metadata": {},
   "source": [
    "## Data Types\n",
    "\n",
    "There are two ways of instantiating a data class in Python:\n",
    "\n",
    "1.  **Literals**: syntatic representation in Python, e.g. `[]`\n",
    "2.  **Constructors**: class constructors, e.g. `list()`\n",
    "\n",
    "Python comes with a number of built-in data types. When talking about data types, it's useful to differentiate between:\n",
    "\n",
    "-   ***scalar*** types (data types that hold one piece of information, like a digit) and\n",
    "-   ***collection*** types (data types that hold multiple pieces of information).\n",
    "\n",
    "These built-in data types are the building blocks for more complex data types, like a pandas DataFrame (which we'll cover later)."
   ]
  },
  {
   "cell_type": "markdown",
   "id": "5a905b93",
   "metadata": {},
   "source": [
    "### Scalars"
   ]
  },
  {
   "cell_type": "markdown",
   "id": "811066c3",
   "metadata": {},
   "source": [
    "**<center>Scalar Data Types</center>**\n",
    "\n",
    "| *Type*  | *Description*                                   | *Example* |  *Literal*  | *Constructor* |\n",
    "|:---------:|:---------------------------|:---------:|:---------:|:---------:|\n",
    "|  `int`  | integer types                                   |    `4`    |   `x = 4`   |   `int(4)`    |\n",
    "| `float` | 64-bit floating point numbers                   |  `4.567`  | `x = 4.567` |  `float(4)`   |\n",
    "| `bool`  | boolean logical values                          |  `True`   | `x = True`  |   `bool(0)`   |\n",
    "| `None`  | null object (serves as a valuable place holder) |  `None`   | `x = None`  |               |\n",
    "\n",
    "<br>"
   ]
  },
  {
   "cell_type": "markdown",
   "id": "85f82785",
   "metadata": {},
   "source": [
    "Note two things from the above table:\n",
    "\n",
    "1.  the literal occurs through assignment, and\n",
    "2.  the constructor can be used to ***coerce*** one data type into another."
   ]
  },
  {
   "cell_type": "markdown",
   "id": "28310192",
   "metadata": {},
   "source": [
    "### `Int`\n",
    "\n",
    "`Definition`: Int. Int, or integer, is a whole number, positive or negative, without decimals, of unlimited length\n",
    "\n",
    "Here we assign an integer (`3`) to the object `x` ."
   ]
  },
  {
   "cell_type": "code",
   "execution_count": 2,
   "id": "cff42551",
   "metadata": {},
   "outputs": [
    {
     "data": {
      "text/plain": [
       "3"
      ]
     },
     "execution_count": 2,
     "metadata": {},
     "output_type": "execute_result"
    }
   ],
   "source": [
    "# int\n",
    "x = 3\n",
    "x"
   ]
  },
  {
   "cell_type": "code",
   "execution_count": 3,
   "id": "c42a912e",
   "metadata": {},
   "outputs": [
    {
     "data": {
      "text/plain": [
       "int"
      ]
     },
     "execution_count": 3,
     "metadata": {},
     "output_type": "execute_result"
    }
   ],
   "source": [
    "# check type\n",
    "type(x)"
   ]
  },
  {
   "cell_type": "markdown",
   "id": "6c7477c8",
   "metadata": {},
   "source": [
    "### Float\n",
    "\n",
    "`Definition`: Floating point numbers are decimal values or fractional numbers \n",
    "\n",
    "Now let's coerce the integer to a float using the constructor `float()`. `float` represent real numbers with both an integer and fractional component"
   ]
  },
  {
   "cell_type": "code",
   "execution_count": 8,
   "id": "713d1f3c",
   "metadata": {},
   "outputs": [
    {
     "data": {
      "text/plain": [
       "int"
      ]
     },
     "execution_count": 8,
     "metadata": {},
     "output_type": "execute_result"
    }
   ],
   "source": [
    "# float\n",
    "float(x)\n",
    "x\n",
    "# check type\n",
    "type(x)"
   ]
  },
  {
   "cell_type": "markdown",
   "id": "55de2ce9",
   "metadata": {},
   "source": [
    "Note that behavior of the object being coerced depends both on the initial class and the output class."
   ]
  },
  {
   "cell_type": "code",
   "execution_count": 9,
   "id": "d9b7abbc",
   "metadata": {},
   "outputs": [
    {
     "data": {
      "text/plain": [
       "float"
      ]
     },
     "execution_count": 9,
     "metadata": {},
     "output_type": "execute_result"
    }
   ],
   "source": [
    "#int\n",
    "x=3\n",
    "\n",
    "# add a int + float = float\n",
    "type(x + 3.0)"
   ]
  },
  {
   "cell_type": "markdown",
   "id": "ed9ac1d5",
   "metadata": {},
   "source": [
    "#### Bool\n",
    "\n",
    "Boolean objects that are equal to True are truthy (`True`), and those equal to False are falsy (`False`). Numerically, `int` values equal to zero are `False`, and larger than zero are `True`"
   ]
  },
  {
   "cell_type": "code",
   "execution_count": 6,
   "id": "1ced545a",
   "metadata": {},
   "outputs": [
    {
     "data": {
      "text/plain": [
       "True"
      ]
     },
     "execution_count": 6,
     "metadata": {},
     "output_type": "execute_result"
    }
   ],
   "source": [
    "# literal\n",
    "x=True\n",
    "x"
   ]
  },
  {
   "cell_type": "code",
   "execution_count": 5,
   "id": "3fefe1ca",
   "metadata": {},
   "outputs": [
    {
     "data": {
      "text/plain": [
       "False"
      ]
     },
     "execution_count": 5,
     "metadata": {},
     "output_type": "execute_result"
    }
   ],
   "source": [
    "# constructor\n",
    "bool(0)"
   ]
  },
  {
   "cell_type": "markdown",
   "id": "aaec389e",
   "metadata": {},
   "source": [
    "## Immutability\n",
    "\n",
    "Finally, all scalar data types are **immutable**, meaning they can't be changed after assignment. When we make changes to a data type, say by coercing it to be another type as we do above, we're actually ***creating a new object***. We can see this by looking at the object id.\n",
    "\n",
    "> `id()` tells us the \"identity\" of an object. That shouldn't mean anything to you. Just know that when an object id is the same, it's referencing the same data in the computer. We'll explore the implications of this when we look at copying."
   ]
  },
  {
   "cell_type": "code",
   "execution_count": 10,
   "id": "98e5ab6a",
   "metadata": {},
   "outputs": [
    {
     "data": {
      "text/plain": [
       "4383286272"
      ]
     },
     "execution_count": 10,
     "metadata": {},
     "output_type": "execute_result"
    }
   ],
   "source": [
    "x = 4\n",
    "id(x) "
   ]
  },
  {
   "cell_type": "markdown",
   "id": "ce90f4e3",
   "metadata": {},
   "source": [
    "Here we coerce `x` to be a `float` and then look up its `id()`. As we can see, there is a new number associated with it. This means `x` is a different object after coercion."
   ]
  },
  {
   "cell_type": "code",
   "execution_count": 11,
   "id": "1f613dfb",
   "metadata": {},
   "outputs": [
    {
     "data": {
      "text/plain": [
       "4460979696"
      ]
     },
     "execution_count": 11,
     "metadata": {},
     "output_type": "execute_result"
    }
   ],
   "source": [
    "id(float(x))"
   ]
  },
  {
   "cell_type": "markdown",
   "id": "4122e480",
   "metadata": {},
   "source": [
    "### Object types determine behavior\n",
    "\n",
    "Python knows how to behave given the methods assigned to the object when we create an instance. The methods dictate how different data types deal with similar operations (such as addition, multiplication, comparative evaluations, ect.).\n",
    "\n",
    "Using what we learned from OOP, it means that for every class, we have specific methods. These methods can have specific names -- any user-defined function -- or they can same universal names ([Magic or Dunder Methods](https://www.tutorialsteacher.com/python/magic-methods-in-python)). See the addition example with int instances."
   ]
  },
  {
   "cell_type": "code",
   "execution_count": 13,
   "id": "7a26f252",
   "metadata": {},
   "outputs": [
    {
     "data": {
      "text/plain": [
       "8"
      ]
     },
     "execution_count": 13,
     "metadata": {},
     "output_type": "execute_result"
    }
   ],
   "source": [
    "# create int\n",
    "x=4\n",
    "\n",
    "# add literally\n",
    "x + 4\n",
    "\n",
    "# what is happening under the hood? \n",
    "x.__add__(4)\n"
   ]
  },
  {
   "cell_type": "markdown",
   "id": "c7030ef0",
   "metadata": {},
   "source": [
    "Every class has a self-contained `__add__` method. For this reason, the output of adding two `int` or an `int` and a `float` are different"
   ]
  },
  {
   "cell_type": "code",
   "execution_count": 13,
   "id": "37688da8",
   "metadata": {},
   "outputs": [
    {
     "data": {
      "text/plain": [
       "float"
      ]
     },
     "execution_count": 13,
     "metadata": {},
     "output_type": "execute_result"
    }
   ],
   "source": [
    "# create int\n",
    "x=4\n",
    "\n",
    "# add literally\n",
    "type(x + 4.2)"
   ]
  },
  {
   "cell_type": "markdown",
   "id": "0d6afc72",
   "metadata": {},
   "source": [
    "### Collections\n",
    "\n",
    "**Collection Data Types**\n",
    "\n",
    "|  *Type*  | *Description*                              |   *Example*    |     *Mutable*      |      *Literal*      |   *Constructor*    |\n",
    "|:---------:|:----------------|:---------:|:---------:|:---------:|:---------:|\n",
    "|  `list`  | heterogeneous sequences of objects         | `[1,\"2\",True]` |         ✓          | `x = [\"c\",\"a\",\"t\"]` | `x = list(\"cat\")`  |\n",
    "|  `str`   | sequences of characters                    |   `\"A word\"`   |         ✘          |    `x = \"12345\"`    |  `x = str(12345)`  |\n",
    "| `tuples` | heterogeneous sequence of objects          |    `(1,2)`     |         ✘          |     `x = (1,2)`     | `x = tuple([1,2])` |\n",
    "|  `sets`  | unordered collection of *distinct* objects |    `{1,2}`     |         ✓          |     `x = {1,2}`     |  `x = set([1,2])`  |\n",
    "| `dicts`  | associative array of key/value mappings    |   `{\"a\": 1}`   | keys ✘<br>values ✓ |    `x = {'a':1}`    | `x = dict(a = 1)`  |\n",
    "\n",
    "Each built-in collection data type in Python is distinct in important ways. Recall that an object's class defines how the object behaves with operators and its methods. \n",
    "\n",
    "I'll explore some of the differences in behavior for each class type so we can see what this means in practice"
   ]
  },
  {
   "cell_type": "markdown",
   "id": "1ca9d17f",
   "metadata": {},
   "source": [
    "### Mutable vs. Immutable\n",
    "\n",
    "Note the column referring to **Mutable** and **Immutable** collection types. Simply put, mutable objects can be changed after it is created, immutable objects cannot be changed. *All the scalar data types are immutable*. Even when we coerced objects into a different class, we aren't changing the existing object, we are creating a new one.\n",
    "\n",
    "Some collection types, however, allow us to edit the data values contained within without needing to create a new object. This can allow us to effectively use the computer's memory. It can also create some problems down the line if we aren't careful (see the tab on copies).\n",
    "\n",
    "In practice, ***mutability means we can alter values in the collection on the fly***."
   ]
  },
  {
   "cell_type": "code",
   "execution_count": 87,
   "id": "461dc4fa",
   "metadata": {},
   "outputs": [
    {
     "data": {
      "text/plain": [
       "['sarah', 'susan', 'ralph', 'eddie']"
      ]
     },
     "execution_count": 87,
     "metadata": {},
     "output_type": "execute_result"
    }
   ],
   "source": [
    "my_list = [\"sarah\",\"susan\",\"ralph\",\"eddie\"]\n",
    "my_list"
   ]
  },
  {
   "cell_type": "code",
   "execution_count": 88,
   "id": "fb0bfabd",
   "metadata": {},
   "outputs": [
    {
     "data": {
      "text/plain": [
       "4651043328"
      ]
     },
     "execution_count": 88,
     "metadata": {},
     "output_type": "execute_result"
    }
   ],
   "source": [
    "## see id\n",
    "id(my_list)"
   ]
  },
  {
   "cell_type": "code",
   "execution_count": 89,
   "id": "842a30e6",
   "metadata": {},
   "outputs": [
    {
     "data": {
      "text/plain": [
       "['sarah', 'josh', 'ralph', 'eddie']"
      ]
     },
     "execution_count": 89,
     "metadata": {},
     "output_type": "execute_result"
    }
   ],
   "source": [
    "my_list[1] = \"josh\"\n",
    "my_list"
   ]
  },
  {
   "cell_type": "code",
   "execution_count": 90,
   "id": "a52db140",
   "metadata": {},
   "outputs": [
    {
     "data": {
      "text/plain": [
       "4651043328"
      ]
     },
     "execution_count": 90,
     "metadata": {},
     "output_type": "execute_result"
    }
   ],
   "source": [
    "## see id\n",
    "# Still the same object, even though we changed something in it\n",
    "id(my_list) "
   ]
  },
  {
   "cell_type": "markdown",
   "id": "4efd28fa",
   "metadata": {},
   "source": [
    "**Immutability**, on the other hand, means that we ***cannot alter values after the object is created***. Python will throw an error at us if we try."
   ]
  },
  {
   "cell_type": "code",
   "execution_count": 84,
   "id": "c2790087",
   "metadata": {},
   "outputs": [
    {
     "ename": "TypeError",
     "evalue": "'tuple' object does not support item assignment",
     "output_type": "error",
     "traceback": [
      "\u001b[0;31m---------------------------------------------------------------------------\u001b[0m",
      "\u001b[0;31mTypeError\u001b[0m                                 Traceback (most recent call last)",
      "Cell \u001b[0;32mIn[84], line 2\u001b[0m\n\u001b[1;32m      1\u001b[0m my_tuple \u001b[38;5;241m=\u001b[39m(\u001b[38;5;124m\"\u001b[39m\u001b[38;5;124msarah\u001b[39m\u001b[38;5;124m\"\u001b[39m,\u001b[38;5;124m\"\u001b[39m\u001b[38;5;124msusan\u001b[39m\u001b[38;5;124m\"\u001b[39m,\u001b[38;5;124m\"\u001b[39m\u001b[38;5;124mralph\u001b[39m\u001b[38;5;124m\"\u001b[39m,\u001b[38;5;124m\"\u001b[39m\u001b[38;5;124meddie\u001b[39m\u001b[38;5;124m\"\u001b[39m)\n\u001b[0;32m----> 2\u001b[0m my_tuple[\u001b[38;5;241m1\u001b[39m] \u001b[38;5;241m=\u001b[39m \u001b[38;5;124m\"\u001b[39m\u001b[38;5;124mjosh\u001b[39m\u001b[38;5;124m\"\u001b[39m\n",
      "\u001b[0;31mTypeError\u001b[0m: 'tuple' object does not support item assignment"
     ]
    }
   ],
   "source": [
    "my_tuple =(\"sarah\",\"susan\",\"ralph\",\"eddie\")\n",
    "my_tuple[1] = \"josh\""
   ]
  },
  {
   "cell_type": "markdown",
   "id": "2d507cb4",
   "metadata": {},
   "source": [
    "#### `list`\n",
    "\n",
    "**Lists** allow for *heterogeneous* membership in the various object types. This means one can hold many different data types (even other collection types!). In a list, one can change items contained within the object after creating the instance."
   ]
  },
  {
   "cell_type": "code",
   "execution_count": 14,
   "id": "63e4d6cb",
   "metadata": {},
   "outputs": [
    {
     "data": {
      "text/plain": [
       "[1, 2.2, 'str', True, None]"
      ]
     },
     "execution_count": 14,
     "metadata": {},
     "output_type": "execute_result"
    }
   ],
   "source": [
    "x = [1, 2.2, \"str\", True, None] \n",
    "x"
   ]
  },
  {
   "cell_type": "markdown",
   "id": "523b32d7",
   "metadata": {},
   "source": [
    "A list constructor takes in an ***iterable object*** as input. (We'll delve more into what makes an object iterable when covering loops, but the key is that the object must have an `.__iter__()` method.)"
   ]
  },
  {
   "cell_type": "code",
   "execution_count": 15,
   "id": "6e98e845",
   "metadata": {},
   "outputs": [
    {
     "data": {
      "text/plain": [
       "['T', 'h', 'i', 's']"
      ]
     },
     "execution_count": 15,
     "metadata": {},
     "output_type": "execute_result"
    }
   ],
   "source": [
    "list(\"This\")"
   ]
  },
  {
   "cell_type": "markdown",
   "id": "a7880682",
   "metadata": {},
   "source": [
    "At it's core, a list is a bucket for collecting different types of information. This makes it useful for collecting data items when one needs to store them. For example, we can store multiple container types in a list."
   ]
  },
  {
   "cell_type": "code",
   "execution_count": 16,
   "id": "01e7b8cd",
   "metadata": {},
   "outputs": [],
   "source": [
    "a = (1,2,3,4) # Tuple\n",
    "b = {\"a\":1,\"b\":2} # Dictionary\n",
    "c = [1,2,3,4] # List"
   ]
  },
  {
   "cell_type": "code",
   "execution_count": 18,
   "id": "359ab32b",
   "metadata": {},
   "outputs": [
    {
     "data": {
      "text/plain": [
       "[(1, 2, 3, 4), {'a': 1, 'b': 2}, [1, 2, 3, 4]]"
      ]
     },
     "execution_count": 18,
     "metadata": {},
     "output_type": "execute_result"
    }
   ],
   "source": [
    "# Combine these different container objects into a single list\n",
    "together = [a,b,c] \n",
    "together"
   ]
  },
  {
   "cell_type": "markdown",
   "id": "f5964289",
   "metadata": {},
   "source": [
    "A `list` class has a range of specific *methods* geared toward querying, counting, sorting, and adding/removing elements in the container. [**For a list of all the `list` methods, see here.**](https://www.w3schools.com/python/python_ref_list.asp)\n",
    "\n",
    "Let's explore some of the common methods used."
   ]
  },
  {
   "cell_type": "code",
   "execution_count": 16,
   "id": "e7ccc021",
   "metadata": {},
   "outputs": [],
   "source": [
    "country_list = [\"Russia\",\"Latvia\",\"United States\",\"Nigeria\",\"Mexico\",\"India\",\"Costa Rica\"]"
   ]
  },
  {
   "cell_type": "markdown",
   "id": "6d7f09e3",
   "metadata": {},
   "source": [
    "**Inserting values**\n",
    "\n",
    "*Option 1*: use the `.append()` method."
   ]
  },
  {
   "cell_type": "code",
   "execution_count": 17,
   "id": "33820220",
   "metadata": {},
   "outputs": [
    {
     "data": {
      "text/plain": [
       "['Russia',\n",
       " 'Latvia',\n",
       " 'United States',\n",
       " 'Nigeria',\n",
       " 'Mexico',\n",
       " 'India',\n",
       " 'Costa Rica',\n",
       " 'Germany']"
      ]
     },
     "execution_count": 17,
     "metadata": {},
     "output_type": "execute_result"
    }
   ],
   "source": [
    "country_list.append(\"Germany\")\n",
    "country_list"
   ]
  },
  {
   "cell_type": "markdown",
   "id": "8bdd8e34",
   "metadata": {},
   "source": [
    "*Option 2*: use the `+` (add) operator."
   ]
  },
  {
   "cell_type": "code",
   "execution_count": 18,
   "id": "8dd50554",
   "metadata": {},
   "outputs": [
    {
     "data": {
      "text/plain": [
       "['Russia',\n",
       " 'Latvia',\n",
       " 'United States',\n",
       " 'Nigeria',\n",
       " 'Mexico',\n",
       " 'India',\n",
       " 'Costa Rica',\n",
       " 'Germany',\n",
       " 'Canada']"
      ]
     },
     "execution_count": 18,
     "metadata": {},
     "output_type": "execute_result"
    }
   ],
   "source": [
    "country_list = country_list + ['Canada']\n",
    "country_list"
   ]
  },
  {
   "cell_type": "markdown",
   "id": "cbd324cd",
   "metadata": {},
   "source": [
    "> **Addition means \"append\"?**: Recall that an objects class dictates how it behaves in place of different operators. A `list` object has a `.__add__()` method built into it that provides instructions for what the object should do when it encounters `+` operator. Likewise, when it encounters a `*` multiplication operator and so on. This is why it's so important to know the class that you're using. Different object classes == different behavior.\n",
    "\n",
    "You can also combine list through the reference names"
   ]
  },
  {
   "cell_type": "code",
   "execution_count": 19,
   "id": "396738e9",
   "metadata": {},
   "outputs": [
    {
     "data": {
      "text/plain": [
       "['Russia',\n",
       " 'Latvia',\n",
       " 'United States',\n",
       " 'Nigeria',\n",
       " 'Mexico',\n",
       " 'India',\n",
       " 'Costa Rica',\n",
       " 'Germany',\n",
       " 'Canada',\n",
       " 'Brazil',\n",
       " 'Argentina']"
      ]
     },
     "execution_count": 19,
     "metadata": {},
     "output_type": "execute_result"
    }
   ],
   "source": [
    "more_countries = [\"Brazil\", \"Argentina\"]\n",
    "country_list + more_countries"
   ]
  },
  {
   "cell_type": "markdown",
   "id": "5b89410c",
   "metadata": {},
   "source": [
    "**Deleting values**\n",
    "\n",
    "*Option 1*: use the `del` operator + index."
   ]
  },
  {
   "cell_type": "code",
   "execution_count": 20,
   "id": "1e89d3a9",
   "metadata": {},
   "outputs": [
    {
     "data": {
      "text/plain": [
       "['Russia',\n",
       " 'United States',\n",
       " 'Nigeria',\n",
       " 'Mexico',\n",
       " 'India',\n",
       " 'Costa Rica',\n",
       " 'Germany',\n",
       " 'Canada']"
      ]
     },
     "execution_count": 20,
     "metadata": {},
     "output_type": "execute_result"
    }
   ],
   "source": [
    "# Drop Latvia\n",
    "del country_list[1]\n",
    "country_list"
   ]
  },
  {
   "cell_type": "markdown",
   "id": "bb0e58a7",
   "metadata": {},
   "source": [
    "*Option 2*: use the `.remove()` method"
   ]
  },
  {
   "cell_type": "code",
   "execution_count": 21,
   "id": "ee583f5e",
   "metadata": {},
   "outputs": [
    {
     "data": {
      "text/plain": [
       "['Russia',\n",
       " 'United States',\n",
       " 'Mexico',\n",
       " 'India',\n",
       " 'Costa Rica',\n",
       " 'Germany',\n",
       " 'Canada']"
      ]
     },
     "execution_count": 21,
     "metadata": {},
     "output_type": "execute_result"
    }
   ],
   "source": [
    "country_list.remove(\"Nigeria\")\n",
    "country_list"
   ]
  },
  {
   "cell_type": "markdown",
   "id": "7986c73e",
   "metadata": {},
   "source": [
    "**Sorting values**"
   ]
  },
  {
   "cell_type": "code",
   "execution_count": 22,
   "id": "2f754881",
   "metadata": {},
   "outputs": [
    {
     "data": {
      "text/plain": [
       "['Canada',\n",
       " 'Costa Rica',\n",
       " 'Germany',\n",
       " 'India',\n",
       " 'Mexico',\n",
       " 'Russia',\n",
       " 'United States']"
      ]
     },
     "execution_count": 22,
     "metadata": {},
     "output_type": "execute_result"
    }
   ],
   "source": [
    "country_list.sort()\n",
    "country_list"
   ]
  },
  {
   "cell_type": "code",
   "execution_count": 23,
   "id": "3e32d3c4",
   "metadata": {},
   "outputs": [
    {
     "data": {
      "text/plain": [
       "['__add__',\n",
       " '__class__',\n",
       " '__class_getitem__',\n",
       " '__contains__',\n",
       " '__delattr__',\n",
       " '__delitem__',\n",
       " '__dir__',\n",
       " '__doc__',\n",
       " '__eq__',\n",
       " '__format__',\n",
       " '__ge__',\n",
       " '__getattribute__',\n",
       " '__getitem__',\n",
       " '__getstate__',\n",
       " '__gt__',\n",
       " '__hash__',\n",
       " '__iadd__',\n",
       " '__imul__',\n",
       " '__init__',\n",
       " '__init_subclass__',\n",
       " '__iter__',\n",
       " '__le__',\n",
       " '__len__',\n",
       " '__lt__',\n",
       " '__mul__',\n",
       " '__ne__',\n",
       " '__new__',\n",
       " '__reduce__',\n",
       " '__reduce_ex__',\n",
       " '__repr__',\n",
       " '__reversed__',\n",
       " '__rmul__',\n",
       " '__setattr__',\n",
       " '__setitem__',\n",
       " '__sizeof__',\n",
       " '__str__',\n",
       " '__subclasshook__',\n",
       " 'append',\n",
       " 'clear',\n",
       " 'copy',\n",
       " 'count',\n",
       " 'extend',\n",
       " 'index',\n",
       " 'insert',\n",
       " 'pop',\n",
       " 'remove',\n",
       " 'reverse',\n",
       " 'sort']"
      ]
     },
     "execution_count": 23,
     "metadata": {},
     "output_type": "execute_result"
    }
   ],
   "source": [
    "dir(country_list)"
   ]
  },
  {
   "cell_type": "markdown",
   "id": "fd16adb9",
   "metadata": {},
   "source": [
    "#### `str`\n",
    "\n",
    "***Strings are containers too***. String elements can be accessed using an index, much like objects in a list (See the tab on indices and keys)."
   ]
  },
  {
   "cell_type": "code",
   "execution_count": 19,
   "id": "6684c39e",
   "metadata": {},
   "outputs": [
    {
     "data": {
      "text/plain": [
       "'This'"
      ]
     },
     "execution_count": 19,
     "metadata": {},
     "output_type": "execute_result"
    }
   ],
   "source": [
    "s = \"This is a string\"\n",
    "s[:4]"
   ]
  },
  {
   "cell_type": "markdown",
   "id": "fac700e2",
   "metadata": {},
   "source": [
    "The literal for a string is quotations: `''` or `\"\"`. When layering quotations, one needs to opt for the quotation type different than the one used to instantiate the string object."
   ]
  },
  {
   "cell_type": "code",
   "execution_count": null,
   "id": "c6adaf5a",
   "metadata": {},
   "outputs": [],
   "source": [
    "s = 'This is a \"string\"'\n",
    "print(s)"
   ]
  },
  {
   "cell_type": "code",
   "execution_count": null,
   "id": "3cb86e35",
   "metadata": {},
   "outputs": [],
   "source": [
    "s = \"This is a 'string'\"\n",
    "print(s)\n"
   ]
  },
  {
   "cell_type": "markdown",
   "id": "8251faef",
   "metadata": {},
   "source": [
    "A **Multiline string** can be created using three sets of quotations. This is useful when writing documentation for a function."
   ]
  },
  {
   "cell_type": "code",
   "execution_count": 24,
   "id": "941d7c07",
   "metadata": {},
   "outputs": [
    {
     "name": "stdout",
     "output_type": "stream",
     "text": [
      "\n",
      "This is a long string!\n",
      "    \n",
      "    With many lines\n",
      "    \n",
      "    Many. Lines \n"
     ]
    }
   ],
   "source": [
    "s2 = '''\n",
    "This is a long string!\n",
    "    \n",
    "    With many lines\n",
    "    \n",
    "    Many. Lines '''\n",
    "print(s2)"
   ]
  },
  {
   "cell_type": "markdown",
   "id": "8b541315",
   "metadata": {},
   "source": [
    "String are quite versatile in Python! In fact, many of the manipulations that we like to perform on strings, such as splitting text up (also known as \"tokenizing\"), cleaning out punctuation and characters we don't care for, and changing the case (to name a few) are ***built into the string class method***.\n",
    "\n",
    "For example, say we wanted to convert a string to upper case."
   ]
  },
  {
   "cell_type": "code",
   "execution_count": 25,
   "id": "6697595b",
   "metadata": {},
   "outputs": [
    {
     "data": {
      "text/plain": [
       "'THE PROFESSOR IS HERE!'"
      ]
     },
     "execution_count": 25,
     "metadata": {},
     "output_type": "execute_result"
    }
   ],
   "source": [
    "str1 = \"the professor is here!\"\n",
    "str1.upper()"
   ]
  },
  {
   "cell_type": "markdown",
   "id": "6c08751d",
   "metadata": {},
   "source": [
    "Or remove words."
   ]
  },
  {
   "cell_type": "code",
   "execution_count": 26,
   "id": "58e10293",
   "metadata": {},
   "outputs": [
    {
     "data": {
      "text/plain": [
       "'the student is here!'"
      ]
     },
     "execution_count": 26,
     "metadata": {},
     "output_type": "execute_result"
    }
   ],
   "source": [
    "str1.replace(\"professor\",\"student\")"
   ]
  },
  {
   "cell_type": "markdown",
   "id": "36199614",
   "metadata": {},
   "source": [
    "This is just a taste. The best way to learn what we can do with a string is to use it. We'll deal with strings all the time when dealing with public policy data. So keep in mind that the `str` data type is a powerful tool in Python. [**For a list of all the `str` methods, see here.**](https://www.w3schools.com/python/python_ref_string.asp)"
   ]
  },
  {
   "cell_type": "markdown",
   "id": "57cf7900",
   "metadata": {},
   "source": [
    "#### `tuple`\n",
    "\n",
    "Like a `list`, a `tuple` allows for *heterogeneous* membership among the various scalar data types. \n",
    "\n",
    "However, unlike a `list`, a `tuple` is immutable, meaning you cannot change the object after creating it.\n",
    "\n",
    "The **literal** for a `tuple` is the parentheses `()`"
   ]
  },
  {
   "cell_type": "code",
   "execution_count": 27,
   "id": "ec028c0a",
   "metadata": {},
   "outputs": [
    {
     "data": {
      "text/plain": [
       "(1, 'a', 1.2, True)"
      ]
     },
     "execution_count": 27,
     "metadata": {},
     "output_type": "execute_result"
    }
   ],
   "source": [
    "my_tuple = (1,\"a\",1.2,True)\n",
    "my_tuple"
   ]
  },
  {
   "cell_type": "markdown",
   "id": "bb935dd3",
   "metadata": {},
   "source": [
    "The constructor is `tuple()`. Like the `list` constructor, `tuple()` an ***iterable object*** (like a `list`) as an input."
   ]
  },
  {
   "cell_type": "code",
   "execution_count": 28,
   "id": "3b3d8168",
   "metadata": {},
   "outputs": [
    {
     "data": {
      "text/plain": [
       "(1, 'a', 1.2, True)"
      ]
     },
     "execution_count": 28,
     "metadata": {},
     "output_type": "execute_result"
    }
   ],
   "source": [
    "my_tuple = tuple([1,\"a\",1.2,True])\n",
    "my_tuple"
   ]
  },
  {
   "cell_type": "markdown",
   "id": "1237171d",
   "metadata": {},
   "source": [
    "Tuples are valuable if you want a data value to be fixed, such as if it were an index on a data frame, denoting a unit of analysis, or key on a dictionary. Tuples pop up all the time in the wild when dealing with more complex data modules, like Pandas. So we'll see them again and again.\n",
    "\n",
    "One nice thing that tuples allow for is ***unpacking***. Unpacking allows one to deconstruct the `tuple` object into named references (i.e. assign the values in the `tuple` to their own objects). This allows for flexibility regarding which objects we want when performing sequential operations, like iterating."
   ]
  },
  {
   "cell_type": "code",
   "execution_count": null,
   "id": "17986429",
   "metadata": {},
   "outputs": [],
   "source": [
    "# Unpacking\n",
    "my_tuple = (\"A\",\"B\",\"C\")\n",
    "# Here we're unpacking the three values into their own objects\n",
    "obj1, obj2, obj3 = my_tuple \n",
    "\n",
    "# Now let's print each object\n",
    "print(obj1)\n",
    "print(obj2)\n",
    "print(obj3)"
   ]
  },
  {
   "cell_type": "markdown",
   "id": "5ea89dba",
   "metadata": {},
   "source": [
    "Also, like a `list`, a `tuple` can store different collection data types as well as the scalar types. For example, we can store multiple container types in a `tuple`."
   ]
  },
  {
   "cell_type": "code",
   "execution_count": null,
   "id": "aaba1f03",
   "metadata": {},
   "outputs": [],
   "source": [
    "a = (1,2,3,4) # Tuple\n",
    "b = {\"a\":1,\"b\":2} # Dictionary\n",
    "c = [1,2,3,4] # List\n",
    "\n",
    "# Combine these different container objects into a single tuple\n",
    "together = (a,b,c)\n",
    "together"
   ]
  },
  {
   "cell_type": "markdown",
   "id": "26a8246d",
   "metadata": {},
   "source": [
    "[**For a list of all the `tuple` methods, see here.**](https://www.w3schools.com/python/python_ref_tuple.asp)\n",
    "\n",
    "#### `set`\n",
    "\n",
    "A `set` is an unordered collection of unique elements (this just means there can be no duplicates). `set` is a mutable data type (elements can be added and removed). Moreover, the `set` methods allow for set algebra. This will come in handy if we want to know something about unique values and membership.\n",
    "\n",
    "The **literal** for `set` is the brackets `{}`.[^1]\n",
    "\n",
    "[^1]: Note that this is very similar to the literal for a `dict`ionary but in that data structure we define a key/value pair (see the `dict` tab)"
   ]
  },
  {
   "cell_type": "code",
   "execution_count": 32,
   "id": "181cf625",
   "metadata": {},
   "outputs": [
    {
     "data": {
      "text/plain": [
       "{1, 2, 3, 4, 5}"
      ]
     },
     "execution_count": 32,
     "metadata": {},
     "output_type": "execute_result"
    }
   ],
   "source": [
    "my_set = {1,2,3,3,3,4,4,4,5,1}\n",
    "my_set"
   ]
  },
  {
   "cell_type": "markdown",
   "id": "53b44c9f",
   "metadata": {},
   "source": [
    " \n",
    "\n",
    "The **constructor** is `set()`. As before, it takes an iterable object as an input."
   ]
  },
  {
   "cell_type": "code",
   "execution_count": 29,
   "id": "5043ff5b",
   "metadata": {},
   "outputs": [
    {
     "data": {
      "text/plain": [
       "{1, 2, 4, 5}"
      ]
     },
     "execution_count": 29,
     "metadata": {},
     "output_type": "execute_result"
    }
   ],
   "source": [
    "new_set1 = set([1,2,4,4,5])\n",
    "new_set1"
   ]
  },
  {
   "cell_type": "code",
   "execution_count": 30,
   "id": "433b99d7",
   "metadata": {},
   "outputs": [
    {
     "data": {
      "text/plain": [
       "{'G', 'e', 'g', 'n', 'o', 'r', 't', 'w'}"
      ]
     },
     "execution_count": 30,
     "metadata": {},
     "output_type": "execute_result"
    }
   ],
   "source": [
    "new_set2 = set(\"Georgetown\")\n",
    "new_set2"
   ]
  },
  {
   "cell_type": "markdown",
   "id": "9d389721",
   "metadata": {},
   "source": [
    " In the above, we can see that order isn't a thing for a `set`.\n",
    "\n",
    "We can add elemets to a `set` using the `.add()` or `.update()` methods."
   ]
  },
  {
   "cell_type": "code",
   "execution_count": 33,
   "id": "1b1443d0",
   "metadata": {},
   "outputs": [
    {
     "data": {
      "text/plain": [
       "{1, 2, 3, 4, 5, 6}"
      ]
     },
     "execution_count": 33,
     "metadata": {},
     "output_type": "execute_result"
    }
   ],
   "source": [
    "my_set.add(6)\n",
    "my_set"
   ]
  },
  {
   "cell_type": "code",
   "execution_count": 34,
   "id": "0f316ec2",
   "metadata": {},
   "outputs": [
    {
     "data": {
      "text/plain": [
       "{1, 2, 3, 4, 5, 6, 8}"
      ]
     },
     "execution_count": 34,
     "metadata": {},
     "output_type": "execute_result"
    }
   ],
   "source": [
    "my_set.update({8})\n",
    "my_set"
   ]
  },
  {
   "cell_type": "markdown",
   "id": "eb8219ff",
   "metadata": {},
   "source": [
    "Where a `set` really shines is with the set operations. Say we had a set of country names."
   ]
  },
  {
   "cell_type": "code",
   "execution_count": 35,
   "id": "9cd2a3c3",
   "metadata": {},
   "outputs": [],
   "source": [
    "countries = {\"nigeria\",\"russia\",\"united states\",\"canada\"}"
   ]
  },
  {
   "cell_type": "markdown",
   "id": "8a2c6a55",
   "metadata": {},
   "source": [
    "And we wanted to see which countries from our set were in another set (say another data set). Not a problem for a set!"
   ]
  },
  {
   "cell_type": "code",
   "execution_count": 36,
   "id": "d5944451",
   "metadata": {},
   "outputs": [],
   "source": [
    "other_data = {\"nigeria\",\"netherlands\",\"united kingdom\",\"canada\"}"
   ]
  },
  {
   "cell_type": "markdown",
   "id": "d7e19625",
   "metadata": {},
   "source": [
    "Which countries are in both sets?"
   ]
  },
  {
   "cell_type": "code",
   "execution_count": 37,
   "id": "5dfb2c9d",
   "metadata": {},
   "outputs": [
    {
     "data": {
      "text/plain": [
       "{'canada', 'nigeria'}"
      ]
     },
     "execution_count": 37,
     "metadata": {},
     "output_type": "execute_result"
    }
   ],
   "source": [
    "countries.intersection(other_data) "
   ]
  },
  {
   "cell_type": "markdown",
   "id": "b48a6707",
   "metadata": {},
   "source": [
    "Which countries are in our data but not in the other data?"
   ]
  },
  {
   "cell_type": "code",
   "execution_count": 38,
   "id": "a352f597",
   "metadata": {},
   "outputs": [
    {
     "data": {
      "text/plain": [
       "{'russia', 'united states'}"
      ]
     },
     "execution_count": 38,
     "metadata": {},
     "output_type": "execute_result"
    }
   ],
   "source": [
    "countries.difference(other_data)"
   ]
  },
  {
   "cell_type": "markdown",
   "id": "545ea788",
   "metadata": {},
   "source": [
    "Note that ***values in a set cannot be accessed using an index***."
   ]
  },
  {
   "cell_type": "code",
   "execution_count": 39,
   "id": "5d4b6407",
   "metadata": {},
   "outputs": [
    {
     "ename": "TypeError",
     "evalue": "'set' object is not subscriptable",
     "output_type": "error",
     "traceback": [
      "\u001b[0;31m---------------------------------------------------------------------------\u001b[0m",
      "\u001b[0;31mTypeError\u001b[0m                                 Traceback (most recent call last)",
      "Cell \u001b[0;32mIn[39], line 1\u001b[0m\n\u001b[0;32m----> 1\u001b[0m my_set[\u001b[38;5;241m1\u001b[39m]\n",
      "\u001b[0;31mTypeError\u001b[0m: 'set' object is not subscriptable"
     ]
    }
   ],
   "source": [
    "my_set[1]"
   ]
  },
  {
   "cell_type": "markdown",
   "id": "1387c686",
   "metadata": {},
   "source": [
    "Rather we either `.pop()` values out of the `set.`"
   ]
  },
  {
   "cell_type": "code",
   "execution_count": 41,
   "id": "13c0d9e0",
   "metadata": {},
   "outputs": [
    {
     "data": {
      "text/plain": [
       "2"
      ]
     },
     "execution_count": 41,
     "metadata": {},
     "output_type": "execute_result"
    }
   ],
   "source": [
    "my_set.pop()\n",
    " "
   ]
  },
  {
   "cell_type": "markdown",
   "id": "25eab401",
   "metadata": {},
   "source": [
    "Or we can `.remove()` specific values from the `set.`"
   ]
  },
  {
   "cell_type": "code",
   "execution_count": 42,
   "id": "3eced55c",
   "metadata": {},
   "outputs": [
    {
     "data": {
      "text/plain": [
       "{4, 5, 6, 8}"
      ]
     },
     "execution_count": 42,
     "metadata": {},
     "output_type": "execute_result"
    }
   ],
   "source": [
    "my_set.remove(3)\n",
    "my_set"
   ]
  },
  {
   "cell_type": "markdown",
   "id": "7d0b058b",
   "metadata": {},
   "source": [
    "Finally, note that **sets can contain heterogeneous scalar types, but they cannot contain other *mutable* container data types**."
   ]
  },
  {
   "cell_type": "code",
   "execution_count": 43,
   "id": "5965f4c6",
   "metadata": {},
   "outputs": [
    {
     "data": {
      "text/plain": [
       "{0.5, 6, None, 'a'}"
      ]
     },
     "execution_count": 43,
     "metadata": {},
     "output_type": "execute_result"
    }
   ],
   "source": [
    "set_a = {.5,6,\"a\",None}\n",
    "set_a"
   ]
  },
  {
   "cell_type": "markdown",
   "id": "51f7006d",
   "metadata": {},
   "source": [
    "In `set_b`, the `list` object is mutable."
   ]
  },
  {
   "cell_type": "code",
   "execution_count": 44,
   "id": "368c50fd",
   "metadata": {},
   "outputs": [
    {
     "ename": "TypeError",
     "evalue": "unhashable type: 'list'",
     "output_type": "error",
     "traceback": [
      "\u001b[0;31m---------------------------------------------------------------------------\u001b[0m",
      "\u001b[0;31mTypeError\u001b[0m                                 Traceback (most recent call last)",
      "Cell \u001b[0;32mIn[44], line 1\u001b[0m\n\u001b[0;32m----> 1\u001b[0m set_b \u001b[38;5;241m=\u001b[39m {\u001b[38;5;241m.5\u001b[39m,\u001b[38;5;241m6\u001b[39m,\u001b[38;5;124m\"\u001b[39m\u001b[38;5;124ma\u001b[39m\u001b[38;5;124m\"\u001b[39m,\u001b[38;5;28;01mNone\u001b[39;00m,[\u001b[38;5;241m8\u001b[39m,\u001b[38;5;241m5\u001b[39m,\u001b[38;5;241m6\u001b[39m]}\n",
      "\u001b[0;31mTypeError\u001b[0m: unhashable type: 'list'"
     ]
    }
   ],
   "source": [
    "set_b = {.5,6,\"a\",None,[8,5,6]}"
   ]
  },
  {
   "cell_type": "markdown",
   "id": "cb25d0ab",
   "metadata": {},
   "source": [
    "All this is barely scratching the surface of what we can do with sets. [**For a list of all the `set` methods, see here.**](https://www.w3schools.com/python/python_ref_set.asp)"
   ]
  },
  {
   "cell_type": "markdown",
   "id": "ca2cf610",
   "metadata": {},
   "source": [
    "#### `dict`\n",
    "\n",
    "A dictionary is the true star of the Python data types. `dict` is an associative array of key-value pairs. That means, we have some data (value) that we can quickly reference by calling its name (key). As we'll see next week, this allows for a very efficient way to look data values, especially when the dictionary is quite large.\n",
    "\n",
    "There is no intrinsic ordering to the keys, and keys can't be changed once created (that is, the keys are immutable), but the values can be changed (assuming that the data type occupying the value spot is mutable, like a `list`). Finally, keys cannot be duplicated. Recall we're going to use the keys to look up data values, so if those keys were the same, it would defeat purpose!\n",
    "\n",
    "The **literal** for a `dict` is `{:}` as in `{<key>:<value>}`."
   ]
  },
  {
   "cell_type": "code",
   "execution_count": null,
   "id": "0984b083",
   "metadata": {},
   "outputs": [],
   "source": [
    "my_dict = {'a': 4, 'b': 7, 'c': 9.2}\n",
    "my_dict"
   ]
  },
  {
   "cell_type": "markdown",
   "id": "5e5a87e3",
   "metadata": {},
   "source": [
    "The **constructor** is `dict()`. Note the special way we can designate the key value pairing when using the constructor."
   ]
  },
  {
   "cell_type": "code",
   "execution_count": 46,
   "id": "5dc5d38e",
   "metadata": {},
   "outputs": [
    {
     "data": {
      "text/plain": [
       "{'a': 4.23, 'b': 10, 'c': 6.6}"
      ]
     },
     "execution_count": 46,
     "metadata": {},
     "output_type": "execute_result"
    }
   ],
   "source": [
    "my_dict = dict(a = 4.23, b = 10, c = 6.6)\n",
    "my_dict"
   ]
  },
  {
   "cell_type": "markdown",
   "id": "e976021c",
   "metadata": {},
   "source": [
    "The `dict` class has a number of methods geared toward listing the information contained within. To access the `dict`'s keys, use the `.keys()` method."
   ]
  },
  {
   "cell_type": "code",
   "execution_count": 47,
   "id": "74b7a830",
   "metadata": {},
   "outputs": [
    {
     "data": {
      "text/plain": [
       "dict_keys(['a', 'b', 'c'])"
      ]
     },
     "execution_count": 47,
     "metadata": {},
     "output_type": "execute_result"
    }
   ],
   "source": [
    "my_dict.keys()"
   ]
  },
  {
   "cell_type": "markdown",
   "id": "35f65179",
   "metadata": {},
   "source": [
    "Just want the values? Use `.values()`"
   ]
  },
  {
   "cell_type": "code",
   "execution_count": 48,
   "id": "3b3ce31f",
   "metadata": {},
   "outputs": [
    {
     "data": {
      "text/plain": [
       "dict_values([4.23, 10, 6.6])"
      ]
     },
     "execution_count": 48,
     "metadata": {},
     "output_type": "execute_result"
    }
   ],
   "source": [
    "my_dict.values()"
   ]
  },
  {
   "cell_type": "markdown",
   "id": "6ce1ccce",
   "metadata": {},
   "source": [
    "Want both? Use `.items()`. Note how the data comes back to us --- as `tuple`s nested in a `list`! This just goes to show you how intertwined the different data types are in Python."
   ]
  },
  {
   "cell_type": "code",
   "execution_count": 49,
   "id": "df7a5abc",
   "metadata": {},
   "outputs": [
    {
     "data": {
      "text/plain": [
       "dict_items([('a', 4.23), ('b', 10), ('c', 6.6)])"
      ]
     },
     "execution_count": 49,
     "metadata": {},
     "output_type": "execute_result"
    }
   ],
   "source": [
    "my_dict.items()"
   ]
  },
  {
   "cell_type": "markdown",
   "id": "d1614cdd",
   "metadata": {},
   "source": [
    "We can combine dictionary with other data types (such as a list) to make an efficient and effective data structure."
   ]
  },
  {
   "cell_type": "code",
   "execution_count": 50,
   "id": "c56f300a",
   "metadata": {},
   "outputs": [],
   "source": [
    "grades = {\"John\": [90,88,95,86],\"Susan\":[87,91,92,89],\"Chad\":[56,None,72,77]}"
   ]
  },
  {
   "cell_type": "markdown",
   "id": "e884986e",
   "metadata": {},
   "source": [
    "We can use the keys for efficient look up."
   ]
  },
  {
   "cell_type": "code",
   "execution_count": 51,
   "id": "d925a4d8",
   "metadata": {},
   "outputs": [
    {
     "data": {
      "text/plain": [
       "[90, 88, 95, 86]"
      ]
     },
     "execution_count": 51,
     "metadata": {},
     "output_type": "execute_result"
    }
   ],
   "source": [
    "grades[\"John\"]"
   ]
  },
  {
   "cell_type": "markdown",
   "id": "00524112",
   "metadata": {},
   "source": [
    " We can also use the `.get()` method to get the values that correspond to a specific key."
   ]
  },
  {
   "cell_type": "code",
   "execution_count": 52,
   "id": "3b841c60",
   "metadata": {},
   "outputs": [
    {
     "data": {
      "text/plain": [
       "[87, 91, 92, 89]"
      ]
     },
     "execution_count": 52,
     "metadata": {},
     "output_type": "execute_result"
    }
   ],
   "source": [
    "grades.get(\"Susan\")"
   ]
  },
  {
   "cell_type": "markdown",
   "id": "537a330e",
   "metadata": {},
   "source": [
    "**Updating Dictionaries**\n",
    "\n",
    "We can add new dictionary data entries using the `.update()` method."
   ]
  },
  {
   "cell_type": "code",
   "execution_count": 53,
   "id": "9d6f8098",
   "metadata": {},
   "outputs": [
    {
     "data": {
      "text/plain": [
       "{'John': [90, 88, 95, 86],\n",
       " 'Susan': [87, 91, 92, 89],\n",
       " 'Chad': [56, None, 72, 77],\n",
       " 'Wendy': [99, 98, 97, 94]}"
      ]
     },
     "execution_count": 53,
     "metadata": {},
     "output_type": "execute_result"
    }
   ],
   "source": [
    "new_entry = {\"Wendy\":[99,98,97,94]} # Another student dictionary entry with grades\n",
    "grades.update(new_entry) # Update the current dictionary \n",
    "grades"
   ]
  },
  {
   "cell_type": "markdown",
   "id": "d482b8c9",
   "metadata": {},
   "source": [
    "In a similar fashion, we can update the dictionary directly by providing a new key entry and storing the data."
   ]
  },
  {
   "cell_type": "code",
   "execution_count": 54,
   "id": "d47cd75c",
   "metadata": {},
   "outputs": [
    {
     "data": {
      "text/plain": [
       "{'John': [90, 88, 95, 86],\n",
       " 'Susan': [87, 91, 92, 89],\n",
       " 'Chad': [56, None, 72, 77],\n",
       " 'Wendy': [99, 98, 97, 94],\n",
       " 'Seth': [66, 72, 79, 81]}"
      ]
     },
     "execution_count": 54,
     "metadata": {},
     "output_type": "execute_result"
    }
   ],
   "source": [
    "grades[\"Seth\"] = [66,72,79,81]\n",
    "grades"
   ]
  },
  {
   "cell_type": "markdown",
   "id": "b4a46dc2",
   "metadata": {},
   "source": [
    "One can also **drop** keys by `.pop()`ing the key value pair out of the collection..."
   ]
  },
  {
   "cell_type": "code",
   "execution_count": 55,
   "id": "b255645d",
   "metadata": {},
   "outputs": [
    {
     "data": {
      "text/plain": [
       "[66, 72, 79, 81]"
      ]
     },
     "execution_count": 55,
     "metadata": {},
     "output_type": "execute_result"
    }
   ],
   "source": [
    "grades.pop(\"Seth\")"
   ]
  },
  {
   "cell_type": "markdown",
   "id": "5ec6e9ba",
   "metadata": {},
   "source": [
    "...or deleting the key using the `del` operator."
   ]
  },
  {
   "cell_type": "code",
   "execution_count": 56,
   "id": "0560b7fe",
   "metadata": {},
   "outputs": [
    {
     "data": {
      "text/plain": [
       "{'John': [90, 88, 95, 86],\n",
       " 'Susan': [87, 91, 92, 89],\n",
       " 'Chad': [56, None, 72, 77]}"
      ]
     },
     "execution_count": 56,
     "metadata": {},
     "output_type": "execute_result"
    }
   ],
   "source": [
    "del grades['Wendy']\n",
    "grades\n",
    " "
   ]
  },
  {
   "cell_type": "markdown",
   "id": "60149f76",
   "metadata": {},
   "source": [
    "Likewise, one can drop values by:\n",
    "\n",
    "-   overwriting the original data stored in the key\n",
    "-   dropping the key (and thus deleting the data value)\n",
    "-   clearing the dictionary (and deleting *all* the data values stored within. )"
   ]
  },
  {
   "cell_type": "code",
   "execution_count": 57,
   "id": "06e6d933",
   "metadata": {},
   "outputs": [
    {
     "data": {
      "text/plain": [
       "{}"
      ]
     },
     "execution_count": 57,
     "metadata": {},
     "output_type": "execute_result"
    }
   ],
   "source": [
    "# Example of using .clear()\n",
    "grades.clear()\n",
    "grades"
   ]
  },
  {
   "cell_type": "markdown",
   "id": "1f67911c",
   "metadata": {},
   "source": [
    "This is barely scratching the surface. [**For a list of all the `dict` methods and all the things you can do with a dictionary, see here.**](https://www.w3schools.com/python/python_ref_dictionary.asp)"
   ]
  },
  {
   "cell_type": "markdown",
   "id": "944c57fd",
   "metadata": {},
   "source": [
    "## Indices & Keys\n",
    "\n",
    "Learning how to access the data types is a foundation of your fluency as a data scientist.\n",
    "\n",
    "As you transition across different languages, keep track of accessing methods across different data types is actually quite challenging. You will definitely find yourself searching online many times for this. The important issue here is make an effort to understand general rules for acessing elements across languages and data types\n",
    "\n",
    "#### Indices\n",
    "\n",
    "A first way to access elements in collectors is through their index position.\n",
    "\n",
    "> different from R, **Python objects start its index at zero**"
   ]
  },
  {
   "cell_type": "code",
   "execution_count": null,
   "id": "b9707e6d",
   "metadata": {},
   "outputs": [],
   "source": [
    "# Define a list \n",
    "x = [1, 2.2, \"str\", True, None]"
   ]
  },
  {
   "cell_type": "code",
   "execution_count": null,
   "id": "c4b3f751",
   "metadata": {},
   "outputs": [],
   "source": [
    "# first element in python\n",
    "x[0]"
   ]
  },
  {
   "cell_type": "code",
   "execution_count": null,
   "id": "4bbed3f9",
   "metadata": {},
   "outputs": [],
   "source": [
    "# can see how many values are in our container with len()\n",
    "len(x)"
   ]
  },
  {
   "cell_type": "code",
   "execution_count": null,
   "id": "0a60de5a",
   "metadata": {},
   "outputs": [],
   "source": [
    "# Can look up individual data values by referencing its location\n",
    "x[3]"
   ]
  },
  {
   "cell_type": "code",
   "execution_count": 24,
   "id": "de9954ae",
   "metadata": {},
   "outputs": [
    {
     "ename": "IndexError",
     "evalue": "list index out of range",
     "output_type": "error",
     "traceback": [
      "\u001b[0;31m---------------------------------------------------------------------------\u001b[0m",
      "\u001b[0;31mIndexError\u001b[0m                                Traceback (most recent call last)",
      "Cell \u001b[0;32mIn[24], line 2\u001b[0m\n\u001b[1;32m      1\u001b[0m \u001b[38;5;66;03m# Python throws an error if we reference an index location that doesn't exist\u001b[39;00m\n\u001b[0;32m----> 2\u001b[0m x[\u001b[38;5;241m7\u001b[39m]\n",
      "\u001b[0;31mIndexError\u001b[0m: list index out of range"
     ]
    }
   ],
   "source": [
    "# Python throws an error if we reference an index location that doesn't exist\n",
    "x[7]"
   ]
  },
  {
   "cell_type": "code",
   "execution_count": 25,
   "id": "3eb8f78a",
   "metadata": {},
   "outputs": [
    {
     "data": {
      "text/plain": [
       "'str'"
      ]
     },
     "execution_count": 25,
     "metadata": {},
     "output_type": "execute_result"
    }
   ],
   "source": [
    "# We use a negative index to count BACKWARDS in our collection data type.\n",
    "x[-3]\n",
    " "
   ]
  },
  {
   "cell_type": "markdown",
   "id": "8da8b95c",
   "metadata": {},
   "source": [
    "This way to access data using index position is going to be very standard across a range of data type."
   ]
  },
  {
   "cell_type": "code",
   "execution_count": null,
   "id": "07af14fe",
   "metadata": {},
   "outputs": [],
   "source": [
    "# tuples\n",
    "tup = (1, 2, \"no\", True)"
   ]
  },
  {
   "cell_type": "code",
   "execution_count": null,
   "id": "b43fbde2",
   "metadata": {},
   "outputs": [],
   "source": [
    "# first element\n",
    "tup[0]"
   ]
  },
  {
   "cell_type": "code",
   "execution_count": null,
   "id": "554489f6",
   "metadata": {},
   "outputs": [],
   "source": [
    "# Last element\n",
    "tup[-1]"
   ]
  },
  {
   "cell_type": "markdown",
   "id": "8afff5e2",
   "metadata": {},
   "source": [
    "### Slicing\n",
    "\n",
    "We use the : operator to slice (i.e. select ranges of values). This works using the numerical indices we juat learned. Slicing in a nutshell goes like this <start-here>:<go-until-right-before-here>"
   ]
  },
  {
   "cell_type": "code",
   "execution_count": null,
   "id": "ee7861fd",
   "metadata": {},
   "outputs": [],
   "source": [
    "# To pull out values in position 1 and 2\n",
    "x[1:3]"
   ]
  },
  {
   "cell_type": "code",
   "execution_count": null,
   "id": "9676fc03",
   "metadata": {},
   "outputs": [],
   "source": [
    "# When we leave left or right side blank, Python implicitly goes to the beginning or end\n",
    "x[:3]\n",
    "x[2:]"
   ]
  },
  {
   "cell_type": "markdown",
   "id": "5ee53ae3",
   "metadata": {},
   "source": [
    "### Using keys in dictionaries"
   ]
  },
  {
   "cell_type": "code",
   "execution_count": 27,
   "id": "cb7a783e",
   "metadata": {},
   "outputs": [],
   "source": [
    "# Define a dictionary\n",
    "grades = {\"John\":[90,88,95,86],\"Susan\":[87,91,92,89],\"Chad\":[56,None,72,77]}"
   ]
  },
  {
   "cell_type": "code",
   "execution_count": 30,
   "id": "b67e6adc",
   "metadata": {},
   "outputs": [
    {
     "data": {
      "text/plain": [
       "[90, 88, 95, 86]"
      ]
     },
     "execution_count": 30,
     "metadata": {},
     "output_type": "execute_result"
    }
   ],
   "source": [
    "# Unlike lists/tuples/sets, we use a key to look up a value in a dictionary\n",
    "grades[\"John\"]"
   ]
  },
  {
   "cell_type": "code",
   "execution_count": 31,
   "id": "635f79fe",
   "metadata": {},
   "outputs": [
    {
     "data": {
      "text/plain": [
       "88"
      ]
     },
     "execution_count": 31,
     "metadata": {},
     "output_type": "execute_result"
    }
   ],
   "source": [
    "# We can then index in the data structure housed in that key's value position\n",
    "# as is appropriate for that data object\n",
    "grades[\"John\"][1]"
   ]
  },
  {
   "cell_type": "markdown",
   "id": "27d005f4",
   "metadata": {},
   "source": [
    "## Copies"
   ]
  },
  {
   "cell_type": "code",
   "execution_count": 60,
   "id": "40eafabb",
   "metadata": {},
   "outputs": [],
   "source": [
    "# Copies with mutable objects -----------------------\n",
    "# Create a list object\n",
    "x = [\"a\",\"b\",\"c\",\"d\"]"
   ]
  },
  {
   "cell_type": "code",
   "execution_count": 61,
   "id": "ca8916e3",
   "metadata": {},
   "outputs": [
    {
     "name": "stdout",
     "output_type": "stream",
     "text": [
      "4652589184\n",
      "4652589184\n"
     ]
    }
   ],
   "source": [
    "# Dual assignment: when objects reference the same data.\n",
    "y = x\n",
    "print(id(x)) \n",
    "print(id(y))"
   ]
  },
  {
   "cell_type": "code",
   "execution_count": 62,
   "id": "aba23750",
   "metadata": {},
   "outputs": [],
   "source": [
    "# If we make a change in one\n",
    "y[1] = \"goat\""
   ]
  },
  {
   "cell_type": "code",
   "execution_count": 63,
   "id": "d0722ee2",
   "metadata": {},
   "outputs": [
    {
     "name": "stdout",
     "output_type": "stream",
     "text": [
      "['a', 'goat', 'c', 'd']\n"
     ]
    }
   ],
   "source": [
    "# That change is reflected in the other\n",
    "print(x)"
   ]
  },
  {
   "cell_type": "markdown",
   "id": "3ae235eb",
   "metadata": {},
   "source": [
    "Because these aren't independent objects"
   ]
  },
  {
   "cell_type": "code",
   "execution_count": 64,
   "id": "32e2f328",
   "metadata": {},
   "outputs": [],
   "source": [
    "# We can get around this issue by making **copies**\n",
    "y = x.copy() # Here y is a copy of x."
   ]
  },
  {
   "cell_type": "markdown",
   "id": "9a9c26bd",
   "metadata": {},
   "source": [
    "This duplicates the data in memory, so that y and x are independent. "
   ]
  },
  {
   "cell_type": "markdown",
   "id": "9209ac19",
   "metadata": {},
   "source": [
    "### Three ways to make a copy:"
   ]
  },
  {
   "cell_type": "code",
   "execution_count": null,
   "id": "1d56c991",
   "metadata": {},
   "outputs": [],
   "source": [
    "# (1) Use copy method\n",
    "y = x.copy()"
   ]
  },
  {
   "cell_type": "code",
   "execution_count": null,
   "id": "ec091aa7",
   "metadata": {},
   "outputs": [],
   "source": [
    "# (2) Use constructor\n",
    "y = list(x)"
   ]
  },
  {
   "cell_type": "code",
   "execution_count": null,
   "id": "da3bfc6c",
   "metadata": {},
   "outputs": [],
   "source": [
    "# (3) Slice it\n",
    "y = x[:]"
   ]
  },
  {
   "cell_type": "markdown",
   "id": "42313502",
   "metadata": {},
   "source": [
    "## In class Exercise\n"
   ]
  },
  {
   "cell_type": "markdown",
   "id": "1bb397b7",
   "metadata": {},
   "source": [
    "### Exercise 1\n",
    "\n",
    "Let's practice with lists first. One way to explore data structures is to learn their methods. Check all the methods of a list by running `dir()` on a list object. Let's explore these functions using the following list object, by answering the below questions. See [here](https://www.w3schools.com/python/python_ref_list.asp) for list methods:\n",
    "\n",
    "    "
   ]
  },
  {
   "cell_type": "code",
   "execution_count": null,
   "id": "22354593",
   "metadata": {},
   "outputs": [],
   "source": [
    "list_exercise = [\"Ramy\", \"Victorie\", \"Letty\", \"Robin\", \"Antoine\", \"Griffin\"] "
   ]
  },
  {
   "cell_type": "code",
   "execution_count": null,
   "id": "1d7da764",
   "metadata": {},
   "outputs": [],
   "source": [
    "1.  Add \"Cathy O'Neil\" to the list. Insert \" Professor Crast\" as the first element of the list\n",
    "2.  Remove \"Letty\" from the list. Also remove the last element of the list.\n",
    "3.  Find the index of the occurrence of the name \"Robin\". Count the number of times None appears in the list.\n",
    "4.  Create a new list with the names in alphabetical order, copy this list as a new list without changing the values of the original list\n",
    "5.  Add the string \"Lovell\" to copied_list and ensure that list_exercise remains unchanged."
   ]
  },
  {
   "cell_type": "markdown",
   "id": "f1f9ad69",
   "metadata": {},
   "source": [
    "### Exercise 2\n",
    "\n",
    "Let's do a similar exercise with Dictionaries. Consider the dictionary below. See [here](https://www.w3schools.com/python/python_ref_dictionary.asp) for dictionary methods:"
   ]
  },
  {
   "cell_type": "code",
   "execution_count": null,
   "id": "785c3cda",
   "metadata": {},
   "outputs": [],
   "source": [
    "dict_exercise = {\"Ramy\": \"India\",\n",
    "                  \"Victorie\":\"Haiti\", \n",
    "                  \"Letty\":\"England\", \n",
    "                  \"Robin\":\"Canton\", \n",
    "                  \"Antoine\":\"Nigeria\", \n",
    "                  \"Griffin\":\"China\"}\n",
    "dict_exercise"
   ]
  },
  {
   "cell_type": "markdown",
   "id": "8b91bae5",
   "metadata": {},
   "source": [
    "1.  Look up the keys in the dictionary, and story them in a list object called keys\n",
    "\n",
    "2.  Add yourself, and two other collegues in this dictionary. The values are the countries the person in the key was born.\n",
    "\n",
    "3.  Remove \"Ramy\" from the dictionary, and save as another dictionary"
   ]
  },
  {
   "cell_type": "markdown",
   "id": "1fbc5e09",
   "metadata": {},
   "source": [
    "### Exercise 3\n",
    "\n",
    "Let's now play around with some string methods. See the string below from the book \"Babel:An Arcane History\". See [here](https://www.w3schools.com/python/python_ref_string.asp) for string methods:"
   ]
  },
  {
   "cell_type": "code",
   "execution_count": 93,
   "id": "d52414b1",
   "metadata": {},
   "outputs": [
    {
     "data": {
      "text/plain": [
       "\"That's just what translation is, I think. That's all speaking is. Listening to the other and trying to see past your own biases to glimpse what they're trying to say. Showing yourself to the world, and hoping someone else understands.\""
      ]
     },
     "execution_count": 93,
     "metadata": {},
     "output_type": "execute_result"
    }
   ],
   "source": [
    "babel = \"That's just what translation is, I think. That's all speaking is. Listening to the other and trying to see past your own biases to glimpse what they're trying to say. Showing yourself to the world, and hoping someone else understands.\"\n",
    "babel\n"
   ]
  },
  {
   "cell_type": "markdown",
   "id": "574a7abe",
   "metadata": {},
   "source": [
    "1.  Determine if the word \"Babel\" is present in the string.\n",
    "\n",
    "2.  Count how many times the word \"translation\" appears\n",
    "\n",
    "3.  Convert the entire string to upper case\n",
    "\n",
    "4.  Convert the pronoum \"I\" to \"We\" in the entire text.\n",
    "\n",
    "5.  Strip any punctuation (like commas, exclamation marks, etc.) from the string.\n",
    "\n"
   ]
  },
  {
   "cell_type": "code",
   "execution_count": 95,
   "id": "1881ac86",
   "metadata": {},
   "outputs": [
    {
     "name": "stdout",
     "output_type": "stream",
     "text": [
      "[NbConvertApp] Converting notebook _week-03_data_types.ipynb to html\n",
      "[NbConvertApp] Writing 412322 bytes to _week-03_data_types.html\n"
     ]
    }
   ],
   "source": [
    "!jupyter nbconvert _week-03_data_types.ipynb --to html --template classic\n"
   ]
  }
 ],
 "metadata": {
  "kernelspec": {
   "display_name": "Python 3 (ipykernel)",
   "language": "python",
   "name": "python3"
  },
  "language_info": {
   "codemirror_mode": {
    "name": "ipython",
    "version": 3
   },
   "file_extension": ".py",
   "mimetype": "text/x-python",
   "name": "python",
   "nbconvert_exporter": "python",
   "pygments_lexer": "ipython3",
   "version": "3.11.4"
  }
 },
 "nbformat": 4,
 "nbformat_minor": 5
}
