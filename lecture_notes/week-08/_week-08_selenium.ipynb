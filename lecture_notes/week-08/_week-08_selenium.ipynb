{
 "cells": [
  {
   "cell_type": "markdown",
   "id": "f3fbb761",
   "metadata": {},
   "source": [
    "<h1><center> PPOL 5203 Data Science I: Foundations <br><br> \n",
    "<font color='grey'> Parsing Unstructure Digital Data. Scraping Part II - Selenium <br><br>\n",
    "Tiago Ventura </center> <h1> \n",
    "\n",
    "---"
   ]
  },
  {
   "cell_type": "markdown",
   "id": "07f214b3",
   "metadata": {},
   "source": [
    "## Learning Goals\n",
    "\n",
    "In the class today, we will learn how to use selenium for research purposes. Selenium will allow us to: \n",
    "\n",
    "- Webscrap dynamic websites\n",
    "- Imitate human behavior online"
   ]
  },
  {
   "cell_type": "code",
   "execution_count": 26,
   "id": "44f2c339",
   "metadata": {},
   "outputs": [],
   "source": [
    "# setup\n",
    "import requests\n",
    "import os\n",
    "import pandas as pd"
   ]
  }
 ],
 "metadata": {
  "kernelspec": {
   "display_name": "Python 3 (ipykernel)",
   "language": "python",
   "name": "python3"
  },
  "language_info": {
   "codemirror_mode": {
    "name": "ipython",
    "version": 3
   },
   "file_extension": ".py",
   "mimetype": "text/x-python",
   "name": "python",
   "nbconvert_exporter": "python",
   "pygments_lexer": "ipython3",
   "version": "3.11.4"
  }
 },
 "nbformat": 4,
 "nbformat_minor": 5
}
