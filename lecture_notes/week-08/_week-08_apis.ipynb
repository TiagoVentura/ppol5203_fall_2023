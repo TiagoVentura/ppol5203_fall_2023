{
 "cells": [
  {
   "cell_type": "markdown",
   "id": "f3fbb761",
   "metadata": {},
   "source": [
    "<h1><center> PPOL 5203 Data Science I: Foundations <br><br> \n",
    "<font color='grey'> Parsing Unstructured Data: Scrapping Part II - (Static Websites)<br><br>\n",
    "Tiago Ventura </center> <h1> \n",
    "\n",
    "---"
   ]
  },
  {
   "cell_type": "markdown",
   "id": "07f214b3",
   "metadata": {},
   "source": [
    "## Learning Goals\n",
    "\n",
    "In the class today, we will learn how to collecting digital data through APIs. We will focus on: \n",
    "\n",
    "- Building a solida understand about APIs\n",
    "- Working with three types of APIs:\n",
    "    - APIs with no credentials and no wrappers\n",
    "    - APIs with credentials and no wrappers\n",
    "    - APIs with wrappers. "
   ]
  },
  {
   "cell_type": "code",
   "execution_count": 26,
   "id": "44f2c339",
   "metadata": {},
   "outputs": [],
   "source": [
    "# setup\n",
    "import requests\n",
    "import os\n",
    "import pandas as pd"
   ]
  },
  {
   "cell_type": "markdown",
   "id": "e261651e",
   "metadata": {},
   "source": [
    "## APIS 101\n",
    "\n",
    "The famous acronym API stands for “Application Programming Interface”. An API is an online server allows different applications to interact. Most often for our purposes, an API will facilitate information exchange between data users and the holders of certain data. Many companies build these repositories for various functions, including sharing data, receiving data, joint database management, and providing artificial intelligence functions or machines for public use.\n",
    "\n",
    "Let's think of an example capable of motivating the creation of an API. Imagine you own Twitter. You would have zillions of hackers every day trying to scrape your data, this would make your website more unstable and insecure. What is a possible solution? You create an API, and you control who accesses the information, when they access it, and what type of information you make available. Another option is to close you API and restrict data access to researchers. But, if you do this, you are likely to pay a reputational cost for not being transparent, and users might leave your platform.\n",
    "\n",
    "Have you ever watched Matrix? APIs are just like that! In the movies, Neil and others would physically connect their mindes to a super developed server  and ask to learn a certain skill - kung-fu, programming, language, etc. This is exactly what an API does. You connect to the website and request data, and receive it in return. It's like sending an email, but doing everything via programming language."
   ]
  },
  {
   "cell_type": "markdown",
   "id": "1f483271",
   "metadata": {},
   "source": [
    "### API Use-Cases\n",
    "\n",
    "There are two main ways in which we academics commonly use APIs.\n",
    "\n",
    "1. Access data shared by Companies and NGOs.\n",
    "\n",
    "2. Process our data in Algorithms developed by third parties.\n",
    "\n",
    "Our focus will be on the first. Later, we will see how to use the ChatGPT API for text classification tasks. \n"
   ]
  },
  {
   "cell_type": "markdown",
   "id": "0e05f247",
   "metadata": {},
   "source": [
    "### APIs Components\n",
    "\n",
    "An API is just an URL. See the example below:\n",
    "\n",
    "`http://mywebsite.com/endpoint?key&param_1&param_2`\n",
    "\n",
    "Main Components: \n",
    "\n",
    "- **http://meusite.com/**: API root. The domain of your api/\n",
    "- **endpoint**: An endpoint is a server route for retrieving specific data from an API\n",
    "- **key**: credentials that some websites ask for you to create before you can query the api. \n",
    "- **?param_1;param_2** parameters. Those are filters that you can input in apis requests. \n"
   ]
  },
  {
   "cell_type": "markdown",
   "id": "e6855f6b",
   "metadata": {},
   "source": [
    "### Requests to APIs\n",
    "\n",
    "In order to work with APIs, we need tools to access the web. In Python, the most common library for making requests and working with APIs is the `requests` library. There are two main types of requests: \n",
    "\n",
    "- `get()`: to receive information from the API -- which we will use the most for web data collection\n",
    "\n",
    "- `post()`: to send information to the API -- think about the use of ChatGPT for classification of text. \n"
   ]
  },
  {
   "cell_type": "markdown",
   "id": "50909f2b",
   "metadata": {},
   "source": [
    "## Example 1: Bored API\n",
    "\n",
    "### Querying an API: Step-by-Step\n",
    "\n",
    "Let's start querying our first API. We will start with the simple [Bored API](https://www.boredapi.com/about). This is a very simple API, and serves the purpose of learning all the basic steps of querying APIs. The Bored API helps you find things to do when you're bored! There are fields like the number of participants, activity type, and more that help you narrow down your results.\n",
    "\n",
    "The Bored API: \n",
    "\n",
    "- **Does not** require us to create credentials.\n",
    "- And **does not** have a Python wrapper.\n",
    "\n",
    "When querying an API, our work will often involve the following steps: \n",
    "\n",
    "- **Step 1:** Look at the API documentation and endpoints, and construct a query of interest\n",
    "- **Step 2:** Use requests.get(querystring) to call the API\n",
    "- **Step 3:** Examine the response\n",
    "- **Step 4:** Extract your data and save it. "
   ]
  },
  {
   "cell_type": "markdown",
   "id": "1455677d",
   "metadata": {},
   "source": [
    "### Step 1: Documentation, Endpoints and Query. \n",
    "\n",
    "Before we start querying an API, we always need to read through the [documentation](https://www.boredapi.com/about). The documentation often revel to us: \n",
    "\n",
    "- The base url for the API: `http://www.boredapi.com/api`\n",
    "- The different endpoints: \n",
    "    - the bored API has only one endpoint: `/activity`\n",
    "- The API parameters:\n",
    "    - `key`\n",
    "    - `type`\n",
    "    - `participants`\n",
    "    - `price`\n",
    "    - `among others`\n",
    "    \n",
    "With this information, we can form our quert of interest. Let's start with a simple query that retrieves a random activity"
   ]
  },
  {
   "cell_type": "code",
   "execution_count": 17,
   "id": "04019cda",
   "metadata": {},
   "outputs": [],
   "source": [
    "# build query\n",
    "query = \"http://www.boredapi.com/api/activity/\""
   ]
  },
  {
   "cell_type": "markdown",
   "id": "eef071ca",
   "metadata": {},
   "source": [
    "### **Step 2:** Use requests.get(querystring) to call the API\n",
    "\n",
    "To interact with the API, we will use the `requests` package. The requests package allow us to send a HTTP request to the API. Because we are intereste in retrieving data, we will mostly be working with the `.get()` method, which requires one argument — the URL we want to make the request to. \n",
    "\n",
    "When we make a request, the response from the API comes with a response code which tells us whether our request was successful. Response codes are important because they immediately tell us if something went wrong.\n",
    "\n",
    "To make a ‘GET’ request, we’ll use the requests.get() function, which requires one argument — the URL we want to make the request to. We’ll start by making a request to an API endpoint that doesn’t exist, so we can see what that response code looks like"
   ]
  },
  {
   "cell_type": "code",
   "execution_count": 24,
   "id": "13e69630",
   "metadata": {},
   "outputs": [
    {
     "ename": "NameError",
     "evalue": "name 'query' is not defined",
     "output_type": "error",
     "traceback": [
      "\u001b[0;31m---------------------------------------------------------------------------\u001b[0m",
      "\u001b[0;31mNameError\u001b[0m                                 Traceback (most recent call last)",
      "Cell \u001b[0;32mIn[24], line 5\u001b[0m\n\u001b[1;32m      2\u001b[0m \u001b[38;5;28;01mimport\u001b[39;00m \u001b[38;5;21;01mrequests\u001b[39;00m\n\u001b[1;32m      4\u001b[0m \u001b[38;5;66;03m# Make a get request to get the latest position of the ISS from the OpenNotify API.\u001b[39;00m\n\u001b[0;32m----> 5\u001b[0m response \u001b[38;5;241m=\u001b[39m requests\u001b[38;5;241m.\u001b[39mget(query)\n\u001b[1;32m      6\u001b[0m \u001b[38;5;28mprint\u001b[39m(response)\n",
      "\u001b[0;31mNameError\u001b[0m: name 'query' is not defined"
     ]
    }
   ],
   "source": [
    "# Make a get request to get the latest position of the ISS from the OpenNotify API.\n",
    "response = requests.get(query)\n",
    "print(response)"
   ]
  },
  {
   "cell_type": "markdown",
   "id": "8c05c012",
   "metadata": {},
   "source": [
    "### **Step 3:** Examine the response\n",
    "\n",
    "When we make a request, the response from the API comes with a response code which tells us whether our request was successful. Response codes are important because they immediately tell us if something went wrong. Here is a list of response codes you can get\n",
    "\n",
    "200 — Everything went okay, and the server returned a result (if any).\n",
    "\n",
    "301 — The server is redirecting you to a different endpoint. This can happen when a company switches domain names, or when an endpoint's name has changed.\n",
    "\n",
    "401 — The server thinks you're not authenticated. This happens when you don't send the right credentials to access an API.\n",
    "\n",
    "400 — The server thinks you made a bad request. This can happen when you don't send the information that the API requires to process your request (among other things).\n",
    "\n",
    "403 — The resource you're trying to access is forbidden, and you don't have the right permissions to see it.\n",
    "\n",
    "404 — The server didn't find the resource you tried to access.\n"
   ]
  },
  {
   "cell_type": "code",
   "execution_count": 18,
   "id": "f4921258",
   "metadata": {},
   "outputs": [
    {
     "data": {
      "text/plain": [
       "200"
      ]
     },
     "execution_count": 18,
     "metadata": {},
     "output_type": "execute_result"
    }
   ],
   "source": [
    "# check status code\n",
    "status_code = response.status_code\n",
    "\n",
    "# print status code\n",
    "status_code"
   ]
  },
  {
   "cell_type": "markdown",
   "id": "278b6151",
   "metadata": {},
   "source": [
    "### **Step 4:** Extract your data.\n",
    "\n",
    "With an 200 code, we can access the content of the get request. The return from the API is stored as a `content` attribute in the response object."
   ]
  },
  {
   "cell_type": "code",
   "execution_count": 19,
   "id": "ce8806ee",
   "metadata": {},
   "outputs": [
    {
     "name": "stdout",
     "output_type": "stream",
     "text": [
      "b'{\"activity\":\"Practice coding in your favorite lanaguage\",\"type\":\"recreational\",\"participants\":1,\"price\":0,\"link\":\"\",\"key\":\"7096020\",\"accessibility\":0.1}'\n"
     ]
    }
   ],
   "source": [
    "print(response.content)"
   ]
  },
  {
   "cell_type": "markdown",
   "id": "1e1cc373",
   "metadata": {},
   "source": [
    "#### Processing JSONs\n",
    "\n",
    "The deafault data type we receive from APIS are in the JSON format. This format encodes data structures like lists and dictionaries as strings to ensure that machines can read them easily. \n",
    "\n",
    "For that kind of content, the requests library includes a specific .json() method that you can use to immediately convert the API bytes response into a Python data structure, in general a nested dictionary. "
   ]
  },
  {
   "cell_type": "code",
   "execution_count": 24,
   "id": "66d29fbe",
   "metadata": {},
   "outputs": [
    {
     "name": "stdout",
     "output_type": "stream",
     "text": [
      "{'activity': 'Practice coding in your favorite lanaguage', 'type': 'recreational', 'participants': 1, 'price': 0, 'link': '', 'key': '7096020', 'accessibility': 0.1}\n"
     ]
    }
   ],
   "source": [
    "# convert the get output to a dictionary\n",
    "response_dict = response.json()\n",
    "print(response_dict)"
   ]
  },
  {
   "cell_type": "code",
   "execution_count": 22,
   "id": "d594c78d",
   "metadata": {},
   "outputs": [
    {
     "data": {
      "text/plain": [
       "'Practice coding in your favorite lanaguage'"
      ]
     },
     "execution_count": 22,
     "metadata": {},
     "output_type": "execute_result"
    }
   ],
   "source": [
    "# index just like a dict\n",
    "response_dict[\"activity\"]"
   ]
  },
  {
   "cell_type": "code",
   "execution_count": 30,
   "id": "2cc5f48d",
   "metadata": {},
   "outputs": [
    {
     "data": {
      "text/html": [
       "<div>\n",
       "<style scoped>\n",
       "    .dataframe tbody tr th:only-of-type {\n",
       "        vertical-align: middle;\n",
       "    }\n",
       "\n",
       "    .dataframe tbody tr th {\n",
       "        vertical-align: top;\n",
       "    }\n",
       "\n",
       "    .dataframe thead th {\n",
       "        text-align: right;\n",
       "    }\n",
       "</style>\n",
       "<table border=\"1\" class=\"dataframe\">\n",
       "  <thead>\n",
       "    <tr style=\"text-align: right;\">\n",
       "      <th></th>\n",
       "      <th>activity</th>\n",
       "      <th>type</th>\n",
       "      <th>participants</th>\n",
       "      <th>price</th>\n",
       "      <th>link</th>\n",
       "      <th>key</th>\n",
       "      <th>accessibility</th>\n",
       "    </tr>\n",
       "  </thead>\n",
       "  <tbody>\n",
       "    <tr>\n",
       "      <th>0</th>\n",
       "      <td>Practice coding in your favorite lanaguage</td>\n",
       "      <td>recreational</td>\n",
       "      <td>1</td>\n",
       "      <td>0</td>\n",
       "      <td></td>\n",
       "      <td>7096020</td>\n",
       "      <td>0.1</td>\n",
       "    </tr>\n",
       "  </tbody>\n",
       "</table>\n",
       "</div>"
      ],
      "text/plain": [
       "                                     activity          type  participants  \\\n",
       "0  Practice coding in your favorite lanaguage  recreational             1   \n",
       "\n",
       "   price link      key  accessibility  \n",
       "0      0       7096020            0.1  "
      ]
     },
     "execution_count": 30,
     "metadata": {},
     "output_type": "execute_result"
    }
   ],
   "source": [
    "# convert to a dataframe\n",
    "import pandas as pd\n",
    "\n",
    "# need to convert to a list for weird python reasons\n",
    "pd.DataFrame([response_dict])"
   ]
  },
  {
   "cell_type": "markdown",
   "id": "13a445d7",
   "metadata": {},
   "source": [
    "Let's see the full code:"
   ]
  },
  {
   "cell_type": "code",
   "execution_count": 33,
   "id": "ef3fdc75",
   "metadata": {},
   "outputs": [
    {
     "name": "stdout",
     "output_type": "stream",
     "text": [
      "0    Watch the sunset or the sunrise\n",
      "Name: activity, dtype: object\n"
     ]
    }
   ],
   "source": [
    "# full code\n",
    "import requests\n",
    "import pandas as pd\n",
    "\n",
    "# build query\n",
    "query = \"http://www.boredapi.com/api/activity/\"\n",
    "\n",
    "# Make a get request to get the latest position of the ISS from the OpenNotify API.\n",
    "response = requests.get(query)\n",
    "\n",
    "# check status code\n",
    "status_code = response.status_code\n",
    "\n",
    "# move forward with code\n",
    "if status_code==200:\n",
    "    # convert the get output to a dictionary\n",
    "    response_dict = response.json()\n",
    "    # convert to a dataframe\n",
    "    res = pd.DataFrame([response_dict])\n",
    "else:\n",
    "    print(status_code)\n",
    "    \n",
    "print(res[\"activity\"])    "
   ]
  },
  {
   "cell_type": "markdown",
   "id": "d209e771",
   "metadata": {},
   "source": [
    "### Exploring API Filters\n",
    "\n",
    "If we look at the documentation, you see the APIs provides filters (query parameters) that allow you to refine your search. \n",
    "\n",
    "For example, when you send a `get` request to the Youtube API, you are not interested in the entire Youtube data. You want data associated with certain videos, profiles, for a certain period of time, for example. These filters are often embedded as query parameters in the API call. \n",
    "\n",
    "To add a query parameter to a given URL, you have to add a question mark (?) before the first query parameter. If you want to have multiple query parameters in your request, then you can split them with an ampersand (&)\n",
    "\n",
    "We can add filters by: \n",
    "\n",
    "- constructing the full API call\n",
    "\n",
    "- Using dictionaries\n"
   ]
  },
  {
   "cell_type": "markdown",
   "id": "ab7b1b91",
   "metadata": {},
   "source": [
    "### Filter with the full API cal"
   ]
  },
  {
   "cell_type": "code",
   "execution_count": 38,
   "id": "53314632",
   "metadata": {},
   "outputs": [
    {
     "data": {
      "text/plain": [
       "{'activity': \"Solve a Rubik's cube\",\n",
       " 'type': 'recreational',\n",
       " 'participants': 1,\n",
       " 'price': 0,\n",
       " 'link': '',\n",
       " 'key': '4151544',\n",
       " 'accessibility': 0.1}"
      ]
     },
     "execution_count": 38,
     "metadata": {},
     "output_type": "execute_result"
    }
   ],
   "source": [
    "## get only recreational activities\n",
    "# build query\n",
    "query = \"http://www.boredapi.com/api/activity/\"\n",
    "\n",
    "# add filter\n",
    "activity = \"?type=recreational\"\n",
    "\n",
    "# full request\n",
    "url = query + activity\n",
    "\n",
    "# Make a get request to get the latest position of the ISS from the OpenNotify API.\n",
    "response = requests.get(url)\n",
    "\n",
    "# see json\n",
    "response.json()"
   ]
  },
  {
   "cell_type": "markdown",
   "id": "e19792be",
   "metadata": {},
   "source": [
    "### Or using dictionaries"
   ]
  },
  {
   "cell_type": "code",
   "execution_count": 52,
   "id": "226993dc",
   "metadata": {},
   "outputs": [
    {
     "data": {
      "text/plain": [
       "{'activity': 'Learn how to play a new sport',\n",
       " 'type': 'recreational',\n",
       " 'participants': 1,\n",
       " 'price': 0.1,\n",
       " 'link': '',\n",
       " 'key': '5808228',\n",
       " 'accessibility': 0.2}"
      ]
     },
     "execution_count": 52,
     "metadata": {},
     "output_type": "execute_result"
    }
   ],
   "source": [
    "## get only recreational activities\n",
    "# build query\n",
    "query = \"http://www.boredapi.com/api/activity/\"\n",
    "\n",
    "# add filter\n",
    "parameters = {\"activity\": \"recreational\"}\n",
    "\n",
    "# Make a get request to get the latest position of the ISS from the OpenNotify API.\n",
    "response = requests.get(query, params=parameters)\n",
    "\n",
    "# see json\n",
    "response.json()"
   ]
  },
  {
   "cell_type": "markdown",
   "id": "07cb2b6b",
   "metadata": {},
   "source": [
    "See... it is the same url.."
   ]
  },
  {
   "cell_type": "code",
   "execution_count": 56,
   "id": "dd5a2840",
   "metadata": {},
   "outputs": [
    {
     "data": {
      "text/plain": [
       "'http://www.boredapi.com/api/activity/?activity=recreational'"
      ]
     },
     "execution_count": 56,
     "metadata": {},
     "output_type": "execute_result"
    }
   ],
   "source": [
    "response.url"
   ]
  },
  {
   "cell_type": "markdown",
   "id": "a218cbc2",
   "metadata": {},
   "source": [
    "## Example 2: Yelp API. \n",
    "\n",
    "Let's transition now to a more complex, and with interesting data, API. We will work with the Yelp API.\n",
    "\n",
    "This API: \n",
    "-  Requires us to get credentials\n",
    "-  But does not have a wrapper to query the daya (that I know of). \n",
    "\n",
    "See the documentation for the API [here](https://docs.developer.yelp.com/docs/fusion-intro). The API has some interesting endpoints, for example:\n",
    "\n",
    "- `/businesses/search` - Search for businesses by keyword, category, location, price level, etc.\n",
    "- `/businesses/{id}` - Get rich business data, such as name, address, phone number, photos, Yelp rating, price levels and hours of operation.\n",
    "- `/businesses/{business_id_or_alias}/reviews` - Get up to three review excerpts for a business.\n",
    "- Among many other endpoints"
   ]
  },
  {
   "cell_type": "markdown",
   "id": "6740fcee",
   "metadata": {},
   "source": [
    "## Authentication with an API\n",
    "\n",
    "Most often, the provider of an API will require you to authentica before you can get some data. Authentication usually occures through an access token you can generate directly from the API.  Depending on the type of authentication each API have in place, it can be a simple token (string) or multiple different ids (Client ID, Access Token, Client Token..)\n",
    "\n",
    "Keep in mind that using a token is better than using a username and password for a few reasons:\n",
    "\n",
    "- Typically, you'll be accessing an API from a script. If you put your username and password in the script and someone finds it, they can take over your account. \n",
    "\n",
    "- Access tokens can have scopes and specific permissions. \n",
    "\n",
    "To authorize your access, you need to add the token to your API call. Often, you do this by passing the token through an authorization header. We can use Python's requests library to make a dictionary of headers, and then pass it into our request.\n"
   ]
  },
  {
   "cell_type": "markdown",
   "id": "d8a4ba49",
   "metadata": {},
   "source": [
    "### Acquiring credentials with Yelp Fusion API\n",
    "\n",
    "Information about acquiring your credentials to make API call are often displayed in the API documentation. \n",
    "\n",
    "[Here it is Yelp's information](https://docs.developer.yelp.com/docs/fusion-authentication)\n",
    "\n",
    "Every API has a bit of a distinct process. In general, APIs require you to create an app to access the API. This is a bit of a weird terminology. The assumption here is that you are creating an app (think about the Botometer at Twitter) that will query the API many times. \n",
    "\n",
    "For the YELP API, after you create the app, you will get an `Client ID` and an `API KEY`"
   ]
  },
  {
   "cell_type": "markdown",
   "id": "df813318",
   "metadata": {},
   "source": [
    "### How to save the API keys/token?\n",
    "\n",
    "API tokens are personal information. Keep yours safe, and do not paste into your code.\n",
    "\n",
    "Don't do this:\n",
    "\n",
    "`api_key = \"my_key\"`\n",
    "\n",
    "Do this:\n",
    "\n",
    "- create a file with your keys and save as .env\n",
    "- Add your keys there\n",
    "- load them in your environment when running the APIs.\n",
    "- And never upload your .env file in the cloud.\n",
    "\n",
    "I will show you in class what a .env file looks like. "
   ]
  },
  {
   "cell_type": "markdown",
   "id": "3b6ffa97",
   "metadata": {},
   "source": [
    "### Querying the API\n",
    "\n",
    "We repeat the same steps as before, but adding an authentication step. \n",
    "\n",
    "- **Step 0:** Load your API Keys\n",
    "- **Step 1:** Look at the API documentation and endpoints, and construct a query of interest\n",
    "- **Step 2:** Use requests.get(querystring) to call the API\n",
    "- **Step 3:** Examine the response\n",
    "- **Step 4:** Extract your data and save it. \n"
   ]
  },
  {
   "cell_type": "markdown",
   "id": "8cc28b1c",
   "metadata": {},
   "source": [
    "### Step 0: Load your API Keys"
   ]
  },
  {
   "cell_type": "code",
   "execution_count": 30,
   "id": "e43fa9f4",
   "metadata": {},
   "outputs": [],
   "source": [
    "# load library to get environmental files\n",
    "import os\n",
    "from dotenv import load_dotenv\n",
    "\n",
    "\n",
    "# load keys from  environmental var\n",
    "load_dotenv() # .env file in cwd\n",
    "yelp_client = os.environ.get(\"yelp_client_id\") \n",
    "yelp_key = os.environ.get(\"yelp_api_key\")\n",
    "\n",
    "# save your token in the header of the call\n",
    "header = {'Authorization': f'Bearer {yelp_key}'}"
   ]
  },
  {
   "cell_type": "markdown",
   "id": "f7b5cde6",
   "metadata": {},
   "source": [
    "### Step 1: Look at the API documentation and endpoints, and construct a query of interest\n",
    "\n",
    "We will query the `/businesses/search` endpoint. Let's check together the documentation here: https://docs.developer.yelp.com/reference/v3_business_search\n",
    "\n",
    "\n",
    "We will use two parameters: \n",
    "\n",
    "- location: This string indicates the geographic area to be used when searching for businesses\n",
    "- term: Search term, e.g. \"food\" or \"restaurants\"."
   ]
  },
  {
   "cell_type": "code",
   "execution_count": 31,
   "id": "4ece97b7",
   "metadata": {},
   "outputs": [],
   "source": [
    "# endpoint\n",
    "endpoint = \"https://api.yelp.com/v3/businesses/search\"\n",
    "\n",
    "# Add as parameters\n",
    "params ={\"location\":\" Washington, DC 20057\",\n",
    "        \"term\":\"best brazilian restaurant\"}"
   ]
  },
  {
   "cell_type": "markdown",
   "id": "aa72e67f",
   "metadata": {},
   "source": [
    "### **Step 2:** Use requests.get(endpoint) to call the API\n"
   ]
  },
  {
   "cell_type": "code",
   "execution_count": 34,
   "id": "e81178dc",
   "metadata": {},
   "outputs": [],
   "source": [
    "# Make a get request with header + parameters\n",
    "response = requests.get(endpoint, headers=header,params=params)"
   ]
  },
  {
   "cell_type": "markdown",
   "id": "cdfcafb5",
   "metadata": {},
   "source": [
    "### **Step 3:** Examine the response\n",
    "\n",
    "Let's check the response code"
   ]
  },
  {
   "cell_type": "code",
   "execution_count": 35,
   "id": "32309f8a",
   "metadata": {},
   "outputs": [
    {
     "data": {
      "text/plain": [
       "200"
      ]
     },
     "execution_count": 35,
     "metadata": {},
     "output_type": "execute_result"
    }
   ],
   "source": [
    "# looking for a 200\n",
    "response.status_code"
   ]
  },
  {
   "cell_type": "markdown",
   "id": "b565d6de",
   "metadata": {},
   "source": [
    "### **Step 4:** Extract your data and save it. \n",
    "\n"
   ]
  },
  {
   "cell_type": "code",
   "execution_count": 37,
   "id": "f5108d34",
   "metadata": {},
   "outputs": [
    {
     "name": "stdout",
     "output_type": "stream",
     "text": [
      "{'businesses': [{'id': 'GlAT_ksg5ftJ87PXwXmoVA', 'alias': 'fogo-de-chao-brazilian-steakhouse-washington-10', 'name': 'Fogo de Chão Brazilian Steakhouse', 'image_url': 'https://s3-media3.fl.yelpcdn.com/bphoto/1X06-J7i2bggZpAxuf6kJg/o.jpg', 'is_closed': False, 'url': 'https://www.yelp.com/biz/fogo-de-chao-brazilian-steakhouse-washington-10?adjust_creative=GJK5eaHUqVE8eGMl0w0Pfg&utm_campaign=yelp_api_v3&utm_medium=api_v3_business_search&utm_source=GJK5eaHUqVE8eGMl0w0Pfg', 'review_count': 2221, 'categories': [{'alias': 'brazilian', 'title': 'Brazilian'}, {'alias': 'steak', 'title': 'Steakhouses'}], 'rating': 4.0, 'coordinates': {'latitude': 38.895198243773834, 'longitude': -77.0273284769837}, 'transactions': ['delivery', 'pickup'], 'price': '$$$', 'location': {'address1': '1101 Pennsylvania Ave NW', 'address2': '', 'address3': '', 'city': 'Washington Dc', 'zip_code': '20004', 'country': 'US', 'state': 'DC', 'display_address': ['1101 Pennsylvania Ave NW', 'Washington Dc, DC 20004']}, 'phone': '+12023474668', 'display_phone': '(202) 347-4668', 'distance': 4458.22945724822}, {'id': 'WoDJcvo4YRN_ScEbOHNMag', 'alias': 'the-grill-from-ipanema-washington-2', 'name': 'The Grill From Ipanema', 'image_url': 'https://s3-media2.fl.yelpcdn.com/bphoto/tIU6i32eeZmKG5OJ708xzg/o.jpg', 'is_closed': False, 'url': 'https://www.yelp.com/biz/the-grill-from-ipanema-washington-2?adjust_creative=GJK5eaHUqVE8eGMl0w0Pfg&utm_campaign=yelp_api_v3&utm_medium=api_v3_business_search&utm_source=GJK5eaHUqVE8eGMl0w0Pfg', 'review_count': 415, 'categories': [{'alias': 'brazilian', 'title': 'Brazilian'}, {'alias': 'tapasmallplates', 'title': 'Tapas/Small Plates'}, {'alias': 'salad', 'title': 'Salad'}], 'rating': 4.0, 'coordinates': {'latitude': 38.92095, 'longitude': -77.04351}, 'transactions': ['delivery', 'pickup'], 'price': '$$', 'location': {'address1': '1858 Columbia Rd NW', 'address2': '', 'address3': '', 'city': 'Washington, DC', 'zip_code': '20009', 'country': 'US', 'state': 'DC', 'display_address': ['1858 Columbia Rd NW', 'Washington, DC 20009']}, 'phone': '+12029860757', 'display_phone': '(202) 986-0757', 'distance': 3062.245878076161}, {'id': 'BPOES_VaXh4JFZQHSacoBQ', 'alias': 'bossa-washington', 'name': 'Bossa', 'image_url': 'https://s3-media1.fl.yelpcdn.com/bphoto/eV1ujkRUTdGHDH9EkK0Veg/o.jpg', 'is_closed': False, 'url': 'https://www.yelp.com/biz/bossa-washington?adjust_creative=GJK5eaHUqVE8eGMl0w0Pfg&utm_campaign=yelp_api_v3&utm_medium=api_v3_business_search&utm_source=GJK5eaHUqVE8eGMl0w0Pfg', 'review_count': 127, 'categories': [{'alias': 'lounges', 'title': 'Lounges'}, {'alias': 'brazilian', 'title': 'Brazilian'}], 'rating': 3.5, 'coordinates': {'latitude': 38.9220876263576, 'longitude': -77.04225252972181}, 'transactions': ['delivery', 'pickup'], 'price': '$$', 'location': {'address1': '2463 18th St NW', 'address2': '', 'address3': '', 'city': 'Washington, DC', 'zip_code': '20009', 'country': 'US', 'state': 'DC', 'display_address': ['2463 18th St NW', 'Washington, DC 20009']}, 'phone': '+12026670088', 'display_phone': '(202) 667-0088', 'distance': 3215.893411510275}, {'id': 'bB4PHDPtJbWvCFukIL83OA', 'alias': 'european-foods-import-export-arlington', 'name': 'European Foods Import Export', 'image_url': 'https://s3-media4.fl.yelpcdn.com/bphoto/U08IpYFBdUTc7aJO6dXe5A/o.jpg', 'is_closed': False, 'url': 'https://www.yelp.com/biz/european-foods-import-export-arlington?adjust_creative=GJK5eaHUqVE8eGMl0w0Pfg&utm_campaign=yelp_api_v3&utm_medium=api_v3_business_search&utm_source=GJK5eaHUqVE8eGMl0w0Pfg', 'review_count': 44, 'categories': [{'alias': 'intlgrocery', 'title': 'International Grocery'}, {'alias': 'brazilian', 'title': 'Brazilian'}, {'alias': 'spanish', 'title': 'Spanish'}], 'rating': 4.5, 'coordinates': {'latitude': 38.88055987547169, 'longitude': -77.09060758707929}, 'transactions': [], 'price': '$$', 'location': {'address1': '2700 N Pershing Dr', 'address2': '', 'address3': '', 'city': 'Arlington', 'zip_code': '22201', 'country': 'US', 'state': 'VA', 'display_address': ['2700 N Pershing Dr', 'Arlington, VA 22201']}, 'phone': '+17035246800', 'display_phone': '(703) 524-6800', 'distance': 3447.237039406304}, {'id': '1ctsXD-rj0ctn9QCplLVmw', 'alias': 'medium-rare-arlington-3', 'name': 'Medium Rare', 'image_url': 'https://s3-media4.fl.yelpcdn.com/bphoto/PZyMMNzb3Ena_3vi-9FqHw/o.jpg', 'is_closed': False, 'url': 'https://www.yelp.com/biz/medium-rare-arlington-3?adjust_creative=GJK5eaHUqVE8eGMl0w0Pfg&utm_campaign=yelp_api_v3&utm_medium=api_v3_business_search&utm_source=GJK5eaHUqVE8eGMl0w0Pfg', 'review_count': 331, 'categories': [{'alias': 'steak', 'title': 'Steakhouses'}, {'alias': 'breakfast_brunch', 'title': 'Breakfast & Brunch'}], 'rating': 3.5, 'coordinates': {'latitude': 38.88351, 'longitude': -77.103832}, 'transactions': ['delivery', 'pickup'], 'price': '$$', 'location': {'address1': '3601 Fairfax Dr', 'address2': '', 'address3': None, 'city': 'Arlington', 'zip_code': '22201', 'country': 'US', 'state': 'VA', 'display_address': ['3601 Fairfax Dr', 'Arlington, VA 22201']}, 'phone': '+17032432020', 'display_phone': '(703) 243-2020', 'distance': 3779.1606298283477}, {'id': 'QJMhG5YZa422Rqz-m_gXYw', 'alias': 'chicken-whiskey-washington-4', 'name': 'Chicken + Whiskey', 'image_url': 'https://s3-media2.fl.yelpcdn.com/bphoto/sCplMajnDbqkeK7o25FTPw/o.jpg', 'is_closed': False, 'url': 'https://www.yelp.com/biz/chicken-whiskey-washington-4?adjust_creative=GJK5eaHUqVE8eGMl0w0Pfg&utm_campaign=yelp_api_v3&utm_medium=api_v3_business_search&utm_source=GJK5eaHUqVE8eGMl0w0Pfg', 'review_count': 628, 'categories': [{'alias': 'venezuelan', 'title': 'Venezuelan'}, {'alias': 'peruvian', 'title': 'Peruvian'}, {'alias': 'sandwiches', 'title': 'Sandwiches'}], 'rating': 4.0, 'coordinates': {'latitude': 38.913855, 'longitude': -77.032106}, 'transactions': ['delivery', 'pickup'], 'price': '$$', 'location': {'address1': '1738 14th St NW', 'address2': '', 'address3': None, 'city': 'Washington, DC', 'zip_code': '20009', 'country': 'US', 'state': 'DC', 'display_address': ['1738 14th St NW', 'Washington, DC 20009']}, 'phone': '+12026672456', 'display_phone': '(202) 667-2456', 'distance': 3795.214542984798}, {'id': 'IzT4n5qDMzF6fJ33-wwdDw', 'alias': 'medium-rare-washington', 'name': 'Medium Rare', 'image_url': 'https://s3-media2.fl.yelpcdn.com/bphoto/5j7Z8dM4sJRO0FohDXtQig/o.jpg', 'is_closed': False, 'url': 'https://www.yelp.com/biz/medium-rare-washington?adjust_creative=GJK5eaHUqVE8eGMl0w0Pfg&utm_campaign=yelp_api_v3&utm_medium=api_v3_business_search&utm_source=GJK5eaHUqVE8eGMl0w0Pfg', 'review_count': 1129, 'categories': [{'alias': 'steak', 'title': 'Steakhouses'}, {'alias': 'newamerican', 'title': 'American (New)'}, {'alias': 'desserts', 'title': 'Desserts'}], 'rating': 4.0, 'coordinates': {'latitude': 38.935770888042, 'longitude': -77.058927310067}, 'transactions': ['delivery', 'pickup'], 'price': '$$$', 'location': {'address1': '3500 Connecticut Ave NW', 'address2': '', 'address3': '', 'city': 'Washington, DC', 'zip_code': '20008', 'country': 'US', 'state': 'DC', 'display_address': ['3500 Connecticut Ave NW', 'Washington, DC 20008']}, 'phone': '+12022371432', 'display_phone': '(202) 237-1432', 'distance': 3279.927791363549}, {'id': 'BTOjO-rNIXpb-5OHuHqrHw', 'alias': 'restaurant-judy-washington', 'name': 'Restaurant Judy', 'image_url': 'https://s3-media2.fl.yelpcdn.com/bphoto/4hI4xks6sCqF2ucrwhCUgQ/o.jpg', 'is_closed': False, 'url': 'https://www.yelp.com/biz/restaurant-judy-washington?adjust_creative=GJK5eaHUqVE8eGMl0w0Pfg&utm_campaign=yelp_api_v3&utm_medium=api_v3_business_search&utm_source=GJK5eaHUqVE8eGMl0w0Pfg', 'review_count': 280, 'categories': [{'alias': 'salvadoran', 'title': 'Salvadoran'}, {'alias': 'mexican', 'title': 'Mexican'}], 'rating': 4.0, 'coordinates': {'latitude': 38.91966, 'longitude': -77.03229}, 'transactions': ['delivery'], 'price': '$$', 'location': {'address1': '2212 14th St NW', 'address2': '', 'address3': '', 'city': 'Washington, DC', 'zip_code': '20009', 'country': 'US', 'state': 'DC', 'display_address': ['2212 14th St NW', 'Washington, DC 20009']}, 'phone': '+12022652519', 'display_phone': '(202) 265-2519', 'distance': 3921.127627987083}, {'id': '8FGizWqfHi9XBL2R6J5uJg', 'alias': 'lauriol-plaza-washington', 'name': 'Lauriol Plaza', 'image_url': 'https://s3-media4.fl.yelpcdn.com/bphoto/0rmtkL8dj9JmCQPo2-iwaQ/o.jpg', 'is_closed': False, 'url': 'https://www.yelp.com/biz/lauriol-plaza-washington?adjust_creative=GJK5eaHUqVE8eGMl0w0Pfg&utm_campaign=yelp_api_v3&utm_medium=api_v3_business_search&utm_source=GJK5eaHUqVE8eGMl0w0Pfg', 'review_count': 2266, 'categories': [{'alias': 'mexican', 'title': 'Mexican'}, {'alias': 'latin', 'title': 'Latin American'}, {'alias': 'spanish', 'title': 'Spanish'}], 'rating': 3.5, 'coordinates': {'latitude': 38.91529075296795, 'longitude': -77.0414300693839}, 'transactions': ['delivery', 'pickup'], 'price': '$$', 'location': {'address1': '1835 18th St NW', 'address2': '', 'address3': '', 'city': 'Washington, DC', 'zip_code': '20009', 'country': 'US', 'state': 'DC', 'display_address': ['1835 18th St NW', 'Washington, DC 20009']}, 'phone': '+12023870035', 'display_phone': '(202) 387-0035', 'distance': 3028.972741608692}, {'id': '1ieT14ia0sHQGg6-fK6nAA', 'alias': 'mortons-the-steakhouse-washington-3', 'name': \"Morton's The Steakhouse\", 'image_url': 'https://s3-media4.fl.yelpcdn.com/bphoto/b0E2u3c79RJlHS-OOG55Lw/o.jpg', 'is_closed': False, 'url': 'https://www.yelp.com/biz/mortons-the-steakhouse-washington-3?adjust_creative=GJK5eaHUqVE8eGMl0w0Pfg&utm_campaign=yelp_api_v3&utm_medium=api_v3_business_search&utm_source=GJK5eaHUqVE8eGMl0w0Pfg', 'review_count': 313, 'categories': [{'alias': 'steak', 'title': 'Steakhouses'}, {'alias': 'tradamerican', 'title': 'American (Traditional)'}], 'rating': 3.5, 'coordinates': {'latitude': 38.9032169, 'longitude': -77.0401812}, 'transactions': ['delivery', 'pickup'], 'price': '$$$$', 'location': {'address1': '1050 Connecticut Ave', 'address2': None, 'address3': '', 'city': 'Washington, DC', 'zip_code': '20036', 'country': 'US', 'state': 'DC', 'display_address': ['1050 Connecticut Ave', 'Washington, DC 20036']}, 'phone': '+12029555997', 'display_phone': '(202) 955-5997', 'distance': 3135.3843945798844}, {'id': 'TfpDB-fsA_2HGLHHmQ0JXA', 'alias': 'café-citron-washington-4', 'name': 'Café Citron', 'image_url': 'https://s3-media4.fl.yelpcdn.com/bphoto/3d3oWOgOmWw83yih5yWZPw/o.jpg', 'is_closed': False, 'url': 'https://www.yelp.com/biz/caf%C3%A9-citron-washington-4?adjust_creative=GJK5eaHUqVE8eGMl0w0Pfg&utm_campaign=yelp_api_v3&utm_medium=api_v3_business_search&utm_source=GJK5eaHUqVE8eGMl0w0Pfg', 'review_count': 563, 'categories': [{'alias': 'latin', 'title': 'Latin American'}, {'alias': 'lounges', 'title': 'Lounges'}, {'alias': 'musicvenues', 'title': 'Music Venues'}], 'rating': 3.5, 'coordinates': {'latitude': 38.90844, 'longitude': -77.04235}, 'transactions': ['delivery', 'pickup'], 'price': '$$', 'location': {'address1': '1343 Connecticut Ave NW', 'address2': None, 'address3': '', 'city': 'Washington, DC', 'zip_code': '20036', 'country': 'US', 'state': 'DC', 'display_address': ['1343 Connecticut Ave NW', 'Washington, DC 20036']}, 'phone': '+12025308844', 'display_phone': '(202) 530-8844', 'distance': 2877.958271970504}], 'total': 11, 'region': {'center': {'longitude': -77.07557201385498, 'latitude': 38.909268231541304}}}\n"
     ]
    }
   ],
   "source": [
    "# What does the response look like?\n",
    "yelp_json = response.json()\n",
    "\n",
    "# print\n",
    "print(yelp_json)"
   ]
  },
  {
   "cell_type": "markdown",
   "id": "77dbc3c9",
   "metadata": {},
   "source": [
    "It returns a long dictionary with the key \"businesses\" and a list with multiple sub-entries.\n",
    "\n",
    "**How to deal with this data?**"
   ]
  },
  {
   "cell_type": "markdown",
   "id": "ec0f3261",
   "metadata": {},
   "source": [
    "### Approach 1: Convert all to dataframe and clean it later"
   ]
  },
  {
   "cell_type": "code",
   "execution_count": 40,
   "id": "e1280f61",
   "metadata": {},
   "outputs": [
    {
     "name": "stdout",
     "output_type": "stream",
     "text": [
      "                        id                                            alias  \\\n",
      "0   GlAT_ksg5ftJ87PXwXmoVA  fogo-de-chao-brazilian-steakhouse-washington-10   \n",
      "1   WoDJcvo4YRN_ScEbOHNMag              the-grill-from-ipanema-washington-2   \n",
      "2   BPOES_VaXh4JFZQHSacoBQ                                 bossa-washington   \n",
      "3   bB4PHDPtJbWvCFukIL83OA           european-foods-import-export-arlington   \n",
      "4   1ctsXD-rj0ctn9QCplLVmw                          medium-rare-arlington-3   \n",
      "5   QJMhG5YZa422Rqz-m_gXYw                     chicken-whiskey-washington-4   \n",
      "6   IzT4n5qDMzF6fJ33-wwdDw                           medium-rare-washington   \n",
      "7   BTOjO-rNIXpb-5OHuHqrHw                       restaurant-judy-washington   \n",
      "8   8FGizWqfHi9XBL2R6J5uJg                         lauriol-plaza-washington   \n",
      "9   1ieT14ia0sHQGg6-fK6nAA              mortons-the-steakhouse-washington-3   \n",
      "10  TfpDB-fsA_2HGLHHmQ0JXA                         café-citron-washington-4   \n",
      "\n",
      "                                 name  \\\n",
      "0   Fogo de Chão Brazilian Steakhouse   \n",
      "1              The Grill From Ipanema   \n",
      "2                               Bossa   \n",
      "3        European Foods Import Export   \n",
      "4                         Medium Rare   \n",
      "5                   Chicken + Whiskey   \n",
      "6                         Medium Rare   \n",
      "7                     Restaurant Judy   \n",
      "8                       Lauriol Plaza   \n",
      "9             Morton's The Steakhouse   \n",
      "10                        Café Citron   \n",
      "\n",
      "                                            image_url  is_closed  \\\n",
      "0   https://s3-media3.fl.yelpcdn.com/bphoto/1X06-J...      False   \n",
      "1   https://s3-media2.fl.yelpcdn.com/bphoto/tIU6i3...      False   \n",
      "2   https://s3-media1.fl.yelpcdn.com/bphoto/eV1ujk...      False   \n",
      "3   https://s3-media4.fl.yelpcdn.com/bphoto/U08IpY...      False   \n",
      "4   https://s3-media4.fl.yelpcdn.com/bphoto/PZyMMN...      False   \n",
      "5   https://s3-media2.fl.yelpcdn.com/bphoto/sCplMa...      False   \n",
      "6   https://s3-media2.fl.yelpcdn.com/bphoto/5j7Z8d...      False   \n",
      "7   https://s3-media2.fl.yelpcdn.com/bphoto/4hI4xk...      False   \n",
      "8   https://s3-media4.fl.yelpcdn.com/bphoto/0rmtkL...      False   \n",
      "9   https://s3-media4.fl.yelpcdn.com/bphoto/b0E2u3...      False   \n",
      "10  https://s3-media4.fl.yelpcdn.com/bphoto/3d3oWO...      False   \n",
      "\n",
      "                                                  url  review_count  \\\n",
      "0   https://www.yelp.com/biz/fogo-de-chao-brazilia...          2221   \n",
      "1   https://www.yelp.com/biz/the-grill-from-ipanem...           415   \n",
      "2   https://www.yelp.com/biz/bossa-washington?adju...           127   \n",
      "3   https://www.yelp.com/biz/european-foods-import...            44   \n",
      "4   https://www.yelp.com/biz/medium-rare-arlington...           331   \n",
      "5   https://www.yelp.com/biz/chicken-whiskey-washi...           628   \n",
      "6   https://www.yelp.com/biz/medium-rare-washingto...          1129   \n",
      "7   https://www.yelp.com/biz/restaurant-judy-washi...           280   \n",
      "8   https://www.yelp.com/biz/lauriol-plaza-washing...          2266   \n",
      "9   https://www.yelp.com/biz/mortons-the-steakhous...           313   \n",
      "10  https://www.yelp.com/biz/caf%C3%A9-citron-wash...           563   \n",
      "\n",
      "                                           categories  rating  \\\n",
      "0   [{'alias': 'brazilian', 'title': 'Brazilian'},...     4.0   \n",
      "1   [{'alias': 'brazilian', 'title': 'Brazilian'},...     4.0   \n",
      "2   [{'alias': 'lounges', 'title': 'Lounges'}, {'a...     3.5   \n",
      "3   [{'alias': 'intlgrocery', 'title': 'Internatio...     4.5   \n",
      "4   [{'alias': 'steak', 'title': 'Steakhouses'}, {...     3.5   \n",
      "5   [{'alias': 'venezuelan', 'title': 'Venezuelan'...     4.0   \n",
      "6   [{'alias': 'steak', 'title': 'Steakhouses'}, {...     4.0   \n",
      "7   [{'alias': 'salvadoran', 'title': 'Salvadoran'...     4.0   \n",
      "8   [{'alias': 'mexican', 'title': 'Mexican'}, {'a...     3.5   \n",
      "9   [{'alias': 'steak', 'title': 'Steakhouses'}, {...     3.5   \n",
      "10  [{'alias': 'latin', 'title': 'Latin American'}...     3.5   \n",
      "\n",
      "                                          coordinates        transactions  \\\n",
      "0   {'latitude': 38.895198243773834, 'longitude': ...  [delivery, pickup]   \n",
      "1      {'latitude': 38.92095, 'longitude': -77.04351}  [delivery, pickup]   \n",
      "2   {'latitude': 38.9220876263576, 'longitude': -7...  [delivery, pickup]   \n",
      "3   {'latitude': 38.88055987547169, 'longitude': -...                  []   \n",
      "4     {'latitude': 38.88351, 'longitude': -77.103832}  [delivery, pickup]   \n",
      "5    {'latitude': 38.913855, 'longitude': -77.032106}  [delivery, pickup]   \n",
      "6   {'latitude': 38.935770888042, 'longitude': -77...  [delivery, pickup]   \n",
      "7      {'latitude': 38.91966, 'longitude': -77.03229}          [delivery]   \n",
      "8   {'latitude': 38.91529075296795, 'longitude': -...  [delivery, pickup]   \n",
      "9   {'latitude': 38.9032169, 'longitude': -77.0401...  [delivery, pickup]   \n",
      "10     {'latitude': 38.90844, 'longitude': -77.04235}  [delivery, pickup]   \n",
      "\n",
      "   price                                           location         phone  \\\n",
      "0    $$$  {'address1': '1101 Pennsylvania Ave NW', 'addr...  +12023474668   \n",
      "1     $$  {'address1': '1858 Columbia Rd NW', 'address2'...  +12029860757   \n",
      "2     $$  {'address1': '2463 18th St NW', 'address2': ''...  +12026670088   \n",
      "3     $$  {'address1': '2700 N Pershing Dr', 'address2':...  +17035246800   \n",
      "4     $$  {'address1': '3601 Fairfax Dr', 'address2': ''...  +17032432020   \n",
      "5     $$  {'address1': '1738 14th St NW', 'address2': ''...  +12026672456   \n",
      "6    $$$  {'address1': '3500 Connecticut Ave NW', 'addre...  +12022371432   \n",
      "7     $$  {'address1': '2212 14th St NW', 'address2': ''...  +12022652519   \n",
      "8     $$  {'address1': '1835 18th St NW', 'address2': ''...  +12023870035   \n",
      "9   $$$$  {'address1': '1050 Connecticut Ave', 'address2...  +12029555997   \n",
      "10    $$  {'address1': '1343 Connecticut Ave NW', 'addre...  +12025308844   \n",
      "\n",
      "     display_phone     distance  \n",
      "0   (202) 347-4668  4458.229457  \n",
      "1   (202) 986-0757  3062.245878  \n",
      "2   (202) 667-0088  3215.893412  \n",
      "3   (703) 524-6800  3447.237039  \n",
      "4   (703) 243-2020  3779.160630  \n",
      "5   (202) 667-2456  3795.214543  \n",
      "6   (202) 237-1432  3279.927791  \n",
      "7   (202) 265-2519  3921.127628  \n",
      "8   (202) 387-0035  3028.972742  \n",
      "9   (202) 955-5997  3135.384395  \n",
      "10  (202) 530-8844  2877.958272  \n"
     ]
    }
   ],
   "source": [
    "# convert to pd\n",
    "df_yelp = pd.DataFrame(yelp_json[\"businesses\"])\n",
    "\n",
    "# see\n",
    "print(df_yelp)\n",
    "\n",
    "# not looking realy bad. "
   ]
  },
  {
   "cell_type": "markdown",
   "id": "f92f6d0c",
   "metadata": {},
   "source": [
    "### Approach 2: write a function to collect the information you need\n",
    "\n",
    "Assume you are interested in the id, name, url, lat and long, and rating"
   ]
  },
  {
   "cell_type": "code",
   "execution_count": 52,
   "id": "cfb87597",
   "metadata": {},
   "outputs": [],
   "source": [
    "# function to clean and extract information from yelp\n",
    "def clean_yelp(yelp_json):\n",
    "    '''\n",
    "    function to extract columns of interest from yelp json\n",
    "    '''\n",
    "    # create a temporary dictionary to store the information\n",
    "    temp_yelp = {}\n",
    "    \n",
    "    # collect information\n",
    "    temp_yelp[\"id\"]= yelp_json[\"id\"]\n",
    "    temp_yelp[\"name\"]= yelp_json[\"name\"]\n",
    "    temp_yelp[\"url\"]= yelp_json[\"url\"]\n",
    "    temp_yelp[\"latitude\"] = yelp_json[\"coordinates\"][\"latitude\"]\n",
    "    temp_yelp[\"longitude\"] = yelp_json[\"coordinates\"][\"longitude\"]\n",
    "    temp_yelp[\"rating\"]= yelp_json[\"rating\"]\n",
    "    \n",
    "    # return\n",
    "    \n",
    "    return(temp_yelp)\n",
    "    "
   ]
  },
  {
   "cell_type": "code",
   "execution_count": 53,
   "id": "fba53d8a",
   "metadata": {},
   "outputs": [
    {
     "name": "stdout",
     "output_type": "stream",
     "text": [
      "                        id                               name  \\\n",
      "0   GlAT_ksg5ftJ87PXwXmoVA  Fogo de Chão Brazilian Steakhouse   \n",
      "1   WoDJcvo4YRN_ScEbOHNMag             The Grill From Ipanema   \n",
      "2   BPOES_VaXh4JFZQHSacoBQ                              Bossa   \n",
      "3   bB4PHDPtJbWvCFukIL83OA       European Foods Import Export   \n",
      "4   1ctsXD-rj0ctn9QCplLVmw                        Medium Rare   \n",
      "5   QJMhG5YZa422Rqz-m_gXYw                  Chicken + Whiskey   \n",
      "6   IzT4n5qDMzF6fJ33-wwdDw                        Medium Rare   \n",
      "7   BTOjO-rNIXpb-5OHuHqrHw                    Restaurant Judy   \n",
      "8   8FGizWqfHi9XBL2R6J5uJg                      Lauriol Plaza   \n",
      "9   1ieT14ia0sHQGg6-fK6nAA            Morton's The Steakhouse   \n",
      "10  TfpDB-fsA_2HGLHHmQ0JXA                        Café Citron   \n",
      "\n",
      "                                                  url   latitude  longitude  \\\n",
      "0   https://www.yelp.com/biz/fogo-de-chao-brazilia...  38.895198 -77.027328   \n",
      "1   https://www.yelp.com/biz/the-grill-from-ipanem...  38.920950 -77.043510   \n",
      "2   https://www.yelp.com/biz/bossa-washington?adju...  38.922088 -77.042253   \n",
      "3   https://www.yelp.com/biz/european-foods-import...  38.880560 -77.090608   \n",
      "4   https://www.yelp.com/biz/medium-rare-arlington...  38.883510 -77.103832   \n",
      "5   https://www.yelp.com/biz/chicken-whiskey-washi...  38.913855 -77.032106   \n",
      "6   https://www.yelp.com/biz/medium-rare-washingto...  38.935771 -77.058927   \n",
      "7   https://www.yelp.com/biz/restaurant-judy-washi...  38.919660 -77.032290   \n",
      "8   https://www.yelp.com/biz/lauriol-plaza-washing...  38.915291 -77.041430   \n",
      "9   https://www.yelp.com/biz/mortons-the-steakhous...  38.903217 -77.040181   \n",
      "10  https://www.yelp.com/biz/caf%C3%A9-citron-wash...  38.908440 -77.042350   \n",
      "\n",
      "    rating  \n",
      "0      4.0  \n",
      "1      4.0  \n",
      "2      3.5  \n",
      "3      4.5  \n",
      "4      3.5  \n",
      "5      4.0  \n",
      "6      4.0  \n",
      "7      4.0  \n",
      "8      3.5  \n",
      "9      3.5  \n",
      "10     3.5  \n"
     ]
    }
   ],
   "source": [
    "# apply to the dictionary\n",
    "results_yelp = [clean_yelp(entry) for entry in yelp_json[\"businesses\"]]\n",
    "\n",
    "\n",
    "# Convert results to dataframe\n",
    "yelp_df = pd.DataFrame(results_yelp)   \n",
    "print(yelp_df)"
   ]
  },
  {
   "cell_type": "markdown",
   "id": "7895e8bc",
   "metadata": {},
   "source": [
    "#### Save the json\n",
    "\n",
    "Remember to always save your response from the API call. You don't want be querying the API all the time to grab the same data. "
   ]
  },
  {
   "cell_type": "code",
   "execution_count": 56,
   "id": "3bea4bdf",
   "metadata": {},
   "outputs": [],
   "source": [
    "import json\n",
    "\n",
    "with open(\"yelp_results.json\", 'w') as f:\n",
    "    # write the dictionary to a string\n",
    "    json.dump(response.json(), f, indent=4)"
   ]
  },
  {
   "cell_type": "markdown",
   "id": "a6da3f45",
   "metadata": {},
   "source": [
    "## Example 3 : YouTube API\n",
    "\n",
    "Now let's move to our last example. \n",
    "\n",
    "We will be working with the YouTube API. This is a complex API, but lucky for us some other programmers already created a Python wrapper to access the API. We will use the [youtube-data-api](https://youtube-data-api.readthedocs.io/en/latest/youtube_api.html) library which contains a set of functions to facilitate the access to the API. \n",
    "\n",
    "### What kind of data can you get from the Youtube API?\n",
    "\n",
    "Youtube has a very extensive api. There are a lot of data you can get access to. See a compreensive list [here](https://developers.google.com/youtube/v3/docs/)\n",
    "\n",
    "What is included in the package:\n",
    "\n",
    "- video metadata\n",
    "- channel metadata\n",
    "- playlist metadata\n",
    "- subscription metadata\n",
    "- featured channel metadata\n",
    "- comment metadata\n",
    "- search results\n",
    "\n",
    "### How to Install\n",
    "\n",
    "The software is on PyPI, so you can download it via `pip`\n",
    "   "
   ]
  },
  {
   "cell_type": "code",
   "execution_count": 60,
   "id": "33a29a52",
   "metadata": {},
   "outputs": [],
   "source": [
    "#!pip install youtube-data-api"
   ]
  },
  {
   "cell_type": "markdown",
   "id": "7c8af632",
   "metadata": {},
   "source": [
    "### How to get an API key\n",
    "\n",
    "#### A quick guide: [https://developers.google.com/youtube/v3/getting-started](https://developers.google.com/youtube/v3/getting-started)\n",
    "\n",
    "1. You need a Google Account to access the Google API Console, request an API key, and register your application. You can use your GMail account for this if you have one.\n",
    "\n",
    "2. Create a project in the <a href=\"https://console.developers.google.com/apis/\">Google Developers Console</a> and <a href=\"https://developers.google.com/youtube/registering_an_application\">obtain authorization credentials</a> so your application can submit API requests.\n",
    "\n",
    "3. After creating your project, make sure the YouTube Data API is one of the services that your application is registered to use.\n",
    "\n",
    "    a. Go to the <a href=\"https://console.developers.google.com/apis/\">API Console</a> and select the project that you just registered.\n",
    "\n",
    "    b. Visit the <a href=\"https://console.developers.google.com/apis/enabled\">Enabled APIs page</a>. In the list of APIs, make sure the status is ON for the YouTube Data API v3. You do not need to enable OAuth 2.0 since there are no methods in the package that require it.\n",
    "        "
   ]
  },
  {
   "cell_type": "code",
   "execution_count": 2,
   "id": "cd2e447a",
   "metadata": {},
   "outputs": [],
   "source": [
    "# call some libraries\n",
    "import os\n",
    "import datetime\n",
    "import pandas as pd"
   ]
  },
  {
   "cell_type": "code",
   "execution_count": 6,
   "id": "e484fca8",
   "metadata": {},
   "outputs": [],
   "source": [
    "#Import YouTubeDataAPI\n",
    "from youtube_api import YouTubeDataAPI\n",
    "from youtube_api.youtube_api_utils import *\n",
    "from dotenv import load_dotenv"
   ]
  },
  {
   "cell_type": "code",
   "execution_count": 8,
   "id": "4f4906e0",
   "metadata": {},
   "outputs": [
    {
     "name": "stdout",
     "output_type": "stream",
     "text": [
      "<youtube_api.youtube_api.YouTubeDataAPI object at 0x100e5bfd0>\n"
     ]
    }
   ],
   "source": [
    "# load keys from  environmental var\n",
    "load_dotenv() # .env file in cwd\n",
    "api_key = os.environ.get(\"YT_KEY\")\n",
    "\n",
    "# create a client\n",
    "yt = YouTubeDataAPI(api_key)\n",
    "print(yt)"
   ]
  },
  {
   "cell_type": "markdown",
   "id": "25a8c744",
   "metadata": {},
   "source": [
    "#### Starting with a channel name and getting some basic metadata\n",
    "\n",
    "Let's start with the `LastWeekTonight` channel\n",
    "\n",
    "[https://www.youtube.com/user/LastWeekTonight](https://www.youtube.com/user/LastWeekTonight)\n",
    "\n",
    "First we need to get the channel id"
   ]
  },
  {
   "cell_type": "code",
   "execution_count": 9,
   "id": "995717c4",
   "metadata": {},
   "outputs": [
    {
     "name": "stdout",
     "output_type": "stream",
     "text": [
      "UC3XTzVzaHQEd30rQbuvCtTQ\n"
     ]
    }
   ],
   "source": [
    "channel_id = yt.get_channel_id_from_user('LastWeekTonight')\n",
    "print(channel_id)"
   ]
  },
  {
   "cell_type": "markdown",
   "id": "ca218644",
   "metadata": {},
   "source": [
    "#### Channel metadata"
   ]
  },
  {
   "cell_type": "code",
   "execution_count": 10,
   "id": "0e8e12a7",
   "metadata": {},
   "outputs": [
    {
     "data": {
      "text/plain": [
       "{'channel_id': 'UC3XTzVzaHQEd30rQbuvCtTQ',\n",
       " 'title': 'LastWeekTonight',\n",
       " 'account_creation_date': 1395178899.0,\n",
       " 'keywords': None,\n",
       " 'description': 'Breaking news on a weekly basis. Sundays at 11PM - only on HBO.\\nSubscribe to the Last Week Tonight channel for the latest videos from John Oliver and the LWT team.',\n",
       " 'view_count': '3666352878',\n",
       " 'video_count': '417',\n",
       " 'subscription_count': '9200000',\n",
       " 'playlist_id_likes': '',\n",
       " 'playlist_id_uploads': 'UU3XTzVzaHQEd30rQbuvCtTQ',\n",
       " 'topic_ids': 'https://en.wikipedia.org/wiki/Society|https://en.wikipedia.org/wiki/Television_program|https://en.wikipedia.org/wiki/Entertainment|https://en.wikipedia.org/wiki/Film',\n",
       " 'country': None,\n",
       " 'collection_date': datetime.datetime(2023, 9, 24, 22, 13, 16, 456090)}"
      ]
     },
     "execution_count": 10,
     "metadata": {},
     "output_type": "execute_result"
    }
   ],
   "source": [
    "# collect metadata\n",
    "yt.get_channel_metadata(channel_id)"
   ]
  },
  {
   "cell_type": "markdown",
   "id": "6f081251",
   "metadata": {},
   "source": [
    "#### Subscriptions of the channel. "
   ]
  },
  {
   "cell_type": "code",
   "execution_count": 11,
   "id": "69beeef0",
   "metadata": {},
   "outputs": [
    {
     "data": {
      "text/html": [
       "<div>\n",
       "<style scoped>\n",
       "    .dataframe tbody tr th:only-of-type {\n",
       "        vertical-align: middle;\n",
       "    }\n",
       "\n",
       "    .dataframe tbody tr th {\n",
       "        vertical-align: top;\n",
       "    }\n",
       "\n",
       "    .dataframe thead th {\n",
       "        text-align: right;\n",
       "    }\n",
       "</style>\n",
       "<table border=\"1\" class=\"dataframe\">\n",
       "  <thead>\n",
       "    <tr style=\"text-align: right;\">\n",
       "      <th></th>\n",
       "      <th>subscription_title</th>\n",
       "      <th>subscription_channel_id</th>\n",
       "      <th>subscription_kind</th>\n",
       "      <th>subscription_publish_date</th>\n",
       "      <th>collection_date</th>\n",
       "    </tr>\n",
       "  </thead>\n",
       "  <tbody>\n",
       "    <tr>\n",
       "      <th>0</th>\n",
       "      <td>trueblood</td>\n",
       "      <td>UCPnlBOg4_NU9wdhRN-vzECQ</td>\n",
       "      <td>youtube#channel</td>\n",
       "      <td>1.395357e+09</td>\n",
       "      <td>2023-09-24 22:13:18.812147</td>\n",
       "    </tr>\n",
       "    <tr>\n",
       "      <th>1</th>\n",
       "      <td>GameofThrones</td>\n",
       "      <td>UCQzdMyuz0Lf4zo4uGcEujFw</td>\n",
       "      <td>youtube#channel</td>\n",
       "      <td>1.395357e+09</td>\n",
       "      <td>2023-09-24 22:13:18.812185</td>\n",
       "    </tr>\n",
       "    <tr>\n",
       "      <th>2</th>\n",
       "      <td>HBO</td>\n",
       "      <td>UCVTQuK2CaWaTgSsoNkn5AiQ</td>\n",
       "      <td>youtube#channel</td>\n",
       "      <td>1.395357e+09</td>\n",
       "      <td>2023-09-24 22:13:18.812210</td>\n",
       "    </tr>\n",
       "    <tr>\n",
       "      <th>3</th>\n",
       "      <td>HBOBoxing</td>\n",
       "      <td>UCWPQB43yGKEum3eW0P9N_nQ</td>\n",
       "      <td>youtube#channel</td>\n",
       "      <td>1.395357e+09</td>\n",
       "      <td>2023-09-24 22:13:18.812235</td>\n",
       "    </tr>\n",
       "    <tr>\n",
       "      <th>4</th>\n",
       "      <td>Cinemax</td>\n",
       "      <td>UCYbinjMxWwjRpp4WqgDqEDA</td>\n",
       "      <td>youtube#channel</td>\n",
       "      <td>1.424812e+09</td>\n",
       "      <td>2023-09-24 22:13:18.812259</td>\n",
       "    </tr>\n",
       "    <tr>\n",
       "      <th>5</th>\n",
       "      <td>HBODocs</td>\n",
       "      <td>UCbKo3HsaBOPhdRpgzqtRnqA</td>\n",
       "      <td>youtube#channel</td>\n",
       "      <td>1.395357e+09</td>\n",
       "      <td>2023-09-24 22:13:18.812282</td>\n",
       "    </tr>\n",
       "    <tr>\n",
       "      <th>6</th>\n",
       "      <td>HBOLatino</td>\n",
       "      <td>UCeKum6mhlVAjUFIW15mVBPg</td>\n",
       "      <td>youtube#channel</td>\n",
       "      <td>1.395357e+09</td>\n",
       "      <td>2023-09-24 22:13:18.812308</td>\n",
       "    </tr>\n",
       "    <tr>\n",
       "      <th>7</th>\n",
       "      <td>OfficialAmySedaris</td>\n",
       "      <td>UCicerXLHzJaKYHm1IwvTn8A</td>\n",
       "      <td>youtube#channel</td>\n",
       "      <td>1.461561e+09</td>\n",
       "      <td>2023-09-24 22:13:18.812340</td>\n",
       "    </tr>\n",
       "    <tr>\n",
       "      <th>8</th>\n",
       "      <td>Real Time with Bill Maher</td>\n",
       "      <td>UCy6kyFxaMqGtpE3pQTflK8A</td>\n",
       "      <td>youtube#channel</td>\n",
       "      <td>1.418342e+09</td>\n",
       "      <td>2023-09-24 22:13:18.812364</td>\n",
       "    </tr>\n",
       "  </tbody>\n",
       "</table>\n",
       "</div>"
      ],
      "text/plain": [
       "          subscription_title   subscription_channel_id subscription_kind  \\\n",
       "0                  trueblood  UCPnlBOg4_NU9wdhRN-vzECQ   youtube#channel   \n",
       "1              GameofThrones  UCQzdMyuz0Lf4zo4uGcEujFw   youtube#channel   \n",
       "2                        HBO  UCVTQuK2CaWaTgSsoNkn5AiQ   youtube#channel   \n",
       "3                  HBOBoxing  UCWPQB43yGKEum3eW0P9N_nQ   youtube#channel   \n",
       "4                    Cinemax  UCYbinjMxWwjRpp4WqgDqEDA   youtube#channel   \n",
       "5                    HBODocs  UCbKo3HsaBOPhdRpgzqtRnqA   youtube#channel   \n",
       "6                  HBOLatino  UCeKum6mhlVAjUFIW15mVBPg   youtube#channel   \n",
       "7         OfficialAmySedaris  UCicerXLHzJaKYHm1IwvTn8A   youtube#channel   \n",
       "8  Real Time with Bill Maher  UCy6kyFxaMqGtpE3pQTflK8A   youtube#channel   \n",
       "\n",
       "   subscription_publish_date            collection_date  \n",
       "0               1.395357e+09 2023-09-24 22:13:18.812147  \n",
       "1               1.395357e+09 2023-09-24 22:13:18.812185  \n",
       "2               1.395357e+09 2023-09-24 22:13:18.812210  \n",
       "3               1.395357e+09 2023-09-24 22:13:18.812235  \n",
       "4               1.424812e+09 2023-09-24 22:13:18.812259  \n",
       "5               1.395357e+09 2023-09-24 22:13:18.812282  \n",
       "6               1.395357e+09 2023-09-24 22:13:18.812308  \n",
       "7               1.461561e+09 2023-09-24 22:13:18.812340  \n",
       "8               1.418342e+09 2023-09-24 22:13:18.812364  "
      ]
     },
     "execution_count": 11,
     "metadata": {},
     "output_type": "execute_result"
    }
   ],
   "source": [
    "pd.DataFrame(yt.get_subscriptions(channel_id))"
   ]
  },
  {
   "cell_type": "markdown",
   "id": "1ea5be95",
   "metadata": {},
   "source": [
    "#### List of videos of the channel\n",
    "You first need to convert the `channel_id` into a playlist id to get all the videos ever posted by a channel using a function from the `youtube_api_utils` in the package. Then you can get the video ids, and collect metadata, comments, among many others. "
   ]
  },
  {
   "cell_type": "code",
   "execution_count": null,
   "id": "d0a6e181",
   "metadata": {},
   "outputs": [],
   "source": [
    "from youtube_api.youtube_api_utils import *\n",
    "playlist_id = get_upload_playlist_id(channel_id)\n",
    "print(playlist_id)"
   ]
  },
  {
   "cell_type": "code",
   "execution_count": null,
   "id": "5a7371f3",
   "metadata": {},
   "outputs": [],
   "source": [
    "## Get video ids\n",
    "videos = yt.get_videos_from_playlist_id(playlist_id)\n",
    "df = pd.DataFrame(videos)\n",
    "print(df)"
   ]
  },
  {
   "cell_type": "markdown",
   "id": "d75033d5",
   "metadata": {},
   "source": [
    "#### Collect video metadata"
   ]
  },
  {
   "cell_type": "code",
   "execution_count": null,
   "id": "ae4e47f9",
   "metadata": {},
   "outputs": [],
   "source": [
    "# id for videos as a list\n",
    "df.video_id.tolist()"
   ]
  },
  {
   "cell_type": "code",
   "execution_count": null,
   "id": "92c1185c",
   "metadata": {},
   "outputs": [],
   "source": [
    "#grab metadata\n",
    "video_meta = yt.get_video_metadata(df.video_id.tolist()[:5])"
   ]
  },
  {
   "cell_type": "code",
   "execution_count": null,
   "id": "d2c3ac78",
   "metadata": {},
   "outputs": [],
   "source": [
    "#visualize\n",
    "pd.DataFrame(video_meta[:2])"
   ]
  },
  {
   "cell_type": "code",
   "execution_count": null,
   "id": "55a4327f",
   "metadata": {},
   "outputs": [],
   "source": [
    "## Collect Comments\n",
    "ids = df.video_id.tolist()[:5]"
   ]
  },
  {
   "cell_type": "code",
   "execution_count": null,
   "id": "2127dc6d",
   "metadata": {},
   "outputs": [],
   "source": [
    "# loop\n",
    "list_comments = []\n",
    "for video_id in ids:\n",
    "  comments = yt.get_video_comments(video_id, max_results=10)\n",
    "  list_comments.append(pd.DataFrame(comments))\n",
    "\n",
    "# concat\n",
    "df = pd.concat(list_comments)\n",
    "df.head()"
   ]
  },
  {
   "cell_type": "markdown",
   "id": "b06615e4",
   "metadata": {},
   "source": [
    "## Related videos\n",
    "\n",
    "Cool enough, the API allows you to get a sense (not perfect) of what YT recommend to users. "
   ]
  },
  {
   "cell_type": "code",
   "execution_count": null,
   "id": "e57600d2",
   "metadata": {},
   "outputs": [],
   "source": [
    "df = pd.DataFrame(yt.get_recommended_videos(ids[0])) \n",
    "df.channel_title"
   ]
  },
  {
   "cell_type": "markdown",
   "id": "01f67b9b",
   "metadata": {},
   "source": [
    "#### Search\n",
    "\n",
    "The youtube API also allows you to search for most popular videos using queries. "
   ]
  },
  {
   "cell_type": "code",
   "execution_count": null,
   "id": "6443c12e",
   "metadata": {},
   "outputs": [],
   "source": [
    "df = pd.DataFrame(yt.search(q='urnas, fraude', max_results=10))\n",
    "df.keys()\n",
    "df[[\"channel_title\", \"video_title\"]]"
   ]
  },
  {
   "cell_type": "markdown",
   "id": "e0baa34f",
   "metadata": {},
   "source": [
    "Some cool research using the Youtube API: \n",
    "    \n",
    "- [Lei et al, Estimating the Ideology of Political YouTube Videos](https://papers.ssrn.com/sol3/papers.cfm?abstract_id=4088828)\n",
    "\n",
    "- [Brown et al, Echo Chambers, Rabbit Holes, and Algorithmic Bias: How YouTube Recommends Content to Real Users](https://papers.ssrn.com/sol3/papers.cfm?abstract_id=4114905)\n",
    "    "
   ]
  }
 ],
 "metadata": {
  "kernelspec": {
   "display_name": "Python 3 (ipykernel)",
   "language": "python",
   "name": "python3"
  },
  "language_info": {
   "codemirror_mode": {
    "name": "ipython",
    "version": 3
   },
   "file_extension": ".py",
   "mimetype": "text/x-python",
   "name": "python",
   "nbconvert_exporter": "python",
   "pygments_lexer": "ipython3",
   "version": "3.11.4"
  }
 },
 "nbformat": 4,
 "nbformat_minor": 5
}
