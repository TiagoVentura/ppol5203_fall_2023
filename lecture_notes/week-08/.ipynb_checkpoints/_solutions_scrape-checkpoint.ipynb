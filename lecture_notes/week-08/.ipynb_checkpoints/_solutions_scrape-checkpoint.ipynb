{
 "cells": [
  {
   "cell_type": "markdown",
   "id": "0dfcb674",
   "metadata": {},
   "source": [
    "## solutions"
   ]
  },
  {
   "cell_type": "markdown",
   "id": "970bcb5d",
   "metadata": {},
   "source": [
    "## Practice with Latin News Website\n",
    "\n",
    "Your task: Look a this website here: https://www.latinnews.com/latinnews-country-database.html?country=2156\n",
    "\n",
    "Do the following taks: \n",
    "\n",
    "- Select a single link for you to explore. \n",
    "- Write code to scrape the link. \n",
    "- Collect the following information:\n",
    "    - text of the news\n",
    "    - title of the news\n",
    "    - url associated with the news\n",
    "    - date of the post\n",
    "- Return all of them as a pandas dataframe.     \n"
   ]
  },
  {
   "cell_type": "code",
   "execution_count": 18,
   "id": "177af4ff",
   "metadata": {},
   "outputs": [],
   "source": [
    "# setup\n",
    "import pandas as pd\n",
    "import requests # For downloading the website\n",
    "from bs4 import BeautifulSoup # For parsing the website\n",
    "import time # To put the system to sleep\n",
    "import random # for random numbers\n",
    "import re # regular expressions"
   ]
  },
  {
   "cell_type": "code",
   "execution_count": 2,
   "id": "2aaea79e",
   "metadata": {},
   "outputs": [
    {
     "data": {
      "text/plain": [
       "200"
      ]
     },
     "execution_count": 2,
     "metadata": {},
     "output_type": "execute_result"
    }
   ],
   "source": [
    "# Get access to the website\n",
    "url = \"https://www.latinnews.com/component/k2/item/99031.html?period=2023&archive=3&Itemid=6&cat_id=832237:brazil-lula-partially-vetoes-indigenous-demarcation-bill\"\n",
    "page = requests.get(url)\n",
    "page.status_code # 200 == Connection"
   ]
  },
  {
   "cell_type": "code",
   "execution_count": 5,
   "id": "2efeca47",
   "metadata": {},
   "outputs": [],
   "source": [
    "# parse\n",
    "soup = BeautifulSoup(page.content, 'html.parser') \n"
   ]
  },
  {
   "cell_type": "code",
   "execution_count": 12,
   "id": "9b8edecf",
   "metadata": {},
   "outputs": [
    {
     "data": {
      "text/plain": [
       "'BRAZIL: Lula partially vetoes indigenous demarcation bill'"
      ]
     },
     "execution_count": 12,
     "metadata": {},
     "output_type": "execute_result"
    }
   ],
   "source": [
    "#title\n",
    "title = soup.select(\".article-title-single\")\n",
    "text = title[0].text\n"
   ]
  },
  {
   "cell_type": "code",
   "execution_count": 20,
   "id": "18427c73",
   "metadata": {},
   "outputs": [
    {
     "data": {
      "text/plain": [
       "'On 20 October Brazil’s President Luiz Inácio Lula da Silva vetoed parts of a bill (PL 2903/2023) to reform the indigenous land demarcation process, including the parts which would have enforced a time frame (‘marco temporal’) on the validity of indigenous land claims.\\xa0Analysis:On 21 September the supreme court (STF) rejected the ‘marco temporal’ legal thesis, which postulates that indigenous communities can only lay claim to their ancestral land if they can prove they occupied the territory on the date that Brazil’s current constitution was promulgated (5 October 1988). The following week, conservative lawmakers with ties to the agribusiness lobby successfully pushed for the approval of PL 2903/2023, contravening the STF’s ruling which deemed the ‘marco temporal’ unconstitutional. Lula’s veto was welcomed by indigenous rights activists and is likely to face inflame tensions with the rural caucus in the legislature, which has announced plans to challenge it.Aside from vetoing the article which would have enshrined the ‘marco temporal’ into law, Lula also rejected articles which would have allowed greater capacity to dissolve indigenous reserves and created more conditions through which extractive activities, such as mining, could be carried out on indigenous land. \\xa0President Lula approved some sections of bill, such as Article 20, which states that national security concerns must be prioritised over an indigenous tribe’s privilege to use its land; although he did veto one paragraph of the article which would have allowed the construction of military outposts on indigenous reserves.The indigenous umbrella organisation Articulação dos Povos Indígenas do Brasil (Apib) released a statement calling for congress to sustain Lula’s partial veto but also warning that some of the articles which were approved, such as Article 20, still pose a threat to indigenous reserves.The rural caucus, officially registered as the ‘Frente Parlamentar da Agropecuária’ (FPA), released a statement declaring its intention to override the presidential veto. In its announcement, the caucus reiterated its dominance in congress, stating that its members held 303 of the 513 seats in the lower house and 50 of the 81 senate seats.Looking Ahead: The powerful FPA will seek to rally its members as the presidential veto will be reviewed in congress; a majority in both houses (257 in the lower house and 41 in the senate) would be required to overturn it. '"
      ]
     },
     "execution_count": 20,
     "metadata": {},
     "output_type": "execute_result"
    }
   ],
   "source": [
    "# text\n",
    "text_ = soup.select(\".itemFullText\")\n",
    "text_ = text_[0].text\n",
    "\n",
    "# clean the text\n",
    "text_ = re.sub(r'[\\n\\t\\r]', '', text_)\n",
    "text_"
   ]
  },
  {
   "cell_type": "code",
   "execution_count": 24,
   "id": "ee5b7491",
   "metadata": {},
   "outputs": [],
   "source": [
    "# date\n",
    "date = soup.select(\"H1\")\n",
    "date = date[0].text.replace(\"LatinNews Daily - \", \"\")\n"
   ]
  },
  {
   "cell_type": "code",
   "execution_count": 25,
   "id": "9d044be4",
   "metadata": {},
   "outputs": [
    {
     "data": {
      "text/html": [
       "<div>\n",
       "<style scoped>\n",
       "    .dataframe tbody tr th:only-of-type {\n",
       "        vertical-align: middle;\n",
       "    }\n",
       "\n",
       "    .dataframe tbody tr th {\n",
       "        vertical-align: top;\n",
       "    }\n",
       "\n",
       "    .dataframe thead th {\n",
       "        text-align: right;\n",
       "    }\n",
       "</style>\n",
       "<table border=\"1\" class=\"dataframe\">\n",
       "  <thead>\n",
       "    <tr style=\"text-align: right;\">\n",
       "      <th></th>\n",
       "      <th>url</th>\n",
       "      <th>title</th>\n",
       "      <th>text</th>\n",
       "      <th>date</th>\n",
       "    </tr>\n",
       "  </thead>\n",
       "  <tbody>\n",
       "    <tr>\n",
       "      <th>0</th>\n",
       "      <td>https://www.latinnews.com/component/k2/item/99...</td>\n",
       "      <td>[BRAZIL: Lula partially vetoes indigenous dema...</td>\n",
       "      <td>On 20 October Brazil’s President Luiz Inácio L...</td>\n",
       "      <td>23 October 2023</td>\n",
       "    </tr>\n",
       "  </tbody>\n",
       "</table>\n",
       "</div>"
      ],
      "text/plain": [
       "                                                 url  \\\n",
       "0  https://www.latinnews.com/component/k2/item/99...   \n",
       "\n",
       "                                               title  \\\n",
       "0  [BRAZIL: Lula partially vetoes indigenous dema...   \n",
       "\n",
       "                                                text             date  \n",
       "0  On 20 October Brazil’s President Luiz Inácio L...  23 October 2023  "
      ]
     },
     "execution_count": 25,
     "metadata": {},
     "output_type": "execute_result"
    }
   ],
   "source": [
    "pd.DataFrame({\"url\":url, \n",
    "              \"title\":title,\n",
    "             \"text\":text_, \n",
    "             \"date\":date})"
   ]
  }
 ],
 "metadata": {
  "kernelspec": {
   "display_name": "Python 3 (ipykernel)",
   "language": "python",
   "name": "python3"
  },
  "language_info": {
   "codemirror_mode": {
    "name": "ipython",
    "version": 3
   },
   "file_extension": ".py",
   "mimetype": "text/x-python",
   "name": "python",
   "nbconvert_exporter": "python",
   "pygments_lexer": "ipython3",
   "version": "3.11.4"
  }
 },
 "nbformat": 4,
 "nbformat_minor": 5
}
