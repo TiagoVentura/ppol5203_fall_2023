{
 "cells": [
  {
   "cell_type": "markdown",
   "id": "f3fbb761",
   "metadata": {},
   "source": [
    "<h1><center> PPOL 5203 Data Science I: Foundations <br><br> \n",
    "<font color='grey'> Parsing Unstructured Data: Scrapping Part II - (Static Websites)<br><br>\n",
    "Tiago Ventura </center> <h1> \n",
    "\n",
    "---"
   ]
  },
  {
   "cell_type": "markdown",
   "id": "07f214b3",
   "metadata": {},
   "source": [
    "## Learning Goals\n",
    "\n",
    "In the class today, we will learn how to collecting digital data through APIs. We will focus on: \n",
    "\n",
    "- Building a solida understand about APIs\n",
    "- Working with three types of APIs:\n",
    "    - APIs with no credentials and no wrappers\n",
    "    - APIs with credentials and no wrappers\n",
    "    - APIs with wrappers. "
   ]
  },
  {
   "cell_type": "markdown",
   "id": "e261651e",
   "metadata": {},
   "source": [
    "## APIS 101\n",
    "\n",
    "The famous acronym API stands for “Application Programming Interface”. An API is an online server allows different applications to interact. Most often for our purposes, an API will facilitate information exchange between data users and the holders of certain data. Many companies build these repositories for various functions, including sharing data, receiving data, joint database management, and providing artificial intelligence functions or machines for public use.\n",
    "\n",
    "Let's think of an example capable of motivating the creation of an API. Imagine you own Twitter. You would have zillions of hackers every day trying to scrape your data, this would make your website more unstable and insecure. What is a possible solution? You create an API, and you control who accesses the information, when they access it, and what type of information you make available. Another option is to close you API and restrict data access to researchers. But, if you do this, you are likely to pay a reputational cost for not being transparent, and users might leave your platform.\n",
    "\n",
    "Have you ever watched Matrix? APIs are just like that! In the movies, Neil and others would physically connect their mindes to a super developed server  and ask to learn a certain skill - kung-fu, programming, language, etc. This is exactly what an API does. You connect to the website and request data, and receive it in return. It's like sending an email, but doing everything via programming language."
   ]
  },
  {
   "cell_type": "markdown",
   "id": "1f483271",
   "metadata": {},
   "source": [
    "### API Use-Cases\n",
    "\n",
    "There are two main ways in which we academics commonly use APIs.\n",
    "\n",
    "1. Access data shared by Companies and NGOs.\n",
    "\n",
    "2. Process our data in Algorithms developed by third parties.\n",
    "\n",
    "Our focus will be on the first. Later, we will see how to use the ChatGPT API for text classification tasks. \n"
   ]
  },
  {
   "cell_type": "markdown",
   "id": "0e05f247",
   "metadata": {},
   "source": [
    "### APIs Components\n",
    "\n",
    "An API is just an URL. See the example below:\n",
    "\n",
    "`http://mywebsite.com/endpoint?key&param_1&param_2`\n",
    "\n",
    "Main Components: \n",
    "\n",
    "- **http://meusite.com/**: API root. The domain of your api/\n",
    "- **endpoint**: An endpoint is a server route for retrieving specific data from an API\n",
    "- **key**: credentials that some websites ask for you to create before you can query the api. \n",
    "- **?param_1;param_2** parameters. Those are filters that you can input in apis requests. \n"
   ]
  },
  {
   "cell_type": "markdown",
   "id": "e6855f6b",
   "metadata": {},
   "source": [
    "### Requests to APIs\n",
    "\n",
    "In order to work with APIs, we need tools to access the web. In Python, the most common library for making requests and working with APIs is the `requests` library. There are two main types of requests: \n",
    "\n",
    "- `get()`: to receive information from the API -- which we will use the most for web data collection\n",
    "\n",
    "- `post()`: to send information to the API -- think about the use of ChatGPT for classification of text. \n"
   ]
  },
  {
   "cell_type": "markdown",
   "id": "50909f2b",
   "metadata": {},
   "source": [
    "## Example 1: Bored API\n",
    "\n",
    "### Querying an API: Step-by-Step\n",
    "\n",
    "Let's start querying our first API. We will start with the simple [Bored API](https://www.boredapi.com/about). This is a very simple API, and serves the purpose of learning all the basic steps of querying APIs. The Bored API helps you find things to do when you're bored! There are fields like the number of participants, activity type, and more that help you narrow down your results.\n",
    "\n",
    "The Bored API: \n",
    "\n",
    "- **Does not** require us to create credentials.\n",
    "- And **does not** have a Python wrapper.\n",
    "\n",
    "When querying an API, our work will often involve the following steps: \n",
    "\n",
    "- **Step 1:** Look at the API documentation and endpoints, and construct a query of interest\n",
    "- **Step 2:** Use requests.get(querystring) to call the API\n",
    "- **Step 3:** Examine the response\n",
    "- **Step 4:** Extract your data and save it. "
   ]
  },
  {
   "cell_type": "markdown",
   "id": "1455677d",
   "metadata": {},
   "source": [
    "### Step 1: Documentation, Endpoints and Query. \n",
    "\n",
    "Before we start querying an API, we always need to read through the [documentation](https://www.boredapi.com/about). The documentation often revel to us: \n",
    "\n",
    "- The base url for the API: `http://www.boredapi.com/api`\n",
    "- The different endpoints: \n",
    "    - the bored API has only one endpoint: `/activity`\n",
    "- The API parameters:\n",
    "    - `key`\n",
    "    - `type`\n",
    "    - `participants`\n",
    "    - `price`\n",
    "    - `among others`\n",
    "    \n",
    "With this information, we can form our quert of interest. Let's start with a simple query that retrieves a random activity"
   ]
  },
  {
   "cell_type": "code",
   "execution_count": 17,
   "id": "04019cda",
   "metadata": {},
   "outputs": [],
   "source": [
    "# build query\n",
    "query = \"http://www.boredapi.com/api/activity/\""
   ]
  },
  {
   "cell_type": "markdown",
   "id": "eef071ca",
   "metadata": {},
   "source": [
    "### **Step 2:** Use requests.get(querystring) to call the API\n",
    "\n",
    "To interact with the API, we will use the `requests` package. The requests package allow us to send a HTTP request to the API. Because we are intereste in retrieving data, we will mostly be working with the `.get()` method, which requires one argument — the URL we want to make the request to. \n",
    "\n",
    "When we make a request, the response from the API comes with a response code which tells us whether our request was successful. Response codes are important because they immediately tell us if something went wrong.\n",
    "\n",
    "To make a ‘GET’ request, we’ll use the requests.get() function, which requires one argument — the URL we want to make the request to. We’ll start by making a request to an API endpoint that doesn’t exist, so we can see what that response code looks like"
   ]
  },
  {
   "cell_type": "code",
   "execution_count": null,
   "id": "13e69630",
   "metadata": {},
   "outputs": [],
   "source": [
    "# import \n",
    "import requests\n",
    "\n",
    "# Make a get request to get the latest position of the ISS from the OpenNotify API.\n",
    "response = requests.get(query)\n",
    "print(response)"
   ]
  },
  {
   "cell_type": "markdown",
   "id": "8c05c012",
   "metadata": {},
   "source": [
    "### **Step 3:** Examine the response\n",
    "\n",
    "When we make a request, the response from the API comes with a response code which tells us whether our request was successful. Response codes are important because they immediately tell us if something went wrong. Here is a list of response codes you can get\n",
    "\n",
    "200 — Everything went okay, and the server returned a result (if any).\n",
    "\n",
    "301 — The server is redirecting you to a different endpoint. This can happen when a company switches domain names, or when an endpoint's name has changed.\n",
    "\n",
    "401 — The server thinks you're not authenticated. This happens when you don't send the right credentials to access an API.\n",
    "\n",
    "400 — The server thinks you made a bad request. This can happen when you don't send the information that the API requires to process your request (among other things).\n",
    "\n",
    "403 — The resource you're trying to access is forbidden, and you don't have the right permissions to see it.\n",
    "\n",
    "404 — The server didn't find the resource you tried to access.\n"
   ]
  },
  {
   "cell_type": "code",
   "execution_count": 18,
   "id": "f4921258",
   "metadata": {},
   "outputs": [
    {
     "data": {
      "text/plain": [
       "200"
      ]
     },
     "execution_count": 18,
     "metadata": {},
     "output_type": "execute_result"
    }
   ],
   "source": [
    "# check status code\n",
    "status_code = response.status_code\n",
    "\n",
    "# print status code\n",
    "status_code"
   ]
  },
  {
   "cell_type": "markdown",
   "id": "278b6151",
   "metadata": {},
   "source": [
    "### **Step 4:** Extract your data.\n",
    "\n",
    "With an 200 code, we can access the content of the get request. The return from the API is stored as a `content` attribute in the response object."
   ]
  },
  {
   "cell_type": "code",
   "execution_count": 19,
   "id": "ce8806ee",
   "metadata": {},
   "outputs": [
    {
     "name": "stdout",
     "output_type": "stream",
     "text": [
      "b'{\"activity\":\"Practice coding in your favorite lanaguage\",\"type\":\"recreational\",\"participants\":1,\"price\":0,\"link\":\"\",\"key\":\"7096020\",\"accessibility\":0.1}'\n"
     ]
    }
   ],
   "source": [
    "print(response.content)"
   ]
  },
  {
   "cell_type": "markdown",
   "id": "1e1cc373",
   "metadata": {},
   "source": [
    "#### Processing JSONs\n",
    "\n",
    "The deafault data type we receive from APIS are in the JSON format. This format encodes data structures like lists and dictionaries as strings to ensure that machines can read them easily. \n",
    "\n",
    "For that kind of content, the requests library includes a specific .json() method that you can use to immediately convert the API bytes response into a Python data structure, in general a nested dictionary. "
   ]
  },
  {
   "cell_type": "code",
   "execution_count": 24,
   "id": "66d29fbe",
   "metadata": {},
   "outputs": [
    {
     "name": "stdout",
     "output_type": "stream",
     "text": [
      "{'activity': 'Practice coding in your favorite lanaguage', 'type': 'recreational', 'participants': 1, 'price': 0, 'link': '', 'key': '7096020', 'accessibility': 0.1}\n"
     ]
    }
   ],
   "source": [
    "# convert the get output to a dictionary\n",
    "response_dict = response.json()\n",
    "print(response_dict)"
   ]
  },
  {
   "cell_type": "code",
   "execution_count": 22,
   "id": "d594c78d",
   "metadata": {},
   "outputs": [
    {
     "data": {
      "text/plain": [
       "'Practice coding in your favorite lanaguage'"
      ]
     },
     "execution_count": 22,
     "metadata": {},
     "output_type": "execute_result"
    }
   ],
   "source": [
    "# index just like a dict\n",
    "response_dict[\"activity\"]"
   ]
  },
  {
   "cell_type": "code",
   "execution_count": 30,
   "id": "2cc5f48d",
   "metadata": {},
   "outputs": [
    {
     "data": {
      "text/html": [
       "<div>\n",
       "<style scoped>\n",
       "    .dataframe tbody tr th:only-of-type {\n",
       "        vertical-align: middle;\n",
       "    }\n",
       "\n",
       "    .dataframe tbody tr th {\n",
       "        vertical-align: top;\n",
       "    }\n",
       "\n",
       "    .dataframe thead th {\n",
       "        text-align: right;\n",
       "    }\n",
       "</style>\n",
       "<table border=\"1\" class=\"dataframe\">\n",
       "  <thead>\n",
       "    <tr style=\"text-align: right;\">\n",
       "      <th></th>\n",
       "      <th>activity</th>\n",
       "      <th>type</th>\n",
       "      <th>participants</th>\n",
       "      <th>price</th>\n",
       "      <th>link</th>\n",
       "      <th>key</th>\n",
       "      <th>accessibility</th>\n",
       "    </tr>\n",
       "  </thead>\n",
       "  <tbody>\n",
       "    <tr>\n",
       "      <th>0</th>\n",
       "      <td>Practice coding in your favorite lanaguage</td>\n",
       "      <td>recreational</td>\n",
       "      <td>1</td>\n",
       "      <td>0</td>\n",
       "      <td></td>\n",
       "      <td>7096020</td>\n",
       "      <td>0.1</td>\n",
       "    </tr>\n",
       "  </tbody>\n",
       "</table>\n",
       "</div>"
      ],
      "text/plain": [
       "                                     activity          type  participants  \\\n",
       "0  Practice coding in your favorite lanaguage  recreational             1   \n",
       "\n",
       "   price link      key  accessibility  \n",
       "0      0       7096020            0.1  "
      ]
     },
     "execution_count": 30,
     "metadata": {},
     "output_type": "execute_result"
    }
   ],
   "source": [
    "# convert to a dataframe\n",
    "import pandas as pd\n",
    "\n",
    "# need to convert to a list for weird python reasons\n",
    "pd.DataFrame([response_dict])"
   ]
  },
  {
   "cell_type": "markdown",
   "id": "13a445d7",
   "metadata": {},
   "source": [
    "Let's see the full code:"
   ]
  },
  {
   "cell_type": "code",
   "execution_count": 33,
   "id": "ef3fdc75",
   "metadata": {},
   "outputs": [
    {
     "name": "stdout",
     "output_type": "stream",
     "text": [
      "0    Watch the sunset or the sunrise\n",
      "Name: activity, dtype: object\n"
     ]
    }
   ],
   "source": [
    "# full code\n",
    "import requests\n",
    "import pandas as pd\n",
    "\n",
    "# build query\n",
    "query = \"http://www.boredapi.com/api/activity/\"\n",
    "\n",
    "# Make a get request to get the latest position of the ISS from the OpenNotify API.\n",
    "response = requests.get(query)\n",
    "\n",
    "# check status code\n",
    "status_code = response.status_code\n",
    "\n",
    "# move forward with code\n",
    "if status_code==200:\n",
    "    # convert the get output to a dictionary\n",
    "    response_dict = response.json()\n",
    "    # convert to a dataframe\n",
    "    res = pd.DataFrame([response_dict])\n",
    "else:\n",
    "    print(status_code)\n",
    "    \n",
    "print(res[\"activity\"])    "
   ]
  },
  {
   "cell_type": "markdown",
   "id": "d209e771",
   "metadata": {},
   "source": [
    "### Exploring API Filters\n",
    "\n",
    "If we look at the documentation, you see the APIs provides filters (query parameters) that allow you to refine your search. \n",
    "\n",
    "For example, when you send a `get` request to the Youtube API, you are not interested in the entire Youtube data. You want data associated with certain videos, profiles, for a certain period of time, for example. These filters are often embedded as query parameters in the API call. \n",
    "\n",
    "To add a query parameter to a given URL, you have to add a question mark (?) before the first query parameter. If you want to have multiple query parameters in your request, then you can split them with an ampersand (&)\n",
    "\n",
    "We can add filters by: \n",
    "\n",
    "- constructing the full API call\n",
    "\n",
    "- Using dictionaries\n"
   ]
  },
  {
   "cell_type": "markdown",
   "id": "ab7b1b91",
   "metadata": {},
   "source": [
    "### Filter with the full API cal"
   ]
  },
  {
   "cell_type": "code",
   "execution_count": 38,
   "id": "53314632",
   "metadata": {},
   "outputs": [
    {
     "data": {
      "text/plain": [
       "{'activity': \"Solve a Rubik's cube\",\n",
       " 'type': 'recreational',\n",
       " 'participants': 1,\n",
       " 'price': 0,\n",
       " 'link': '',\n",
       " 'key': '4151544',\n",
       " 'accessibility': 0.1}"
      ]
     },
     "execution_count": 38,
     "metadata": {},
     "output_type": "execute_result"
    }
   ],
   "source": [
    "## get only recreational activities\n",
    "# build query\n",
    "query = \"http://www.boredapi.com/api/activity/\"\n",
    "\n",
    "# add filter\n",
    "activity = \"?type=recreational\"\n",
    "\n",
    "# full request\n",
    "url = query + activity\n",
    "\n",
    "# Make a get request to get the latest position of the ISS from the OpenNotify API.\n",
    "response = requests.get(url)\n",
    "\n",
    "# see json\n",
    "response.json()"
   ]
  },
  {
   "cell_type": "markdown",
   "id": "e19792be",
   "metadata": {},
   "source": [
    "### Or using dictionaries"
   ]
  },
  {
   "cell_type": "code",
   "execution_count": 52,
   "id": "226993dc",
   "metadata": {},
   "outputs": [
    {
     "data": {
      "text/plain": [
       "{'activity': 'Learn how to play a new sport',\n",
       " 'type': 'recreational',\n",
       " 'participants': 1,\n",
       " 'price': 0.1,\n",
       " 'link': '',\n",
       " 'key': '5808228',\n",
       " 'accessibility': 0.2}"
      ]
     },
     "execution_count": 52,
     "metadata": {},
     "output_type": "execute_result"
    }
   ],
   "source": [
    "## get only recreational activities\n",
    "# build query\n",
    "query = \"http://www.boredapi.com/api/activity/\"\n",
    "\n",
    "# add filter\n",
    "parameters = {\"activity\": \"recreational\"}\n",
    "\n",
    "# Make a get request to get the latest position of the ISS from the OpenNotify API.\n",
    "response = requests.get(query, params=parameters)\n",
    "\n",
    "# see json\n",
    "response.json()"
   ]
  },
  {
   "cell_type": "markdown",
   "id": "07cb2b6b",
   "metadata": {},
   "source": [
    "See... it is the same url.."
   ]
  },
  {
   "cell_type": "code",
   "execution_count": 56,
   "id": "dd5a2840",
   "metadata": {},
   "outputs": [
    {
     "data": {
      "text/plain": [
       "'http://www.boredapi.com/api/activity/?activity=recreational'"
      ]
     },
     "execution_count": 56,
     "metadata": {},
     "output_type": "execute_result"
    }
   ],
   "source": [
    "response.url"
   ]
  },
  {
   "cell_type": "markdown",
   "id": "a218cbc2",
   "metadata": {},
   "source": [
    "## Example 2: Yelp API. \n",
    "\n",
    "Let's see now how to work with a more complex API. \n",
    "\n",
    "\n",
    "This API: \n",
    "-  Requires us to get credentials\n",
    "-  But does not have a wrapper (that I know of). \n"
   ]
  },
  {
   "cell_type": "markdown",
   "id": "4f468eb3",
   "metadata": {},
   "source": []
  },
  {
   "cell_type": "code",
   "execution_count": null,
   "id": "49eeecf0",
   "metadata": {},
   "outputs": [],
   "source": []
  },
  {
   "cell_type": "code",
   "execution_count": null,
   "id": "79cf7f06",
   "metadata": {},
   "outputs": [],
   "source": []
  },
  {
   "cell_type": "code",
   "execution_count": null,
   "id": "e43fa9f4",
   "metadata": {},
   "outputs": [],
   "source": []
  },
  {
   "cell_type": "code",
   "execution_count": null,
   "id": "b8a39b61",
   "metadata": {},
   "outputs": [],
   "source": []
  },
  {
   "cell_type": "markdown",
   "id": "a6da3f45",
   "metadata": {},
   "source": [
    "## Example 3 : YouTube API\n",
    "\n",
    "Now let's move to our last example. \n",
    "\n",
    "We will be working with the YouTube API. This is a complex API, but lucky for us some other programmers already created a Python wrapper to access the API. We will use the [youtube-data-api](https://youtube-data-api.readthedocs.io/en/latest/youtube_api.html) library which contains a set of functions to facilitate the access to the API. \n",
    "\n",
    "### What kind of data can you get from the Youtube API?\n",
    "\n",
    "Youtube has a very extensive api. There are a lot of data you can get access to. See a compreensive list [here](https://developers.google.com/youtube/v3/docs/)\n",
    "\n",
    "What is included in the package:\n",
    "\n",
    "- video metadata\n",
    "- channel metadata\n",
    "- playlist metadata\n",
    "- subscription metadata\n",
    "- featured channel metadata\n",
    "- comment metadata\n",
    "- search results\n",
    "\n",
    "### How to Install\n",
    "\n",
    "The software is on PyPI, so you can download it via `pip`\n",
    "   "
   ]
  },
  {
   "cell_type": "code",
   "execution_count": 60,
   "id": "33a29a52",
   "metadata": {},
   "outputs": [],
   "source": [
    "#!pip install youtube-data-api"
   ]
  },
  {
   "cell_type": "markdown",
   "id": "7c8af632",
   "metadata": {},
   "source": [
    "### How to get an API key\n",
    "\n",
    "#### A quick guide: [https://developers.google.com/youtube/v3/getting-started](https://developers.google.com/youtube/v3/getting-started)\n",
    "\n",
    "1. You need a Google Account to access the Google API Console, request an API key, and register your application. You can use your GMail account for this if you have one.\n",
    "\n",
    "2. Create a project in the <a href=\"https://console.developers.google.com/apis/\">Google Developers Console</a> and <a href=\"https://developers.google.com/youtube/registering_an_application\">obtain authorization credentials</a> so your application can submit API requests.\n",
    "\n",
    "3. After creating your project, make sure the YouTube Data API is one of the services that your application is registered to use.\n",
    "\n",
    "    a. Go to the <a href=\"https://console.developers.google.com/apis/\">API Console</a> and select the project that you just registered.\n",
    "\n",
    "    b. Visit the <a href=\"https://console.developers.google.com/apis/enabled\">Enabled APIs page</a>. In the list of APIs, make sure the status is ON for the YouTube Data API v3. You do not need to enable OAuth 2.0 since there are no methods in the package that require it.\n",
    "        "
   ]
  },
  {
   "cell_type": "markdown",
   "id": "50d35ab2",
   "metadata": {},
   "source": [
    "### How to use the API keys?\n",
    "\n",
    "API keys are personal information. Keep yours safe, and do not paste into your code. \n",
    "\n",
    "\n",
    "**Don't do this:**\n",
    "\n",
    "`api_key = \"my_key\"`\n",
    "\n",
    "**Do this:**\n",
    "\n",
    "- create a file with your keys and save as `.env`\n",
    "- Add your keys there\n",
    "- load them in your environment when running the APIs. \n",
    "- And never upload your `.env` file in the cloud. \n"
   ]
  },
  {
   "cell_type": "code",
   "execution_count": 2,
   "id": "a5d5ba96",
   "metadata": {},
   "outputs": [],
   "source": [
    "# call some libraries\n",
    "import os\n",
    "import datetime\n",
    "import pandas as pd"
   ]
  },
  {
   "cell_type": "code",
   "execution_count": 6,
   "id": "e484fca8",
   "metadata": {},
   "outputs": [],
   "source": [
    "#Import YouTubeDataAPI\n",
    "from youtube_api import YouTubeDataAPI\n",
    "from youtube_api.youtube_api_utils import *\n",
    "from dotenv import load_dotenv"
   ]
  },
  {
   "cell_type": "code",
   "execution_count": 8,
   "id": "4f4906e0",
   "metadata": {},
   "outputs": [
    {
     "name": "stdout",
     "output_type": "stream",
     "text": [
      "<youtube_api.youtube_api.YouTubeDataAPI object at 0x100e5bfd0>\n"
     ]
    }
   ],
   "source": [
    "# load keys from  environmental var\n",
    "load_dotenv() # .env file in cwd\n",
    "api_key = os.environ.get(\"YT_KEY\")\n",
    "\n",
    "# create a client\n",
    "yt = YouTubeDataAPI(api_key)\n",
    "print(yt)"
   ]
  },
  {
   "cell_type": "markdown",
   "id": "25a8c744",
   "metadata": {},
   "source": [
    "#### Starting with a channel name and getting some basic metadata\n",
    "\n",
    "Let's start with the `LastWeekTonight` channel\n",
    "\n",
    "[https://www.youtube.com/user/LastWeekTonight](https://www.youtube.com/user/LastWeekTonight)\n",
    "\n",
    "First we need to get the channel id"
   ]
  },
  {
   "cell_type": "code",
   "execution_count": 9,
   "id": "995717c4",
   "metadata": {},
   "outputs": [
    {
     "name": "stdout",
     "output_type": "stream",
     "text": [
      "UC3XTzVzaHQEd30rQbuvCtTQ\n"
     ]
    }
   ],
   "source": [
    "channel_id = yt.get_channel_id_from_user('LastWeekTonight')\n",
    "print(channel_id)"
   ]
  },
  {
   "cell_type": "markdown",
   "id": "ca218644",
   "metadata": {},
   "source": [
    "#### Channel metadata"
   ]
  },
  {
   "cell_type": "code",
   "execution_count": 10,
   "id": "0e8e12a7",
   "metadata": {},
   "outputs": [
    {
     "data": {
      "text/plain": [
       "{'channel_id': 'UC3XTzVzaHQEd30rQbuvCtTQ',\n",
       " 'title': 'LastWeekTonight',\n",
       " 'account_creation_date': 1395178899.0,\n",
       " 'keywords': None,\n",
       " 'description': 'Breaking news on a weekly basis. Sundays at 11PM - only on HBO.\\nSubscribe to the Last Week Tonight channel for the latest videos from John Oliver and the LWT team.',\n",
       " 'view_count': '3666352878',\n",
       " 'video_count': '417',\n",
       " 'subscription_count': '9200000',\n",
       " 'playlist_id_likes': '',\n",
       " 'playlist_id_uploads': 'UU3XTzVzaHQEd30rQbuvCtTQ',\n",
       " 'topic_ids': 'https://en.wikipedia.org/wiki/Society|https://en.wikipedia.org/wiki/Television_program|https://en.wikipedia.org/wiki/Entertainment|https://en.wikipedia.org/wiki/Film',\n",
       " 'country': None,\n",
       " 'collection_date': datetime.datetime(2023, 9, 24, 22, 13, 16, 456090)}"
      ]
     },
     "execution_count": 10,
     "metadata": {},
     "output_type": "execute_result"
    }
   ],
   "source": [
    "# collect metadata\n",
    "yt.get_channel_metadata(channel_id)"
   ]
  },
  {
   "cell_type": "markdown",
   "id": "6f081251",
   "metadata": {},
   "source": [
    "#### Subscriptions of the channel. "
   ]
  },
  {
   "cell_type": "code",
   "execution_count": 11,
   "id": "69beeef0",
   "metadata": {},
   "outputs": [
    {
     "data": {
      "text/html": [
       "<div>\n",
       "<style scoped>\n",
       "    .dataframe tbody tr th:only-of-type {\n",
       "        vertical-align: middle;\n",
       "    }\n",
       "\n",
       "    .dataframe tbody tr th {\n",
       "        vertical-align: top;\n",
       "    }\n",
       "\n",
       "    .dataframe thead th {\n",
       "        text-align: right;\n",
       "    }\n",
       "</style>\n",
       "<table border=\"1\" class=\"dataframe\">\n",
       "  <thead>\n",
       "    <tr style=\"text-align: right;\">\n",
       "      <th></th>\n",
       "      <th>subscription_title</th>\n",
       "      <th>subscription_channel_id</th>\n",
       "      <th>subscription_kind</th>\n",
       "      <th>subscription_publish_date</th>\n",
       "      <th>collection_date</th>\n",
       "    </tr>\n",
       "  </thead>\n",
       "  <tbody>\n",
       "    <tr>\n",
       "      <th>0</th>\n",
       "      <td>trueblood</td>\n",
       "      <td>UCPnlBOg4_NU9wdhRN-vzECQ</td>\n",
       "      <td>youtube#channel</td>\n",
       "      <td>1.395357e+09</td>\n",
       "      <td>2023-09-24 22:13:18.812147</td>\n",
       "    </tr>\n",
       "    <tr>\n",
       "      <th>1</th>\n",
       "      <td>GameofThrones</td>\n",
       "      <td>UCQzdMyuz0Lf4zo4uGcEujFw</td>\n",
       "      <td>youtube#channel</td>\n",
       "      <td>1.395357e+09</td>\n",
       "      <td>2023-09-24 22:13:18.812185</td>\n",
       "    </tr>\n",
       "    <tr>\n",
       "      <th>2</th>\n",
       "      <td>HBO</td>\n",
       "      <td>UCVTQuK2CaWaTgSsoNkn5AiQ</td>\n",
       "      <td>youtube#channel</td>\n",
       "      <td>1.395357e+09</td>\n",
       "      <td>2023-09-24 22:13:18.812210</td>\n",
       "    </tr>\n",
       "    <tr>\n",
       "      <th>3</th>\n",
       "      <td>HBOBoxing</td>\n",
       "      <td>UCWPQB43yGKEum3eW0P9N_nQ</td>\n",
       "      <td>youtube#channel</td>\n",
       "      <td>1.395357e+09</td>\n",
       "      <td>2023-09-24 22:13:18.812235</td>\n",
       "    </tr>\n",
       "    <tr>\n",
       "      <th>4</th>\n",
       "      <td>Cinemax</td>\n",
       "      <td>UCYbinjMxWwjRpp4WqgDqEDA</td>\n",
       "      <td>youtube#channel</td>\n",
       "      <td>1.424812e+09</td>\n",
       "      <td>2023-09-24 22:13:18.812259</td>\n",
       "    </tr>\n",
       "    <tr>\n",
       "      <th>5</th>\n",
       "      <td>HBODocs</td>\n",
       "      <td>UCbKo3HsaBOPhdRpgzqtRnqA</td>\n",
       "      <td>youtube#channel</td>\n",
       "      <td>1.395357e+09</td>\n",
       "      <td>2023-09-24 22:13:18.812282</td>\n",
       "    </tr>\n",
       "    <tr>\n",
       "      <th>6</th>\n",
       "      <td>HBOLatino</td>\n",
       "      <td>UCeKum6mhlVAjUFIW15mVBPg</td>\n",
       "      <td>youtube#channel</td>\n",
       "      <td>1.395357e+09</td>\n",
       "      <td>2023-09-24 22:13:18.812308</td>\n",
       "    </tr>\n",
       "    <tr>\n",
       "      <th>7</th>\n",
       "      <td>OfficialAmySedaris</td>\n",
       "      <td>UCicerXLHzJaKYHm1IwvTn8A</td>\n",
       "      <td>youtube#channel</td>\n",
       "      <td>1.461561e+09</td>\n",
       "      <td>2023-09-24 22:13:18.812340</td>\n",
       "    </tr>\n",
       "    <tr>\n",
       "      <th>8</th>\n",
       "      <td>Real Time with Bill Maher</td>\n",
       "      <td>UCy6kyFxaMqGtpE3pQTflK8A</td>\n",
       "      <td>youtube#channel</td>\n",
       "      <td>1.418342e+09</td>\n",
       "      <td>2023-09-24 22:13:18.812364</td>\n",
       "    </tr>\n",
       "  </tbody>\n",
       "</table>\n",
       "</div>"
      ],
      "text/plain": [
       "          subscription_title   subscription_channel_id subscription_kind  \\\n",
       "0                  trueblood  UCPnlBOg4_NU9wdhRN-vzECQ   youtube#channel   \n",
       "1              GameofThrones  UCQzdMyuz0Lf4zo4uGcEujFw   youtube#channel   \n",
       "2                        HBO  UCVTQuK2CaWaTgSsoNkn5AiQ   youtube#channel   \n",
       "3                  HBOBoxing  UCWPQB43yGKEum3eW0P9N_nQ   youtube#channel   \n",
       "4                    Cinemax  UCYbinjMxWwjRpp4WqgDqEDA   youtube#channel   \n",
       "5                    HBODocs  UCbKo3HsaBOPhdRpgzqtRnqA   youtube#channel   \n",
       "6                  HBOLatino  UCeKum6mhlVAjUFIW15mVBPg   youtube#channel   \n",
       "7         OfficialAmySedaris  UCicerXLHzJaKYHm1IwvTn8A   youtube#channel   \n",
       "8  Real Time with Bill Maher  UCy6kyFxaMqGtpE3pQTflK8A   youtube#channel   \n",
       "\n",
       "   subscription_publish_date            collection_date  \n",
       "0               1.395357e+09 2023-09-24 22:13:18.812147  \n",
       "1               1.395357e+09 2023-09-24 22:13:18.812185  \n",
       "2               1.395357e+09 2023-09-24 22:13:18.812210  \n",
       "3               1.395357e+09 2023-09-24 22:13:18.812235  \n",
       "4               1.424812e+09 2023-09-24 22:13:18.812259  \n",
       "5               1.395357e+09 2023-09-24 22:13:18.812282  \n",
       "6               1.395357e+09 2023-09-24 22:13:18.812308  \n",
       "7               1.461561e+09 2023-09-24 22:13:18.812340  \n",
       "8               1.418342e+09 2023-09-24 22:13:18.812364  "
      ]
     },
     "execution_count": 11,
     "metadata": {},
     "output_type": "execute_result"
    }
   ],
   "source": [
    "pd.DataFrame(yt.get_subscriptions(channel_id))"
   ]
  },
  {
   "cell_type": "markdown",
   "id": "1ea5be95",
   "metadata": {},
   "source": [
    "#### List of videos of the channel\n",
    "You first need to convert the `channel_id` into a playlist id to get all the videos ever posted by a channel using a function from the `youtube_api_utils` in the package. Then you can get the video ids, and collect metadata, comments, among many others. "
   ]
  },
  {
   "cell_type": "code",
   "execution_count": null,
   "id": "d0a6e181",
   "metadata": {},
   "outputs": [],
   "source": [
    "from youtube_api.youtube_api_utils import *\n",
    "playlist_id = get_upload_playlist_id(channel_id)\n",
    "print(playlist_id)"
   ]
  },
  {
   "cell_type": "code",
   "execution_count": null,
   "id": "5a7371f3",
   "metadata": {},
   "outputs": [],
   "source": [
    "## Get video ids\n",
    "videos = yt.get_videos_from_playlist_id(playlist_id)\n",
    "df = pd.DataFrame(videos)\n",
    "print(df)"
   ]
  },
  {
   "cell_type": "markdown",
   "id": "d75033d5",
   "metadata": {},
   "source": [
    "#### Collect video metadata"
   ]
  },
  {
   "cell_type": "code",
   "execution_count": null,
   "id": "ae4e47f9",
   "metadata": {},
   "outputs": [],
   "source": [
    "# id for videos as a list\n",
    "df.video_id.tolist()"
   ]
  },
  {
   "cell_type": "code",
   "execution_count": null,
   "id": "92c1185c",
   "metadata": {},
   "outputs": [],
   "source": [
    "#grab metadata\n",
    "video_meta = yt.get_video_metadata(df.video_id.tolist()[:5])"
   ]
  },
  {
   "cell_type": "code",
   "execution_count": null,
   "id": "d2c3ac78",
   "metadata": {},
   "outputs": [],
   "source": [
    "#visualize\n",
    "pd.DataFrame(video_meta[:2])"
   ]
  },
  {
   "cell_type": "code",
   "execution_count": null,
   "id": "55a4327f",
   "metadata": {},
   "outputs": [],
   "source": [
    "## Collect Comments\n",
    "ids = df.video_id.tolist()[:5]"
   ]
  },
  {
   "cell_type": "code",
   "execution_count": null,
   "id": "2127dc6d",
   "metadata": {},
   "outputs": [],
   "source": [
    "# loop\n",
    "list_comments = []\n",
    "for video_id in ids:\n",
    "  comments = yt.get_video_comments(video_id, max_results=10)\n",
    "  list_comments.append(pd.DataFrame(comments))\n",
    "\n",
    "# concat\n",
    "df = pd.concat(list_comments)\n",
    "df.head()"
   ]
  },
  {
   "cell_type": "markdown",
   "id": "b06615e4",
   "metadata": {},
   "source": [
    "## Related videos\n",
    "\n",
    "Cool enough, the API allows you to get a sense (not perfect) of what YT recommend to users. "
   ]
  },
  {
   "cell_type": "code",
   "execution_count": null,
   "id": "e57600d2",
   "metadata": {},
   "outputs": [],
   "source": [
    "df = pd.DataFrame(yt.get_recommended_videos(ids[0])) \n",
    "df.channel_title"
   ]
  },
  {
   "cell_type": "markdown",
   "id": "01f67b9b",
   "metadata": {},
   "source": [
    "#### Search\n",
    "\n",
    "The youtube API also allows you to search for most popular videos using queries. "
   ]
  },
  {
   "cell_type": "code",
   "execution_count": null,
   "id": "6443c12e",
   "metadata": {},
   "outputs": [],
   "source": [
    "df = pd.DataFrame(yt.search(q='urnas, fraude', max_results=10))\n",
    "df.keys()\n",
    "df[[\"channel_title\", \"video_title\"]]"
   ]
  },
  {
   "cell_type": "markdown",
   "id": "e0baa34f",
   "metadata": {},
   "source": [
    "Some cool research using the Youtube API: \n",
    "    \n",
    "- [Lei et al, Estimating the Ideology of Political YouTube Videos](https://papers.ssrn.com/sol3/papers.cfm?abstract_id=4088828)\n",
    "\n",
    "- [Brown et al, Echo Chambers, Rabbit Holes, and Algorithmic Bias: How YouTube Recommends Content to Real Users](https://papers.ssrn.com/sol3/papers.cfm?abstract_id=4114905)\n",
    "    "
   ]
  }
 ],
 "metadata": {
  "kernelspec": {
   "display_name": "Python 3 (ipykernel)",
   "language": "python",
   "name": "python3"
  },
  "language_info": {
   "codemirror_mode": {
    "name": "ipython",
    "version": 3
   },
   "file_extension": ".py",
   "mimetype": "text/x-python",
   "name": "python",
   "nbconvert_exporter": "python",
   "pygments_lexer": "ipython3",
   "version": "3.11.4"
  }
 },
 "nbformat": 4,
 "nbformat_minor": 5
}
