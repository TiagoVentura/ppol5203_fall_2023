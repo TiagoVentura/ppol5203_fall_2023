{
 "cells": [
  {
   "cell_type": "markdown",
   "metadata": {},
   "source": [
    "<h1><center> PPOL564 - Data Science I: Foundations </center><h1>\n",
    "<h3><center> Lecture 8 <br><br><font color='grey'> \n",
    "Data Wrangling using Pandas <br> <br> <em>Part 1</em> </font></center></h3>"
   ]
  },
  {
   "cell_type": "markdown",
   "metadata": {},
   "source": [
    "## Missingness"
   ]
  },
  {
   "cell_type": "markdown",
   "metadata": {},
   "source": [
    "Above we immediately notice that a large portion of the storm data is missing or incomplete. We need a way to easily assess the extent of the missingness in our data, to drop these observations (if need be), or to plug the holes by filling in data values. "
   ]
  },
  {
   "cell_type": "markdown",
   "metadata": {},
   "source": [
    "### `.isna` & `.isnull`: take a census of the missing"
   ]
  },
  {
   "cell_type": "code",
   "execution_count": 41,
   "metadata": {
    "scrolled": true
   },
   "outputs": [
    {
     "data": {
      "text/html": [
       "<div>\n",
       "<style scoped>\n",
       "    .dataframe tbody tr th:only-of-type {\n",
       "        vertical-align: middle;\n",
       "    }\n",
       "\n",
       "    .dataframe tbody tr th {\n",
       "        vertical-align: top;\n",
       "    }\n",
       "\n",
       "    .dataframe thead th {\n",
       "        text-align: right;\n",
       "    }\n",
       "</style>\n",
       "<table border=\"1\" class=\"dataframe\">\n",
       "  <thead>\n",
       "    <tr style=\"text-align: right;\">\n",
       "      <th></th>\n",
       "      <th>begin_yearmonth</th>\n",
       "      <th>begin_day</th>\n",
       "      <th>begin_time</th>\n",
       "      <th>end_yearmonth</th>\n",
       "      <th>end_day</th>\n",
       "      <th>end_time</th>\n",
       "      <th>episode_id</th>\n",
       "      <th>event_id</th>\n",
       "      <th>state</th>\n",
       "      <th>state_fips</th>\n",
       "      <th>year</th>\n",
       "      <th>month_name</th>\n",
       "      <th>event_type</th>\n",
       "      <th>cz_type</th>\n",
       "      <th>cz_fips</th>\n",
       "      <th>cz_name</th>\n",
       "      <th>wfo</th>\n",
       "      <th>begin_date_time</th>\n",
       "      <th>cz_timezone</th>\n",
       "      <th>end_date_time</th>\n",
       "      <th>injuries_direct</th>\n",
       "      <th>injuries_indirect</th>\n",
       "      <th>deaths_direct</th>\n",
       "      <th>deaths_indirect</th>\n",
       "      <th>damage_property</th>\n",
       "      <th>damage_crops</th>\n",
       "      <th>source</th>\n",
       "      <th>magnitude</th>\n",
       "      <th>magnitude_type</th>\n",
       "      <th>flood_cause</th>\n",
       "      <th>category</th>\n",
       "      <th>tor_f_scale</th>\n",
       "      <th>tor_length</th>\n",
       "      <th>tor_width</th>\n",
       "      <th>tor_other_wfo</th>\n",
       "      <th>tor_other_cz_state</th>\n",
       "      <th>tor_other_cz_fips</th>\n",
       "      <th>tor_other_cz_name</th>\n",
       "      <th>begin_range</th>\n",
       "      <th>begin_azimuth</th>\n",
       "      <th>begin_location</th>\n",
       "      <th>end_range</th>\n",
       "      <th>end_azimuth</th>\n",
       "      <th>end_location</th>\n",
       "      <th>begin_lat</th>\n",
       "      <th>begin_lon</th>\n",
       "      <th>end_lat</th>\n",
       "      <th>end_lon</th>\n",
       "      <th>episode_narrative</th>\n",
       "      <th>event_narrative</th>\n",
       "      <th>data_source</th>\n",
       "    </tr>\n",
       "  </thead>\n",
       "  <tbody>\n",
       "    <tr>\n",
       "      <th>0</th>\n",
       "      <td>False</td>\n",
       "      <td>False</td>\n",
       "      <td>False</td>\n",
       "      <td>False</td>\n",
       "      <td>False</td>\n",
       "      <td>False</td>\n",
       "      <td>True</td>\n",
       "      <td>False</td>\n",
       "      <td>False</td>\n",
       "      <td>False</td>\n",
       "      <td>False</td>\n",
       "      <td>False</td>\n",
       "      <td>False</td>\n",
       "      <td>False</td>\n",
       "      <td>False</td>\n",
       "      <td>False</td>\n",
       "      <td>True</td>\n",
       "      <td>False</td>\n",
       "      <td>False</td>\n",
       "      <td>False</td>\n",
       "      <td>False</td>\n",
       "      <td>False</td>\n",
       "      <td>False</td>\n",
       "      <td>False</td>\n",
       "      <td>False</td>\n",
       "      <td>False</td>\n",
       "      <td>True</td>\n",
       "      <td>False</td>\n",
       "      <td>True</td>\n",
       "      <td>True</td>\n",
       "      <td>True</td>\n",
       "      <td>False</td>\n",
       "      <td>False</td>\n",
       "      <td>False</td>\n",
       "      <td>True</td>\n",
       "      <td>True</td>\n",
       "      <td>True</td>\n",
       "      <td>True</td>\n",
       "      <td>False</td>\n",
       "      <td>True</td>\n",
       "      <td>True</td>\n",
       "      <td>False</td>\n",
       "      <td>True</td>\n",
       "      <td>True</td>\n",
       "      <td>False</td>\n",
       "      <td>False</td>\n",
       "      <td>False</td>\n",
       "      <td>False</td>\n",
       "      <td>True</td>\n",
       "      <td>True</td>\n",
       "      <td>False</td>\n",
       "    </tr>\n",
       "    <tr>\n",
       "      <th>1</th>\n",
       "      <td>False</td>\n",
       "      <td>False</td>\n",
       "      <td>False</td>\n",
       "      <td>False</td>\n",
       "      <td>False</td>\n",
       "      <td>False</td>\n",
       "      <td>True</td>\n",
       "      <td>False</td>\n",
       "      <td>False</td>\n",
       "      <td>False</td>\n",
       "      <td>False</td>\n",
       "      <td>False</td>\n",
       "      <td>False</td>\n",
       "      <td>False</td>\n",
       "      <td>False</td>\n",
       "      <td>False</td>\n",
       "      <td>True</td>\n",
       "      <td>False</td>\n",
       "      <td>False</td>\n",
       "      <td>False</td>\n",
       "      <td>False</td>\n",
       "      <td>False</td>\n",
       "      <td>False</td>\n",
       "      <td>False</td>\n",
       "      <td>False</td>\n",
       "      <td>False</td>\n",
       "      <td>True</td>\n",
       "      <td>False</td>\n",
       "      <td>True</td>\n",
       "      <td>True</td>\n",
       "      <td>True</td>\n",
       "      <td>False</td>\n",
       "      <td>False</td>\n",
       "      <td>False</td>\n",
       "      <td>True</td>\n",
       "      <td>True</td>\n",
       "      <td>True</td>\n",
       "      <td>True</td>\n",
       "      <td>False</td>\n",
       "      <td>True</td>\n",
       "      <td>True</td>\n",
       "      <td>False</td>\n",
       "      <td>True</td>\n",
       "      <td>True</td>\n",
       "      <td>False</td>\n",
       "      <td>False</td>\n",
       "      <td>False</td>\n",
       "      <td>False</td>\n",
       "      <td>True</td>\n",
       "      <td>True</td>\n",
       "      <td>False</td>\n",
       "    </tr>\n",
       "    <tr>\n",
       "      <th>2</th>\n",
       "      <td>False</td>\n",
       "      <td>False</td>\n",
       "      <td>False</td>\n",
       "      <td>False</td>\n",
       "      <td>False</td>\n",
       "      <td>False</td>\n",
       "      <td>True</td>\n",
       "      <td>False</td>\n",
       "      <td>False</td>\n",
       "      <td>False</td>\n",
       "      <td>False</td>\n",
       "      <td>False</td>\n",
       "      <td>False</td>\n",
       "      <td>False</td>\n",
       "      <td>False</td>\n",
       "      <td>False</td>\n",
       "      <td>True</td>\n",
       "      <td>False</td>\n",
       "      <td>False</td>\n",
       "      <td>False</td>\n",
       "      <td>False</td>\n",
       "      <td>False</td>\n",
       "      <td>False</td>\n",
       "      <td>False</td>\n",
       "      <td>False</td>\n",
       "      <td>False</td>\n",
       "      <td>True</td>\n",
       "      <td>False</td>\n",
       "      <td>True</td>\n",
       "      <td>True</td>\n",
       "      <td>True</td>\n",
       "      <td>False</td>\n",
       "      <td>False</td>\n",
       "      <td>False</td>\n",
       "      <td>True</td>\n",
       "      <td>True</td>\n",
       "      <td>True</td>\n",
       "      <td>True</td>\n",
       "      <td>False</td>\n",
       "      <td>True</td>\n",
       "      <td>True</td>\n",
       "      <td>False</td>\n",
       "      <td>True</td>\n",
       "      <td>True</td>\n",
       "      <td>False</td>\n",
       "      <td>False</td>\n",
       "      <td>False</td>\n",
       "      <td>False</td>\n",
       "      <td>True</td>\n",
       "      <td>True</td>\n",
       "      <td>False</td>\n",
       "    </tr>\n",
       "    <tr>\n",
       "      <th>3</th>\n",
       "      <td>False</td>\n",
       "      <td>False</td>\n",
       "      <td>False</td>\n",
       "      <td>False</td>\n",
       "      <td>False</td>\n",
       "      <td>False</td>\n",
       "      <td>True</td>\n",
       "      <td>False</td>\n",
       "      <td>False</td>\n",
       "      <td>False</td>\n",
       "      <td>False</td>\n",
       "      <td>False</td>\n",
       "      <td>False</td>\n",
       "      <td>False</td>\n",
       "      <td>False</td>\n",
       "      <td>False</td>\n",
       "      <td>True</td>\n",
       "      <td>False</td>\n",
       "      <td>False</td>\n",
       "      <td>False</td>\n",
       "      <td>False</td>\n",
       "      <td>False</td>\n",
       "      <td>False</td>\n",
       "      <td>False</td>\n",
       "      <td>False</td>\n",
       "      <td>False</td>\n",
       "      <td>True</td>\n",
       "      <td>False</td>\n",
       "      <td>True</td>\n",
       "      <td>True</td>\n",
       "      <td>True</td>\n",
       "      <td>False</td>\n",
       "      <td>False</td>\n",
       "      <td>False</td>\n",
       "      <td>True</td>\n",
       "      <td>True</td>\n",
       "      <td>True</td>\n",
       "      <td>True</td>\n",
       "      <td>False</td>\n",
       "      <td>True</td>\n",
       "      <td>True</td>\n",
       "      <td>False</td>\n",
       "      <td>True</td>\n",
       "      <td>True</td>\n",
       "      <td>False</td>\n",
       "      <td>False</td>\n",
       "      <td>True</td>\n",
       "      <td>True</td>\n",
       "      <td>True</td>\n",
       "      <td>True</td>\n",
       "      <td>False</td>\n",
       "    </tr>\n",
       "    <tr>\n",
       "      <th>4</th>\n",
       "      <td>False</td>\n",
       "      <td>False</td>\n",
       "      <td>False</td>\n",
       "      <td>False</td>\n",
       "      <td>False</td>\n",
       "      <td>False</td>\n",
       "      <td>True</td>\n",
       "      <td>False</td>\n",
       "      <td>False</td>\n",
       "      <td>False</td>\n",
       "      <td>False</td>\n",
       "      <td>False</td>\n",
       "      <td>False</td>\n",
       "      <td>False</td>\n",
       "      <td>False</td>\n",
       "      <td>False</td>\n",
       "      <td>True</td>\n",
       "      <td>False</td>\n",
       "      <td>False</td>\n",
       "      <td>False</td>\n",
       "      <td>False</td>\n",
       "      <td>False</td>\n",
       "      <td>False</td>\n",
       "      <td>False</td>\n",
       "      <td>False</td>\n",
       "      <td>False</td>\n",
       "      <td>True</td>\n",
       "      <td>False</td>\n",
       "      <td>True</td>\n",
       "      <td>True</td>\n",
       "      <td>True</td>\n",
       "      <td>False</td>\n",
       "      <td>False</td>\n",
       "      <td>False</td>\n",
       "      <td>True</td>\n",
       "      <td>True</td>\n",
       "      <td>True</td>\n",
       "      <td>True</td>\n",
       "      <td>False</td>\n",
       "      <td>True</td>\n",
       "      <td>True</td>\n",
       "      <td>False</td>\n",
       "      <td>True</td>\n",
       "      <td>True</td>\n",
       "      <td>False</td>\n",
       "      <td>False</td>\n",
       "      <td>True</td>\n",
       "      <td>True</td>\n",
       "      <td>True</td>\n",
       "      <td>True</td>\n",
       "      <td>False</td>\n",
       "    </tr>\n",
       "  </tbody>\n",
       "</table>\n",
       "</div>"
      ],
      "text/plain": [
       "   begin_yearmonth  begin_day  begin_time  end_yearmonth  end_day  end_time  \\\n",
       "0            False      False       False          False    False     False   \n",
       "1            False      False       False          False    False     False   \n",
       "2            False      False       False          False    False     False   \n",
       "3            False      False       False          False    False     False   \n",
       "4            False      False       False          False    False     False   \n",
       "\n",
       "   episode_id  event_id  state  state_fips   year  month_name  event_type  \\\n",
       "0        True     False  False       False  False       False       False   \n",
       "1        True     False  False       False  False       False       False   \n",
       "2        True     False  False       False  False       False       False   \n",
       "3        True     False  False       False  False       False       False   \n",
       "4        True     False  False       False  False       False       False   \n",
       "\n",
       "   cz_type  cz_fips  cz_name   wfo  begin_date_time  cz_timezone  \\\n",
       "0    False    False    False  True            False        False   \n",
       "1    False    False    False  True            False        False   \n",
       "2    False    False    False  True            False        False   \n",
       "3    False    False    False  True            False        False   \n",
       "4    False    False    False  True            False        False   \n",
       "\n",
       "   end_date_time  injuries_direct  injuries_indirect  deaths_direct  \\\n",
       "0          False            False              False          False   \n",
       "1          False            False              False          False   \n",
       "2          False            False              False          False   \n",
       "3          False            False              False          False   \n",
       "4          False            False              False          False   \n",
       "\n",
       "   deaths_indirect  damage_property  damage_crops  source  magnitude  \\\n",
       "0            False            False         False    True      False   \n",
       "1            False            False         False    True      False   \n",
       "2            False            False         False    True      False   \n",
       "3            False            False         False    True      False   \n",
       "4            False            False         False    True      False   \n",
       "\n",
       "   magnitude_type  flood_cause  category  tor_f_scale  tor_length  tor_width  \\\n",
       "0            True         True      True        False       False      False   \n",
       "1            True         True      True        False       False      False   \n",
       "2            True         True      True        False       False      False   \n",
       "3            True         True      True        False       False      False   \n",
       "4            True         True      True        False       False      False   \n",
       "\n",
       "   tor_other_wfo  tor_other_cz_state  tor_other_cz_fips  tor_other_cz_name  \\\n",
       "0           True                True               True               True   \n",
       "1           True                True               True               True   \n",
       "2           True                True               True               True   \n",
       "3           True                True               True               True   \n",
       "4           True                True               True               True   \n",
       "\n",
       "   begin_range  begin_azimuth  begin_location  end_range  end_azimuth  \\\n",
       "0        False           True            True      False         True   \n",
       "1        False           True            True      False         True   \n",
       "2        False           True            True      False         True   \n",
       "3        False           True            True      False         True   \n",
       "4        False           True            True      False         True   \n",
       "\n",
       "   end_location  begin_lat  begin_lon  end_lat  end_lon  episode_narrative  \\\n",
       "0          True      False      False    False    False               True   \n",
       "1          True      False      False    False    False               True   \n",
       "2          True      False      False    False    False               True   \n",
       "3          True      False      False     True     True               True   \n",
       "4          True      False      False     True     True               True   \n",
       "\n",
       "   event_narrative  data_source  \n",
       "0             True        False  \n",
       "1             True        False  \n",
       "2             True        False  \n",
       "3             True        False  \n",
       "4             True        False  "
      ]
     },
     "execution_count": 41,
     "metadata": {},
     "output_type": "execute_result"
    }
   ],
   "source": [
    "storm.isna().head()"
   ]
  },
  {
   "cell_type": "code",
   "execution_count": 139,
   "metadata": {
    "scrolled": true
   },
   "outputs": [
    {
     "data": {
      "text/plain": [
       "begin_yearmonth         0\n",
       "begin_day               0\n",
       "begin_time              0\n",
       "end_yearmonth           0\n",
       "end_day                 0\n",
       "end_time                0\n",
       "episode_id            223\n",
       "event_id                0\n",
       "state                   0\n",
       "state_fips              0\n",
       "year                    0\n",
       "month_name              0\n",
       "event_type              0\n",
       "cz_type                 0\n",
       "cz_fips                 0\n",
       "cz_name                 0\n",
       "wfo                   223\n",
       "begin_date_time         0\n",
       "cz_timezone             0\n",
       "end_date_time           0\n",
       "injuries_direct         0\n",
       "injuries_indirect       0\n",
       "deaths_direct           0\n",
       "deaths_indirect         0\n",
       "damage_property         0\n",
       "damage_crops            0\n",
       "source                223\n",
       "magnitude               0\n",
       "magnitude_type        223\n",
       "flood_cause           223\n",
       "category              223\n",
       "tor_f_scale             6\n",
       "tor_length              0\n",
       "tor_width               0\n",
       "tor_other_wfo         223\n",
       "tor_other_cz_state    223\n",
       "tor_other_cz_fips     223\n",
       "tor_other_cz_name     223\n",
       "begin_range             0\n",
       "begin_azimuth         223\n",
       "begin_location        223\n",
       "end_range               0\n",
       "end_azimuth           223\n",
       "end_location          223\n",
       "begin_lat               0\n",
       "begin_lon               0\n",
       "end_lat               108\n",
       "end_lon               108\n",
       "episode_narrative     223\n",
       "event_narrative       223\n",
       "data_source             0\n",
       "dtype: int64"
      ]
     },
     "execution_count": 139,
     "metadata": {},
     "output_type": "execute_result"
    }
   ],
   "source": [
    "missing = storm.isna().sum()\n",
    "missing"
   ]
  },
  {
   "cell_type": "markdown",
   "metadata": {},
   "source": [
    "`.isna()` and `.isnull()` are performing the same operation here. "
   ]
  },
  {
   "cell_type": "code",
   "execution_count": 43,
   "metadata": {},
   "outputs": [
    {
     "data": {
      "text/plain": [
       "True"
      ]
     },
     "execution_count": 43,
     "metadata": {},
     "output_type": "execute_result"
    }
   ],
   "source": [
    "np.all(storm.isnull().sum() == missing)"
   ]
  },
  {
   "cell_type": "markdown",
   "metadata": {},
   "source": [
    "We can make this data even more informative by dividing the series by the total number of data entries in order to get a proportion of the total data that is missing."
   ]
  },
  {
   "cell_type": "code",
   "execution_count": 140,
   "metadata": {
    "scrolled": true
   },
   "outputs": [
    {
     "data": {
      "text/plain": [
       "begin_yearmonth       0.000000\n",
       "begin_day             0.000000\n",
       "begin_time            0.000000\n",
       "end_yearmonth         0.000000\n",
       "end_day               0.000000\n",
       "end_time              0.000000\n",
       "episode_id            1.000000\n",
       "event_id              0.000000\n",
       "state                 0.000000\n",
       "state_fips            0.000000\n",
       "year                  0.000000\n",
       "month_name            0.000000\n",
       "event_type            0.000000\n",
       "cz_type               0.000000\n",
       "cz_fips               0.000000\n",
       "cz_name               0.000000\n",
       "wfo                   1.000000\n",
       "begin_date_time       0.000000\n",
       "cz_timezone           0.000000\n",
       "end_date_time         0.000000\n",
       "injuries_direct       0.000000\n",
       "injuries_indirect     0.000000\n",
       "deaths_direct         0.000000\n",
       "deaths_indirect       0.000000\n",
       "damage_property       0.000000\n",
       "damage_crops          0.000000\n",
       "source                1.000000\n",
       "magnitude             0.000000\n",
       "magnitude_type        1.000000\n",
       "flood_cause           1.000000\n",
       "category              1.000000\n",
       "tor_f_scale           0.026906\n",
       "tor_length            0.000000\n",
       "tor_width             0.000000\n",
       "tor_other_wfo         1.000000\n",
       "tor_other_cz_state    1.000000\n",
       "tor_other_cz_fips     1.000000\n",
       "tor_other_cz_name     1.000000\n",
       "begin_range           0.000000\n",
       "begin_azimuth         1.000000\n",
       "begin_location        1.000000\n",
       "end_range             0.000000\n",
       "end_azimuth           1.000000\n",
       "end_location          1.000000\n",
       "begin_lat             0.000000\n",
       "begin_lon             0.000000\n",
       "end_lat               0.484305\n",
       "end_lon               0.484305\n",
       "episode_narrative     1.000000\n",
       "event_narrative       1.000000\n",
       "data_source           0.000000\n",
       "dtype: float64"
      ]
     },
     "execution_count": 140,
     "metadata": {},
     "output_type": "execute_result"
    }
   ],
   "source": [
    "prop_missing = missing/storm.shape[0]\n",
    "prop_missing"
   ]
  },
  {
   "cell_type": "markdown",
   "metadata": {},
   "source": [
    "Finally, let's subset the series to only look at the data entries that are missing data. As we can see, we have 16 variables that are _completely missing_ (i.e. there are no data in these columns). Likewise, we have two variables (geo-references) that are missing roughly 50% of their entries."
   ]
  },
  {
   "cell_type": "code",
   "execution_count": 45,
   "metadata": {},
   "outputs": [
    {
     "data": {
      "text/plain": [
       "event_narrative       1.000000\n",
       "episode_narrative     1.000000\n",
       "wfo                   1.000000\n",
       "source                1.000000\n",
       "magnitude_type        1.000000\n",
       "flood_cause           1.000000\n",
       "category              1.000000\n",
       "tor_other_wfo         1.000000\n",
       "tor_other_cz_state    1.000000\n",
       "tor_other_cz_fips     1.000000\n",
       "tor_other_cz_name     1.000000\n",
       "begin_azimuth         1.000000\n",
       "begin_location        1.000000\n",
       "end_azimuth           1.000000\n",
       "end_location          1.000000\n",
       "episode_id            1.000000\n",
       "end_lat               0.484305\n",
       "end_lon               0.484305\n",
       "tor_f_scale           0.026906\n",
       "dtype: float64"
      ]
     },
     "execution_count": 45,
     "metadata": {},
     "output_type": "execute_result"
    }
   ],
   "source": [
    "prop_missing[prop_missing>0].sort_values(ascending=False)"
   ]
  },
  {
   "cell_type": "markdown",
   "metadata": {},
   "source": [
    "Let's `.drop()` the columns that do not contain any data. "
   ]
  },
  {
   "cell_type": "code",
   "execution_count": 46,
   "metadata": {},
   "outputs": [
    {
     "data": {
      "text/plain": [
       "Index(['episode_id', 'wfo', 'source', 'magnitude_type', 'flood_cause',\n",
       "       'category', 'tor_other_wfo', 'tor_other_cz_state', 'tor_other_cz_fips',\n",
       "       'tor_other_cz_name', 'begin_azimuth', 'begin_location', 'end_azimuth',\n",
       "       'end_location', 'episode_narrative', 'event_narrative'],\n",
       "      dtype='object')"
      ]
     },
     "execution_count": 46,
     "metadata": {},
     "output_type": "execute_result"
    }
   ],
   "source": [
    "drop_these_vars = prop_missing[prop_missing==1].index\n",
    "drop_these_vars"
   ]
  },
  {
   "cell_type": "markdown",
   "metadata": {},
   "source": [
    "Here we create a new object containing the subsetted data."
   ]
  },
  {
   "cell_type": "code",
   "execution_count": 47,
   "metadata": {},
   "outputs": [],
   "source": [
    "storm2 = storm.drop(columns=drop_these_vars)"
   ]
  },
  {
   "cell_type": "code",
   "execution_count": 48,
   "metadata": {},
   "outputs": [
    {
     "name": "stdout",
     "output_type": "stream",
     "text": [
      "(223, 51)\n",
      "(223, 35)\n"
     ]
    }
   ],
   "source": [
    "# Compare the dimensions of the two data frames.\n",
    "print(storm.shape)\n",
    "print(storm2.shape)"
   ]
  },
  {
   "cell_type": "markdown",
   "metadata": {},
   "source": [
    "Note that in dropping columns, we are making a new data object (i.e. a copy of the original)."
   ]
  },
  {
   "cell_type": "code",
   "execution_count": 49,
   "metadata": {},
   "outputs": [
    {
     "data": {
      "text/plain": [
       "4505933024"
      ]
     },
     "execution_count": 49,
     "metadata": {},
     "output_type": "execute_result"
    }
   ],
   "source": [
    "id(storm)"
   ]
  },
  {
   "cell_type": "code",
   "execution_count": 50,
   "metadata": {},
   "outputs": [
    {
     "data": {
      "text/plain": [
       "4509586936"
      ]
     },
     "execution_count": 50,
     "metadata": {},
     "output_type": "execute_result"
    }
   ],
   "source": [
    "id(storm2)"
   ]
  },
  {
   "cell_type": "markdown",
   "metadata": {},
   "source": [
    "### `.fillna()` or `.dropna()`: dealing with incompleteness \n",
    "\n",
    "There is a trade-off we always have to make when dealing with missing values. \n",
    "\n",
    "1. **list-wise deletion**: ignore them and drop them.\n",
    "\n",
    "\n",
    "2. **imputation**: guess a plausible value that the data could take on.\n",
    "\n",
    "Neither method is risk-free. Both potentially distort the data in undesirable ways. This decision on how to deal with missing data is ultimately a **hyperparameter**, i.e. a parameter we can't learn from the model but must specify. Thus, we can adjust how we choose to deal with missing data as look at its downstream impact on model performance just as we'll do with any machine learning model."
   ]
  },
  {
   "cell_type": "markdown",
   "metadata": {},
   "source": [
    "#### List-wise deletion\n",
    "If we drop the missing values from our storm data, we'll lose roughly half the data. Given our limited sample size, that might not be ideal."
   ]
  },
  {
   "cell_type": "code",
   "execution_count": 51,
   "metadata": {},
   "outputs": [],
   "source": [
    "storm3 = storm2.dropna()"
   ]
  },
  {
   "cell_type": "code",
   "execution_count": 52,
   "metadata": {},
   "outputs": [
    {
     "data": {
      "text/plain": [
       "(115, 35)"
      ]
     },
     "execution_count": 52,
     "metadata": {},
     "output_type": "execute_result"
    }
   ],
   "source": [
    "storm3.shape"
   ]
  },
  {
   "cell_type": "markdown",
   "metadata": {},
   "source": [
    "#### imputation\n",
    "\n",
    "Rather we can fill the value with a place holder."
   ]
  },
  {
   "cell_type": "code",
   "execution_count": 141,
   "metadata": {},
   "outputs": [
    {
     "data": {
      "text/html": [
       "<div>\n",
       "<style scoped>\n",
       "    .dataframe tbody tr th:only-of-type {\n",
       "        vertical-align: middle;\n",
       "    }\n",
       "\n",
       "    .dataframe tbody tr th {\n",
       "        vertical-align: top;\n",
       "    }\n",
       "\n",
       "    .dataframe thead th {\n",
       "        text-align: right;\n",
       "    }\n",
       "</style>\n",
       "<table border=\"1\" class=\"dataframe\">\n",
       "  <thead>\n",
       "    <tr style=\"text-align: right;\">\n",
       "      <th></th>\n",
       "      <th>end_lat</th>\n",
       "      <th>end_lon</th>\n",
       "    </tr>\n",
       "  </thead>\n",
       "  <tbody>\n",
       "    <tr>\n",
       "      <th>0</th>\n",
       "      <td>35.17</td>\n",
       "      <td>-99.20</td>\n",
       "    </tr>\n",
       "    <tr>\n",
       "      <th>1</th>\n",
       "      <td>31.73</td>\n",
       "      <td>-98.60</td>\n",
       "    </tr>\n",
       "    <tr>\n",
       "      <th>2</th>\n",
       "      <td>40.65</td>\n",
       "      <td>-75.47</td>\n",
       "    </tr>\n",
       "    <tr>\n",
       "      <th>3</th>\n",
       "      <td>NaN</td>\n",
       "      <td>NaN</td>\n",
       "    </tr>\n",
       "    <tr>\n",
       "      <th>4</th>\n",
       "      <td>NaN</td>\n",
       "      <td>NaN</td>\n",
       "    </tr>\n",
       "    <tr>\n",
       "      <th>5</th>\n",
       "      <td>NaN</td>\n",
       "      <td>NaN</td>\n",
       "    </tr>\n",
       "    <tr>\n",
       "      <th>6</th>\n",
       "      <td>40.27</td>\n",
       "      <td>-76.07</td>\n",
       "    </tr>\n",
       "  </tbody>\n",
       "</table>\n",
       "</div>"
      ],
      "text/plain": [
       "   end_lat  end_lon\n",
       "0    35.17   -99.20\n",
       "1    31.73   -98.60\n",
       "2    40.65   -75.47\n",
       "3      NaN      NaN\n",
       "4      NaN      NaN\n",
       "5      NaN      NaN\n",
       "6    40.27   -76.07"
      ]
     },
     "execution_count": 141,
     "metadata": {},
     "output_type": "execute_result"
    }
   ],
   "source": [
    "example = storm2.loc[:6,[\"end_lat\",\"end_lon\"]]\n",
    "example"
   ]
  },
  {
   "cell_type": "markdown",
   "metadata": {},
   "source": [
    "**Placeholder values**"
   ]
  },
  {
   "cell_type": "code",
   "execution_count": 54,
   "metadata": {},
   "outputs": [
    {
     "data": {
      "text/html": [
       "<div>\n",
       "<style scoped>\n",
       "    .dataframe tbody tr th:only-of-type {\n",
       "        vertical-align: middle;\n",
       "    }\n",
       "\n",
       "    .dataframe tbody tr th {\n",
       "        vertical-align: top;\n",
       "    }\n",
       "\n",
       "    .dataframe thead th {\n",
       "        text-align: right;\n",
       "    }\n",
       "</style>\n",
       "<table border=\"1\" class=\"dataframe\">\n",
       "  <thead>\n",
       "    <tr style=\"text-align: right;\">\n",
       "      <th></th>\n",
       "      <th>end_lat</th>\n",
       "      <th>end_lon</th>\n",
       "    </tr>\n",
       "  </thead>\n",
       "  <tbody>\n",
       "    <tr>\n",
       "      <th>0</th>\n",
       "      <td>35.17</td>\n",
       "      <td>-99.20</td>\n",
       "    </tr>\n",
       "    <tr>\n",
       "      <th>1</th>\n",
       "      <td>31.73</td>\n",
       "      <td>-98.60</td>\n",
       "    </tr>\n",
       "    <tr>\n",
       "      <th>2</th>\n",
       "      <td>40.65</td>\n",
       "      <td>-75.47</td>\n",
       "    </tr>\n",
       "    <tr>\n",
       "      <th>3</th>\n",
       "      <td>-99.00</td>\n",
       "      <td>-99.00</td>\n",
       "    </tr>\n",
       "    <tr>\n",
       "      <th>4</th>\n",
       "      <td>-99.00</td>\n",
       "      <td>-99.00</td>\n",
       "    </tr>\n",
       "    <tr>\n",
       "      <th>5</th>\n",
       "      <td>-99.00</td>\n",
       "      <td>-99.00</td>\n",
       "    </tr>\n",
       "    <tr>\n",
       "      <th>6</th>\n",
       "      <td>40.27</td>\n",
       "      <td>-76.07</td>\n",
       "    </tr>\n",
       "  </tbody>\n",
       "</table>\n",
       "</div>"
      ],
      "text/plain": [
       "   end_lat  end_lon\n",
       "0    35.17   -99.20\n",
       "1    31.73   -98.60\n",
       "2    40.65   -75.47\n",
       "3   -99.00   -99.00\n",
       "4   -99.00   -99.00\n",
       "5   -99.00   -99.00\n",
       "6    40.27   -76.07"
      ]
     },
     "execution_count": 54,
     "metadata": {},
     "output_type": "execute_result"
    }
   ],
   "source": [
    "example.fillna(-99) # Why is this problematic?"
   ]
  },
  {
   "cell_type": "code",
   "execution_count": 55,
   "metadata": {},
   "outputs": [
    {
     "data": {
      "text/html": [
       "<div>\n",
       "<style scoped>\n",
       "    .dataframe tbody tr th:only-of-type {\n",
       "        vertical-align: middle;\n",
       "    }\n",
       "\n",
       "    .dataframe tbody tr th {\n",
       "        vertical-align: top;\n",
       "    }\n",
       "\n",
       "    .dataframe thead th {\n",
       "        text-align: right;\n",
       "    }\n",
       "</style>\n",
       "<table border=\"1\" class=\"dataframe\">\n",
       "  <thead>\n",
       "    <tr style=\"text-align: right;\">\n",
       "      <th></th>\n",
       "      <th>end_lat</th>\n",
       "      <th>end_lon</th>\n",
       "    </tr>\n",
       "  </thead>\n",
       "  <tbody>\n",
       "    <tr>\n",
       "      <th>0</th>\n",
       "      <td>35.17</td>\n",
       "      <td>-99.2</td>\n",
       "    </tr>\n",
       "    <tr>\n",
       "      <th>1</th>\n",
       "      <td>31.73</td>\n",
       "      <td>-98.6</td>\n",
       "    </tr>\n",
       "    <tr>\n",
       "      <th>2</th>\n",
       "      <td>40.65</td>\n",
       "      <td>-75.47</td>\n",
       "    </tr>\n",
       "    <tr>\n",
       "      <th>3</th>\n",
       "      <td>Missing</td>\n",
       "      <td>Missing</td>\n",
       "    </tr>\n",
       "    <tr>\n",
       "      <th>4</th>\n",
       "      <td>Missing</td>\n",
       "      <td>Missing</td>\n",
       "    </tr>\n",
       "    <tr>\n",
       "      <th>5</th>\n",
       "      <td>Missing</td>\n",
       "      <td>Missing</td>\n",
       "    </tr>\n",
       "    <tr>\n",
       "      <th>6</th>\n",
       "      <td>40.27</td>\n",
       "      <td>-76.07</td>\n",
       "    </tr>\n",
       "  </tbody>\n",
       "</table>\n",
       "</div>"
      ],
      "text/plain": [
       "   end_lat  end_lon\n",
       "0    35.17    -99.2\n",
       "1    31.73    -98.6\n",
       "2    40.65   -75.47\n",
       "3  Missing  Missing\n",
       "4  Missing  Missing\n",
       "5  Missing  Missing\n",
       "6    40.27   -76.07"
      ]
     },
     "execution_count": 55,
     "metadata": {},
     "output_type": "execute_result"
    }
   ],
   "source": [
    "example.fillna(\"Missing\") # Why is this problematic?"
   ]
  },
  {
   "cell_type": "markdown",
   "metadata": {},
   "source": [
    "**forward-fill**: forward propagation of previous values into current values."
   ]
  },
  {
   "cell_type": "code",
   "execution_count": 56,
   "metadata": {},
   "outputs": [
    {
     "data": {
      "text/html": [
       "<div>\n",
       "<style scoped>\n",
       "    .dataframe tbody tr th:only-of-type {\n",
       "        vertical-align: middle;\n",
       "    }\n",
       "\n",
       "    .dataframe tbody tr th {\n",
       "        vertical-align: top;\n",
       "    }\n",
       "\n",
       "    .dataframe thead th {\n",
       "        text-align: right;\n",
       "    }\n",
       "</style>\n",
       "<table border=\"1\" class=\"dataframe\">\n",
       "  <thead>\n",
       "    <tr style=\"text-align: right;\">\n",
       "      <th></th>\n",
       "      <th>end_lat</th>\n",
       "      <th>end_lon</th>\n",
       "    </tr>\n",
       "  </thead>\n",
       "  <tbody>\n",
       "    <tr>\n",
       "      <th>0</th>\n",
       "      <td>35.17</td>\n",
       "      <td>-99.20</td>\n",
       "    </tr>\n",
       "    <tr>\n",
       "      <th>1</th>\n",
       "      <td>31.73</td>\n",
       "      <td>-98.60</td>\n",
       "    </tr>\n",
       "    <tr>\n",
       "      <th>2</th>\n",
       "      <td>40.65</td>\n",
       "      <td>-75.47</td>\n",
       "    </tr>\n",
       "    <tr>\n",
       "      <th>3</th>\n",
       "      <td>40.65</td>\n",
       "      <td>-75.47</td>\n",
       "    </tr>\n",
       "    <tr>\n",
       "      <th>4</th>\n",
       "      <td>40.65</td>\n",
       "      <td>-75.47</td>\n",
       "    </tr>\n",
       "    <tr>\n",
       "      <th>5</th>\n",
       "      <td>40.65</td>\n",
       "      <td>-75.47</td>\n",
       "    </tr>\n",
       "    <tr>\n",
       "      <th>6</th>\n",
       "      <td>40.27</td>\n",
       "      <td>-76.07</td>\n",
       "    </tr>\n",
       "  </tbody>\n",
       "</table>\n",
       "</div>"
      ],
      "text/plain": [
       "   end_lat  end_lon\n",
       "0    35.17   -99.20\n",
       "1    31.73   -98.60\n",
       "2    40.65   -75.47\n",
       "3    40.65   -75.47\n",
       "4    40.65   -75.47\n",
       "5    40.65   -75.47\n",
       "6    40.27   -76.07"
      ]
     },
     "execution_count": 56,
     "metadata": {},
     "output_type": "execute_result"
    }
   ],
   "source": [
    "example.ffill() "
   ]
  },
  {
   "cell_type": "markdown",
   "metadata": {},
   "source": [
    "**back-fill**: backward propagation of future values into current values."
   ]
  },
  {
   "cell_type": "code",
   "execution_count": 57,
   "metadata": {},
   "outputs": [
    {
     "data": {
      "text/html": [
       "<div>\n",
       "<style scoped>\n",
       "    .dataframe tbody tr th:only-of-type {\n",
       "        vertical-align: middle;\n",
       "    }\n",
       "\n",
       "    .dataframe tbody tr th {\n",
       "        vertical-align: top;\n",
       "    }\n",
       "\n",
       "    .dataframe thead th {\n",
       "        text-align: right;\n",
       "    }\n",
       "</style>\n",
       "<table border=\"1\" class=\"dataframe\">\n",
       "  <thead>\n",
       "    <tr style=\"text-align: right;\">\n",
       "      <th></th>\n",
       "      <th>end_lat</th>\n",
       "      <th>end_lon</th>\n",
       "    </tr>\n",
       "  </thead>\n",
       "  <tbody>\n",
       "    <tr>\n",
       "      <th>0</th>\n",
       "      <td>35.17</td>\n",
       "      <td>-99.20</td>\n",
       "    </tr>\n",
       "    <tr>\n",
       "      <th>1</th>\n",
       "      <td>31.73</td>\n",
       "      <td>-98.60</td>\n",
       "    </tr>\n",
       "    <tr>\n",
       "      <th>2</th>\n",
       "      <td>40.65</td>\n",
       "      <td>-75.47</td>\n",
       "    </tr>\n",
       "    <tr>\n",
       "      <th>3</th>\n",
       "      <td>40.27</td>\n",
       "      <td>-76.07</td>\n",
       "    </tr>\n",
       "    <tr>\n",
       "      <th>4</th>\n",
       "      <td>40.27</td>\n",
       "      <td>-76.07</td>\n",
       "    </tr>\n",
       "    <tr>\n",
       "      <th>5</th>\n",
       "      <td>40.27</td>\n",
       "      <td>-76.07</td>\n",
       "    </tr>\n",
       "    <tr>\n",
       "      <th>6</th>\n",
       "      <td>40.27</td>\n",
       "      <td>-76.07</td>\n",
       "    </tr>\n",
       "  </tbody>\n",
       "</table>\n",
       "</div>"
      ],
      "text/plain": [
       "   end_lat  end_lon\n",
       "0    35.17   -99.20\n",
       "1    31.73   -98.60\n",
       "2    40.65   -75.47\n",
       "3    40.27   -76.07\n",
       "4    40.27   -76.07\n",
       "5    40.27   -76.07\n",
       "6    40.27   -76.07"
      ]
     },
     "execution_count": 57,
     "metadata": {},
     "output_type": "execute_result"
    }
   ],
   "source": [
    "example.bfill()"
   ]
  },
  {
   "cell_type": "markdown",
   "metadata": {},
   "source": [
    "Forward and back fill make little sense when we're not explicitly dealing with a time series containing the same units (e.g. countries). For example, here location values for other disasters are being used to plug the holes for missing entries from other disasters, making the data meaningless. "
   ]
  },
  {
   "cell_type": "markdown",
   "metadata": {},
   "source": [
    "Note that this <u>_barely scratches the surface of imputation techniques_</u>. But we'll always want to think carefully about what it means to manufacture data when data doesn't exist."
   ]
  }
 ],
 "metadata": {
  "kernelspec": {
   "display_name": "Python 3 (ipykernel)",
   "language": "python",
   "name": "python3"
  },
  "language_info": {
   "codemirror_mode": {
    "name": "ipython",
    "version": 3
   },
   "file_extension": ".py",
   "mimetype": "text/x-python",
   "name": "python",
   "nbconvert_exporter": "python",
   "pygments_lexer": "ipython3",
   "version": "3.11.4"
  },
  "toc": {
   "base_numbering": 1,
   "nav_menu": {},
   "number_sections": false,
   "sideBar": false,
   "skip_h1_title": false,
   "title_cell": "Table of Contents",
   "title_sidebar": "Contents",
   "toc_cell": false,
   "toc_position": {},
   "toc_section_display": true,
   "toc_window_display": false
  }
 },
 "nbformat": 4,
 "nbformat_minor": 2
}
