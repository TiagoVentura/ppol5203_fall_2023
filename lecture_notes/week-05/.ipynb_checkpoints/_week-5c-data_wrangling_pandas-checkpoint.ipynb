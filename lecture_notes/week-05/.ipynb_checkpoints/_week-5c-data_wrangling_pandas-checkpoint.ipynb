{
 "cells": [
  {
   "cell_type": "markdown",
   "id": "dd9b9e62",
   "metadata": {},
   "source": [
    "<h1><center> PPOL 5203 Data Science I: Foundations <br><br> \n",
    "<font color='grey'> Writing and Loading Data in Pandas<br><br>\n",
    "Tiago Ventura</center></center> <h1> \n",
    "\n",
    "---"
   ]
  },
  {
   "cell_type": "markdown",
   "id": "07e09ea3",
   "metadata": {},
   "source": [
    "**In this Notebook we cover**\n",
    "\n",
    "- Loading data using `pandas`\n",
    "- Saving data using `pandas`"
   ]
  },
  {
   "cell_type": "markdown",
   "id": "8f7809b7",
   "metadata": {},
   "source": [
    "## Data in and Data out in `Pandas`\n",
    "\n",
    "In our class on file managements, we saw how to use connection managament tools in Python (`open()`, `close()`, `with()`) to load data stored locally into our Python environments. That process usually involved accessing a locally stored data row by row, and import the data a nested container (list or dictionary). \n",
    "\n",
    "Today, we will see the use of high-level functions from Pandas that facilitate the process of loading data into our Python environment. We will focus on data input and output using pandas, though there are numerous tools in other libraries to help with reading and writing data in various formats.\n",
    "\n",
    "### `pandas` methods\n",
    "\n",
    "`pandas` contains a variety of methods for reading in various data types.\n",
    "\n",
    "|Format Type\t|Data Description |\tReader |\tWriter| Note |\n",
    "|:------:|:------:|:------:|:------:|:------:| \n",
    "|text\t|CSV\t|`read_csv`\t| `to_csv` |\n",
    "|text\t|JSON\t|`read_json`\t|`to_json`|\n",
    "|text\t|HTML\t|`read_html`\t|`to_html`|\n",
    "|text\t|Local clipboard\t|`read_clipboard`\t|`to_clipboard`|\n",
    "|binary\t|MS Excel\t|`read_excel`\t|`to_excel`| need the `xlwt` module\n",
    "|binary\t|OpenDocument\t|`read_excel`\t |\n",
    "|binary\t|HDF5 Format\t|`read_hdf`\t|`to_hdf`|\n",
    "|binary\t|Feather Format\t|`read_feather`\t|`to_feather`|\n",
    "|binary\t|Parquet Format\t|`read_parquet`\t|`to_parquet`|\n",
    "|binary\t|Msgpack\t|`read_msgpack`\t|`to_msgpack`|\n",
    "|binary\t|Stata\t|`read_stata`\t|`to_stata`|\n",
    "|binary\t|SAS\t|`read_sas`\t |\n",
    "|binary\t|Python Pickle Format\t|`read_pickle`\t|`to_pickle`|\n",
    "|SQL\t|SQL\t|`read_sql`\t|`to_sql`|\n",
    "|SQL\t|Google Big Query\t|`read_gbq`\t|`to_gbq`|\n",
    "\n",
    "Read more about all the input/output methods [here](https://pandas.pydata.org/pandas-docs/stable/user_guide/io.html).\n",
    "\n",
    "\n",
    "\n",
    "\n",
    "\n"
   ]
  },
  {
   "cell_type": "code",
   "execution_count": null,
   "id": "e8241b08",
   "metadata": {},
   "outputs": [],
   "source": []
  },
  {
   "cell_type": "code",
   "execution_count": null,
   "id": "da6b2e93",
   "metadata": {},
   "outputs": [],
   "source": []
  },
  {
   "cell_type": "code",
   "execution_count": null,
   "id": "6d51c465",
   "metadata": {},
   "outputs": [],
   "source": []
  }
 ],
 "metadata": {
  "kernelspec": {
   "display_name": "Python 3 (ipykernel)",
   "language": "python",
   "name": "python3"
  },
  "language_info": {
   "codemirror_mode": {
    "name": "ipython",
    "version": 3
   },
   "file_extension": ".py",
   "mimetype": "text/x-python",
   "name": "python",
   "nbconvert_exporter": "python",
   "pygments_lexer": "ipython3",
   "version": "3.8.16"
  }
 },
 "nbformat": 4,
 "nbformat_minor": 5
}
