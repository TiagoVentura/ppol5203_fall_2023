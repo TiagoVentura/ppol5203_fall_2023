{
 "cells": [
  {
   "cell_type": "markdown",
   "id": "dd9b9e62",
   "metadata": {},
   "source": [
    "<h1><center> PPOL 5203 Data Science I: Foundations <br><br> \n",
    "<font color='grey'> Joining Data and Miscellaneous in Pandas<br><br>\n",
    "Tiago Ventura</center></center> <h1> \n",
    "\n",
    "---"
   ]
  },
  {
   "cell_type": "markdown",
   "id": "07e09ea3",
   "metadata": {},
   "source": [
    "**In this Notebook we cover**\n",
    "\n",
    "This is our last notebook of data wrangling with `Pandas`. We will manly cover: \n",
    "\n",
    "- Joining Methods in Pandas\n",
    "\n",
    "Then, we will see some miscellaneous topics: \n",
    "\n",
    "- Dealing with Missing Values\n",
    "- Pipining in Pandas. \n"
   ]
  },
  {
   "cell_type": "code",
   "execution_count": null,
   "id": "e8241b08",
   "metadata": {},
   "outputs": [],
   "source": []
  },
  {
   "cell_type": "code",
   "execution_count": null,
   "id": "da6b2e93",
   "metadata": {},
   "outputs": [],
   "source": []
  },
  {
   "cell_type": "code",
   "execution_count": null,
   "id": "6d51c465",
   "metadata": {},
   "outputs": [],
   "source": []
  }
 ],
 "metadata": {
  "kernelspec": {
   "display_name": "Python 3 (ipykernel)",
   "language": "python",
   "name": "python3"
  },
  "language_info": {
   "codemirror_mode": {
    "name": "ipython",
    "version": 3
   },
   "file_extension": ".py",
   "mimetype": "text/x-python",
   "name": "python",
   "nbconvert_exporter": "python",
   "pygments_lexer": "ipython3",
   "version": "3.8.16"
  }
 },
 "nbformat": 4,
 "nbformat_minor": 5
}
