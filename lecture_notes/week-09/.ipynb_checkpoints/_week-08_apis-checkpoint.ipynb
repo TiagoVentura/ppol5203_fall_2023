{
 "cells": [
  {
   "cell_type": "markdown",
   "id": "f3fbb761",
   "metadata": {},
   "source": [
    "<h1><center> PPOL 5203 Data Science I: Foundations <br><br> \n",
    "<font color='grey'> Collecting Digital Data - API<br><br>\n",
    "Tiago Ventura </center> <h1> \n",
    "\n",
    "---"
   ]
  },
  {
   "cell_type": "markdown",
   "id": "07f214b3",
   "metadata": {},
   "source": [
    "## Learning Goals\n",
    "\n",
    "In the class today, we will learn how to collect digital data through APIs. We will focus on: \n",
    "\n",
    "- Building a solid understanding about APIs\n",
    "- Working with three types of APIs:\n",
    "    - APIs with no credentials and no wrappers\n",
    "    - APIs with credentials and no wrappers\n",
    "    - APIs with wrappers. "
   ]
  },
  {
   "cell_type": "code",
   "execution_count": 1,
   "id": "44f2c339",
   "metadata": {},
   "outputs": [],
   "source": [
    "# setup\n",
    "import requests\n",
    "import os\n",
    "import pandas as pd"
   ]
  },
  {
   "cell_type": "markdown",
   "id": "e261651e",
   "metadata": {},
   "source": [
    "## APIs 101\n",
    "\n",
    "The famous acronym API stands for “Application Programming Interface”. An API is an online server allows different applications to interact. Most often for our purposes, an API will facilitate information exchange between data users and the holders of certain data. Many companies build these repositories for various functions, including sharing data, receiving data, joint database management, and providing artificial intelligence functions or machines for public use.\n",
    "\n",
    "Let's think of an example capable of motivating the creation of an API. Imagine you own Twitter. You would have zillions of hackers every day trying to scrape your data, this would make your website more unstable and insecure. What is a possible solution? You create an API, and you control who accesses the information, when they access it, and what type of information you make available. Another option is to close you API and restrict data access to researchers. But, if you do this, you are likely to pay a reputational cost for not being transparent, and users might leave your platform.\n",
    "\n",
    "Have you ever watched Matrix? APIs are just like that! In the movies, Neil and others would physically connect their mindes to a super developed server  and ask to learn a certain skill - kung-fu, programming, language, etc. This is exactly what an API does. You connect to the website and request data, and receive it in return. It's like sending an email, but doing everything via programming language."
   ]
  },
  {
   "cell_type": "markdown",
   "id": "1f483271",
   "metadata": {},
   "source": [
    "### API Use-Cases\n",
    "\n",
    "There are two main ways in which we academics commonly use APIs.\n",
    "\n",
    "1. Access data shared by Companies and NGOs.\n",
    "\n",
    "2. Process our data in Algorithms developed by third parties.\n",
    "\n",
    "Our focus will be on the first. Later, we will see how to use the ChatGPT API for text classification tasks. \n"
   ]
  },
  {
   "cell_type": "markdown",
   "id": "0e05f247",
   "metadata": {},
   "source": [
    "### APIs Components\n",
    "\n",
    "An API is just an URL. See the example below:\n",
    "\n",
    "`http://mywebsite.com/endpoint?key&param_1&param_2`\n",
    "\n",
    "Main Components: \n",
    "\n",
    "- **http://mywebsite/**: API root. The domain of your api/\n",
    "- **endpoint**: An endpoint is a server route for retrieving specific data from an API\n",
    "- **key**: credentials that some websites ask for you to create before you can query the api. \n",
    "- **?param_1*param_2** parameters. Those are filters that you can input in apis requests. \n"
   ]
  },
  {
   "cell_type": "markdown",
   "id": "e6855f6b",
   "metadata": {},
   "source": [
    "### Requests to APIs\n",
    "\n",
    "In order to work with APIs, we need tools to access the web. In Python, the most common library for making requests and working with APIs is the `requests` library. There are two main types of requests: \n",
    "\n",
    "- `get()`: to receive information from the API -- which we will use the most for web data collection\n",
    "\n",
    "- `post()`: to send information to the API -- think about the use of ChatGPT for classification of text. \n"
   ]
  },
  {
   "cell_type": "markdown",
   "id": "50909f2b",
   "metadata": {},
   "source": [
    "## Example 1: Bored API\n",
    "\n",
    "### Querying an API: Step-by-Step\n",
    "\n",
    "Let's start querying our first API. We will start with the simple [Bored API](https://www.boredapi.com/about). This is a very simple API, and serves the purpose of learning all the basic steps of querying APIs. The Bored API helps you find things to do when you're bored! There are fields like the number of participants, activity type, and more that help you narrow down your results.\n",
    "\n",
    "The Bored API: \n",
    "\n",
    "- **Does not** require us to create credentials.\n",
    "- And **does not** have a Python wrapper.\n",
    "\n",
    "When querying an API, our work will often involve the following steps: \n",
    "\n",
    "- **Step 1:** Look at the API documentation and endpoints, and construct a query of interest\n",
    "- **Step 2:** Use requests.get(querystring) to call the API\n",
    "- **Step 3:** Examine the response\n",
    "- **Step 4:** Extract your data and save it. "
   ]
  },
  {
   "cell_type": "markdown",
   "id": "1455677d",
   "metadata": {},
   "source": [
    "### Step 1: Documentation, Endpoints and Query. \n",
    "\n",
    "Before we start querying an API, we always need to read through the [documentation](https://www.boredapi.com/about). The documentation often revel to us: \n",
    "\n",
    "- The base url for the API: `http://www.boredapi.com/api`\n",
    "- The different endpoints: \n",
    "    - the bored API has only one endpoint: `/activity`\n",
    "- The API parameters:\n",
    "    - `key`\n",
    "    - `type`\n",
    "    - `participants`\n",
    "    - `price`\n",
    "    - `among others`\n",
    "    \n",
    "With this information, we can form our quert of interest. Let's start with a simple query that retrieves a random activity"
   ]
  },
  {
   "cell_type": "code",
   "execution_count": 2,
   "id": "04019cda",
   "metadata": {},
   "outputs": [],
   "source": [
    "# build query\n",
    "query = \"http://www.boredapi.com/api/activity/\""
   ]
  },
  {
   "cell_type": "markdown",
   "id": "eef071ca",
   "metadata": {},
   "source": [
    "### **Step 2:** Use `requests.get(querystring)` to call the API\n",
    "\n",
    "To interact with the API, we will use the `requests` package. The requests package allow us to send a HTTP request to the API. Because we are intereste in retrieving data, we will mostly be working with the `.get()` method, which requires one argument — the URL we want to make the request to. \n",
    "\n",
    "When we make a request, the response from the API comes with a response code which tells us whether our request was successful. Response codes are important because they immediately tell us if something went wrong.\n",
    "\n",
    "To make a ‘GET’ request, we’ll use the requests.get() function, which requires one argument — the URL we want to make the request to. We’ll start by making a request to an API endpoint that doesn’t exist, so we can see what that response code looks like"
   ]
  },
  {
   "cell_type": "code",
   "execution_count": 3,
   "id": "13e69630",
   "metadata": {},
   "outputs": [
    {
     "name": "stdout",
     "output_type": "stream",
     "text": [
      "<Response [200]>\n"
     ]
    }
   ],
   "source": [
    "# Make a get request to get the latest position of the ISS from the OpenNotify API.\n",
    "response = requests.get(query)\n",
    "print(response)"
   ]
  },
  {
   "cell_type": "markdown",
   "id": "8c05c012",
   "metadata": {},
   "source": [
    "### **Step 3:** Examine the response\n",
    "\n",
    "When we make a request, the response from the API comes with a response code which tells us whether our request was successful. Response codes are important because they immediately tell us if something went wrong. Here is a list of response codes you can get\n",
    "\n",
    "200 — Everything went okay, and the server returned a result (if any).\n",
    "\n",
    "301 — The server is redirecting you to a different endpoint. This can happen when a company switches domain names, or when an endpoint's name has changed.\n",
    "\n",
    "401 — The server thinks you're not authenticated. This happens when you don't send the right credentials to access an API.\n",
    "\n",
    "400 — The server thinks you made a bad request. This can happen when you don't send the information that the API requires to process your request (among other things).\n",
    "\n",
    "403 — The resource you're trying to access is forbidden, and you don't have the right permissions to see it.\n",
    "\n",
    "404 — The server didn't find the resource you tried to access.\n"
   ]
  },
  {
   "cell_type": "code",
   "execution_count": 4,
   "id": "f4921258",
   "metadata": {},
   "outputs": [
    {
     "data": {
      "text/plain": [
       "200"
      ]
     },
     "execution_count": 4,
     "metadata": {},
     "output_type": "execute_result"
    }
   ],
   "source": [
    "# check status code\n",
    "status_code = response.status_code\n",
    "\n",
    "# print status code\n",
    "status_code"
   ]
  },
  {
   "cell_type": "markdown",
   "id": "278b6151",
   "metadata": {},
   "source": [
    "### **Step 4:** Extract your data.\n",
    "\n",
    "With an 200 code, we can access the content of the get request. The return from the API is stored as a `content` attribute in the response object."
   ]
  },
  {
   "cell_type": "code",
   "execution_count": 5,
   "id": "ce8806ee",
   "metadata": {},
   "outputs": [
    {
     "name": "stdout",
     "output_type": "stream",
     "text": [
      "b'{\"activity\":\"Study a foreign language\",\"type\":\"education\",\"participants\":1,\"price\":0,\"link\":\"\",\"key\":\"9765530\",\"accessibility\":0.1}'\n"
     ]
    }
   ],
   "source": [
    "print(response.content)"
   ]
  },
  {
   "cell_type": "markdown",
   "id": "1e1cc373",
   "metadata": {},
   "source": [
    "#### Processing JSONs\n",
    "\n",
    "The deafault data type we receive from APIS are in the JSON format. This format encodes data structures like lists and dictionaries as strings to ensure that machines can read them easily. \n",
    "\n",
    "For that kind of content, the requests library includes a specific .json() method that you can use to immediately convert the API bytes response into a Python data structure, in general a nested dictionary. "
   ]
  },
  {
   "cell_type": "code",
   "execution_count": 6,
   "id": "66d29fbe",
   "metadata": {},
   "outputs": [
    {
     "name": "stdout",
     "output_type": "stream",
     "text": [
      "{'activity': 'Study a foreign language', 'type': 'education', 'participants': 1, 'price': 0, 'link': '', 'key': '9765530', 'accessibility': 0.1}\n"
     ]
    }
   ],
   "source": [
    "# convert the get output to a dictionary\n",
    "response_dict = response.json()\n",
    "print(response_dict)"
   ]
  },
  {
   "cell_type": "code",
   "execution_count": 7,
   "id": "d594c78d",
   "metadata": {},
   "outputs": [
    {
     "data": {
      "text/plain": [
       "'Study a foreign language'"
      ]
     },
     "execution_count": 7,
     "metadata": {},
     "output_type": "execute_result"
    }
   ],
   "source": [
    "# index just like a dict\n",
    "response_dict[\"activity\"]"
   ]
  },
  {
   "cell_type": "code",
   "execution_count": 8,
   "id": "2cc5f48d",
   "metadata": {},
   "outputs": [
    {
     "data": {
      "text/html": [
       "<div>\n",
       "<style scoped>\n",
       "    .dataframe tbody tr th:only-of-type {\n",
       "        vertical-align: middle;\n",
       "    }\n",
       "\n",
       "    .dataframe tbody tr th {\n",
       "        vertical-align: top;\n",
       "    }\n",
       "\n",
       "    .dataframe thead th {\n",
       "        text-align: right;\n",
       "    }\n",
       "</style>\n",
       "<table border=\"1\" class=\"dataframe\">\n",
       "  <thead>\n",
       "    <tr style=\"text-align: right;\">\n",
       "      <th></th>\n",
       "      <th>activity</th>\n",
       "      <th>type</th>\n",
       "      <th>participants</th>\n",
       "      <th>price</th>\n",
       "      <th>link</th>\n",
       "      <th>key</th>\n",
       "      <th>accessibility</th>\n",
       "    </tr>\n",
       "  </thead>\n",
       "  <tbody>\n",
       "    <tr>\n",
       "      <th>0</th>\n",
       "      <td>Study a foreign language</td>\n",
       "      <td>education</td>\n",
       "      <td>1</td>\n",
       "      <td>0</td>\n",
       "      <td></td>\n",
       "      <td>9765530</td>\n",
       "      <td>0.1</td>\n",
       "    </tr>\n",
       "  </tbody>\n",
       "</table>\n",
       "</div>"
      ],
      "text/plain": [
       "                   activity       type  participants  price link      key  \\\n",
       "0  Study a foreign language  education             1      0       9765530   \n",
       "\n",
       "   accessibility  \n",
       "0            0.1  "
      ]
     },
     "execution_count": 8,
     "metadata": {},
     "output_type": "execute_result"
    }
   ],
   "source": [
    "# convert to a dataframe\n",
    "import pandas as pd\n",
    "\n",
    "# need to convert to a list for weird python reasons\n",
    "pd.DataFrame([response_dict])"
   ]
  },
  {
   "cell_type": "markdown",
   "id": "13a445d7",
   "metadata": {},
   "source": [
    "Let's see the full code:"
   ]
  },
  {
   "cell_type": "code",
   "execution_count": 9,
   "id": "ef3fdc75",
   "metadata": {},
   "outputs": [
    {
     "name": "stdout",
     "output_type": "stream",
     "text": [
      "0    Learn how to iceskate or rollerskate\n",
      "Name: activity, dtype: object\n"
     ]
    }
   ],
   "source": [
    "# full code\n",
    "import requests\n",
    "import pandas as pd\n",
    "\n",
    "# build query\n",
    "query = \"http://www.boredapi.com/api/activity/\"\n",
    "\n",
    "# Make a get request to get the latest position of the ISS from the OpenNotify API.\n",
    "response = requests.get(query)\n",
    "\n",
    "# check status code\n",
    "status_code = response.status_code\n",
    "\n",
    "# move forward with code\n",
    "if status_code==200:\n",
    "    # convert the get output to a dictionary\n",
    "    response_dict = response.json()\n",
    "    # convert to a dataframe\n",
    "    res = pd.DataFrame([response_dict])\n",
    "else:\n",
    "    print(status_code)\n",
    "    \n",
    "print(res[\"activity\"])    "
   ]
  },
  {
   "cell_type": "markdown",
   "id": "d209e771",
   "metadata": {},
   "source": [
    "### Exploring API Filters\n",
    "\n",
    "If we look at the documentation, you see the APIs provides filters (query parameters) that allow you to refine your search. \n",
    "\n",
    "For example, when you send a `get` request to the Youtube API, you are not interested in the entire Youtube data. You want data associated with certain videos, profiles, for a certain period of time, for example. These filters are often embedded as query parameters in the API call. \n",
    "\n",
    "To add a query parameter to a given URL, you have to add a question mark (?) before the first query parameter. If you want to have multiple query parameters in your request, then you can split them with an ampersand (&)\n",
    "\n",
    "We can add filters by: \n",
    "\n",
    "- constructing the full API call\n",
    "\n",
    "- Using dictionaries\n"
   ]
  },
  {
   "cell_type": "markdown",
   "id": "ab7b1b91",
   "metadata": {},
   "source": [
    "### Filter with the full API cal"
   ]
  },
  {
   "cell_type": "code",
   "execution_count": 10,
   "id": "53314632",
   "metadata": {},
   "outputs": [
    {
     "data": {
      "text/plain": [
       "{'activity': 'Take a hike at a local park',\n",
       " 'type': 'recreational',\n",
       " 'participants': 1,\n",
       " 'price': 0,\n",
       " 'link': '',\n",
       " 'key': '8724324',\n",
       " 'accessibility': 0.1}"
      ]
     },
     "execution_count": 10,
     "metadata": {},
     "output_type": "execute_result"
    }
   ],
   "source": [
    "## get only recreational activities\n",
    "# build query\n",
    "query = \"http://www.boredapi.com/api/activity/\"\n",
    "\n",
    "# add filter\n",
    "activity = \"?type=recreational\"\n",
    "\n",
    "# full request\n",
    "url = query + activity\n",
    "\n",
    "# Make a get request to get the latest position of the ISS from the OpenNotify API.\n",
    "response = requests.get(url)\n",
    "\n",
    "# see json\n",
    "response.json()"
   ]
  },
  {
   "cell_type": "markdown",
   "id": "e19792be",
   "metadata": {},
   "source": [
    "### Or using dictionaries"
   ]
  },
  {
   "cell_type": "code",
   "execution_count": 11,
   "id": "226993dc",
   "metadata": {},
   "outputs": [
    {
     "data": {
      "text/plain": [
       "{'activity': 'Create or update your resume',\n",
       " 'type': 'busywork',\n",
       " 'participants': 1,\n",
       " 'price': 0,\n",
       " 'link': '',\n",
       " 'key': '9364041',\n",
       " 'accessibility': 0.1}"
      ]
     },
     "execution_count": 11,
     "metadata": {},
     "output_type": "execute_result"
    }
   ],
   "source": [
    "## get only recreational activities\n",
    "# build query\n",
    "query = \"http://www.boredapi.com/api/activity/\"\n",
    "\n",
    "# add filter\n",
    "parameters = {\"activity\": \"recreational\"}\n",
    "\n",
    "# Make a get request to get the latest position of the ISS from the OpenNotify API.\n",
    "response = requests.get(query, params=parameters)\n",
    "\n",
    "# see json\n",
    "response.json()"
   ]
  },
  {
   "cell_type": "markdown",
   "id": "07cb2b6b",
   "metadata": {},
   "source": [
    "See... it is the same url.."
   ]
  },
  {
   "cell_type": "code",
   "execution_count": 12,
   "id": "dd5a2840",
   "metadata": {},
   "outputs": [
    {
     "data": {
      "text/plain": [
       "'http://www.boredapi.com/api/activity/?activity=recreational'"
      ]
     },
     "execution_count": 12,
     "metadata": {},
     "output_type": "execute_result"
    }
   ],
   "source": [
    "response.url"
   ]
  },
  {
   "cell_type": "markdown",
   "id": "a218cbc2",
   "metadata": {},
   "source": [
    "## Example 2: Yelp API. \n",
    "\n",
    "Let's transition now to a more complex, and with interesting data, API. We will work with the Yelp API.\n",
    "\n",
    "This API: \n",
    "-  Requires us to get credentials\n",
    "-  But does not have a wrapper to query the daya (that I know of). \n",
    "\n",
    "See the documentation for the API [here](https://docs.developer.yelp.com/docs/fusion-intro). The API has some interesting endpoints, for example:\n",
    "\n",
    "- `/businesses/search` - Search for businesses by keyword, category, location, price level, etc.\n",
    "- `/businesses/{id}` - Get rich business data, such as name, address, phone number, photos, Yelp rating, price levels and hours of operation.\n",
    "- `/businesses/{business_id_or_alias}/reviews` - Get up to three review excerpts for a business.\n",
    "- Among many other endpoints"
   ]
  },
  {
   "cell_type": "markdown",
   "id": "6740fcee",
   "metadata": {},
   "source": [
    "## Authentication with an API\n",
    "\n",
    "Most often, the provider of an API will require you to authenticate before you can get some data. Authentication usually occures through an access token you can generate directly from the API.  Depending on the type of authentication each API have in place, it can be a simple token (string) or multiple different ids (Client ID, Access Token, Client Token..)\n",
    "\n",
    "Keep in mind that using a token is better than using a username and password for a few reasons:\n",
    "\n",
    "- Typically, you'll be accessing an API from a script. If you put your username and password in the script and someone finds it, they can take over your account. \n",
    "\n",
    "- Access tokens can have scopes and specific permissions. \n",
    "\n",
    "To authorize your access, you need to add the token to your API call. Often, you do this by passing the token through an authorization header. We can use Python's requests library to make a dictionary of headers, and then pass it into our request.\n"
   ]
  },
  {
   "cell_type": "markdown",
   "id": "d8a4ba49",
   "metadata": {},
   "source": [
    "### Acquiring credentials with Yelp Fusion API\n",
    "\n",
    "Information about acquiring your credentials to make API call are often displayed in the API documentation. \n",
    "\n",
    "[Here it is Yelp's information](https://docs.developer.yelp.com/docs/fusion-authentication)\n",
    "\n",
    "Every API has a bit of a distinct process. In general, APIs require you to create an app to access the API. This is a bit of a weird terminology. The assumption here is that you are creating an app (think about the Botometer at Twitter) that will query the API many times. \n",
    "\n",
    "For the YELP API, after you create the app, you will get an `Client ID` and an `API KEY`"
   ]
  },
  {
   "cell_type": "markdown",
   "id": "df813318",
   "metadata": {},
   "source": [
    "### How to save the API keys/token?\n",
    "\n",
    "API tokens are personal information. Keep yours safe, and do not paste into your code.\n",
    "\n",
    "Don't do this:\n",
    "\n",
    "`api_key = \"my_key\"`\n",
    "\n",
    "Do this:\n",
    "\n",
    "- create a file with your keys and save as .env\n",
    "- Add your keys there\n",
    "- load them in your environment when running the APIs.\n",
    "- And never upload your .env file in a public server (like github)\n",
    "\n",
    "I will show you in class what a .env file looks like. "
   ]
  },
  {
   "cell_type": "markdown",
   "id": "3b6ffa97",
   "metadata": {},
   "source": [
    "### Querying the API\n",
    "\n",
    "We repeat the same steps as before, but adding an authentication step. \n",
    "\n",
    "- **Step 0:** Load your API Keys\n",
    "- **Step 1:** Look at the API documentation and endpoints, and construct a query of interest\n",
    "- **Step 2:** Use requests.get(querystring) to call the API\n",
    "- **Step 3:** Examine the response\n",
    "- **Step 4:** Extract your data and save it. \n"
   ]
  },
  {
   "cell_type": "markdown",
   "id": "8cc28b1c",
   "metadata": {},
   "source": [
    "### Step 0: Load your API Keys"
   ]
  },
  {
   "cell_type": "code",
   "execution_count": 40,
   "id": "e43fa9f4",
   "metadata": {},
   "outputs": [],
   "source": [
    "# load library to get environmental files\n",
    "import os\n",
    "from dotenv import load_dotenv\n",
    "\n",
    "\n",
    "# load keys from  environmental var\n",
    "load_dotenv() # .env file in cwd\n",
    "yelp_client = os.environ.get(\"yelp_client_id\") \n",
    "yelp_key = os.environ.get(\"yelp_api_key\")\n",
    "\n",
    "# save your token in the header of the call\n",
    "header = {'Authorization': f'Bearer {yelp_key}'}"
   ]
  },
  {
   "cell_type": "code",
   "execution_count": 39,
   "id": "867607c9",
   "metadata": {},
   "outputs": [],
   "source": [
    "# see here\n",
    "# header"
   ]
  },
  {
   "cell_type": "markdown",
   "id": "f7b5cde6",
   "metadata": {},
   "source": [
    "### Step 1: Look at the API documentation and endpoints, and construct a query of interest\n",
    "\n",
    "We will query the `/businesses/search` endpoint. Let's check together the documentation here: https://docs.developer.yelp.com/reference/v3_business_search\n",
    "\n",
    "\n",
    "We will use two parameters: \n",
    "\n",
    "- location: This string indicates the geographic area to be used when searching for businesses\n",
    "- term: Search term, e.g. \"food\" or \"restaurants\"."
   ]
  },
  {
   "cell_type": "code",
   "execution_count": 41,
   "id": "4ece97b7",
   "metadata": {},
   "outputs": [],
   "source": [
    "# endpoint\n",
    "endpoint = \"https://api.yelp.com/v3/businesses/search\"\n",
    "\n",
    "# Add as parameters\n",
    "params ={\"location\":\" Washington, DC 20057\",\n",
    "        \"term\":\"best brazilian restaurant\"}"
   ]
  },
  {
   "cell_type": "markdown",
   "id": "aa72e67f",
   "metadata": {},
   "source": [
    "### **Step 2:** Use requests.get(endpoint) to call the API\n"
   ]
  },
  {
   "cell_type": "code",
   "execution_count": 42,
   "id": "e81178dc",
   "metadata": {},
   "outputs": [],
   "source": [
    "# Make a get request with header + parameters\n",
    "response = requests.get(endpoint, headers=header,params=params)"
   ]
  },
  {
   "cell_type": "markdown",
   "id": "cdfcafb5",
   "metadata": {},
   "source": [
    "### **Step 3:** Examine the response\n",
    "\n",
    "Let's check the response code"
   ]
  },
  {
   "cell_type": "code",
   "execution_count": 43,
   "id": "32309f8a",
   "metadata": {},
   "outputs": [
    {
     "data": {
      "text/plain": [
       "200"
      ]
     },
     "execution_count": 43,
     "metadata": {},
     "output_type": "execute_result"
    }
   ],
   "source": [
    "# looking for a 200\n",
    "response.status_code"
   ]
  },
  {
   "cell_type": "markdown",
   "id": "b565d6de",
   "metadata": {},
   "source": [
    "### **Step 4:** Extract your data and save it. \n",
    "\n"
   ]
  },
  {
   "cell_type": "code",
   "execution_count": 44,
   "id": "f5108d34",
   "metadata": {},
   "outputs": [
    {
     "name": "stdout",
     "output_type": "stream",
     "text": [
      "{'businesses': [{'id': 'GlAT_ksg5ftJ87PXwXmoVA', 'alias': 'fogo-de-chao-brazilian-steakhouse-washington-10', 'name': 'Fogo de Chão Brazilian Steakhouse', 'image_url': 'https://s3-media3.fl.yelpcdn.com/bphoto/1X06-J7i2bggZpAxuf6kJg/o.jpg', 'is_closed': False, 'url': 'https://www.yelp.com/biz/fogo-de-chao-brazilian-steakhouse-washington-10?adjust_creative=GJK5eaHUqVE8eGMl0w0Pfg&utm_campaign=yelp_api_v3&utm_medium=api_v3_business_search&utm_source=GJK5eaHUqVE8eGMl0w0Pfg', 'review_count': 2226, 'categories': [{'alias': 'brazilian', 'title': 'Brazilian'}, {'alias': 'steak', 'title': 'Steakhouses'}], 'rating': 4.0, 'coordinates': {'latitude': 38.895198243773834, 'longitude': -77.0273284769837}, 'transactions': ['pickup', 'delivery'], 'price': '$$$', 'location': {'address1': '1101 Pennsylvania Ave NW', 'address2': '', 'address3': '', 'city': 'Washington Dc', 'zip_code': '20004', 'country': 'US', 'state': 'DC', 'display_address': ['1101 Pennsylvania Ave NW', 'Washington Dc, DC 20004']}, 'phone': '+12023474668', 'display_phone': '(202) 347-4668', 'distance': 4458.22945724822}, {'id': 'WoDJcvo4YRN_ScEbOHNMag', 'alias': 'the-grill-from-ipanema-washington-2', 'name': 'The Grill From Ipanema', 'image_url': 'https://s3-media2.fl.yelpcdn.com/bphoto/tIU6i32eeZmKG5OJ708xzg/o.jpg', 'is_closed': False, 'url': 'https://www.yelp.com/biz/the-grill-from-ipanema-washington-2?adjust_creative=GJK5eaHUqVE8eGMl0w0Pfg&utm_campaign=yelp_api_v3&utm_medium=api_v3_business_search&utm_source=GJK5eaHUqVE8eGMl0w0Pfg', 'review_count': 419, 'categories': [{'alias': 'brazilian', 'title': 'Brazilian'}, {'alias': 'tapasmallplates', 'title': 'Tapas/Small Plates'}, {'alias': 'salad', 'title': 'Salad'}], 'rating': 4.0, 'coordinates': {'latitude': 38.92095, 'longitude': -77.04351}, 'transactions': ['pickup', 'delivery'], 'price': '$$', 'location': {'address1': '1858 Columbia Rd NW', 'address2': '', 'address3': '', 'city': 'Washington, DC', 'zip_code': '20009', 'country': 'US', 'state': 'DC', 'display_address': ['1858 Columbia Rd NW', 'Washington, DC 20009']}, 'phone': '+12029860757', 'display_phone': '(202) 986-0757', 'distance': 3062.245878076161}, {'id': 'BPOES_VaXh4JFZQHSacoBQ', 'alias': 'bossa-washington', 'name': 'Bossa', 'image_url': 'https://s3-media1.fl.yelpcdn.com/bphoto/eV1ujkRUTdGHDH9EkK0Veg/o.jpg', 'is_closed': False, 'url': 'https://www.yelp.com/biz/bossa-washington?adjust_creative=GJK5eaHUqVE8eGMl0w0Pfg&utm_campaign=yelp_api_v3&utm_medium=api_v3_business_search&utm_source=GJK5eaHUqVE8eGMl0w0Pfg', 'review_count': 127, 'categories': [{'alias': 'lounges', 'title': 'Lounges'}, {'alias': 'brazilian', 'title': 'Brazilian'}], 'rating': 3.5, 'coordinates': {'latitude': 38.9220876263576, 'longitude': -77.04225252972181}, 'transactions': ['pickup', 'delivery'], 'price': '$$', 'location': {'address1': '2463 18th St NW', 'address2': '', 'address3': '', 'city': 'Washington, DC', 'zip_code': '20009', 'country': 'US', 'state': 'DC', 'display_address': ['2463 18th St NW', 'Washington, DC 20009']}, 'phone': '+12026670088', 'display_phone': '(202) 667-0088', 'distance': 3215.893411510275}, {'id': 'bB4PHDPtJbWvCFukIL83OA', 'alias': 'european-foods-import-export-arlington', 'name': 'European Foods Import Export', 'image_url': 'https://s3-media4.fl.yelpcdn.com/bphoto/U08IpYFBdUTc7aJO6dXe5A/o.jpg', 'is_closed': False, 'url': 'https://www.yelp.com/biz/european-foods-import-export-arlington?adjust_creative=GJK5eaHUqVE8eGMl0w0Pfg&utm_campaign=yelp_api_v3&utm_medium=api_v3_business_search&utm_source=GJK5eaHUqVE8eGMl0w0Pfg', 'review_count': 44, 'categories': [{'alias': 'intlgrocery', 'title': 'International Grocery'}, {'alias': 'brazilian', 'title': 'Brazilian'}, {'alias': 'spanish', 'title': 'Spanish'}], 'rating': 4.5, 'coordinates': {'latitude': 38.88055987547169, 'longitude': -77.09060758707929}, 'transactions': [], 'price': '$$', 'location': {'address1': '2700 N Pershing Dr', 'address2': '', 'address3': '', 'city': 'Arlington', 'zip_code': '22201', 'country': 'US', 'state': 'VA', 'display_address': ['2700 N Pershing Dr', 'Arlington, VA 22201']}, 'phone': '+17035246800', 'display_phone': '(703) 524-6800', 'distance': 3447.237039406304}, {'id': '1ctsXD-rj0ctn9QCplLVmw', 'alias': 'medium-rare-arlington-3', 'name': 'Medium Rare', 'image_url': 'https://s3-media4.fl.yelpcdn.com/bphoto/PZyMMNzb3Ena_3vi-9FqHw/o.jpg', 'is_closed': False, 'url': 'https://www.yelp.com/biz/medium-rare-arlington-3?adjust_creative=GJK5eaHUqVE8eGMl0w0Pfg&utm_campaign=yelp_api_v3&utm_medium=api_v3_business_search&utm_source=GJK5eaHUqVE8eGMl0w0Pfg', 'review_count': 337, 'categories': [{'alias': 'steak', 'title': 'Steakhouses'}, {'alias': 'breakfast_brunch', 'title': 'Breakfast & Brunch'}], 'rating': 3.5, 'coordinates': {'latitude': 38.88351, 'longitude': -77.103832}, 'transactions': ['pickup', 'delivery'], 'price': '$$', 'location': {'address1': '3601 Fairfax Dr', 'address2': '', 'address3': None, 'city': 'Arlington', 'zip_code': '22201', 'country': 'US', 'state': 'VA', 'display_address': ['3601 Fairfax Dr', 'Arlington, VA 22201']}, 'phone': '+17032432020', 'display_phone': '(703) 243-2020', 'distance': 3779.1606298283477}, {'id': 'IzT4n5qDMzF6fJ33-wwdDw', 'alias': 'medium-rare-washington', 'name': 'Medium Rare', 'image_url': 'https://s3-media2.fl.yelpcdn.com/bphoto/5j7Z8dM4sJRO0FohDXtQig/o.jpg', 'is_closed': False, 'url': 'https://www.yelp.com/biz/medium-rare-washington?adjust_creative=GJK5eaHUqVE8eGMl0w0Pfg&utm_campaign=yelp_api_v3&utm_medium=api_v3_business_search&utm_source=GJK5eaHUqVE8eGMl0w0Pfg', 'review_count': 1137, 'categories': [{'alias': 'steak', 'title': 'Steakhouses'}, {'alias': 'newamerican', 'title': 'American (New)'}, {'alias': 'desserts', 'title': 'Desserts'}], 'rating': 4.0, 'coordinates': {'latitude': 38.935770888042, 'longitude': -77.058927310067}, 'transactions': ['pickup', 'delivery'], 'price': '$$$', 'location': {'address1': '3500 Connecticut Ave NW', 'address2': '', 'address3': '', 'city': 'Washington, DC', 'zip_code': '20008', 'country': 'US', 'state': 'DC', 'display_address': ['3500 Connecticut Ave NW', 'Washington, DC 20008']}, 'phone': '+12022371432', 'display_phone': '(202) 237-1432', 'distance': 3279.927791363549}, {'id': 'QJMhG5YZa422Rqz-m_gXYw', 'alias': 'chicken-whiskey-washington-4', 'name': 'Chicken + Whiskey', 'image_url': 'https://s3-media2.fl.yelpcdn.com/bphoto/sCplMajnDbqkeK7o25FTPw/o.jpg', 'is_closed': False, 'url': 'https://www.yelp.com/biz/chicken-whiskey-washington-4?adjust_creative=GJK5eaHUqVE8eGMl0w0Pfg&utm_campaign=yelp_api_v3&utm_medium=api_v3_business_search&utm_source=GJK5eaHUqVE8eGMl0w0Pfg', 'review_count': 631, 'categories': [{'alias': 'venezuelan', 'title': 'Venezuelan'}, {'alias': 'peruvian', 'title': 'Peruvian'}, {'alias': 'sandwiches', 'title': 'Sandwiches'}], 'rating': 4.0, 'coordinates': {'latitude': 38.913855, 'longitude': -77.032106}, 'transactions': ['pickup', 'delivery'], 'price': '$$', 'location': {'address1': '1738 14th St NW', 'address2': '', 'address3': None, 'city': 'Washington, DC', 'zip_code': '20009', 'country': 'US', 'state': 'DC', 'display_address': ['1738 14th St NW', 'Washington, DC 20009']}, 'phone': '+12026672456', 'display_phone': '(202) 667-2456', 'distance': 3795.214542984798}, {'id': 'BTOjO-rNIXpb-5OHuHqrHw', 'alias': 'restaurant-judy-washington', 'name': 'Restaurant Judy', 'image_url': 'https://s3-media2.fl.yelpcdn.com/bphoto/4hI4xks6sCqF2ucrwhCUgQ/o.jpg', 'is_closed': False, 'url': 'https://www.yelp.com/biz/restaurant-judy-washington?adjust_creative=GJK5eaHUqVE8eGMl0w0Pfg&utm_campaign=yelp_api_v3&utm_medium=api_v3_business_search&utm_source=GJK5eaHUqVE8eGMl0w0Pfg', 'review_count': 281, 'categories': [{'alias': 'salvadoran', 'title': 'Salvadoran'}, {'alias': 'mexican', 'title': 'Mexican'}], 'rating': 4.0, 'coordinates': {'latitude': 38.91966, 'longitude': -77.03229}, 'transactions': ['delivery'], 'price': '$$', 'location': {'address1': '2212 14th St NW', 'address2': '', 'address3': '', 'city': 'Washington, DC', 'zip_code': '20009', 'country': 'US', 'state': 'DC', 'display_address': ['2212 14th St NW', 'Washington, DC 20009']}, 'phone': '+12022652519', 'display_phone': '(202) 265-2519', 'distance': 3921.127627987083}, {'id': '8FGizWqfHi9XBL2R6J5uJg', 'alias': 'lauriol-plaza-washington', 'name': 'Lauriol Plaza', 'image_url': 'https://s3-media4.fl.yelpcdn.com/bphoto/0rmtkL8dj9JmCQPo2-iwaQ/o.jpg', 'is_closed': False, 'url': 'https://www.yelp.com/biz/lauriol-plaza-washington?adjust_creative=GJK5eaHUqVE8eGMl0w0Pfg&utm_campaign=yelp_api_v3&utm_medium=api_v3_business_search&utm_source=GJK5eaHUqVE8eGMl0w0Pfg', 'review_count': 2271, 'categories': [{'alias': 'mexican', 'title': 'Mexican'}, {'alias': 'latin', 'title': 'Latin American'}, {'alias': 'spanish', 'title': 'Spanish'}], 'rating': 3.5, 'coordinates': {'latitude': 38.91529075296795, 'longitude': -77.0414300693839}, 'transactions': ['pickup', 'delivery'], 'price': '$$', 'location': {'address1': '1835 18th St NW', 'address2': '', 'address3': '', 'city': 'Washington, DC', 'zip_code': '20009', 'country': 'US', 'state': 'DC', 'display_address': ['1835 18th St NW', 'Washington, DC 20009']}, 'phone': '+12023870035', 'display_phone': '(202) 387-0035', 'distance': 3028.972741608692}, {'id': '1ieT14ia0sHQGg6-fK6nAA', 'alias': 'mortons-the-steakhouse-washington-3', 'name': \"Morton's The Steakhouse\", 'image_url': 'https://s3-media4.fl.yelpcdn.com/bphoto/b0E2u3c79RJlHS-OOG55Lw/o.jpg', 'is_closed': False, 'url': 'https://www.yelp.com/biz/mortons-the-steakhouse-washington-3?adjust_creative=GJK5eaHUqVE8eGMl0w0Pfg&utm_campaign=yelp_api_v3&utm_medium=api_v3_business_search&utm_source=GJK5eaHUqVE8eGMl0w0Pfg', 'review_count': 314, 'categories': [{'alias': 'steak', 'title': 'Steakhouses'}, {'alias': 'tradamerican', 'title': 'American (Traditional)'}], 'rating': 3.5, 'coordinates': {'latitude': 38.9032169, 'longitude': -77.0401812}, 'transactions': ['pickup', 'delivery'], 'price': '$$$$', 'location': {'address1': '1050 Connecticut Ave', 'address2': None, 'address3': '', 'city': 'Washington, DC', 'zip_code': '20036', 'country': 'US', 'state': 'DC', 'display_address': ['1050 Connecticut Ave', 'Washington, DC 20036']}, 'phone': '+12029555997', 'display_phone': '(202) 955-5997', 'distance': 3135.3843945798844}, {'id': 'TfpDB-fsA_2HGLHHmQ0JXA', 'alias': 'café-citron-washington-4', 'name': 'Café Citron', 'image_url': 'https://s3-media4.fl.yelpcdn.com/bphoto/3d3oWOgOmWw83yih5yWZPw/o.jpg', 'is_closed': False, 'url': 'https://www.yelp.com/biz/caf%C3%A9-citron-washington-4?adjust_creative=GJK5eaHUqVE8eGMl0w0Pfg&utm_campaign=yelp_api_v3&utm_medium=api_v3_business_search&utm_source=GJK5eaHUqVE8eGMl0w0Pfg', 'review_count': 564, 'categories': [{'alias': 'latin', 'title': 'Latin American'}, {'alias': 'lounges', 'title': 'Lounges'}, {'alias': 'musicvenues', 'title': 'Music Venues'}], 'rating': 3.5, 'coordinates': {'latitude': 38.90844, 'longitude': -77.04235}, 'transactions': ['pickup', 'delivery'], 'price': '$$', 'location': {'address1': '1343 Connecticut Ave NW', 'address2': None, 'address3': '', 'city': 'Washington, DC', 'zip_code': '20036', 'country': 'US', 'state': 'DC', 'display_address': ['1343 Connecticut Ave NW', 'Washington, DC 20036']}, 'phone': '+12025308844', 'display_phone': '(202) 530-8844', 'distance': 2877.958271970504}], 'total': 11, 'region': {'center': {'longitude': -77.07557201385498, 'latitude': 38.909268231541304}}}\n"
     ]
    }
   ],
   "source": [
    "# What does the response look like?\n",
    "yelp_json = response.json()\n",
    "\n",
    "# print\n",
    "print(yelp_json)"
   ]
  },
  {
   "cell_type": "markdown",
   "id": "77dbc3c9",
   "metadata": {},
   "source": [
    "It returns a long dictionary with the key \"businesses\" and a list with multiple sub-entries.\n",
    "\n",
    "**How to deal with this data?**"
   ]
  },
  {
   "cell_type": "markdown",
   "id": "ec0f3261",
   "metadata": {},
   "source": [
    "### Approach 1: Convert all to dataframe and clean it later"
   ]
  },
  {
   "cell_type": "code",
   "execution_count": 45,
   "id": "e1280f61",
   "metadata": {},
   "outputs": [
    {
     "name": "stdout",
     "output_type": "stream",
     "text": [
      "                        id                                            alias  \\\n",
      "0   GlAT_ksg5ftJ87PXwXmoVA  fogo-de-chao-brazilian-steakhouse-washington-10   \n",
      "1   WoDJcvo4YRN_ScEbOHNMag              the-grill-from-ipanema-washington-2   \n",
      "2   BPOES_VaXh4JFZQHSacoBQ                                 bossa-washington   \n",
      "3   bB4PHDPtJbWvCFukIL83OA           european-foods-import-export-arlington   \n",
      "4   1ctsXD-rj0ctn9QCplLVmw                          medium-rare-arlington-3   \n",
      "5   IzT4n5qDMzF6fJ33-wwdDw                           medium-rare-washington   \n",
      "6   QJMhG5YZa422Rqz-m_gXYw                     chicken-whiskey-washington-4   \n",
      "7   BTOjO-rNIXpb-5OHuHqrHw                       restaurant-judy-washington   \n",
      "8   8FGizWqfHi9XBL2R6J5uJg                         lauriol-plaza-washington   \n",
      "9   1ieT14ia0sHQGg6-fK6nAA              mortons-the-steakhouse-washington-3   \n",
      "10  TfpDB-fsA_2HGLHHmQ0JXA                         café-citron-washington-4   \n",
      "\n",
      "                                 name  \\\n",
      "0   Fogo de Chão Brazilian Steakhouse   \n",
      "1              The Grill From Ipanema   \n",
      "2                               Bossa   \n",
      "3        European Foods Import Export   \n",
      "4                         Medium Rare   \n",
      "5                         Medium Rare   \n",
      "6                   Chicken + Whiskey   \n",
      "7                     Restaurant Judy   \n",
      "8                       Lauriol Plaza   \n",
      "9             Morton's The Steakhouse   \n",
      "10                        Café Citron   \n",
      "\n",
      "                                            image_url  is_closed  \\\n",
      "0   https://s3-media3.fl.yelpcdn.com/bphoto/1X06-J...      False   \n",
      "1   https://s3-media2.fl.yelpcdn.com/bphoto/tIU6i3...      False   \n",
      "2   https://s3-media1.fl.yelpcdn.com/bphoto/eV1ujk...      False   \n",
      "3   https://s3-media4.fl.yelpcdn.com/bphoto/U08IpY...      False   \n",
      "4   https://s3-media4.fl.yelpcdn.com/bphoto/PZyMMN...      False   \n",
      "5   https://s3-media2.fl.yelpcdn.com/bphoto/5j7Z8d...      False   \n",
      "6   https://s3-media2.fl.yelpcdn.com/bphoto/sCplMa...      False   \n",
      "7   https://s3-media2.fl.yelpcdn.com/bphoto/4hI4xk...      False   \n",
      "8   https://s3-media4.fl.yelpcdn.com/bphoto/0rmtkL...      False   \n",
      "9   https://s3-media4.fl.yelpcdn.com/bphoto/b0E2u3...      False   \n",
      "10  https://s3-media4.fl.yelpcdn.com/bphoto/3d3oWO...      False   \n",
      "\n",
      "                                                  url  review_count  \\\n",
      "0   https://www.yelp.com/biz/fogo-de-chao-brazilia...          2226   \n",
      "1   https://www.yelp.com/biz/the-grill-from-ipanem...           419   \n",
      "2   https://www.yelp.com/biz/bossa-washington?adju...           127   \n",
      "3   https://www.yelp.com/biz/european-foods-import...            44   \n",
      "4   https://www.yelp.com/biz/medium-rare-arlington...           337   \n",
      "5   https://www.yelp.com/biz/medium-rare-washingto...          1137   \n",
      "6   https://www.yelp.com/biz/chicken-whiskey-washi...           631   \n",
      "7   https://www.yelp.com/biz/restaurant-judy-washi...           281   \n",
      "8   https://www.yelp.com/biz/lauriol-plaza-washing...          2271   \n",
      "9   https://www.yelp.com/biz/mortons-the-steakhous...           314   \n",
      "10  https://www.yelp.com/biz/caf%C3%A9-citron-wash...           564   \n",
      "\n",
      "                                           categories  rating  \\\n",
      "0   [{'alias': 'brazilian', 'title': 'Brazilian'},...     4.0   \n",
      "1   [{'alias': 'brazilian', 'title': 'Brazilian'},...     4.0   \n",
      "2   [{'alias': 'lounges', 'title': 'Lounges'}, {'a...     3.5   \n",
      "3   [{'alias': 'intlgrocery', 'title': 'Internatio...     4.5   \n",
      "4   [{'alias': 'steak', 'title': 'Steakhouses'}, {...     3.5   \n",
      "5   [{'alias': 'steak', 'title': 'Steakhouses'}, {...     4.0   \n",
      "6   [{'alias': 'venezuelan', 'title': 'Venezuelan'...     4.0   \n",
      "7   [{'alias': 'salvadoran', 'title': 'Salvadoran'...     4.0   \n",
      "8   [{'alias': 'mexican', 'title': 'Mexican'}, {'a...     3.5   \n",
      "9   [{'alias': 'steak', 'title': 'Steakhouses'}, {...     3.5   \n",
      "10  [{'alias': 'latin', 'title': 'Latin American'}...     3.5   \n",
      "\n",
      "                                          coordinates        transactions  \\\n",
      "0   {'latitude': 38.895198243773834, 'longitude': ...  [pickup, delivery]   \n",
      "1      {'latitude': 38.92095, 'longitude': -77.04351}  [pickup, delivery]   \n",
      "2   {'latitude': 38.9220876263576, 'longitude': -7...  [pickup, delivery]   \n",
      "3   {'latitude': 38.88055987547169, 'longitude': -...                  []   \n",
      "4     {'latitude': 38.88351, 'longitude': -77.103832}  [pickup, delivery]   \n",
      "5   {'latitude': 38.935770888042, 'longitude': -77...  [pickup, delivery]   \n",
      "6    {'latitude': 38.913855, 'longitude': -77.032106}  [pickup, delivery]   \n",
      "7      {'latitude': 38.91966, 'longitude': -77.03229}          [delivery]   \n",
      "8   {'latitude': 38.91529075296795, 'longitude': -...  [pickup, delivery]   \n",
      "9   {'latitude': 38.9032169, 'longitude': -77.0401...  [pickup, delivery]   \n",
      "10     {'latitude': 38.90844, 'longitude': -77.04235}  [pickup, delivery]   \n",
      "\n",
      "   price                                           location         phone  \\\n",
      "0    $$$  {'address1': '1101 Pennsylvania Ave NW', 'addr...  +12023474668   \n",
      "1     $$  {'address1': '1858 Columbia Rd NW', 'address2'...  +12029860757   \n",
      "2     $$  {'address1': '2463 18th St NW', 'address2': ''...  +12026670088   \n",
      "3     $$  {'address1': '2700 N Pershing Dr', 'address2':...  +17035246800   \n",
      "4     $$  {'address1': '3601 Fairfax Dr', 'address2': ''...  +17032432020   \n",
      "5    $$$  {'address1': '3500 Connecticut Ave NW', 'addre...  +12022371432   \n",
      "6     $$  {'address1': '1738 14th St NW', 'address2': ''...  +12026672456   \n",
      "7     $$  {'address1': '2212 14th St NW', 'address2': ''...  +12022652519   \n",
      "8     $$  {'address1': '1835 18th St NW', 'address2': ''...  +12023870035   \n",
      "9   $$$$  {'address1': '1050 Connecticut Ave', 'address2...  +12029555997   \n",
      "10    $$  {'address1': '1343 Connecticut Ave NW', 'addre...  +12025308844   \n",
      "\n",
      "     display_phone     distance  \n",
      "0   (202) 347-4668  4458.229457  \n",
      "1   (202) 986-0757  3062.245878  \n",
      "2   (202) 667-0088  3215.893412  \n",
      "3   (703) 524-6800  3447.237039  \n",
      "4   (703) 243-2020  3779.160630  \n",
      "5   (202) 237-1432  3279.927791  \n",
      "6   (202) 667-2456  3795.214543  \n",
      "7   (202) 265-2519  3921.127628  \n",
      "8   (202) 387-0035  3028.972742  \n",
      "9   (202) 955-5997  3135.384395  \n",
      "10  (202) 530-8844  2877.958272  \n"
     ]
    }
   ],
   "source": [
    "# convert to pd\n",
    "df_yelp = pd.DataFrame(yelp_json[\"businesses\"])\n",
    "\n",
    "# see\n",
    "print(df_yelp)\n",
    "\n",
    "# not looking realy bad. "
   ]
  },
  {
   "cell_type": "markdown",
   "id": "f92f6d0c",
   "metadata": {},
   "source": [
    "### Approach 2: write a function to collect the information you need\n",
    "\n",
    "Assume you are interested in the id, name, url, lat and long, and rating"
   ]
  },
  {
   "cell_type": "code",
   "execution_count": 46,
   "id": "cfb87597",
   "metadata": {},
   "outputs": [],
   "source": [
    "# function to clean and extract information from yelp\n",
    "def clean_yelp(yelp_json):\n",
    "    '''\n",
    "    function to extract columns of interest from yelp json\n",
    "    '''\n",
    "    # create a temporary dictionary to store the information\n",
    "    temp_yelp = {}\n",
    "    \n",
    "    # collect information\n",
    "    temp_yelp[\"id\"]= yelp_json[\"id\"]\n",
    "    temp_yelp[\"name\"]= yelp_json[\"name\"]\n",
    "    temp_yelp[\"url\"]= yelp_json[\"url\"]\n",
    "    temp_yelp[\"latitude\"] = yelp_json[\"coordinates\"][\"latitude\"]\n",
    "    temp_yelp[\"longitude\"] = yelp_json[\"coordinates\"][\"longitude\"]\n",
    "    temp_yelp[\"rating\"]= yelp_json[\"rating\"]\n",
    "    \n",
    "    # return\n",
    "    \n",
    "    return(temp_yelp)\n",
    "    "
   ]
  },
  {
   "cell_type": "code",
   "execution_count": 47,
   "id": "fba53d8a",
   "metadata": {},
   "outputs": [
    {
     "name": "stdout",
     "output_type": "stream",
     "text": [
      "                        id                               name  \\\n",
      "0   GlAT_ksg5ftJ87PXwXmoVA  Fogo de Chão Brazilian Steakhouse   \n",
      "1   WoDJcvo4YRN_ScEbOHNMag             The Grill From Ipanema   \n",
      "2   BPOES_VaXh4JFZQHSacoBQ                              Bossa   \n",
      "3   bB4PHDPtJbWvCFukIL83OA       European Foods Import Export   \n",
      "4   1ctsXD-rj0ctn9QCplLVmw                        Medium Rare   \n",
      "5   IzT4n5qDMzF6fJ33-wwdDw                        Medium Rare   \n",
      "6   QJMhG5YZa422Rqz-m_gXYw                  Chicken + Whiskey   \n",
      "7   BTOjO-rNIXpb-5OHuHqrHw                    Restaurant Judy   \n",
      "8   8FGizWqfHi9XBL2R6J5uJg                      Lauriol Plaza   \n",
      "9   1ieT14ia0sHQGg6-fK6nAA            Morton's The Steakhouse   \n",
      "10  TfpDB-fsA_2HGLHHmQ0JXA                        Café Citron   \n",
      "\n",
      "                                                  url   latitude  longitude  \\\n",
      "0   https://www.yelp.com/biz/fogo-de-chao-brazilia...  38.895198 -77.027328   \n",
      "1   https://www.yelp.com/biz/the-grill-from-ipanem...  38.920950 -77.043510   \n",
      "2   https://www.yelp.com/biz/bossa-washington?adju...  38.922088 -77.042253   \n",
      "3   https://www.yelp.com/biz/european-foods-import...  38.880560 -77.090608   \n",
      "4   https://www.yelp.com/biz/medium-rare-arlington...  38.883510 -77.103832   \n",
      "5   https://www.yelp.com/biz/medium-rare-washingto...  38.935771 -77.058927   \n",
      "6   https://www.yelp.com/biz/chicken-whiskey-washi...  38.913855 -77.032106   \n",
      "7   https://www.yelp.com/biz/restaurant-judy-washi...  38.919660 -77.032290   \n",
      "8   https://www.yelp.com/biz/lauriol-plaza-washing...  38.915291 -77.041430   \n",
      "9   https://www.yelp.com/biz/mortons-the-steakhous...  38.903217 -77.040181   \n",
      "10  https://www.yelp.com/biz/caf%C3%A9-citron-wash...  38.908440 -77.042350   \n",
      "\n",
      "    rating  \n",
      "0      4.0  \n",
      "1      4.0  \n",
      "2      3.5  \n",
      "3      4.5  \n",
      "4      3.5  \n",
      "5      4.0  \n",
      "6      4.0  \n",
      "7      4.0  \n",
      "8      3.5  \n",
      "9      3.5  \n",
      "10     3.5  \n"
     ]
    }
   ],
   "source": [
    "# apply to the dictionary\n",
    "results_yelp = [clean_yelp(entry) for entry in yelp_json[\"businesses\"]]\n",
    "\n",
    "\n",
    "# Convert results to dataframe\n",
    "yelp_df = pd.DataFrame(results_yelp)   \n",
    "print(yelp_df)"
   ]
  },
  {
   "cell_type": "markdown",
   "id": "7895e8bc",
   "metadata": {},
   "source": [
    "#### Save the json\n",
    "\n",
    "Remember to always save your response from the API call. You don't want be querying the API all the time to grab the same data. "
   ]
  },
  {
   "cell_type": "code",
   "execution_count": 48,
   "id": "3bea4bdf",
   "metadata": {},
   "outputs": [],
   "source": [
    "import json\n",
    "\n",
    "with open(\"yelp_results.json\", 'w') as f:\n",
    "    # write the dictionary to a string\n",
    "    json.dump(response.json(), f, indent=4)"
   ]
  },
  {
   "cell_type": "markdown",
   "id": "08bc7f62",
   "metadata": {},
   "source": [
    "## Practice\n",
    "\n",
    "Make a successful query using your favorite type of food to the Yelp API"
   ]
  },
  {
   "cell_type": "code",
   "execution_count": null,
   "id": "bfc97ad4",
   "metadata": {},
   "outputs": [],
   "source": [
    "# code here"
   ]
  },
  {
   "cell_type": "markdown",
   "id": "a6da3f45",
   "metadata": {},
   "source": [
    "## Example 3 : YouTube API\n",
    "\n",
    "Now let's move to our last example. \n",
    "\n",
    "We will be working with the YouTube API. This is a complex API, but lucky for us some other programmers already created a Python wrapper to access the API. We will use the [youtube-data-api](https://youtube-data-api.readthedocs.io/en/latest/youtube_api.html) library which contains a set of functions to facilitate the access to the API. \n",
    "\n",
    "### What kind of data can you get from the Youtube API?\n",
    "\n",
    "Youtube has a very extensive api. There are a lot of data you can get access to. See a compreensive list [here](https://developers.google.com/youtube/v3/docs/)\n",
    "\n",
    "What is included in the package:\n",
    "\n",
    "- video metadata\n",
    "- channel metadata\n",
    "- playlist metadata\n",
    "- subscription metadata\n",
    "- featured channel metadata\n",
    "- comment metadata\n",
    "- search results\n",
    "\n",
    "### How to Install\n",
    "\n",
    "The software is on PyPI, so you can download it via `pip`\n",
    "   "
   ]
  },
  {
   "cell_type": "code",
   "execution_count": 60,
   "id": "33a29a52",
   "metadata": {},
   "outputs": [],
   "source": [
    "#!pip install youtube-data-api"
   ]
  },
  {
   "cell_type": "markdown",
   "id": "7c8af632",
   "metadata": {},
   "source": [
    "### How to get an API key\n",
    "\n",
    "#### A quick guide: [https://developers.google.com/youtube/v3/getting-started](https://developers.google.com/youtube/v3/getting-started)\n",
    "\n",
    "1. You need a Google Account to access the Google API Console, request an API key, and register your application. You can use your GMail account for this if you have one.\n",
    "\n",
    "2. Create a project in the <a href=\"https://console.developers.google.com/apis/\">Google Developers Console</a> and <a href=\"https://developers.google.com/youtube/registering_an_application\">obtain authorization credentials</a> so your application can submit API requests.\n",
    "\n",
    "3. After creating your project, make sure the YouTube Data API is one of the services that your application is registered to use.\n",
    "\n",
    "    a. Go to the <a href=\"https://console.developers.google.com/apis/\">API Console</a> and select the project that you just registered.\n",
    "\n",
    "    b. Visit the <a href=\"https://console.developers.google.com/apis/enabled\">Enabled APIs page</a>. In the list of APIs, make sure the status is ON for the YouTube Data API v3. You do not need to enable OAuth 2.0 since there are no methods in the package that require it.\n",
    "        "
   ]
  },
  {
   "cell_type": "code",
   "execution_count": 49,
   "id": "cd2e447a",
   "metadata": {},
   "outputs": [],
   "source": [
    "# call some libraries\n",
    "import os\n",
    "import datetime\n",
    "import pandas as pd"
   ]
  },
  {
   "cell_type": "code",
   "execution_count": 50,
   "id": "e484fca8",
   "metadata": {},
   "outputs": [],
   "source": [
    "#Import YouTubeDataAPI\n",
    "from youtube_api import YouTubeDataAPI\n",
    "from youtube_api.youtube_api_utils import *\n",
    "from dotenv import load_dotenv"
   ]
  },
  {
   "cell_type": "code",
   "execution_count": 52,
   "id": "4f4906e0",
   "metadata": {},
   "outputs": [
    {
     "name": "stdout",
     "output_type": "stream",
     "text": [
      "<youtube_api.youtube_api.YouTubeDataAPI object at 0x137f25250>\n"
     ]
    }
   ],
   "source": [
    "# load keys from  environmental var\n",
    "load_dotenv() # .env file in cwd\n",
    "api_key = os.environ.get(\"YT_KEY\")\n",
    "\n",
    "# create a client \n",
    "# this is what we call: instantiate the class\n",
    "yt = YouTubeDataAPI(api_key)\n",
    "print(yt)"
   ]
  },
  {
   "cell_type": "markdown",
   "id": "25a8c744",
   "metadata": {},
   "source": [
    "#### Starting with a channel name and getting some basic metadata\n",
    "\n",
    "Let's start with the `LastWeekTonight` channel\n",
    "\n",
    "[https://www.youtube.com/user/LastWeekTonight](https://www.youtube.com/user/LastWeekTonight)\n",
    "\n",
    "First we need to get the channel id"
   ]
  },
  {
   "cell_type": "code",
   "execution_count": 53,
   "id": "995717c4",
   "metadata": {},
   "outputs": [
    {
     "name": "stdout",
     "output_type": "stream",
     "text": [
      "UC3XTzVzaHQEd30rQbuvCtTQ\n"
     ]
    }
   ],
   "source": [
    "channel_id = yt.get_channel_id_from_user('LastWeekTonight')\n",
    "print(channel_id)"
   ]
  },
  {
   "cell_type": "markdown",
   "id": "ca218644",
   "metadata": {},
   "source": [
    "#### Channel metadata"
   ]
  },
  {
   "cell_type": "code",
   "execution_count": 54,
   "id": "0e8e12a7",
   "metadata": {},
   "outputs": [
    {
     "data": {
      "text/plain": [
       "{'channel_id': 'UC3XTzVzaHQEd30rQbuvCtTQ',\n",
       " 'title': 'LastWeekTonight',\n",
       " 'account_creation_date': 1395178899.0,\n",
       " 'keywords': None,\n",
       " 'description': 'Breaking news on a weekly basis. Sundays at 11PM - only on HBO.\\nSubscribe to the Last Week Tonight channel for the latest videos from John Oliver and the LWT team.',\n",
       " 'view_count': '3690162267',\n",
       " 'video_count': '422',\n",
       " 'subscription_count': '9230000',\n",
       " 'playlist_id_likes': '',\n",
       " 'playlist_id_uploads': 'UU3XTzVzaHQEd30rQbuvCtTQ',\n",
       " 'topic_ids': 'https://en.wikipedia.org/wiki/Television_program|https://en.wikipedia.org/wiki/Society|https://en.wikipedia.org/wiki/Film|https://en.wikipedia.org/wiki/Entertainment',\n",
       " 'country': None,\n",
       " 'collection_date': datetime.datetime(2023, 10, 30, 16, 32, 38, 974393)}"
      ]
     },
     "execution_count": 54,
     "metadata": {},
     "output_type": "execute_result"
    }
   ],
   "source": [
    "# collect metadata\n",
    "yt.get_channel_metadata(channel_id)"
   ]
  },
  {
   "cell_type": "markdown",
   "id": "6f081251",
   "metadata": {},
   "source": [
    "#### Subscriptions of the channel. "
   ]
  },
  {
   "cell_type": "code",
   "execution_count": 55,
   "id": "69beeef0",
   "metadata": {},
   "outputs": [
    {
     "data": {
      "text/html": [
       "<div>\n",
       "<style scoped>\n",
       "    .dataframe tbody tr th:only-of-type {\n",
       "        vertical-align: middle;\n",
       "    }\n",
       "\n",
       "    .dataframe tbody tr th {\n",
       "        vertical-align: top;\n",
       "    }\n",
       "\n",
       "    .dataframe thead th {\n",
       "        text-align: right;\n",
       "    }\n",
       "</style>\n",
       "<table border=\"1\" class=\"dataframe\">\n",
       "  <thead>\n",
       "    <tr style=\"text-align: right;\">\n",
       "      <th></th>\n",
       "      <th>subscription_title</th>\n",
       "      <th>subscription_channel_id</th>\n",
       "      <th>subscription_kind</th>\n",
       "      <th>subscription_publish_date</th>\n",
       "      <th>collection_date</th>\n",
       "    </tr>\n",
       "  </thead>\n",
       "  <tbody>\n",
       "    <tr>\n",
       "      <th>0</th>\n",
       "      <td>trueblood</td>\n",
       "      <td>UCPnlBOg4_NU9wdhRN-vzECQ</td>\n",
       "      <td>youtube#channel</td>\n",
       "      <td>1.395357e+09</td>\n",
       "      <td>2023-10-30 16:32:40.768592</td>\n",
       "    </tr>\n",
       "    <tr>\n",
       "      <th>1</th>\n",
       "      <td>GameofThrones</td>\n",
       "      <td>UCQzdMyuz0Lf4zo4uGcEujFw</td>\n",
       "      <td>youtube#channel</td>\n",
       "      <td>1.395357e+09</td>\n",
       "      <td>2023-10-30 16:32:40.768616</td>\n",
       "    </tr>\n",
       "    <tr>\n",
       "      <th>2</th>\n",
       "      <td>HBO</td>\n",
       "      <td>UCVTQuK2CaWaTgSsoNkn5AiQ</td>\n",
       "      <td>youtube#channel</td>\n",
       "      <td>1.395357e+09</td>\n",
       "      <td>2023-10-30 16:32:40.768634</td>\n",
       "    </tr>\n",
       "    <tr>\n",
       "      <th>3</th>\n",
       "      <td>HBOBoxing</td>\n",
       "      <td>UCWPQB43yGKEum3eW0P9N_nQ</td>\n",
       "      <td>youtube#channel</td>\n",
       "      <td>1.395357e+09</td>\n",
       "      <td>2023-10-30 16:32:40.768651</td>\n",
       "    </tr>\n",
       "    <tr>\n",
       "      <th>4</th>\n",
       "      <td>Cinemax</td>\n",
       "      <td>UCYbinjMxWwjRpp4WqgDqEDA</td>\n",
       "      <td>youtube#channel</td>\n",
       "      <td>1.424812e+09</td>\n",
       "      <td>2023-10-30 16:32:40.768667</td>\n",
       "    </tr>\n",
       "    <tr>\n",
       "      <th>5</th>\n",
       "      <td>HBODocs</td>\n",
       "      <td>UCbKo3HsaBOPhdRpgzqtRnqA</td>\n",
       "      <td>youtube#channel</td>\n",
       "      <td>1.395357e+09</td>\n",
       "      <td>2023-10-30 16:32:40.768684</td>\n",
       "    </tr>\n",
       "    <tr>\n",
       "      <th>6</th>\n",
       "      <td>HBOLatino</td>\n",
       "      <td>UCeKum6mhlVAjUFIW15mVBPg</td>\n",
       "      <td>youtube#channel</td>\n",
       "      <td>1.395357e+09</td>\n",
       "      <td>2023-10-30 16:32:40.768702</td>\n",
       "    </tr>\n",
       "    <tr>\n",
       "      <th>7</th>\n",
       "      <td>OfficialAmySedaris</td>\n",
       "      <td>UCicerXLHzJaKYHm1IwvTn8A</td>\n",
       "      <td>youtube#channel</td>\n",
       "      <td>1.461561e+09</td>\n",
       "      <td>2023-10-30 16:32:40.768723</td>\n",
       "    </tr>\n",
       "    <tr>\n",
       "      <th>8</th>\n",
       "      <td>Real Time with Bill Maher</td>\n",
       "      <td>UCy6kyFxaMqGtpE3pQTflK8A</td>\n",
       "      <td>youtube#channel</td>\n",
       "      <td>1.418342e+09</td>\n",
       "      <td>2023-10-30 16:32:40.768739</td>\n",
       "    </tr>\n",
       "  </tbody>\n",
       "</table>\n",
       "</div>"
      ],
      "text/plain": [
       "          subscription_title   subscription_channel_id subscription_kind  \\\n",
       "0                  trueblood  UCPnlBOg4_NU9wdhRN-vzECQ   youtube#channel   \n",
       "1              GameofThrones  UCQzdMyuz0Lf4zo4uGcEujFw   youtube#channel   \n",
       "2                        HBO  UCVTQuK2CaWaTgSsoNkn5AiQ   youtube#channel   \n",
       "3                  HBOBoxing  UCWPQB43yGKEum3eW0P9N_nQ   youtube#channel   \n",
       "4                    Cinemax  UCYbinjMxWwjRpp4WqgDqEDA   youtube#channel   \n",
       "5                    HBODocs  UCbKo3HsaBOPhdRpgzqtRnqA   youtube#channel   \n",
       "6                  HBOLatino  UCeKum6mhlVAjUFIW15mVBPg   youtube#channel   \n",
       "7         OfficialAmySedaris  UCicerXLHzJaKYHm1IwvTn8A   youtube#channel   \n",
       "8  Real Time with Bill Maher  UCy6kyFxaMqGtpE3pQTflK8A   youtube#channel   \n",
       "\n",
       "   subscription_publish_date            collection_date  \n",
       "0               1.395357e+09 2023-10-30 16:32:40.768592  \n",
       "1               1.395357e+09 2023-10-30 16:32:40.768616  \n",
       "2               1.395357e+09 2023-10-30 16:32:40.768634  \n",
       "3               1.395357e+09 2023-10-30 16:32:40.768651  \n",
       "4               1.424812e+09 2023-10-30 16:32:40.768667  \n",
       "5               1.395357e+09 2023-10-30 16:32:40.768684  \n",
       "6               1.395357e+09 2023-10-30 16:32:40.768702  \n",
       "7               1.461561e+09 2023-10-30 16:32:40.768723  \n",
       "8               1.418342e+09 2023-10-30 16:32:40.768739  "
      ]
     },
     "execution_count": 55,
     "metadata": {},
     "output_type": "execute_result"
    }
   ],
   "source": [
    "pd.DataFrame(yt.get_subscriptions(channel_id))"
   ]
  },
  {
   "cell_type": "markdown",
   "id": "1ea5be95",
   "metadata": {},
   "source": [
    "#### List of videos of the channel\n",
    "You first need to convert the `channel_id` into a playlist id to get all the videos ever posted by a channel using a function from the `youtube_api_utils` in the package. Then you can get the video ids, and collect metadata, comments, among many others. "
   ]
  },
  {
   "cell_type": "code",
   "execution_count": 56,
   "id": "d0a6e181",
   "metadata": {},
   "outputs": [
    {
     "name": "stdout",
     "output_type": "stream",
     "text": [
      "UU3XTzVzaHQEd30rQbuvCtTQ\n"
     ]
    }
   ],
   "source": [
    "from youtube_api.youtube_api_utils import *\n",
    "playlist_id = get_upload_playlist_id(channel_id)\n",
    "print(playlist_id)"
   ]
  },
  {
   "cell_type": "code",
   "execution_count": 57,
   "id": "5a7371f3",
   "metadata": {},
   "outputs": [
    {
     "name": "stdout",
     "output_type": "stream",
     "text": [
      "        video_id                channel_id  publish_date  \\\n",
      "0    FwHMDjc7qJ8  UC3XTzVzaHQEd30rQbuvCtTQ  1.698662e+09   \n",
      "1    AiOUojVd6xQ  UC3XTzVzaHQEd30rQbuvCtTQ  1.698057e+09   \n",
      "2    Za45bT41sXg  UC3XTzVzaHQEd30rQbuvCtTQ  1.697452e+09   \n",
      "3    lzsZP9o7SlI  UC3XTzVzaHQEd30rQbuvCtTQ  1.696847e+09   \n",
      "4    82QYlbiawJI  UC3XTzVzaHQEd30rQbuvCtTQ  1.696243e+09   \n",
      "..           ...                       ...           ...   \n",
      "417  Dh9munYYoqQ  UC3XTzVzaHQEd30rQbuvCtTQ  1.398670e+09   \n",
      "418  k8lJ85pfb_E  UC3XTzVzaHQEd30rQbuvCtTQ  1.398669e+09   \n",
      "419  WHCQndalv94  UC3XTzVzaHQEd30rQbuvCtTQ  1.398663e+09   \n",
      "420  8q7esuODnQI  UC3XTzVzaHQEd30rQbuvCtTQ  1.395379e+09   \n",
      "421  gdQCtWlhx90  UC3XTzVzaHQEd30rQbuvCtTQ  1.395379e+09   \n",
      "\n",
      "               collection_date  \n",
      "0   2023-10-30 16:32:51.782207  \n",
      "1   2023-10-30 16:32:51.782233  \n",
      "2   2023-10-30 16:32:51.782250  \n",
      "3   2023-10-30 16:32:51.782268  \n",
      "4   2023-10-30 16:32:51.782289  \n",
      "..                         ...  \n",
      "417 2023-10-30 16:32:52.669449  \n",
      "418 2023-10-30 16:32:52.669477  \n",
      "419 2023-10-30 16:32:52.669507  \n",
      "420 2023-10-30 16:32:52.669537  \n",
      "421 2023-10-30 16:32:52.669572  \n",
      "\n",
      "[422 rows x 4 columns]\n"
     ]
    }
   ],
   "source": [
    "## Get video ids\n",
    "videos = yt.get_videos_from_playlist_id(playlist_id)\n",
    "df = pd.DataFrame(videos)\n",
    "print(df)"
   ]
  },
  {
   "cell_type": "markdown",
   "id": "d75033d5",
   "metadata": {},
   "source": [
    "#### Collect video metadata"
   ]
  },
  {
   "cell_type": "code",
   "execution_count": 58,
   "id": "ae4e47f9",
   "metadata": {},
   "outputs": [
    {
     "data": {
      "text/plain": [
       "['FwHMDjc7qJ8',\n",
       " 'AiOUojVd6xQ',\n",
       " 'Za45bT41sXg',\n",
       " 'lzsZP9o7SlI',\n",
       " '82QYlbiawJI',\n",
       " '18PL6enCwh8',\n",
       " 'sy5VQvDGKd4',\n",
       " 'o7zazuy_UfI',\n",
       " '41vETgarh_8',\n",
       " 'qrizmAo17Os',\n",
       " '_uSZwErdH3I',\n",
       " 'Bd2bbHoVQSM',\n",
       " 'wJDk-czsivk',\n",
       " 'M81-GM0mTc4',\n",
       " 'Sqa8Zo2XWc4',\n",
       " 'a546lxxJIhE',\n",
       " 's3gUpyEI_rQ',\n",
       " 'HkvQywg_uZA',\n",
       " 'UMqLDhl8PXw',\n",
       " 'KWterDbJKjY',\n",
       " 'Y0LA7Ff2hgs',\n",
       " 'xQLqIWbc9VM',\n",
       " 'Ns8NvPPHX5Y',\n",
       " 'kCOnGjvYKI0',\n",
       " 'eJPLiT1kCSM',\n",
       " 'uySgklnlX3Y',\n",
       " 'DNy6F7ZwX8I',\n",
       " '3YNku5FKWjw',\n",
       " '6p8zAbFKpW0',\n",
       " 'x2hw_ghPcQs',\n",
       " 'pQcFCFZIuZI',\n",
       " 'jtIZZs-GAOA',\n",
       " 'MBo4GViDxzc',\n",
       " '6RxqNv6bEug',\n",
       " 'jtxew5XUVbQ',\n",
       " 'L4qmDnYli2E',\n",
       " 'jXf04bhcjbg',\n",
       " 'KgwqQGvYt0g',\n",
       " 'AEa3sK1iZxc',\n",
       " 'jDdYFhzVCDM',\n",
       " 'C-YRSqaPtMg',\n",
       " 'FtdVglihDok',\n",
       " 'MalsOLSFvX0',\n",
       " '-v0XiUQlRLw',\n",
       " 'Hk011WMM7t0',\n",
       " 'obCNQ0xksZ4',\n",
       " 'wqn3gR1WTcA',\n",
       " 'phieTCxQRLA',\n",
       " 'RMpCGD7b_H4',\n",
       " '-_Y7uqqEFnY',\n",
       " 'kpYYdCzTpps',\n",
       " '-gd8yUptg0Q',\n",
       " 'EICp1vGlh_U',\n",
       " 'xX5IV9n223M',\n",
       " '8Kfx2fANELo',\n",
       " 'Gk8dUXRpoy8',\n",
       " 'qBpiXcyB7wU',\n",
       " 'liptMbjF3EE',\n",
       " '9Y18-07g39g',\n",
       " '0nqJvjUNlRA',\n",
       " 'l5jtFqWq5iU',\n",
       " '9W74aeuqsiU',\n",
       " 'bl-ABuxeWrE',\n",
       " 'EN9OdruH_qM',\n",
       " '27FpoRiStgk',\n",
       " 'NvpKES_kcYg',\n",
       " 'dykZyuWci3g',\n",
       " 'WqD-ATqw3js',\n",
       " 'uaCaIhfETsM',\n",
       " 'Ezv8sdTLxKo',\n",
       " '_-0J49_9lwc',\n",
       " 'A51mJjFyG_w',\n",
       " 'aSZ-hogD8mg',\n",
       " 'oFetFqrVBNc',\n",
       " 'zv8ZPFOxJEc',\n",
       " '6fiRDJLjL94',\n",
       " '29lXsOYBaow',\n",
       " 'abuQk-6M5R4',\n",
       " 'sIi_QS1tdFM',\n",
       " 'vTF-Kz_7L0c',\n",
       " 'Uf1c0tEGfrU',\n",
       " 'gPHgRp70H8o',\n",
       " 'Of3fbIgSqeU',\n",
       " 'GzFG0Cdh8D8',\n",
       " '2xlol-SNQRU',\n",
       " 'yq_E3HquRJY',\n",
       " 'Fiu9GSOmt8E',\n",
       " 'XMGxxRRtmHc',\n",
       " 'jm9YKT0dItk',\n",
       " 'WYdi1bL6s10',\n",
       " 'IhO1FcjDMV4',\n",
       " '_v-U3K1sw9U',\n",
       " 'S5_4wPW6jJQ',\n",
       " 'qIUb3bjh42Y',\n",
       " 'EzlCOg-37hI',\n",
       " 'cMz_sTgoydQ',\n",
       " 'LyC855KdBKo',\n",
       " 'sE63HmOYGps',\n",
       " 'IuVo4fnpLC8',\n",
       " 'xtdU5RPDZqI',\n",
       " '7g0Jh4h5E1E',\n",
       " 'AytDzZ2ecCc',\n",
       " 'zeBjxv4oqGU',\n",
       " 'pkpfFuiZkcs',\n",
       " 'rBu0BRTx2x8',\n",
       " '3ZRE6uVMDAo',\n",
       " '1f2iawp0y5Y',\n",
       " 'hsxukOPEdgg',\n",
       " '17oCQakzIl8',\n",
       " '0b_eHBZLM6U',\n",
       " 'R652nwUcJRA',\n",
       " 'MuxnH0VAkAM',\n",
       " 'jZjmlJPJgug',\n",
       " 'Wf4cea5oObY',\n",
       " 'l-nEHkgm_Gk',\n",
       " 'z4gBMw64aqk',\n",
       " 'IoL8g0W9gAQ',\n",
       " '7rl4c-jr7g0',\n",
       " 'dRFbwjwQ4VE',\n",
       " '6s4Bx7mzNkM',\n",
       " 'UnSILVWDKL8',\n",
       " 'ElIf2DBrWzU',\n",
       " '_066dEkycr4',\n",
       " 'v_kak7kAdNw',\n",
       " 'c09m5f7Gnic',\n",
       " 'qVIXUhZ2AWs',\n",
       " '7Z2XRg3dy9k',\n",
       " 'kxatzHnl7Q8',\n",
       " '_TfCgeYHiBE',\n",
       " 'xa0oY7LQmtg',\n",
       " '1aheRpmurAo',\n",
       " 'UN8bJb8biZU',\n",
       " 'svEuG_ekNT0',\n",
       " '2u_pZ-SgACk',\n",
       " 'qMGn9T37eR8',\n",
       " '1Nqa4XKkXp4',\n",
       " 'SE_ccFHjL_w',\n",
       " 'Nuzi7LlSDVo',\n",
       " 'tXqnRMU1fTs',\n",
       " '3y1QA6OeAcQ',\n",
       " 'TATSAHJKRd8',\n",
       " '-9QYu8LtH2E',\n",
       " 'AjqaNQ018zU',\n",
       " 'dXyO_MC9g3k',\n",
       " 'd9m7d07k22A',\n",
       " 'Bchx0mS7XOY',\n",
       " 'zxT8CM8XntA',\n",
       " 'bCBYJZ6QbUI',\n",
       " '-tIdzNlExrw',\n",
       " 'hnoMsftQPY8',\n",
       " 'JDcro7dPqpA',\n",
       " '0lTczPEG8iI',\n",
       " 'f4fVdf4pNEc',\n",
       " 'YMBj_tU7HRU',\n",
       " '-qCKR6wy94U',\n",
       " 'jCC8fPQOaxU',\n",
       " 'm8UQ4O7UiDs',\n",
       " 'Yq7Eh6JTKIg',\n",
       " 'FO0iG_P0P6M',\n",
       " '_h1ooyyFkF0',\n",
       " 'WhMGcp9xIhY',\n",
       " 'HaBQfSAVt0s',\n",
       " 'CdDBi0DheMw',\n",
       " 'MdHmp5EX5bE',\n",
       " 'TB_wx0dAPU0',\n",
       " 'ximgPmJ9A5s',\n",
       " '5HS2TstPfW4',\n",
       " 'ygVX1z6tDGI',\n",
       " 'UpdMYOtAmKY',\n",
       " 'ViDPIyiszoo',\n",
       " 'FsZ3p9gOkpY',\n",
       " 'opi8X9hQ7q8',\n",
       " 'OjPYmEZxACM',\n",
       " 'NpPyLcQ2vdI',\n",
       " '2nXYbGmF3_Q',\n",
       " 'etkd57lPfPU',\n",
       " 'Fmh4RdIwswE',\n",
       " 'ET_b78GSBUs',\n",
       " 'dHiAls8loz4',\n",
       " 'dFnN2toxFaY',\n",
       " 'AJm8PeWkiEU',\n",
       " '8-hahRWhFvg',\n",
       " 'OubM8bD9kck',\n",
       " 'mOVPStnVgvU',\n",
       " 'nG2pEffLEJo',\n",
       " 'hWQiXv0sn9Y',\n",
       " 'IYfgvS0FA7U',\n",
       " 'mXQuto1fMp4',\n",
       " '5xnZ_CeTqyM',\n",
       " 'RKjk0ECXjiQ',\n",
       " '4NNpkv3Us1I',\n",
       " '9fB0GBwJ2QA',\n",
       " 'rs2RlZQVXBU',\n",
       " 'g6iDZspbRMg',\n",
       " 'LEcbagW4O-s',\n",
       " 'LdhQzXHYLZ4',\n",
       " 'QCjk_NPsIqU',\n",
       " 'wrpeEitIEpA',\n",
       " 'seGgZp-XYdM',\n",
       " '1ZAPwfrtAFY',\n",
       " '8bl19RoR7lc',\n",
       " 'pf1t7cs9dkc',\n",
       " 'mPjgRKW_Jmk',\n",
       " 'J5b_-TZwQ0I',\n",
       " '_ECYMvjU52E',\n",
       " 'ScmJvmzDcG0',\n",
       " '00wQYmvfhn4',\n",
       " '1ZNZY-gd3K0',\n",
       " 'ZwY2E0hjGuU',\n",
       " 'TrS0uNBuG9c',\n",
       " 'NnW5EjwtE2U',\n",
       " 'WyGq6cjcc3Q',\n",
       " '5cBV8KFFasY',\n",
       " 'GvtNyOzGogc',\n",
       " '7VG_s2PCH_c',\n",
       " 'aw6RsUhw1Q8',\n",
       " 'fyVz5vgqBhE',\n",
       " '5scez5dqtAc',\n",
       " 'FVFdsl29s_Q',\n",
       " 'yw_nqzVfxFQ',\n",
       " 'qI5y-_sqJT0',\n",
       " '92vuuZt7wak',\n",
       " 'wD8AwgO0AQI',\n",
       " 'hkZir1L7fSY',\n",
       " 'A-4dIImaodQ',\n",
       " 'BcR_Wg42dv8',\n",
       " 'ySTQk6updjQ',\n",
       " '-Z668Qc0P4Q',\n",
       " 'Ifi9M7DRazI',\n",
       " 'bLY45o6rHm0',\n",
       " 'YEGpriv2TAc',\n",
       " '0utzB6oDan0',\n",
       " 'xecEV4dSAXE',\n",
       " 'ekoETowzmAo',\n",
       " 'cBUeipXFisQ',\n",
       " '-rSDUsMwakI',\n",
       " 's6MwGeOm8iI',\n",
       " 'Cy-O4myeUzg',\n",
       " 'e0bMfS-_pjM',\n",
       " 'o8yiYCHMAlM',\n",
       " '5pdPrQFjo2o',\n",
       " 'k3O01EfM5fU',\n",
       " 'KEbFtMgGhPY',\n",
       " 'zaD84DTGULo',\n",
       " 'h1Lfd1aB9YI',\n",
       " '_kZsOISarzg',\n",
       " '8l2Y6Z-maAU',\n",
       " 'apumpVGBpP8',\n",
       " 'XzCgVltuzEk',\n",
       " 'l_htSPGAY7I',\n",
       " '4U2eDJnwz_s',\n",
       " '7-LPcVo7gC0',\n",
       " 'bq2_wSsDwkQ',\n",
       " 'BUCnjlTfXDw',\n",
       " '32n4h0kn-88',\n",
       " 'zNdkrtfZP8I',\n",
       " 'voxfqkrO5ww',\n",
       " 'cQtYlkwR8lM',\n",
       " 'IQwMCQFgQgo',\n",
       " 'nh0ac5HUpDU',\n",
       " 'BgyqAD5Z6_A',\n",
       " 'iAgKHSNqxa8',\n",
       " 'gvZSpET11ZY',\n",
       " 'hxUAntt1z2c',\n",
       " 'NcA_j23HuDU',\n",
       " '_S2G8jhhUHg',\n",
       " 'A-XlyB_QQYs',\n",
       " '0Rnq1NpHdmw',\n",
       " 'o5E7cG54VoA',\n",
       " 'Tt-mpuR_QHQ',\n",
       " 'GUizvEjR-0U',\n",
       " 'aRrDsbUdY_k',\n",
       " 'Ylomy1Aw9Hk',\n",
       " 'fNS4lecOaAc',\n",
       " 'vU8dCYocuyI',\n",
       " 'dNV7COWz8ME',\n",
       " 'zsjZ2r9Ygzw',\n",
       " '3saU5racsGE',\n",
       " 'DnpO_RTSNmQ',\n",
       " 'XebG4TO_xss',\n",
       " 'DRauXXz6t0Y',\n",
       " 'rHFOwlMCdto',\n",
       " 'DgOgdGpWqzQ',\n",
       " 'f0X-8tSgiuA',\n",
       " 'pxM3tvHowaM',\n",
       " 'GjatG8QFoOk',\n",
       " '_tyszHg96KI',\n",
       " 'Mq785nJ0FXQ',\n",
       " 'gJtYRxH5G2k',\n",
       " '5d3nASKtGas',\n",
       " '0V5ckcTSYu8',\n",
       " 'jYusNNldesc',\n",
       " 'NGY6DqB1HX8',\n",
       " 'umqvYhb3wf4',\n",
       " 'USkEzLuzmZ4',\n",
       " 'CQ2noSR1qdY',\n",
       " 'ACwenVzN2oU',\n",
       " '5d667Bb_iYA',\n",
       " '7y1xJAVZxXg',\n",
       " 'L0jQz6jqQS0',\n",
       " '4Z4j2CrJRn4',\n",
       " 'pDVmldTurqk',\n",
       " 'i8xwLWb0lLY',\n",
       " 'xcwJt4bcnXs',\n",
       " 'Pk2oW4SDDxY',\n",
       " 'EjpJqcM3X94',\n",
       " 'U2WlQZf9zSg',\n",
       " 'hmoAX9f6MOc',\n",
       " 'PuNIwYsz7PI',\n",
       " 'zmeF2rzsZSU',\n",
       " 'IS5mwymTIJU',\n",
       " 'qr6ar3xJL_Q',\n",
       " 'W_gRZcI1lto',\n",
       " 'X9wHzt6gBgI',\n",
       " 'zIhKAQX5izw',\n",
       " 'J6lyURyVz7k',\n",
       " 'VdLf4fihP78',\n",
       " 'UC_gXD5OE88',\n",
       " '3bxcc3SM_KA',\n",
       " 'Nn_Zln_4pA8',\n",
       " 'yzGzB-yYKcc',\n",
       " 'fesi92d1p68',\n",
       " 'XEVlyP4_11M',\n",
       " 'uiN_-AEhTpk',\n",
       " 'kXYXuXX48m8',\n",
       " '0UjpmT5noto',\n",
       " 'pX8BXH3SJn0',\n",
       " 'br0NW9ufUUw',\n",
       " 'CesHr99ezWE',\n",
       " 'Wpzvaqypav8',\n",
       " 'poL7l-Uk3I8',\n",
       " '2sWRXr2Yu9g',\n",
       " '6UsHHOCH4q8',\n",
       " 'l8QNDRbjong',\n",
       " 'YQZ2UeOTO3I',\n",
       " '3FCioWz7aps',\n",
       " '2bbskco60g4',\n",
       " 'fPloDzu_wcI',\n",
       " 'P1EtSBxm0S4',\n",
       " 'eAFnby2184o',\n",
       " 'X8Buy2X0kFo',\n",
       " '9PK-netuhHA',\n",
       " 'l9qA8c-E_oA',\n",
       " 'x3Md3O_XfoI',\n",
       " 'aIMgfBZrrZ8',\n",
       " 'boI4D1FlIVs',\n",
       " 'XXCbffp7jLM',\n",
       " 'MepXBJjsNxs',\n",
       " 'izUzqUrhbh0',\n",
       " 'QplQL5eAxlY',\n",
       " 'fJ9prhPV2PI',\n",
       " 'tug71xZL7yc',\n",
       " 'eKEwL-10s7E',\n",
       " 'DeQqe0oj5Ls',\n",
       " '_8m8cQI4DgM',\n",
       " '3kEpZWGgJks',\n",
       " 'ResvfWhi3k8',\n",
       " 'K4NRJoCNHIs',\n",
       " 'hkYzuHMcP64',\n",
       " 'oDPCmmZifE8',\n",
       " 'xM8qVuc32Rc',\n",
       " '-YkLPxQp_y0',\n",
       " 'xAnw2atT628',\n",
       " 'HNPRad65-Kg',\n",
       " 'P8pjd1QEA0c',\n",
       " 'InSJBzZr414',\n",
       " 'knbw0gJHHBk',\n",
       " 'PsB1e-1BB4Y',\n",
       " 'fYWtbMb8Fhw',\n",
       " 'KUdHIatS36A',\n",
       " 'PDylgzybWAw',\n",
       " 'E_F5GxCwizc',\n",
       " '44fCfJQV7yQ',\n",
       " 'iFaRkscKn_Y',\n",
       " 'b436uUuf_VI',\n",
       " '1Y1ya-yF35g',\n",
       " 'HKMNKS-9ugY',\n",
       " '_Pz3syET3DY',\n",
       " 'LfgSEwjAeno',\n",
       " 'rrawNvcF64g',\n",
       " 'dH573B1bkHI',\n",
       " '6clJRsPyuhc',\n",
       " 'zSQCH1qyIDo',\n",
       " 'G2W41pvvZs0',\n",
       " 'QJkiWwMKwSo',\n",
       " 'WA0wKeokWUU',\n",
       " 'AJKfs4ZnbNE',\n",
       " 'hkjkQ-wCZ5A',\n",
       " 'OPV3D7f3bHY',\n",
       " 'T8y5EXFMD4s',\n",
       " '4Otsft59HuA',\n",
       " '3lKYPp2Kp6s',\n",
       " 'DlJEt2KU33I',\n",
       " 'NUkjfd95bDM',\n",
       " 'c3IaKVmkXuk',\n",
       " 'fpbOEoRrHyU',\n",
       " 'fDTX_mwj0_8',\n",
       " 'w2jtOFfiF80',\n",
       " 'r-ERajkMXw0',\n",
       " 'EZdH94R6XwQ',\n",
       " 'XV5w8OFrm6U',\n",
       " 'IAR3cb1V_ss',\n",
       " 'j6IZ2TroruU',\n",
       " '8YQ_HGvrHEU',\n",
       " 'We1IvUe6KLo',\n",
       " 'cjuGCJJUGsg',\n",
       " 'LxQq8HTtb4A',\n",
       " 'UkBvsCMxrNU',\n",
       " '6GLuuqrNqxQ',\n",
       " 'Kye2oX-b39E',\n",
       " '75bWsqwwOgQ',\n",
       " 'nJ24vcyJxDs',\n",
       " 'W6JhcjbWEwg',\n",
       " 'Bml8KwCmob8',\n",
       " 'yCY6vYGEN3Q',\n",
       " '9vxT1uAhFxA',\n",
       " 'mxyKJisUgJo',\n",
       " 'Dh9munYYoqQ',\n",
       " 'k8lJ85pfb_E',\n",
       " 'WHCQndalv94',\n",
       " '8q7esuODnQI',\n",
       " 'gdQCtWlhx90']"
      ]
     },
     "execution_count": 58,
     "metadata": {},
     "output_type": "execute_result"
    }
   ],
   "source": [
    "# id for videos as a list\n",
    "df.video_id.tolist()"
   ]
  },
  {
   "cell_type": "code",
   "execution_count": 59,
   "id": "92c1185c",
   "metadata": {},
   "outputs": [],
   "source": [
    "#grab metadata\n",
    "video_meta = yt.get_video_metadata(df.video_id.tolist()[:5])"
   ]
  },
  {
   "cell_type": "code",
   "execution_count": 60,
   "id": "d2c3ac78",
   "metadata": {},
   "outputs": [
    {
     "data": {
      "text/html": [
       "<div>\n",
       "<style scoped>\n",
       "    .dataframe tbody tr th:only-of-type {\n",
       "        vertical-align: middle;\n",
       "    }\n",
       "\n",
       "    .dataframe tbody tr th {\n",
       "        vertical-align: top;\n",
       "    }\n",
       "\n",
       "    .dataframe thead th {\n",
       "        text-align: right;\n",
       "    }\n",
       "</style>\n",
       "<table border=\"1\" class=\"dataframe\">\n",
       "  <thead>\n",
       "    <tr style=\"text-align: right;\">\n",
       "      <th></th>\n",
       "      <th>video_id</th>\n",
       "      <th>channel_title</th>\n",
       "      <th>channel_id</th>\n",
       "      <th>video_publish_date</th>\n",
       "      <th>video_title</th>\n",
       "      <th>video_description</th>\n",
       "      <th>video_category</th>\n",
       "      <th>video_view_count</th>\n",
       "      <th>video_comment_count</th>\n",
       "      <th>video_like_count</th>\n",
       "      <th>video_dislike_count</th>\n",
       "      <th>video_thumbnail</th>\n",
       "      <th>video_tags</th>\n",
       "      <th>collection_date</th>\n",
       "    </tr>\n",
       "  </thead>\n",
       "  <tbody>\n",
       "    <tr>\n",
       "      <th>0</th>\n",
       "      <td>FwHMDjc7qJ8</td>\n",
       "      <td>LastWeekTonight</td>\n",
       "      <td>UC3XTzVzaHQEd30rQbuvCtTQ</td>\n",
       "      <td>1.698662e+09</td>\n",
       "      <td>Chocolate: Last Week Tonight with John Oliver ...</td>\n",
       "      <td>John Oliver discusses chocolate, cocoa farming...</td>\n",
       "      <td>24</td>\n",
       "      <td>1559935</td>\n",
       "      <td>4598</td>\n",
       "      <td>62085</td>\n",
       "      <td>None</td>\n",
       "      <td>https://i.ytimg.com/vi/FwHMDjc7qJ8/hqdefault.jpg</td>\n",
       "      <td></td>\n",
       "      <td>2023-10-30 16:32:59.636380</td>\n",
       "    </tr>\n",
       "    <tr>\n",
       "      <th>1</th>\n",
       "      <td>AiOUojVd6xQ</td>\n",
       "      <td>LastWeekTonight</td>\n",
       "      <td>UC3XTzVzaHQEd30rQbuvCtTQ</td>\n",
       "      <td>1.698057e+09</td>\n",
       "      <td>McKinsey: Last Week Tonight with John Oliver (...</td>\n",
       "      <td>John Oliver discusses the oldest and largest m...</td>\n",
       "      <td>24</td>\n",
       "      <td>4660399</td>\n",
       "      <td>6740</td>\n",
       "      <td>131788</td>\n",
       "      <td>None</td>\n",
       "      <td>https://i.ytimg.com/vi/AiOUojVd6xQ/hqdefault.jpg</td>\n",
       "      <td></td>\n",
       "      <td>2023-10-30 16:32:59.636466</td>\n",
       "    </tr>\n",
       "  </tbody>\n",
       "</table>\n",
       "</div>"
      ],
      "text/plain": [
       "      video_id    channel_title                channel_id  video_publish_date  \\\n",
       "0  FwHMDjc7qJ8  LastWeekTonight  UC3XTzVzaHQEd30rQbuvCtTQ        1.698662e+09   \n",
       "1  AiOUojVd6xQ  LastWeekTonight  UC3XTzVzaHQEd30rQbuvCtTQ        1.698057e+09   \n",
       "\n",
       "                                         video_title  \\\n",
       "0  Chocolate: Last Week Tonight with John Oliver ...   \n",
       "1  McKinsey: Last Week Tonight with John Oliver (...   \n",
       "\n",
       "                                   video_description video_category  \\\n",
       "0  John Oliver discusses chocolate, cocoa farming...             24   \n",
       "1  John Oliver discusses the oldest and largest m...             24   \n",
       "\n",
       "  video_view_count video_comment_count video_like_count video_dislike_count  \\\n",
       "0          1559935                4598            62085                None   \n",
       "1          4660399                6740           131788                None   \n",
       "\n",
       "                                    video_thumbnail video_tags  \\\n",
       "0  https://i.ytimg.com/vi/FwHMDjc7qJ8/hqdefault.jpg              \n",
       "1  https://i.ytimg.com/vi/AiOUojVd6xQ/hqdefault.jpg              \n",
       "\n",
       "             collection_date  \n",
       "0 2023-10-30 16:32:59.636380  \n",
       "1 2023-10-30 16:32:59.636466  "
      ]
     },
     "execution_count": 60,
     "metadata": {},
     "output_type": "execute_result"
    }
   ],
   "source": [
    "#visualize\n",
    "pd.DataFrame(video_meta[:2])"
   ]
  },
  {
   "cell_type": "code",
   "execution_count": 61,
   "id": "55a4327f",
   "metadata": {},
   "outputs": [],
   "source": [
    "## Collect Comments\n",
    "ids = df.video_id.tolist()[:5]"
   ]
  },
  {
   "cell_type": "code",
   "execution_count": 64,
   "id": "88a595b6",
   "metadata": {},
   "outputs": [
    {
     "data": {
      "text/plain": [
       "['FwHMDjc7qJ8', 'AiOUojVd6xQ', 'Za45bT41sXg', 'lzsZP9o7SlI', '82QYlbiawJI']"
      ]
     },
     "execution_count": 64,
     "metadata": {},
     "output_type": "execute_result"
    }
   ],
   "source": [
    "ids"
   ]
  },
  {
   "cell_type": "code",
   "execution_count": 62,
   "id": "2127dc6d",
   "metadata": {},
   "outputs": [
    {
     "data": {
      "text/html": [
       "<div>\n",
       "<style scoped>\n",
       "    .dataframe tbody tr th:only-of-type {\n",
       "        vertical-align: middle;\n",
       "    }\n",
       "\n",
       "    .dataframe tbody tr th {\n",
       "        vertical-align: top;\n",
       "    }\n",
       "\n",
       "    .dataframe thead th {\n",
       "        text-align: right;\n",
       "    }\n",
       "</style>\n",
       "<table border=\"1\" class=\"dataframe\">\n",
       "  <thead>\n",
       "    <tr style=\"text-align: right;\">\n",
       "      <th></th>\n",
       "      <th>video_id</th>\n",
       "      <th>commenter_channel_url</th>\n",
       "      <th>commenter_channel_id</th>\n",
       "      <th>commenter_channel_display_name</th>\n",
       "      <th>comment_id</th>\n",
       "      <th>comment_like_count</th>\n",
       "      <th>comment_publish_date</th>\n",
       "      <th>text</th>\n",
       "      <th>commenter_rating</th>\n",
       "      <th>comment_parent_id</th>\n",
       "      <th>collection_date</th>\n",
       "      <th>reply_count</th>\n",
       "    </tr>\n",
       "  </thead>\n",
       "  <tbody>\n",
       "    <tr>\n",
       "      <th>0</th>\n",
       "      <td>FwHMDjc7qJ8</td>\n",
       "      <td>http://www.youtube.com/channel/UCDMex5zQRjat9V...</td>\n",
       "      <td>UCDMex5zQRjat9VWw2lGuMdA</td>\n",
       "      <td>key thing</td>\n",
       "      <td>UgzgNZkdbJxpxK7_p8h4AaABAg</td>\n",
       "      <td>0</td>\n",
       "      <td>1.698712e+09</td>\n",
       "      <td>obligatory comment ........... here</td>\n",
       "      <td>none</td>\n",
       "      <td>None</td>\n",
       "      <td>2023-10-30 16:33:20.835212</td>\n",
       "      <td>0</td>\n",
       "    </tr>\n",
       "    <tr>\n",
       "      <th>1</th>\n",
       "      <td>FwHMDjc7qJ8</td>\n",
       "      <td>http://www.youtube.com/channel/UCgx_fHAnPBawhi...</td>\n",
       "      <td>UCgx_fHAnPBawhiCrHxIrnPw</td>\n",
       "      <td>Matt Bailey</td>\n",
       "      <td>Ugy9Lx17XJv9DbuawV14AaABAg</td>\n",
       "      <td>0</td>\n",
       "      <td>1.698712e+09</td>\n",
       "      <td>Charlie and the Chocolate Factory with the Ump...</td>\n",
       "      <td>none</td>\n",
       "      <td>None</td>\n",
       "      <td>2023-10-30 16:33:20.835259</td>\n",
       "      <td>0</td>\n",
       "    </tr>\n",
       "    <tr>\n",
       "      <th>2</th>\n",
       "      <td>FwHMDjc7qJ8</td>\n",
       "      <td>http://www.youtube.com/channel/UCrTCNBXGFOqZT6...</td>\n",
       "      <td>UCrTCNBXGFOqZT6W5J6EEI5g</td>\n",
       "      <td>sarra ben othman</td>\n",
       "      <td>UgyTMmMUwbEwkdLlhk54AaABAg</td>\n",
       "      <td>1</td>\n",
       "      <td>1.698712e+09</td>\n",
       "      <td>I used to really admire u but ur silence about...</td>\n",
       "      <td>none</td>\n",
       "      <td>None</td>\n",
       "      <td>2023-10-30 16:33:20.835297</td>\n",
       "      <td>0</td>\n",
       "    </tr>\n",
       "    <tr>\n",
       "      <th>3</th>\n",
       "      <td>FwHMDjc7qJ8</td>\n",
       "      <td>http://www.youtube.com/channel/UCfQmoHrlGOuH00...</td>\n",
       "      <td>UCfQmoHrlGOuH00C9WGYqNgg</td>\n",
       "      <td>vanhetgoor</td>\n",
       "      <td>UgyLPsMuyqW3tDFJjKZ4AaABAg</td>\n",
       "      <td>0</td>\n",
       "      <td>1.698712e+09</td>\n",
       "      <td>That Tony Cholony Chocolate does not come chea...</td>\n",
       "      <td>none</td>\n",
       "      <td>None</td>\n",
       "      <td>2023-10-30 16:33:20.835332</td>\n",
       "      <td>0</td>\n",
       "    </tr>\n",
       "    <tr>\n",
       "      <th>4</th>\n",
       "      <td>FwHMDjc7qJ8</td>\n",
       "      <td>http://www.youtube.com/channel/UCQNZDqXPxWItXn...</td>\n",
       "      <td>UCQNZDqXPxWItXngR8XLVVng</td>\n",
       "      <td>Coffee's Hangar &amp; Work Shop</td>\n",
       "      <td>UgxyiuiVy-hDUUtPsRB4AaABAg</td>\n",
       "      <td>0</td>\n",
       "      <td>1.698712e+09</td>\n",
       "      <td>Blame John Oliver for the Candy Corn this year...</td>\n",
       "      <td>none</td>\n",
       "      <td>None</td>\n",
       "      <td>2023-10-30 16:33:20.835366</td>\n",
       "      <td>0</td>\n",
       "    </tr>\n",
       "  </tbody>\n",
       "</table>\n",
       "</div>"
      ],
      "text/plain": [
       "      video_id                              commenter_channel_url  \\\n",
       "0  FwHMDjc7qJ8  http://www.youtube.com/channel/UCDMex5zQRjat9V...   \n",
       "1  FwHMDjc7qJ8  http://www.youtube.com/channel/UCgx_fHAnPBawhi...   \n",
       "2  FwHMDjc7qJ8  http://www.youtube.com/channel/UCrTCNBXGFOqZT6...   \n",
       "3  FwHMDjc7qJ8  http://www.youtube.com/channel/UCfQmoHrlGOuH00...   \n",
       "4  FwHMDjc7qJ8  http://www.youtube.com/channel/UCQNZDqXPxWItXn...   \n",
       "\n",
       "       commenter_channel_id commenter_channel_display_name  \\\n",
       "0  UCDMex5zQRjat9VWw2lGuMdA                      key thing   \n",
       "1  UCgx_fHAnPBawhiCrHxIrnPw                    Matt Bailey   \n",
       "2  UCrTCNBXGFOqZT6W5J6EEI5g               sarra ben othman   \n",
       "3  UCfQmoHrlGOuH00C9WGYqNgg                     vanhetgoor   \n",
       "4  UCQNZDqXPxWItXngR8XLVVng    Coffee's Hangar & Work Shop   \n",
       "\n",
       "                   comment_id  comment_like_count  comment_publish_date  \\\n",
       "0  UgzgNZkdbJxpxK7_p8h4AaABAg                   0          1.698712e+09   \n",
       "1  Ugy9Lx17XJv9DbuawV14AaABAg                   0          1.698712e+09   \n",
       "2  UgyTMmMUwbEwkdLlhk54AaABAg                   1          1.698712e+09   \n",
       "3  UgyLPsMuyqW3tDFJjKZ4AaABAg                   0          1.698712e+09   \n",
       "4  UgxyiuiVy-hDUUtPsRB4AaABAg                   0          1.698712e+09   \n",
       "\n",
       "                                                text commenter_rating  \\\n",
       "0                obligatory comment ........... here             none   \n",
       "1  Charlie and the Chocolate Factory with the Ump...             none   \n",
       "2  I used to really admire u but ur silence about...             none   \n",
       "3  That Tony Cholony Chocolate does not come chea...             none   \n",
       "4  Blame John Oliver for the Candy Corn this year...             none   \n",
       "\n",
       "  comment_parent_id            collection_date  reply_count  \n",
       "0              None 2023-10-30 16:33:20.835212            0  \n",
       "1              None 2023-10-30 16:33:20.835259            0  \n",
       "2              None 2023-10-30 16:33:20.835297            0  \n",
       "3              None 2023-10-30 16:33:20.835332            0  \n",
       "4              None 2023-10-30 16:33:20.835366            0  "
      ]
     },
     "execution_count": 62,
     "metadata": {},
     "output_type": "execute_result"
    }
   ],
   "source": [
    "# loop\n",
    "list_comments = []\n",
    "for video_id in ids:\n",
    "    comments = yt.get_video_comments(video_id, max_results=10)\n",
    "    list_comments.append(pd.DataFrame(comments))\n",
    "\n",
    "# concat\n",
    "df = pd.concat(list_comments)\n",
    "df.head()"
   ]
  },
  {
   "cell_type": "markdown",
   "id": "01f67b9b",
   "metadata": {},
   "source": [
    "#### Search\n",
    "\n",
    "The youtube API also allows you to search for most popular videos using queries. This is very cool!\n"
   ]
  },
  {
   "cell_type": "code",
   "execution_count": 66,
   "id": "6443c12e",
   "metadata": {},
   "outputs": [
    {
     "data": {
      "text/html": [
       "<div>\n",
       "<style scoped>\n",
       "    .dataframe tbody tr th:only-of-type {\n",
       "        vertical-align: middle;\n",
       "    }\n",
       "\n",
       "    .dataframe tbody tr th {\n",
       "        vertical-align: top;\n",
       "    }\n",
       "\n",
       "    .dataframe thead th {\n",
       "        text-align: right;\n",
       "    }\n",
       "</style>\n",
       "<table border=\"1\" class=\"dataframe\">\n",
       "  <thead>\n",
       "    <tr style=\"text-align: right;\">\n",
       "      <th></th>\n",
       "      <th>channel_title</th>\n",
       "      <th>video_title</th>\n",
       "    </tr>\n",
       "  </thead>\n",
       "  <tbody>\n",
       "    <tr>\n",
       "      <th>0</th>\n",
       "      <td>Gazeta do Povo</td>\n",
       "      <td>Flávio Dino detona urnas eletrônicas</td>\n",
       "    </tr>\n",
       "    <tr>\n",
       "      <th>1</th>\n",
       "      <td>TC News</td>\n",
       "      <td>Mourão fala sobre Fr@ude nas Urnas Eletrônicas...</td>\n",
       "    </tr>\n",
       "    <tr>\n",
       "      <th>2</th>\n",
       "      <td>BBC News Brasil</td>\n",
       "      <td>Entenda 4 alegações falsas sobre fraude nas urnas</td>\n",
       "    </tr>\n",
       "    <tr>\n",
       "      <th>3</th>\n",
       "      <td>Canal Nostalgia</td>\n",
       "      <td>URNA ELETRÔNICA / Dá pra Hackear?</td>\n",
       "    </tr>\n",
       "    <tr>\n",
       "      <th>4</th>\n",
       "      <td>Meteoro Brasil</td>\n",
       "      <td>MONARK COGITA FRAUDE NAS URNAS</td>\n",
       "    </tr>\n",
       "    <tr>\n",
       "      <th>5</th>\n",
       "      <td>Descomplica</td>\n",
       "      <td>URNAS ELETRÔNICAS, FRAUDES E HISTÓRIA | PLANTÃ...</td>\n",
       "    </tr>\n",
       "    <tr>\n",
       "      <th>6</th>\n",
       "      <td>Rede TVT</td>\n",
       "      <td>&amp;quot;Urnas e fraude&amp;quot;</td>\n",
       "    </tr>\n",
       "    <tr>\n",
       "      <th>7</th>\n",
       "      <td>André Guedes</td>\n",
       "      <td>FINALMENTE! O MITO provou a FRAUDE das URNAS! ...</td>\n",
       "    </tr>\n",
       "    <tr>\n",
       "      <th>8</th>\n",
       "      <td>JC Play</td>\n",
       "      <td>HÁ CHANCE DE FRAUDE NAS URNAS, diz MINISTRO DA...</td>\n",
       "    </tr>\n",
       "    <tr>\n",
       "      <th>9</th>\n",
       "      <td>DW Español</td>\n",
       "      <td>Cerraron las urnas en Argentina:  muchos votar...</td>\n",
       "    </tr>\n",
       "  </tbody>\n",
       "</table>\n",
       "</div>"
      ],
      "text/plain": [
       "     channel_title                                        video_title\n",
       "0   Gazeta do Povo               Flávio Dino detona urnas eletrônicas\n",
       "1          TC News  Mourão fala sobre Fr@ude nas Urnas Eletrônicas...\n",
       "2  BBC News Brasil  Entenda 4 alegações falsas sobre fraude nas urnas\n",
       "3  Canal Nostalgia                  URNA ELETRÔNICA / Dá pra Hackear?\n",
       "4   Meteoro Brasil                     MONARK COGITA FRAUDE NAS URNAS\n",
       "5      Descomplica  URNAS ELETRÔNICAS, FRAUDES E HISTÓRIA | PLANTÃ...\n",
       "6         Rede TVT                         &quot;Urnas e fraude&quot;\n",
       "7     André Guedes  FINALMENTE! O MITO provou a FRAUDE das URNAS! ...\n",
       "8          JC Play  HÁ CHANCE DE FRAUDE NAS URNAS, diz MINISTRO DA...\n",
       "9       DW Español  Cerraron las urnas en Argentina:  muchos votar..."
      ]
     },
     "execution_count": 66,
     "metadata": {},
     "output_type": "execute_result"
    }
   ],
   "source": [
    "df = pd.DataFrame(yt.search(q='urnas, fraude', max_results=10))\n",
    "df.keys()\n",
    "df[[\"channel_title\", \"video_title\"]]"
   ]
  },
  {
   "cell_type": "markdown",
   "id": "e0baa34f",
   "metadata": {},
   "source": [
    "Some cool research using the Youtube API: \n",
    "    \n",
    "- [Lei et al, Estimating the Ideology of Political YouTube Videos](https://papers.ssrn.com/sol3/papers.cfm?abstract_id=4088828)\n",
    "\n",
    "- [Brown et al, Echo Chambers, Rabbit Holes, and Algorithmic Bias: How YouTube Recommends Content to Real Users](https://papers.ssrn.com/sol3/papers.cfm?abstract_id=4114905)\n",
    "    "
   ]
  }
 ],
 "metadata": {
  "kernelspec": {
   "display_name": "Python 3 (ipykernel)",
   "language": "python",
   "name": "python3"
  },
  "language_info": {
   "codemirror_mode": {
    "name": "ipython",
    "version": 3
   },
   "file_extension": ".py",
   "mimetype": "text/x-python",
   "name": "python",
   "nbconvert_exporter": "python",
   "pygments_lexer": "ipython3",
   "version": "3.11.4"
  }
 },
 "nbformat": 4,
 "nbformat_minor": 5
}
