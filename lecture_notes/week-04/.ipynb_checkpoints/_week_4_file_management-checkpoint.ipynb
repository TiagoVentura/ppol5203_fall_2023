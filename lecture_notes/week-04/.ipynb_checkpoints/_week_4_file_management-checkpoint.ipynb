{
 "cells": [
  {
   "cell_type": "markdown",
   "id": "7d586907",
   "metadata": {},
   "source": [
    "<h1><center> PPOL 5203 Data Science I: Foundations <br><br> \n",
    "<font color='grey'>File Management<br><br>\n",
    "Tiago Ventura</center></center> <h1> \n",
    "\n",
    "---"
   ]
  },
  {
   "cell_type": "markdown",
   "id": "ce34483e",
   "metadata": {},
   "source": [
    "## Learning Goals\n",
    "\n",
    "In this notebook, we will cover:\n",
    "\n",
    "- connection management: `open()`, `close()`\n",
    "- Reading/writing files \n",
    "- using `with` to manage connections. \n",
    "- Reading `.csvs`\n",
    "\n",
    "**TLDR:** Most often we will use high-level functions from Pandas to load data into Python objects. However, if you are migrating from `R` or `Stata` to Python, the use of connection management functions (`open()`, `close()` and `with()`) are very characteristic of writing code in Python, and are not heavily used in other languages. These file handlers are also important when working non-tabular data, in which most often you don't need to (or don't want to) fit into a dataframe.\n",
    "\n",
    "<div class=\"alert alert-block alert-danger\"> \n",
    "\n",
    "**Working Directory:** Notice that we will read some local files in this notebook. These files need to be in the same working directory as your notebook, or else Python will not know where the files are on your computer. Please download the accompanying files (`news-story.txt` and `student_data.csv`) from the class website, and place into a place you can easily set you python towards. Ideally, on the folder you have for this class!\n",
    "\n",
    "</div>\n",
    "\n",
    "**Reading:** Check Section 3.3 of [Python for Data Analysis](https://wesmckinney.com/book/python-builtin.html) to learn more about the topics covered in the notebook. "
   ]
  },
  {
   "cell_type": "markdown",
   "id": "2ba2f501",
   "metadata": {},
   "source": [
    "# Reading Files"
   ]
  },
  {
   "cell_type": "markdown",
   "id": "16c9ce97",
   "metadata": {},
   "source": [
    "### `open()`\n",
    "\n",
    "The built-in `open()` function opens files on our system. The function takes the following arguments:\n",
    "\n",
    "- a file path\n",
    "- a mode describing how to treat the file (e.g. read the file, write to the file, append to the file, etc.). Default is read mode (\"r\").\n",
    "- an encoding. Default is \"UTF-8\" for most systems."
   ]
  },
  {
   "cell_type": "code",
   "execution_count": 13,
   "id": "bfe0e904",
   "metadata": {},
   "outputs": [],
   "source": [
    "file = open(\"redrising.txt\",mode='r',encoding='UTF-8')"
   ]
  },
  {
   "cell_type": "markdown",
   "id": "2abf314a",
   "metadata": {},
   "source": [
    "<h3><span style='color:red'> Alert: </span></h3>\n",
    "\n",
    "`open()` returns a special item type `_io.TextIOWrapper`. It is file-like-object which is just loosely defined in Python. "
   ]
  },
  {
   "cell_type": "code",
   "execution_count": 14,
   "id": "9c828045",
   "metadata": {
    "scrolled": true
   },
   "outputs": [
    {
     "data": {
      "text/plain": [
       "_io.TextIOWrapper"
      ]
     },
     "execution_count": 14,
     "metadata": {},
     "output_type": "execute_result"
    }
   ],
   "source": [
    "type(file)"
   ]
  },
  {
   "cell_type": "code",
   "execution_count": 15,
   "id": "7b260f8e",
   "metadata": {},
   "outputs": [
    {
     "name": "stdout",
     "output_type": "stream",
     "text": [
      "1 - Helldiver\n",
      "\n",
      "The first thing you should know about me is I am my father’s son. And when they came for him, I did as he asked. \n",
      "\n",
      "I did not cry. \n",
      "\n",
      "Not when the Society televised the arrest. \n",
      "\n",
      "Not when the Golds tried him. Not when the Grays hanged him.\n",
      "\n",
      "Mother hit me for that. \n",
      "\n",
      "My brother Kieran was supposed to be the stoic one. He was the elder, I the younger. I was supposed to cry. Instead, Kieran bawled like a girl when Little Eo tucked a haemanthus into Father’s left workboot and ran back to her own father’s side. My sister Leanna murmured a lament beside me. \n",
      "\n",
      "I just watched and thought it a shame that he died dancing but without his dancing shoes.\n",
      "\n",
      "On Mars there is not much gravity. So you have to pull the feet to break the neck. \n",
      "\n",
      "They let the loved ones do it.\n",
      "\n",
      "\n"
     ]
    }
   ],
   "source": [
    "print(file.read())"
   ]
  },
  {
   "cell_type": "code",
   "execution_count": 16,
   "id": "1f9949da",
   "metadata": {},
   "outputs": [
    {
     "name": "stdout",
     "output_type": "stream",
     "text": [
      "\n"
     ]
    }
   ],
   "source": [
    "# Once we've read through the items, the file object is empty\n",
    "print(file.read()) "
   ]
  },
  {
   "cell_type": "markdown",
   "id": "3aa167a0",
   "metadata": {},
   "source": [
    "----\n",
    "### `close()`\n",
    "\n",
    "Once we are done with a file, we need to close it."
   ]
  },
  {
   "cell_type": "code",
   "execution_count": 17,
   "id": "791bb990",
   "metadata": {},
   "outputs": [],
   "source": [
    "file.close()"
   ]
  },
  {
   "cell_type": "markdown",
   "id": "83613491",
   "metadata": {},
   "source": [
    "Opening and forgetting to close files can lead to a bunch of issues --- mainly the mismanagement of computational resources on your machine. \n",
    "\n",
    "Moreover, `close()` is necessary for actually writing files to our computer"
   ]
  },
  {
   "cell_type": "markdown",
   "id": "a631a797",
   "metadata": {},
   "source": [
    "___\n",
    "### Methods available when reading in files\n",
    "\n",
    "**<center>Methods in object type `TextIOWrapper`</center>**\n",
    "\n",
    "| Method  | Description |\n",
    "|:---------:|:---------:|\n",
    "|**`._CHUNK_SIZE()`**| int([x]) -> integer int(x, base=10) -> integer|\n",
    "|**`._finalizing()`**| bool(x) -> bool|\n",
    "|**`.buffer()`**| Create a new buffered reader using the given readable raw IO object.|\n",
    "|**`.closed()`**| bool(x) -> bool|\n",
    "|**`.encoding()`**| str(object='') -> str str(bytes_or_buffer[, encoding[, errors]]) -> str|\n",
    "|**`.errors()`**| str(object='') -> str str(bytes_or_buffer[, encoding[, errors]]) -> str|\n",
    "|**`.line_buffering()`**| bool(x) -> bool|\n",
    "|**`.mode()`**| str(object='') -> str str(bytes_or_buffer[, encoding[, errors]]) -> str|\n",
    "|**`.name()`**| str(object='') -> str str(bytes_or_buffer[, encoding[, errors]]) -> str|\n",
    "|**`.readlines()`**| Return a list of lines from the stream.|\n",
    "|**`.reconfigure()`**| Reconfigure the text stream with new parameters.|\n",
    "|**`.write_through()`**| bool(x) -> bool|"
   ]
  },
  {
   "cell_type": "code",
   "execution_count": 18,
   "id": "0288096d",
   "metadata": {},
   "outputs": [
    {
     "data": {
      "text/plain": [
       "['1 - Helldiver\\n',\n",
       " '\\n',\n",
       " 'The first thing you should know about me is I am my father’s son. And when they came for him, I did as he asked. \\n',\n",
       " '\\n',\n",
       " 'I did not cry. \\n',\n",
       " '\\n',\n",
       " 'Not when the Society televised the arrest. \\n',\n",
       " '\\n',\n",
       " 'Not when the Golds tried him. Not when the Grays hanged him.\\n',\n",
       " '\\n',\n",
       " 'Mother hit me for that. \\n',\n",
       " '\\n',\n",
       " 'My brother Kieran was supposed to be the stoic one. He was the elder, I the younger. I was supposed to cry. Instead, Kieran bawled like a girl when Little Eo tucked a haemanthus into Father’s left workboot and ran back to her own father’s side. My sister Leanna murmured a lament beside me. \\n',\n",
       " '\\n',\n",
       " 'I just watched and thought it a shame that he died dancing but without his dancing shoes.\\n',\n",
       " '\\n',\n",
       " 'On Mars there is not much gravity. So you have to pull the feet to break the neck. \\n',\n",
       " '\\n',\n",
       " 'They let the loved ones do it.\\n',\n",
       " '\\n']"
      ]
     },
     "execution_count": 18,
     "metadata": {},
     "output_type": "execute_result"
    }
   ],
   "source": [
    "file = open(\"redrising.txt\",mode='rt',encoding='UTF-8')\n",
    "file.readlines() # convert all items to a list"
   ]
  },
  {
   "cell_type": "code",
   "execution_count": 19,
   "id": "4728c3d7",
   "metadata": {},
   "outputs": [
    {
     "data": {
      "text/plain": [
       "False"
      ]
     },
     "execution_count": 19,
     "metadata": {},
     "output_type": "execute_result"
    }
   ],
   "source": [
    "# Is the file closed?\n",
    "file.closed"
   ]
  },
  {
   "cell_type": "code",
   "execution_count": null,
   "id": "e1d6cbf5",
   "metadata": {},
   "outputs": [],
   "source": [
    "### Complete workflow to read files"
   ]
  },
  {
   "cell_type": "markdown",
   "id": "7f1f7973",
   "metadata": {},
   "source": [
    "-----\n",
    "\n",
    "### File `mode`s"
   ]
  },
  {
   "cell_type": "markdown",
   "id": "fd0e100d",
   "metadata": {},
   "source": [
    "|Mode|Description|\n",
    "|---|-------|\n",
    "| r | \"open for reading\" default|\n",
    "|w | open for writing |\n",
    "|x  | open for exclusive creation, failing if the file already exists |\n",
    "|a | open for writing, appending to the end of the file if it exists |\n",
    "|b | binary mode |\n",
    "|t | text mode (default) |\n",
    "\n",
    "Examples,\n",
    "\n",
    "- `mode = 'rb'` &rarr; \"read binary\"\n",
    "- `mode = 'wt'` &rarr; \"write text\""
   ]
  },
  {
   "cell_type": "code",
   "execution_count": 7,
   "id": "a32fa89a",
   "metadata": {},
   "outputs": [
    {
     "name": "stdout",
     "output_type": "stream",
     "text": [
      "rt\n"
     ]
    }
   ],
   "source": [
    "f = open('news-story.txt',mode=\"rt\",encoding='utf-8')\n",
    "\n",
    "# Print the mode\n",
    "print(f.mode)\n",
    "\n",
    "f.close()"
   ]
  },
  {
   "cell_type": "markdown",
   "id": "b0a53459",
   "metadata": {},
   "source": [
    "----\n",
    "### Writing files"
   ]
  },
  {
   "cell_type": "code",
   "execution_count": 9,
   "id": "a0f3582b",
   "metadata": {},
   "outputs": [],
   "source": [
    "f = open('text_file.txt',mode=\"wt\",encoding='utf-8')\n",
    "f.write('This is an example\\n') \n",
    "f.write('Of writing a file...\\n')\n",
    "f.write('Neat!\\n')\n",
    "f.close()"
   ]
  },
  {
   "cell_type": "markdown",
   "id": "8a86005e",
   "metadata": {},
   "source": [
    "> **NOTE that you _must_ `close()` for your lines to be written to the file**"
   ]
  },
  {
   "cell_type": "markdown",
   "id": "67597d1e",
   "metadata": {},
   "source": [
    "Now, read the file back in in \"read mode\""
   ]
  },
  {
   "cell_type": "code",
   "execution_count": 10,
   "id": "02fffee7",
   "metadata": {},
   "outputs": [
    {
     "name": "stdout",
     "output_type": "stream",
     "text": [
      "This is an example\n",
      "Of writing a file...\n",
      "Neat!\n",
      "\n"
     ]
    }
   ],
   "source": [
    "f = open('text_file.txt',mode=\"rt\",encoding='utf-8')\n",
    "print(f.read())"
   ]
  },
  {
   "cell_type": "markdown",
   "id": "76412d95",
   "metadata": {},
   "source": [
    "---\n",
    "### Iterating over files\n",
    "\n",
    "Look at the code below:"
   ]
  },
  {
   "cell_type": "code",
   "execution_count": 37,
   "id": "96834295",
   "metadata": {},
   "outputs": [
    {
     "data": {
      "text/plain": [
       "['__iter__', '__next__']"
      ]
     },
     "execution_count": 37,
     "metadata": {},
     "output_type": "execute_result"
    }
   ],
   "source": [
    "file = open(\"redrising.txt\",mode='rt',encoding='UTF-8')\n",
    "[i for i in dir(file) if (i==\"__iter__\" or i==\"__next__\")]"
   ]
  },
  {
   "cell_type": "markdown",
   "id": "40fb1315",
   "metadata": {},
   "source": [
    "We'll note when looking at the object's attributes that there is an `__iter__()` and `__next__()` method, meaning we can iterate over the open file object.\n",
    "\n",
    "Most times we will iterate over to convert our open file to a single list. \n",
    "\n",
    "See a few options below:"
   ]
  },
  {
   "cell_type": "code",
   "execution_count": 40,
   "id": "97866f22",
   "metadata": {},
   "outputs": [
    {
     "name": "stdout",
     "output_type": "stream",
     "text": [
      "['1 - Helldiver\\n', '\\n', 'The first thing you should know about me is I am my father’s son. And when they came for him, I did as he asked. \\n', '\\n', 'I did not cry. \\n', '\\n', 'Not when the Society televised the arrest. \\n', '\\n', 'Not when the Golds tried him. Not when the Grays hanged him.\\n', '\\n', 'Mother hit me for that. \\n', '\\n', 'My brother Kieran was supposed to be the stoic one. He was the elder, I the younger. I was supposed to cry. Instead, Kieran bawled like a girl when Little Eo tucked a haemanthus into Father’s left workboot and ran back to her own father’s side. My sister Leanna murmured a lament beside me. \\n', '\\n', 'I just watched and thought it a shame that he died dancing but without his dancing shoes.\\n', '\\n', 'On Mars there is not much gravity. So you have to pull the feet to break the neck. \\n', '\\n', 'They let the loved ones do it.\\n', '\\n']\n"
     ]
    }
   ],
   "source": [
    "# with a loop\n",
    "file = open(\"redrising.txt\",mode='rt',encoding='UTF-8')\n",
    "text=[]\n",
    "for line in file:\n",
    "    text.append(line)\n",
    "file.close()\n",
    "print(text)"
   ]
  },
  {
   "cell_type": "code",
   "execution_count": 49,
   "id": "dd732beb",
   "metadata": {},
   "outputs": [
    {
     "data": {
      "text/plain": [
       "['1 - Helldiver',\n",
       " 'The first thing you should know about me is I am my father’s son. And when they came for him, I did as he asked. ',\n",
       " 'I did not cry. ',\n",
       " 'Not when the Society televised the arrest. ',\n",
       " 'Not when the Golds tried him. Not when the Grays hanged him.',\n",
       " 'Mother hit me for that. ',\n",
       " 'My brother Kieran was supposed to be the stoic one. He was the elder, I the younger. I was supposed to cry. Instead, Kieran bawled like a girl when Little Eo tucked a haemanthus into Father’s left workboot and ran back to her own father’s side. My sister Leanna murmured a lament beside me. ',\n",
       " 'I just watched and thought it a shame that he died dancing but without his dancing shoes.',\n",
       " 'On Mars there is not much gravity. So you have to pull the feet to break the neck. ',\n",
       " 'They let the loved ones do it.']"
      ]
     },
     "execution_count": 49,
     "metadata": {},
     "output_type": "execute_result"
    }
   ],
   "source": [
    "# with list comprehension\n",
    "file = open(\"redrising.txt\",mode='rt',encoding='UTF-8')\n",
    "result = [line.replace(\"\\n\", \"\") for line in file if line!=\"\\n\"]\n",
    "file.close()\n",
    "result"
   ]
  },
  {
   "cell_type": "code",
   "execution_count": 52,
   "id": "a6a5e0a6",
   "metadata": {},
   "outputs": [
    {
     "data": {
      "text/plain": [
       "[3, 25, 4, 7, 12, 5, 54, 17, 18, 7]"
      ]
     },
     "execution_count": 52,
     "metadata": {},
     "output_type": "execute_result"
    }
   ],
   "source": [
    "# Example: How many words are in each line?\n",
    "file = open(\"redrising.txt\",mode='rt',encoding='UTF-8')\n",
    "\n",
    "for line in file:\n",
    "    if line == '\\n':\n",
    "        continue\n",
    "    n_words_per_line = len(line.split())\n",
    "    print(n_words_per_line)\n",
    "    \n",
    "file.close()"
   ]
  },
  {
   "cell_type": "markdown",
   "id": "be6d29f9",
   "metadata": {},
   "source": [
    "--------\n",
    "\n",
    "### `with`: beyond opening and closing with context managers\n",
    "\n",
    "As you'll note, the need to `open()` and `close()` files can get a bit redundant after awhile. This issue of closing after opening to deal with resource cleanup is common enough that python has a special protocol for it: the `with` code block."
   ]
  },
  {
   "cell_type": "code",
   "execution_count": 57,
   "id": "c6b0462a",
   "metadata": {},
   "outputs": [
    {
     "name": "stdout",
     "output_type": "stream",
     "text": [
      "[3, 25, 4, 7, 12, 5, 54, 17, 18, 7]\n"
     ]
    }
   ],
   "source": [
    "# using list comprehension\n",
    "with open(\"redrising.txt\",mode='rt',encoding='UTF-8') as file:\n",
    "    res=[len(line.split()) for line in file if line!=\"\\n\"]\n",
    "\n",
    "print(res)"
   ]
  },
  {
   "cell_type": "markdown",
   "id": "0d4c2d87",
   "metadata": {},
   "source": [
    "---\n",
    "## Reading Comma Separated Values (CSV)\n",
    "\n",
    "Here we will pretty much always use `pandas.read_csv()` to import csv files to Python. In case you want to learn a bit about the `csv` module, here are some examples. \n",
    "\n",
    "See the [python documentation](https://docs.python.org/2/library/csv.html) for more on the `csv` module located in the standard library."
   ]
  },
  {
   "cell_type": "code",
   "execution_count": 58,
   "id": "47b661bd",
   "metadata": {},
   "outputs": [],
   "source": [
    "import csv"
   ]
  },
  {
   "cell_type": "markdown",
   "id": "593c2ac6",
   "metadata": {},
   "source": [
    "Reading in .csv data "
   ]
  },
  {
   "cell_type": "code",
   "execution_count": 22,
   "id": "9f6a2c08",
   "metadata": {},
   "outputs": [
    {
     "name": "stdout",
     "output_type": "stream",
     "text": [
      "['Student', 'Grade']\n",
      "['Susan', 'A']\n",
      "['Sean', 'B-']\n",
      "['Cody', 'A-']\n",
      "['Karen', 'B+']\n"
     ]
    }
   ],
   "source": [
    "with open(\"student_data.csv\",mode='rt') as file:\n",
    "    data = csv.reader(file)\n",
    "    for row in data:\n",
    "        print(row)"
   ]
  },
  {
   "cell_type": "code",
   "execution_count": 23,
   "id": "a70b043c",
   "metadata": {},
   "outputs": [
    {
     "data": {
      "text/plain": [
       "[['Student', 'Grade'],\n",
       " ['Susan', 'A'],\n",
       " ['Sean', 'B-'],\n",
       " ['Cody', 'A-'],\n",
       " ['Karen', 'B+']]"
      ]
     },
     "execution_count": 23,
     "metadata": {},
     "output_type": "execute_result"
    }
   ],
   "source": [
    "with open(\"student_data.csv\",mode='rt') as file:\n",
    "    data = csv.reader(file)\n",
    "    output = [row for row in data]\n",
    "output"
   ]
  },
  {
   "cell_type": "markdown",
   "id": "1c363bb5",
   "metadata": {},
   "source": [
    "Writing csv data"
   ]
  },
  {
   "cell_type": "code",
   "execution_count": 24,
   "id": "bb4b7121",
   "metadata": {},
   "outputs": [],
   "source": [
    "# Student data as a nested list.\n",
    "student_data = [[\"Student\",\"Grade\"],\n",
    "                [\"Susan\",\"A\"],\n",
    "                [\"Sean\",\"B-\"],\n",
    "                [\"Cody\",\"A-\"],\n",
    "                [\"Karen\",'B+']]\n",
    "\n",
    "# Write the rows with the .writerows() method\n",
    "with open(\"student_data.csv\",mode='w') as file:\n",
    "    csv_file = csv.writer(file)\n",
    "    csv_file.writerows(student_data)"
   ]
  }
 ],
 "metadata": {
  "kernelspec": {
   "display_name": "Python 3 (ipykernel)",
   "language": "python",
   "name": "python3"
  },
  "language_info": {
   "codemirror_mode": {
    "name": "ipython",
    "version": 3
   },
   "file_extension": ".py",
   "mimetype": "text/x-python",
   "name": "python",
   "nbconvert_exporter": "python",
   "pygments_lexer": "ipython3",
   "version": "3.8.16"
  }
 },
 "nbformat": 4,
 "nbformat_minor": 5
}
