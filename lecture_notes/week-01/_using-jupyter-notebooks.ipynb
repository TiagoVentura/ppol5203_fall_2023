{
 "cells": [
  {
   "cell_type": "markdown",
   "metadata": {
    "slideshow": {
     "slide_type": "slide"
    }
   },
   "source": [
    "<h1><center> PPOL 5203 Data Science I: Foundations <br><br> \n",
    "<font color='grey'>    Using Jupyter Notebooks, Magic Commands, & Extensions <br><br>\n",
    "Tiago Ventura <h1> \n",
    "\n",
    " ---    "
   ]
  },
  {
   "cell_type": "markdown",
   "metadata": {},
   "source": [
    "## What is a Notebook \n",
    "\n",
    "The Jupyter Notebook is an open-source web application that allows you to **create and share documents** that contain \n",
    "\n",
    "- live code, \n",
    "- equations, \n",
    "- visualizations and \n",
    "- narrative text. \n",
    "\n",
    "Uses include: data cleaning and transformation, numerical simulation, statistical modeling, data visualization, machine learning, and much more. \n",
    "\n",
    "### `.ipynb` is really a `JSON` file\n",
    "At it's core, an Jupyter notebook is a [JSON (JavaScript Object Notation) file](https://en.wikipedia.org/wiki/JSON).  \n",
    "\n",
    "Open a notebook with a text editor and you will see it!"
   ]
  },
  {
   "cell_type": "markdown",
   "metadata": {},
   "source": [
    "## Pros and Cons of Jupyter Noteboks\n",
    "\n",
    "**Pros**:\n",
    "\n",
    "- Notebooks are **ubiquitous**, \n",
    "- Reproducible: transmitting and conveying results\n",
    "- We can **build code interactively** (like we do in `R`). This makes Jupyter notebooks particularly friendly when you're first learning Python\n",
    "- stable\n",
    "\n",
    "**Cons**:\n",
    "\n",
    "- There is a process to spinning a Notebook up.\n",
    "- It doesn't allow you to run the code line-by-line\n",
    "- For those used to working with a text editor, writing code in cells on notebook can be frustating. \n",
    "- _Non-linear_: sometimes we can fall out of sequence when writing code. E.g. write code dependencies _after_ we first need to use them.\n",
    "\n"
   ]
  },
  {
   "cell_type": "markdown",
   "metadata": {},
   "source": [
    "# Initializing a Notebook\n",
    "\n",
    "There are two primary methods for initializing a notebook. \n",
    "\n",
    "1. **Via the command line + Jupyter**\n",
    "    - Go into the working directory containing your `.ipynb` notebook. \n",
    "        - e.g. `cd /Users/me/Desktop/`\n",
    "    - type `jupyter notebook`\n",
    "    - the web application will open up in your default browser. \n",
    "    - from there, click on the notebook and \"spin it up\". The notebook will then be \"running\". \n",
    "    - We can close the notebook by clicking on the `Quit` and `Logout` buttons on the page. \n",
    "        - `Quit` == close the local server (i.e. the web application connection)\n",
    "        - `Logout` == shut down the home page of the web application (but keep the server running)\n",
    "    - We can also close the server connection in the console using the combo of `Control-C` in the console. \n",
    "    - We can also relocate the the server (say if we accidentally close the Notebook) by using the local URL pathway provided when the notebook first activates.\n",
    "\n",
    "\n",
    "+ **Jupyter lab**\n",
    "\n",
    "Instead of using the simple jupyter notebooks, you can also follow the same steps above using JupyterLab. Jupyter notebook only offers a very simple interface. **Jupyter lab**  offers a more interactive interface that includes notebooks, consoles, terminals, CSV editors, markdown editors, interactive maps, and more.\n",
    "\n",
    "To use Jupyter labÇ \n",
    "\n",
    "- [Install JupyterLab](https://pypi.org/project/jupyterlab/)\n",
    "- Go into the terminal\n",
    "- Type `jupyter lab`\n",
    "- Navigate to your folder, and code. \n",
    "\n",
    "2. **Point and Click with Anaconda Distribution**\n",
    "\n",
    "If you prefer point-and-click, you can start jupyter notebook through your anaconda distribution. \n",
    "\n",
    "- Make sure Anaconda is installed \n",
    "- Go to Applications and click on the Anaconda-Navigator icon\n",
    "- Click on the Launch icon under Jupyter Notebook"
   ]
  },
  {
   "cell_type": "markdown",
   "metadata": {},
   "source": [
    "---\n",
    "\n",
    "# Kernels\n",
    "\n",
    "A kernel is a computational engine that executes the code contained in a notebook document. A cell (or \"Chunk\") is a container for text to be displayed in the notebook or code to be executed by the notebook's kernel.\n",
    "\n",
    "Though we can only have one type of kernel running for any given notebook (we can't change between kernels in the middle of a notebook), we can use jupyter beyond just a python kernel. Here is a [list of all the kernels](https://github.com/jupyter/jupyter/wiki/Jupyter-kernels) that you can use with a jupyter notebook. For example, we can easily employ an [R kernel in a jupyter notebook](https://irkernel.github.io/). This was always the notebooks original intent. Actually, \"Jupyter\" is a loose acronym meaning Julia, Python and R"
   ]
  },
  {
   "cell_type": "markdown",
   "metadata": {},
   "source": [
    "---\n",
    "\n",
    "# Usage\n",
    "\n",
    "\n",
    "## Code Chunks\n",
    "\n",
    "Code chunks are what we use to execute Python (or whatever kernel we have running) code. In addition, we can write prose in a code chunk by altering the metadata regarding how the code should be run.\n",
    "\n",
    "There are **two states** of a code chunk:\n",
    "\n",
    "- **Edit Mode**: Edit mode is indicated by a <font color =\"green\">green cell border</font> and a prompt showing in the editor area. When a cell is in edit mode, you can type into the cell, like a normal text editor. Enter edit mode by pressing Enter or using the mouse to click on a cell's editor area.\n",
    "\n",
    "\n",
    "- **Command Mode**: Command mode is indicated by a grey cell border with a <font color = \"blue\">blue left margin</font>. When you are in command mode, you are able to edit the notebook as a whole, but not type into individual cells. Most importantly, in command mode, the keyboard is mapped to a set of shortcuts that let you perform notebook and cell actions efficiently. For example, if you are in command mode and you press c, you will copy the current cell - no modifier is needed. Don't try to type into a cell in command mode. Enter command mode by pressing `Esc` or using the mouse to click outside a cell's editor area.\n",
    "\n",
    "We can **switch between Markdown and Code chunks** either \n",
    "\n",
    "- By using the **_drop down menu_** in the tool bar (in either mode)\n",
    "\n",
    "\n",
    "- By using the **_shortcut_**:\n",
    "    - Press `y` when on the cell in Command Mode to switch to a code chunk.\n",
    "    - Press `m` when on the cell in Command Mode to switch to a markdown chunk\n",
    "\n",
    "## Executing Code \n",
    "A code chunk will always reflect the behavior of the kernel that you're using (e.g. a Python code chunk will follow Python coding Syntax). \n",
    "\n",
    "**Best Practices**\n",
    "\n",
    "- Break code chunks up! \n",
    "- Every code chunk should render some output (the aim is to be able to read what we were doing without needing to fire the notebook back up)\n",
    "- Use spaces. Keep the chunk readable. Less is more.\n",
    "\n",
    "## Using Markdown\n",
    "The Markdown chunks will use the [Markdown](https://www.markdownguide.org/) and will allow for writing mathematical equations using LaTex. "
   ]
  },
  {
   "cell_type": "markdown",
   "metadata": {},
   "source": [
    "## Shortcuts\n",
    "\n",
    "As with most user interfaces, Jupyter Notebooks have developed their own way of doing things. Thus there are a number of useful shortcuts that you can employ to help perform useful tasks. "
   ]
  },
  {
   "cell_type": "markdown",
   "metadata": {},
   "source": [
    "We can access a full (searchable) list of keyboard shortcuts by pressing `p` when in Command Mode, or by clicking the keyboard icon in the tools."
   ]
  },
  {
   "cell_type": "markdown",
   "metadata": {},
   "source": [
    "Important ones while in Command Mode:\n",
    "\n",
    "- `a`: create a new code chunk _above_ the current one.\n",
    "- `b`: create a new code chunk _below_ the current one.\n",
    "- `ii`: interrupt the kernel (really useful when some code is running too long or you've accidentally initiated an infinite loop!\n",
    "- `y`: code mode\n",
    "- `m`: markdown mode\n",
    "- `shift` + `m`: merge cells (when more than one cell is highlighted)\n",
    "- `dd`: delete cell.\n",
    "\n",
    "Important ones while in Edit Mode:\n",
    "\n",
    "- `shit` + `ctrl` + `minus`: split cell"
   ]
  },
  {
   "cell_type": "markdown",
   "metadata": {},
   "source": [
    "---\n",
    "\n",
    "# Magic Commands\n",
    "\n",
    "Magic commands, and are prefixed by the `%` character. These magic commands are designed to succinctly solve various common problems in standard data analysis. \n",
    "\n",
    "Magic commands come in two flavors: \n",
    "\n",
    "- **line magics**, which are denoted by a _single_ `%` prefix and operate on a single line of input, \n",
    "- **cell magics**, which are denoted by a _double_ `%%` prefix and operate on multiple lines of input. \n",
    "\n",
    "List off all the available magic commands."
   ]
  },
  {
   "cell_type": "code",
   "execution_count": 2,
   "metadata": {},
   "outputs": [
    {
     "data": {
      "application/json": {
       "cell": {
        "!": "OSMagics",
        "HTML": "Other",
        "SVG": "Other",
        "bash": "Other",
        "capture": "ExecutionMagics",
        "debug": "ExecutionMagics",
        "file": "Other",
        "html": "DisplayMagics",
        "javascript": "DisplayMagics",
        "js": "DisplayMagics",
        "latex": "DisplayMagics",
        "markdown": "DisplayMagics",
        "perl": "Other",
        "prun": "ExecutionMagics",
        "pypy": "Other",
        "python": "Other",
        "python2": "Other",
        "python3": "Other",
        "ruby": "Other",
        "script": "ScriptMagics",
        "sh": "Other",
        "svg": "DisplayMagics",
        "sx": "OSMagics",
        "system": "OSMagics",
        "time": "ExecutionMagics",
        "timeit": "ExecutionMagics",
        "writefile": "OSMagics"
       },
       "line": {
        "alias": "OSMagics",
        "alias_magic": "BasicMagics",
        "autoawait": "AsyncMagics",
        "autocall": "AutoMagics",
        "automagic": "AutoMagics",
        "autosave": "KernelMagics",
        "bookmark": "OSMagics",
        "cat": "Other",
        "cd": "OSMagics",
        "clear": "KernelMagics",
        "colors": "BasicMagics",
        "conda": "PackagingMagics",
        "config": "ConfigMagics",
        "connect_info": "KernelMagics",
        "cp": "Other",
        "debug": "ExecutionMagics",
        "dhist": "OSMagics",
        "dirs": "OSMagics",
        "doctest_mode": "BasicMagics",
        "ed": "Other",
        "edit": "KernelMagics",
        "env": "OSMagics",
        "gui": "BasicMagics",
        "hist": "Other",
        "history": "HistoryMagics",
        "killbgscripts": "ScriptMagics",
        "ldir": "Other",
        "less": "KernelMagics",
        "lf": "Other",
        "lk": "Other",
        "ll": "Other",
        "load": "CodeMagics",
        "load_ext": "ExtensionMagics",
        "loadpy": "CodeMagics",
        "logoff": "LoggingMagics",
        "logon": "LoggingMagics",
        "logstart": "LoggingMagics",
        "logstate": "LoggingMagics",
        "logstop": "LoggingMagics",
        "ls": "Other",
        "lsmagic": "BasicMagics",
        "lx": "Other",
        "macro": "ExecutionMagics",
        "magic": "BasicMagics",
        "man": "KernelMagics",
        "matplotlib": "PylabMagics",
        "mkdir": "Other",
        "more": "KernelMagics",
        "mv": "Other",
        "notebook": "BasicMagics",
        "page": "BasicMagics",
        "pastebin": "CodeMagics",
        "pdb": "ExecutionMagics",
        "pdef": "NamespaceMagics",
        "pdoc": "NamespaceMagics",
        "pfile": "NamespaceMagics",
        "pinfo": "NamespaceMagics",
        "pinfo2": "NamespaceMagics",
        "pip": "PackagingMagics",
        "popd": "OSMagics",
        "pprint": "BasicMagics",
        "precision": "BasicMagics",
        "prun": "ExecutionMagics",
        "psearch": "NamespaceMagics",
        "psource": "NamespaceMagics",
        "pushd": "OSMagics",
        "pwd": "OSMagics",
        "pycat": "OSMagics",
        "pylab": "PylabMagics",
        "qtconsole": "KernelMagics",
        "quickref": "BasicMagics",
        "recall": "HistoryMagics",
        "rehashx": "OSMagics",
        "reload_ext": "ExtensionMagics",
        "rep": "Other",
        "rerun": "HistoryMagics",
        "reset": "NamespaceMagics",
        "reset_selective": "NamespaceMagics",
        "rm": "Other",
        "rmdir": "Other",
        "run": "ExecutionMagics",
        "save": "CodeMagics",
        "sc": "OSMagics",
        "set_env": "OSMagics",
        "store": "StoreMagics",
        "sx": "OSMagics",
        "system": "OSMagics",
        "tb": "ExecutionMagics",
        "time": "ExecutionMagics",
        "timeit": "ExecutionMagics",
        "unalias": "OSMagics",
        "unload_ext": "ExtensionMagics",
        "who": "NamespaceMagics",
        "who_ls": "NamespaceMagics",
        "whos": "NamespaceMagics",
        "xdel": "NamespaceMagics",
        "xmode": "BasicMagics"
       }
      },
      "text/plain": [
       "Available line magics:\n",
       "%alias  %alias_magic  %autoawait  %autocall  %automagic  %autosave  %bookmark  %cat  %cd  %clear  %colors  %conda  %config  %connect_info  %cp  %debug  %dhist  %dirs  %doctest_mode  %ed  %edit  %env  %gui  %hist  %history  %killbgscripts  %ldir  %less  %lf  %lk  %ll  %load  %load_ext  %loadpy  %logoff  %logon  %logstart  %logstate  %logstop  %ls  %lsmagic  %lx  %macro  %magic  %man  %matplotlib  %mkdir  %more  %mv  %notebook  %page  %pastebin  %pdb  %pdef  %pdoc  %pfile  %pinfo  %pinfo2  %pip  %popd  %pprint  %precision  %prun  %psearch  %psource  %pushd  %pwd  %pycat  %pylab  %qtconsole  %quickref  %recall  %rehashx  %reload_ext  %rep  %rerun  %reset  %reset_selective  %rm  %rmdir  %run  %save  %sc  %set_env  %store  %sx  %system  %tb  %time  %timeit  %unalias  %unload_ext  %who  %who_ls  %whos  %xdel  %xmode\n",
       "\n",
       "Available cell magics:\n",
       "%%!  %%HTML  %%SVG  %%bash  %%capture  %%debug  %%file  %%html  %%javascript  %%js  %%latex  %%markdown  %%perl  %%prun  %%pypy  %%python  %%python2  %%python3  %%ruby  %%script  %%sh  %%svg  %%sx  %%system  %%time  %%timeit  %%writefile\n",
       "\n",
       "Automagic is ON, % prefix IS NOT needed for line magics."
      ]
     },
     "execution_count": 2,
     "metadata": {},
     "output_type": "execute_result"
    }
   ],
   "source": [
    "%lsmagic"
   ]
  },
  {
   "cell_type": "markdown",
   "metadata": {},
   "source": [
    "Or consult the quick reference sheet of all available magic"
   ]
  },
  {
   "cell_type": "code",
   "execution_count": 3,
   "metadata": {},
   "outputs": [],
   "source": [
    "%quickref"
   ]
  },
  {
   "cell_type": "markdown",
   "metadata": {},
   "source": [
    "## Useful Magic\n",
    "\n",
    "Here are some useful magic commands that come in handy as you're working with code."
   ]
  },
  {
   "cell_type": "markdown",
   "metadata": {},
   "source": [
    "### Bookmarking\n",
    "\"Come back here later\""
   ]
  },
  {
   "cell_type": "code",
   "execution_count": 3,
   "metadata": {},
   "outputs": [],
   "source": [
    "%bookmark Home"
   ]
  },
  {
   "cell_type": "markdown",
   "metadata": {},
   "source": [
    "See below"
   ]
  },
  {
   "cell_type": "markdown",
   "metadata": {},
   "source": [
    "### Changing working directories "
   ]
  },
  {
   "cell_type": "code",
   "execution_count": 13,
   "metadata": {},
   "outputs": [
    {
     "name": "stdout",
     "output_type": "stream",
     "text": [
      "/Users/tiagoventura/Dropbox\n"
     ]
    }
   ],
   "source": [
    "cd ~/Dropbox"
   ]
  },
  {
   "cell_type": "code",
   "execution_count": 12,
   "metadata": {},
   "outputs": [
    {
     "data": {
      "text/plain": [
       "'/Users/tiagoventura/Desktop'"
      ]
     },
     "execution_count": 12,
     "metadata": {},
     "output_type": "execute_result"
    }
   ],
   "source": [
    "pwd"
   ]
  },
  {
   "cell_type": "markdown",
   "metadata": {},
   "source": [
    "Using the bookmark to return to where we were..."
   ]
  },
  {
   "cell_type": "code",
   "execution_count": 6,
   "metadata": {},
   "outputs": [
    {
     "name": "stdout",
     "output_type": "stream",
     "text": [
      "(bookmark:Home) -> /Users/tiagoventura/Dropbox/courses/ppol564_fall2023/lecture_notes/week-1\n",
      "/Users/tiagoventura/Dropbox/courses/ppol564_fall2023/lecture_notes/week-1\n"
     ]
    }
   ],
   "source": [
    "%cd -b Home"
   ]
  },
  {
   "cell_type": "code",
   "execution_count": 7,
   "metadata": {},
   "outputs": [
    {
     "data": {
      "text/plain": [
       "'/Users/tiagoventura/Desktop'"
      ]
     },
     "execution_count": 7,
     "metadata": {},
     "output_type": "execute_result"
    }
   ],
   "source": [
    "%pwd"
   ]
  },
  {
   "cell_type": "markdown",
   "metadata": {},
   "source": [
    "### Writing code to files\n",
    "\n",
    "Extremely useful when we develop some functionality that we'd like to utilize later on."
   ]
  },
  {
   "cell_type": "code",
   "execution_count": 14,
   "metadata": {},
   "outputs": [
    {
     "ename": "SyntaxError",
     "evalue": "invalid syntax (3182058758.py, line 1)",
     "output_type": "error",
     "traceback": [
      "\u001b[0;36m  Cell \u001b[0;32mIn[14], line 1\u001b[0;36m\u001b[0m\n\u001b[0;31m    writefile my_fib_func.py\u001b[0m\n\u001b[0m              ^\u001b[0m\n\u001b[0;31mSyntaxError\u001b[0m\u001b[0;31m:\u001b[0m invalid syntax\n"
     ]
    }
   ],
   "source": [
    "writefile my_fib_func.py\n",
    "def fib(n):\n",
    "    '''Fibonacci Sequence'''\n",
    "    x = [0]*n\n",
    "    for i in range(n):\n",
    "        if i == 0:\n",
    "            x[i] = 0\n",
    "        elif i == 1:\n",
    "            x[i] = 1\n",
    "        else:\n",
    "            x[i] = x[i-2] + x[i-1]\n",
    "    return x"
   ]
  },
  {
   "cell_type": "code",
   "execution_count": 16,
   "metadata": {},
   "outputs": [
    {
     "name": "stdout",
     "output_type": "stream",
     "text": [
      "20_DesignPickle_Zoom_Background-22.jpg\r\n",
      "\u001b[34mAleatorios\u001b[m\u001b[m/\r\n",
      "\u001b[34mApplication_grants_scholarship\u001b[m\u001b[m/\r\n",
      "\u001b[34mApps\u001b[m\u001b[m/\r\n",
      "Banco_Democracia_Novembro_v2.sav\r\n",
      "\u001b[34mBibliotecas\u001b[m\u001b[m/\r\n",
      "\u001b[34mBigDataWeb-BSOS\u001b[m\u001b[m/\r\n",
      "\u001b[34mBirnir Calvo Waguespack\u001b[m\u001b[m/\r\n",
      "\u001b[34mCalvoTiago\u001b[m\u001b[m/\r\n",
      "\u001b[34mCalvoTimonedaChapter\u001b[m\u001b[m/\r\n",
      "\u001b[34mCamera Uploads\u001b[m\u001b[m/\r\n",
      "Cantu_groceries_for_votes.pdf\r\n",
      "\u001b[34mClass_and_Workshops\u001b[m\u001b[m/\r\n",
      "\u001b[34mCovid Funding\u001b[m\u001b[m/\r\n",
      "\u001b[34mDatasets\u001b[m\u001b[m/\r\n",
      "\u001b[34mDocumentos\u001b[m\u001b[m/\r\n",
      "\u001b[34mEncuesta y Codigo\u001b[m\u001b[m/\r\n",
      "\u001b[34mExemplar papers\u001b[m\u001b[m/\r\n",
      "\u001b[34mExperimental_methods\u001b[m\u001b[m/\r\n",
      "File Sep 04, 5 16 20 PM.pdf\r\n",
      "Homicídios dolosos praticados por policiais X Letalidade Policial (1).pps\r\n",
      "\u001b[34mHuman Subjects UMD\u001b[m\u001b[m/\r\n",
      "\u001b[34mIDB-iLCSS Compartido\u001b[m\u001b[m/\r\n",
      "\u001b[34mIESP\u001b[m\u001b[m/\r\n",
      "Icon?\r\n",
      "Malhorota_hurricanes.pdf\r\n",
      "New Recording 2.m4a\r\n",
      "\u001b[34mOld Folders\u001b[m\u001b[m/\r\n",
      "Path_to_Fake__Who_Goes_and_How_Did_They_Get_There_-5.pdf\r\n",
      "\u001b[34mPhD\u001b[m\u001b[m/\r\n",
      "\u001b[34mRA Laura\u001b[m\u001b[m/\r\n",
      "Rage from within SVV (1).pdf\r\n",
      "Rage from within SVV.pdf\r\n",
      "\u001b[34mReviews\u001b[m\u001b[m/\r\n",
      "\u001b[34mSICSS_Rio\u001b[m\u001b[m/\r\n",
      "\u001b[34mSSRC Covid\u001b[m\u001b[m/\r\n",
      "\u001b[34mSummer_training\u001b[m\u001b[m/\r\n",
      "\u001b[34mTemplates\u001b[m\u001b[m/\r\n",
      "Tese Tiago (REVISÃO CONCLUÍDA) - com ficha.pdf\r\n",
      "The_participants___descriptive.pdf\r\n",
      "Untitled.ipynb\r\n",
      "Untitled1.ipynb\r\n",
      "Willnat and Weaver-2018-Social Media and U S Journalists.pdf\r\n",
      "\u001b[34mapis_keys\u001b[m\u001b[m/\r\n",
      "art.odt\r\n",
      "\u001b[34martigos\u001b[m\u001b[m/\r\n",
      "asimovic_effects_of_facebook_on_ethnically_polarized_setting.pdf\r\n",
      "basedosdados.py\r\n",
      "bigquery.R\r\n",
      "brasililegis.R\r\n",
      "\u001b[34mbuzzsumo\u001b[m\u001b[m/\r\n",
      "code_auxilio.R\r\n",
      "\u001b[34mconferences\u001b[m\u001b[m/\r\n",
      "connective_effeverscence.pdf\r\n",
      "\u001b[34mcourses\u001b[m\u001b[m/\r\n",
      "cv.pdf\r\n",
      "dados_pnad_rafaela.R\r\n",
      "dem_debates.pdf\r\n",
      "\u001b[34mdesktop\u001b[m\u001b[m/\r\n",
      "\u001b[34mfgv_capes_print\u001b[m\u001b[m/\r\n",
      "finefoods.txt.gz\r\n",
      "fontsrladies.css\r\n",
      "game theory.R\r\n",
      "geckodriver.exe\r\n",
      "\u001b[34mgeorgetown\u001b[m\u001b[m/\r\n",
      "glove.6B.zip\r\n",
      "grad_lab_scrap_zap.Rdata\r\n",
      "\u001b[34mheadshots\u001b[m\u001b[m/\r\n",
      "html_source_951_spain.RData\r\n",
      "\u001b[34milcss_workingpaper\u001b[m\u001b[m/\r\n",
      "install_r.R\r\n",
      "\u001b[34mirb_certificates\u001b[m\u001b[m/\r\n",
      "\u001b[34mliterature_spreedshet\u001b[m\u001b[m/\r\n",
      "\u001b[34mme_at_conferences\u001b[m\u001b[m/\r\n",
      "\u001b[34mmethods\u001b[m\u001b[m/\r\n",
      "mod.jags\r\n",
      "mod.stan\r\n",
      "moreira.pdf\r\n",
      "mydraft.Rmd\r\n",
      "nick_geom_tile.R\r\n",
      "notebook.Rmd\r\n",
      "notebook.nb.html\r\n",
      "obterprop.csv\r\n",
      "\u001b[34mpackages\u001b[m\u001b[m/\r\n",
      "\u001b[34mpipeline_phd\u001b[m\u001b[m/\r\n",
      "\u001b[34mpython_learning_materials\u001b[m\u001b[m/\r\n",
      "\u001b[34mrafaela_pnad\u001b[m\u001b[m/\r\n",
      "res_google.Rdata\r\n",
      "res_lo.jpg\r\n",
      "result_sf.Rdata\r\n",
      "s\r\n",
      "save.csv\r\n",
      "scrap_spain.R\r\n",
      "\u001b[34msorelle\u001b[m\u001b[m/\r\n",
      "sp_crime.Rdata\r\n",
      "\u001b[34mstudy_group_multilingual_NLP\u001b[m\u001b[m/\r\n",
      "survey_flow.png\r\n",
      "\u001b[34mtalks\u001b[m\u001b[m/\r\n",
      "theocharis.pdf\r\n",
      "tiago_bibtex.bib\r\n",
      "\u001b[34mtiagoventura.rbind.io\u001b[m\u001b[m/\r\n",
      "\u001b[34mtiagoventura.rbind.io-bundle\u001b[m\u001b[m/\r\n",
      "to_do.txt\r\n",
      "topology.jpeg\r\n",
      "\u001b[34mtwitter\u001b[m\u001b[m/\r\n",
      "\u001b[34mtwitter_idb\u001b[m\u001b[m/\r\n",
      "umd_drive_backup.zip\r\n",
      "unt.Rmd\r\n",
      "ventura.jpg\r\n",
      "ventura_cv.pdf\r\n",
      "w2vec.h5\r\n",
      "\u001b[34mwebsite_redirect\u001b[m\u001b[m/\r\n",
      "\u001b[34mwebsite_redirect_\u001b[m\u001b[m/\r\n"
     ]
    }
   ],
   "source": [
    "%ls # list files ( see our function)"
   ]
  },
  {
   "cell_type": "markdown",
   "metadata": {},
   "source": [
    "### Reading in files"
   ]
  },
  {
   "cell_type": "code",
   "execution_count": null,
   "metadata": {},
   "outputs": [],
   "source": [
    "# %load my_fib_func.py\n",
    "def fib(n):\n",
    "    '''Fibonacci Sequence'''\n",
    "    x = [0]*n\n",
    "    for i in range(n):\n",
    "        if i == 0:\n",
    "            x[i] = 0\n",
    "        elif i == 1:\n",
    "            x[i] = 1\n",
    "        else:\n",
    "            x[i] = x[i-2] + x[i-1]\n",
    "    return x\n"
   ]
  },
  {
   "cell_type": "markdown",
   "metadata": {},
   "source": [
    "### Run an external file as a program"
   ]
  },
  {
   "cell_type": "code",
   "execution_count": 6,
   "metadata": {},
   "outputs": [],
   "source": [
    "%run my_fib_func.py"
   ]
  },
  {
   "cell_type": "markdown",
   "metadata": {},
   "source": [
    "### Timing Code\n",
    "\n",
    "How fast does what we wrote run?"
   ]
  },
  {
   "cell_type": "code",
   "execution_count": 7,
   "metadata": {},
   "outputs": [
    {
     "name": "stdout",
     "output_type": "stream",
     "text": [
      "CPU times: user 10 µs, sys: 1 µs, total: 11 µs\n",
      "Wall time: 16.2 µs\n"
     ]
    },
    {
     "data": {
      "text/plain": [
       "[0, 1, 1, 2, 3, 5, 8, 13, 21, 34]"
      ]
     },
     "execution_count": 7,
     "metadata": {},
     "output_type": "execute_result"
    }
   ],
   "source": [
    "%time fib(10)"
   ]
  },
  {
   "cell_type": "markdown",
   "metadata": {},
   "source": [
    "How long does many runs take (statistical sample)?"
   ]
  },
  {
   "cell_type": "code",
   "execution_count": 9,
   "metadata": {},
   "outputs": [
    {
     "name": "stdout",
     "output_type": "stream",
     "text": [
      "1.24 µs ± 11.4 ns per loop (mean ± std. dev. of 7 runs, 1,000,000 loops each)\n"
     ]
    }
   ],
   "source": [
    "%timeit fib(10)"
   ]
  },
  {
   "cell_type": "markdown",
   "metadata": {},
   "source": [
    "### Look up object names in the name space"
   ]
  },
  {
   "cell_type": "code",
   "execution_count": 11,
   "metadata": {},
   "outputs": [],
   "source": [
    "main_dat = [1,2,3,4]\n",
    "main_key = [\"a\",\"b\"]\n",
    "x = 5\n",
    "y = 6"
   ]
  },
  {
   "cell_type": "code",
   "execution_count": 12,
   "metadata": {},
   "outputs": [],
   "source": [
    "%psearch main*"
   ]
  },
  {
   "cell_type": "markdown",
   "metadata": {},
   "source": [
    "Whenever you encounter an error or exception, just open a new notebook cell, type `%debug` and run the cell. This will open a command line where you can test your code and inspect all variables right up to the line that threw the error. Type `n` and hit Enter to run the next line of code (The `->` arrow shows you the current position). Use `c` to continue until the next breakpoint. `q` quits the debugger and code execution."
   ]
  },
  {
   "cell_type": "markdown",
   "metadata": {},
   "source": [
    "### Asking for help"
   ]
  },
  {
   "cell_type": "code",
   "execution_count": 16,
   "metadata": {},
   "outputs": [],
   "source": [
    "%%timeit?"
   ]
  },
  {
   "cell_type": "markdown",
   "metadata": {},
   "source": [
    "---\n",
    "\n",
    "# Notebook Extensions\n",
    "\n",
    "We can expand the functionality of Jupyter notebooks through extensions. Extensions allow for use to create and use new features that better customize the notebook's user experience. For example, there are extensions for spell check, a table of contents to ease navigation, run code in parallel, and for viewing differences in notebooks when using Version control.\n",
    "\n",
    "Download python module to install notebook extensions: https://github.com/ipython-contrib/jupyter_contrib_nbextensions\n",
    "\n",
    "\n",
    "Using `PyPi` (module manager):\n",
    "```\n",
    "pip install jupyter_nbextensions_configurator jupyter_contrib_nbextensions\n",
    "jupyter contrib nbextension install --user\n",
    "jupyter nbextensions_configurator enable --user\n",
    "```\n",
    "\n",
    "Using `Conda` (Anaconda module manager):\n",
    "```\n",
    "conda install -c conda-forge jupyter_contrib_nbextensions\n",
    "jupyter contrib nbextension install --user\n",
    "jupyter nbextensions_configurator enable --user\n",
    "```\n",
    "\n",
    "Extensions can be activated most easily on the home screen when you first activate your Jupyter notebook.\n",
    "\n",
    "\n",
    "## Useful Extensions\n",
    "\n",
    "- **Collapsible headings**: allows you to collapse some parts of the notebooks.\n",
    "- **Notify**: sends a notification when the notebook becomes idle (for long running tasks)\n",
    "- **Code folding**: folds function, loops, and indented code chunks (makes things tidy)\n",
    "- **nbdime**: provides tools for git differencing and merging of Jupyter Notebooks.\n",
    "    - Requires installation: `pip install nbdime`"
   ]
  },
  {
   "cell_type": "code",
   "execution_count": 2,
   "metadata": {},
   "outputs": [
    {
     "name": "stdout",
     "output_type": "stream",
     "text": [
      "[NbConvertApp] Converting notebook _using-jupyter-notebooks.ipynb to html\n",
      "[NbConvertApp] Writing 309206 bytes to _using-jupyter-notebooks.html\n"
     ]
    }
   ],
   "source": [
    "!jupyter nbconvert _using-jupyter-notebooks.ipynb --to html --template classic\n"
   ]
  }
 ],
 "metadata": {
  "kernelspec": {
   "display_name": "Python 3 (ipykernel)",
   "language": "python",
   "name": "python3"
  },
  "language_info": {
   "codemirror_mode": {
    "name": "ipython",
    "version": 3
   },
   "file_extension": ".py",
   "mimetype": "text/x-python",
   "name": "python",
   "nbconvert_exporter": "python",
   "pygments_lexer": "ipython3",
   "version": "3.11.4"
  },
  "nteract": {
   "version": "0.23.3"
  },
  "toc": {
   "base_numbering": 1,
   "nav_menu": {
    "height": "495px",
    "width": "373.991px"
   },
   "number_sections": false,
   "sideBar": true,
   "skip_h1_title": false,
   "title_cell": "Table of Contents",
   "title_sidebar": "Contents",
   "toc_cell": false,
   "toc_position": {
    "height": "calc(100% - 180px)",
    "left": "10px",
    "top": "150px",
    "width": "165px"
   },
   "toc_section_display": true,
   "toc_window_display": false
  }
 },
 "nbformat": 4,
 "nbformat_minor": 4
}
