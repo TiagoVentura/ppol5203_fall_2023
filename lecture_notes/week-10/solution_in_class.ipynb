{
 "cells": [
  {
   "cell_type": "code",
   "execution_count": null,
   "id": "78a56082",
   "metadata": {},
   "outputs": [],
   "source": [
    "import matplotlib.pyplot as plt\n",
    "\n",
    "diabetes[\"ols_pred\"] = model_ols.fittedvalues\n",
    "\n",
    "# plot\n",
    "(ggplot(diabetes, aes(y=\"ols_pred\", x=\"target\")) +\n",
    " geom_point() +\n",
    " geom_abline(intercept = 0, slope = 1, size = 0.5)\n",
    " \n",
    ")"
   ]
  },
  {
   "cell_type": "markdown",
   "id": "1b3d00ca",
   "metadata": {},
   "source": [
    "### Practice\n",
    "\n",
    "In groups, read the sklearn documentation or check the slide with models I show you in class. \n",
    "\n",
    "Pick a additional model from the sklearn. Compare this model with the three models I showed you in this notebook \n",
    "\n",
    "Feel free to copy and paste the code above, and add your new model and compare the results. \n",
    "\n",
    "## add your code"
   ]
  }
 ],
 "metadata": {
  "kernelspec": {
   "display_name": "Python 3 (ipykernel)",
   "language": "python",
   "name": "python3"
  },
  "language_info": {
   "codemirror_mode": {
    "name": "ipython",
    "version": 3
   },
   "file_extension": ".py",
   "mimetype": "text/x-python",
   "name": "python",
   "nbconvert_exporter": "python",
   "pygments_lexer": "ipython3",
   "version": "3.11.4"
  }
 },
 "nbformat": 4,
 "nbformat_minor": 5
}
