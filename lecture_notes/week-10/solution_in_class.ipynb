{
 "cells": [
  {
   "cell_type": "code",
   "execution_count": null,
   "id": "78a56082",
   "metadata": {},
   "outputs": [],
   "source": [
    "import matplotlib.pyplot as plt\n",
    "\n",
    "diabetes[\"ols_pred\"] = model_ols.fittedvalues\n",
    "\n",
    "# plot\n",
    "(ggplot(diabetes, aes(y=\"ols_pred\", x=\"target\")) +\n",
    " geom_point() +\n",
    " geom_abline(intercept = 0, slope = 1, size = 0.5)\n",
    " \n",
    ")"
   ]
  }
 ],
 "metadata": {
  "kernelspec": {
   "display_name": "Python 3 (ipykernel)",
   "language": "python",
   "name": "python3"
  },
  "language_info": {
   "codemirror_mode": {
    "name": "ipython",
    "version": 3
   },
   "file_extension": ".py",
   "mimetype": "text/x-python",
   "name": "python",
   "nbconvert_exporter": "python",
   "pygments_lexer": "ipython3",
   "version": "3.11.4"
  }
 },
 "nbformat": 4,
 "nbformat_minor": 5
}
