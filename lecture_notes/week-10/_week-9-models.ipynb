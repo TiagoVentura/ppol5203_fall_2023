{
 "cells": [
  {
   "cell_type": "markdown",
   "id": "4e380a95",
   "metadata": {},
   "source": [
    "<h1><center> PPOL 5203 Data Science I: Foundations <br><br> \n",
    "<font color='grey'> Inferential Models and Machine Learning<br><br>\n",
    "Tiago Ventura </center> <h1> \n",
    "\n",
    "---"
   ]
  },
  {
   "cell_type": "markdown",
   "id": "dd4eed89",
   "metadata": {},
   "source": [
    "## Learning Goals\n",
    "\n",
    "In the class today, we will learn about model in Python. We will cover:\n",
    "\n",
    "- Inferential models using `statsmodels`\n",
    "    - Ordinary Least Squares\n",
    "    - Logistic Regression\n",
    "    - retrieving parameters of interest\n",
    "   \n",
    "- Statistical learning with `sklearn`\n",
    "    - an workflow to rule them all\n",
    "    - iterating through many models\n",
    "    - model selection\n",
    "    - cross-validation"
   ]
  },
  {
   "cell_type": "markdown",
   "id": "cc4ae231",
   "metadata": {},
   "source": [
    "## Introdutory notes\n",
    "\n",
    "In Data Science II, you will learn all there is to be learned about predictive modeling and machine learning. You will spend every week going through a different type of model and understanding the mathematics behind it. \n",
    "\n",
    "The purpose of this class is to provide you with a agnostic overview of inferential and predictive workflow of building models in Python. These are my broader goals on having this class in DS I: \n",
    "\n",
    "- For inferential models, my goal is to show you how to use Python to estimate the models you are learning at Statistics I. \n",
    "\n",
    "- For the predictive modeling, I want to go give you a foundational introduction to Machine Learning. In case you get an interview for an internship before you start Data Science II, this class should make you feel confortable describing the components of a machine learning pipeline, even though you have not been properly introduced properly to each different model. \n",
    "\n",
    "Let's go!"
   ]
  },
  {
   "cell_type": "markdown",
   "id": "915f5277",
   "metadata": {},
   "source": [
    "## Datasets\n",
    "\n",
    "We will work with a Diabetes dataset provided by the `sklearn` library. [Here](https://scikit-learn.org/stable/modules/generated/sklearn.datasets.load_diabetes.html#sklearn.datasets.load_diabetes) you can find a full description of the dataset. \n",
    "\n",
    "Some basic information: \n",
    "\n",
    "- Number of cases: 442\n",
    "\n",
    "- Number of variables: First 10 columns are numeric predictive values\n",
    "\n",
    "- Outcome (Target in ML): Column 11 is a quantitative measure of disease progression one year after baseline\n",
    "\n",
    "- Attribute Information:\n",
    "\n",
    "    - `age:` age in years\n",
    "\n",
    "    - `sex:`\n",
    "\n",
    "    - `bmi:` body mass index\n",
    "\n",
    "    - `bp:` average blood pressure\n",
    "\n",
    "    - `s1 tc:`, total serum cholesterol\n",
    "\n",
    "    - `s2 ldl:`, low-density lipoproteins\n",
    "\n",
    "    - `s3 hdl:`, high-density lipoproteins\n",
    "\n",
    "    - `s4 tch:`, total cholesterol / HDL\n",
    "\n",
    "    - `s5 ltg:`, possibly log of serum triglycerides level\n",
    "\n",
    "    - `s6 glu:`, blood sugar level\n",
    "\n",
    "\n"
   ]
  },
  {
   "cell_type": "code",
   "execution_count": 2,
   "id": "a9fb9f81",
   "metadata": {},
   "outputs": [],
   "source": [
    "# load dataset\n",
    "import numpy as np\n",
    "import pandas as pd\n",
    "from sklearn import datasets\n",
    "\n",
    "# load the dataset as a pandas dataframe\n",
    "diabetes = datasets.load_diabetes(as_frame=True)[\"frame\"]"
   ]
  },
  {
   "cell_type": "markdown",
   "id": "ac88cc0c",
   "metadata": {},
   "source": [
    "#### Notice: \n",
    "\n",
    "- ten features (independent variables)\n",
    "- one outcome (target variable)"
   ]
  },
  {
   "cell_type": "code",
   "execution_count": 3,
   "id": "05c7edb9",
   "metadata": {},
   "outputs": [
    {
     "data": {
      "text/html": [
       "<div>\n",
       "<style scoped>\n",
       "    .dataframe tbody tr th:only-of-type {\n",
       "        vertical-align: middle;\n",
       "    }\n",
       "\n",
       "    .dataframe tbody tr th {\n",
       "        vertical-align: top;\n",
       "    }\n",
       "\n",
       "    .dataframe thead th {\n",
       "        text-align: right;\n",
       "    }\n",
       "</style>\n",
       "<table border=\"1\" class=\"dataframe\">\n",
       "  <thead>\n",
       "    <tr style=\"text-align: right;\">\n",
       "      <th></th>\n",
       "      <th>age</th>\n",
       "      <th>sex</th>\n",
       "      <th>bmi</th>\n",
       "      <th>bp</th>\n",
       "      <th>s1</th>\n",
       "      <th>s2</th>\n",
       "      <th>s3</th>\n",
       "      <th>s4</th>\n",
       "      <th>s5</th>\n",
       "      <th>s6</th>\n",
       "      <th>target</th>\n",
       "    </tr>\n",
       "  </thead>\n",
       "  <tbody>\n",
       "    <tr>\n",
       "      <th>0</th>\n",
       "      <td>0.038076</td>\n",
       "      <td>0.050680</td>\n",
       "      <td>0.061696</td>\n",
       "      <td>0.021872</td>\n",
       "      <td>-0.044223</td>\n",
       "      <td>-0.034821</td>\n",
       "      <td>-0.043401</td>\n",
       "      <td>-0.002592</td>\n",
       "      <td>0.019907</td>\n",
       "      <td>-0.017646</td>\n",
       "      <td>151.0</td>\n",
       "    </tr>\n",
       "    <tr>\n",
       "      <th>1</th>\n",
       "      <td>-0.001882</td>\n",
       "      <td>-0.044642</td>\n",
       "      <td>-0.051474</td>\n",
       "      <td>-0.026328</td>\n",
       "      <td>-0.008449</td>\n",
       "      <td>-0.019163</td>\n",
       "      <td>0.074412</td>\n",
       "      <td>-0.039493</td>\n",
       "      <td>-0.068332</td>\n",
       "      <td>-0.092204</td>\n",
       "      <td>75.0</td>\n",
       "    </tr>\n",
       "    <tr>\n",
       "      <th>2</th>\n",
       "      <td>0.085299</td>\n",
       "      <td>0.050680</td>\n",
       "      <td>0.044451</td>\n",
       "      <td>-0.005670</td>\n",
       "      <td>-0.045599</td>\n",
       "      <td>-0.034194</td>\n",
       "      <td>-0.032356</td>\n",
       "      <td>-0.002592</td>\n",
       "      <td>0.002861</td>\n",
       "      <td>-0.025930</td>\n",
       "      <td>141.0</td>\n",
       "    </tr>\n",
       "    <tr>\n",
       "      <th>3</th>\n",
       "      <td>-0.089063</td>\n",
       "      <td>-0.044642</td>\n",
       "      <td>-0.011595</td>\n",
       "      <td>-0.036656</td>\n",
       "      <td>0.012191</td>\n",
       "      <td>0.024991</td>\n",
       "      <td>-0.036038</td>\n",
       "      <td>0.034309</td>\n",
       "      <td>0.022688</td>\n",
       "      <td>-0.009362</td>\n",
       "      <td>206.0</td>\n",
       "    </tr>\n",
       "    <tr>\n",
       "      <th>4</th>\n",
       "      <td>0.005383</td>\n",
       "      <td>-0.044642</td>\n",
       "      <td>-0.036385</td>\n",
       "      <td>0.021872</td>\n",
       "      <td>0.003935</td>\n",
       "      <td>0.015596</td>\n",
       "      <td>0.008142</td>\n",
       "      <td>-0.002592</td>\n",
       "      <td>-0.031988</td>\n",
       "      <td>-0.046641</td>\n",
       "      <td>135.0</td>\n",
       "    </tr>\n",
       "  </tbody>\n",
       "</table>\n",
       "</div>"
      ],
      "text/plain": [
       "        age       sex       bmi        bp        s1        s2        s3  \\\n",
       "0  0.038076  0.050680  0.061696  0.021872 -0.044223 -0.034821 -0.043401   \n",
       "1 -0.001882 -0.044642 -0.051474 -0.026328 -0.008449 -0.019163  0.074412   \n",
       "2  0.085299  0.050680  0.044451 -0.005670 -0.045599 -0.034194 -0.032356   \n",
       "3 -0.089063 -0.044642 -0.011595 -0.036656  0.012191  0.024991 -0.036038   \n",
       "4  0.005383 -0.044642 -0.036385  0.021872  0.003935  0.015596  0.008142   \n",
       "\n",
       "         s4        s5        s6  target  \n",
       "0 -0.002592  0.019907 -0.017646   151.0  \n",
       "1 -0.039493 -0.068332 -0.092204    75.0  \n",
       "2 -0.002592  0.002861 -0.025930   141.0  \n",
       "3  0.034309  0.022688 -0.009362   206.0  \n",
       "4 -0.002592 -0.031988 -0.046641   135.0  "
      ]
     },
     "execution_count": 3,
     "metadata": {},
     "output_type": "execute_result"
    }
   ],
   "source": [
    "# check the data\n",
    "diabetes.head()"
   ]
  },
  {
   "cell_type": "markdown",
   "id": "8032984c",
   "metadata": {},
   "source": [
    "## Inferential Models\n",
    "\n",
    "As we discussed in class, the goal of inferential models is **_interpretation_**. These are the models we often build on social science problems. We often ask: \n",
    "  \n",
    "- _Which predictors are associated with the response?_\n",
    "- _What is the relationship (parameters) between the response and the predictors?_\n",
    "- _Is the relationship causal?_\n",
    "\n",
    "To work with inference, we will use the library `statsmodels` which will allow us to estimate and easily retrive parameters for a wide set of models. "
   ]
  },
  {
   "cell_type": "code",
   "execution_count": 4,
   "id": "cbd933c0",
   "metadata": {},
   "outputs": [],
   "source": [
    "# import library for models\n",
    "import statsmodels.api as sm\n",
    "import statsmodels.formula.api as smf\n",
    "\n",
    "# library for plotting\n",
    "from plotnine import *"
   ]
  },
  {
   "cell_type": "markdown",
   "id": "6175f97a",
   "metadata": {},
   "source": [
    "#### Fitting a OLS model"
   ]
  },
  {
   "cell_type": "code",
   "execution_count": 5,
   "id": "11b9fd03",
   "metadata": {},
   "outputs": [],
   "source": [
    "# estimate the model using R style formula\n",
    "model_ols_r = smf.ols(formula='target ~ age + sex + bmi + bp', data=diabetes).fit()"
   ]
  },
  {
   "cell_type": "code",
   "execution_count": 22,
   "id": "c75a7fbd",
   "metadata": {},
   "outputs": [],
   "source": [
    "# or using a more pythonic way\n",
    "X = sm.add_constant(diabetes[[\"age\", \"sex\", \"bmi\", \"bp\"]])\n",
    "y = diabetes[[\"target\"]]\n",
    "model_ols = sm.OLS(y, X).fit()"
   ]
  },
  {
   "cell_type": "markdown",
   "id": "0072ae7f",
   "metadata": {},
   "source": [
    "#### See outputs"
   ]
  },
  {
   "cell_type": "code",
   "execution_count": 23,
   "id": "efe98424",
   "metadata": {
    "scrolled": true
   },
   "outputs": [
    {
     "name": "stdout",
     "output_type": "stream",
     "text": [
      "                            OLS Regression Results                            \n",
      "==============================================================================\n",
      "Dep. Variable:                 target   R-squared:                       0.400\n",
      "Model:                            OLS   Adj. R-squared:                  0.395\n",
      "Method:                 Least Squares   F-statistic:                     72.91\n",
      "Date:                Mon, 06 Nov 2023   Prob (F-statistic):           2.70e-47\n",
      "Time:                        16:58:14   Log-Likelihood:                -2434.2\n",
      "No. Observations:                 442   AIC:                             4878.\n",
      "Df Residuals:                     437   BIC:                             4899.\n",
      "Df Model:                           4                                         \n",
      "Covariance Type:            nonrobust                                         \n",
      "==============================================================================\n",
      "                 coef    std err          t      P>|t|      [0.025      0.975]\n",
      "------------------------------------------------------------------------------\n",
      "const        152.1335      2.853     53.329      0.000     146.527     157.740\n",
      "age           37.2406     64.117      0.581      0.562     -88.776     163.258\n",
      "sex         -106.5762     62.125     -1.716      0.087    -228.677      15.525\n",
      "bmi          787.1817     65.424     12.032      0.000     658.597     915.766\n",
      "bp           416.6725     69.495      5.996      0.000     280.087     553.258\n",
      "==============================================================================\n",
      "Omnibus:                        9.858   Durbin-Watson:                   1.933\n",
      "Prob(Omnibus):                  0.007   Jarque-Bera (JB):                6.464\n",
      "Skew:                           0.146   Prob(JB):                       0.0395\n",
      "Kurtosis:                       2.485   Cond. No.                         28.4\n",
      "==============================================================================\n",
      "\n",
      "Notes:\n",
      "[1] Standard Errors assume that the covariance matrix of the errors is correctly specified.\n"
     ]
    }
   ],
   "source": [
    "print(model_ols.summary())"
   ]
  },
  {
   "cell_type": "markdown",
   "id": "1c2a0eb8",
   "metadata": {},
   "source": [
    "#### Fitting OLS models with interactions"
   ]
  },
  {
   "cell_type": "code",
   "execution_count": 12,
   "id": "11df15f2",
   "metadata": {},
   "outputs": [
    {
     "name": "stdout",
     "output_type": "stream",
     "text": [
      "                            OLS Regression Results                            \n",
      "==============================================================================\n",
      "Dep. Variable:                 target   R-squared:                       0.407\n",
      "Model:                            OLS   Adj. R-squared:                  0.400\n",
      "Method:                 Least Squares   F-statistic:                     59.77\n",
      "Date:                Mon, 06 Nov 2023   Prob (F-statistic):           2.40e-47\n",
      "Time:                        16:57:16   Log-Likelihood:                -2431.8\n",
      "No. Observations:                 442   AIC:                             4876.\n",
      "Df Residuals:                     436   BIC:                             4900.\n",
      "Df Model:                           5                                         \n",
      "Covariance Type:            nonrobust                                         \n",
      "==============================================================================\n",
      "                 coef    std err          t      P>|t|      [0.025      0.975]\n",
      "------------------------------------------------------------------------------\n",
      "Intercept    150.9570      2.892     52.203      0.000     145.274     156.640\n",
      "age           52.4516     64.228      0.817      0.415     -73.783     178.686\n",
      "sex         -102.7047     61.887     -1.660      0.098    -224.339      18.930\n",
      "bmi          813.1607     66.233     12.277      0.000     682.985     943.336\n",
      "bp           413.1195     69.219      5.968      0.000     277.075     549.164\n",
      "age:bmi     2809.4786   1291.944      2.175      0.030     270.265    5348.692\n",
      "==============================================================================\n",
      "Omnibus:                        8.252   Durbin-Watson:                   1.934\n",
      "Prob(Omnibus):                  0.016   Jarque-Bera (JB):                6.273\n",
      "Skew:                           0.184   Prob(JB):                       0.0434\n",
      "Kurtosis:                       2.547   Cond. No.                         455.\n",
      "==============================================================================\n",
      "\n",
      "Notes:\n",
      "[1] Standard Errors assume that the covariance matrix of the errors is correctly specified.\n"
     ]
    }
   ],
   "source": [
    "model_ols_int= smf.ols(formula='target ~ age + sex + bmi + bp + age*bmi', data=diabetes).fit()\n",
    "print(model_ols_int.summary())"
   ]
  },
  {
   "cell_type": "markdown",
   "id": "3bbb3567",
   "metadata": {},
   "source": [
    "#### Logit models\n",
    "\n",
    "The API for `stats.model` is the same for different types of models. So the learning costs of estimating different models are quite low. Let's estimate a logit model now. "
   ]
  },
  {
   "cell_type": "code",
   "execution_count": 10,
   "id": "478860f4",
   "metadata": {},
   "outputs": [
    {
     "name": "stdout",
     "output_type": "stream",
     "text": [
      "Optimization terminated successfully.\n",
      "         Current function value: 0.536502\n",
      "         Iterations 6\n",
      "                           Logit Regression Results                           \n",
      "==============================================================================\n",
      "Dep. Variable:             target_bin   No. Observations:                  442\n",
      "Model:                          Logit   Df Residuals:                      437\n",
      "Method:                           MLE   Df Model:                            4\n",
      "Date:                Mon, 06 Nov 2023   Pseudo R-squ.:                  0.2182\n",
      "Time:                        16:57:01   Log-Likelihood:                -237.13\n",
      "converged:                       True   LL-Null:                       -303.31\n",
      "Covariance Type:            nonrobust   LLR p-value:                 1.229e-27\n",
      "==============================================================================\n",
      "                 coef    std err          z      P>|z|      [0.025      0.975]\n",
      "------------------------------------------------------------------------------\n",
      "Intercept     -0.2809      0.113     -2.495      0.013      -0.502      -0.060\n",
      "age            1.1068      2.569      0.431      0.667      -3.929       6.142\n",
      "sex           -3.7533      2.459     -1.526      0.127      -8.573       1.066\n",
      "bmi           19.5943      2.852      6.871      0.000      14.005      25.183\n",
      "bp            14.6430      2.875      5.092      0.000       9.007      20.279\n",
      "==============================================================================\n"
     ]
    }
   ],
   "source": [
    "# estimate the model using R style formula\n",
    "diabetes[\"target_bin\"] = np.where(diabetes[\"target\"]> np.mean(diabetes[\"target\"]), 1, 0)\n",
    "\n",
    "# model\n",
    "model_logit = smf.logit(formula='target_bin ~ age + sex + bmi + bp', data=diabetes).fit()\n",
    "\n",
    "# see output\n",
    "print(model_logit.summary())"
   ]
  },
  {
   "cell_type": "markdown",
   "id": "7d9def05",
   "metadata": {},
   "source": [
    "### Understand the Model Quantities\n",
    "\n",
    "If we are interested in understanding relationships, a huge part of fitting inferential models consists on presenting the results as understanble quantities of interests. `statsmodels` has a set of functions that allow us to easily analyze the model. \n",
    "\n",
    "#### Retrieving model parameters"
   ]
  },
  {
   "cell_type": "code",
   "execution_count": 24,
   "id": "a5b0db39",
   "metadata": {},
   "outputs": [
    {
     "data": {
      "text/html": [
       "<div>\n",
       "<style scoped>\n",
       "    .dataframe tbody tr th:only-of-type {\n",
       "        vertical-align: middle;\n",
       "    }\n",
       "\n",
       "    .dataframe tbody tr th {\n",
       "        vertical-align: top;\n",
       "    }\n",
       "\n",
       "    .dataframe thead th {\n",
       "        text-align: right;\n",
       "    }\n",
       "</style>\n",
       "<table border=\"1\" class=\"dataframe\">\n",
       "  <thead>\n",
       "    <tr style=\"text-align: right;\">\n",
       "      <th></th>\n",
       "      <th>coef</th>\n",
       "    </tr>\n",
       "  </thead>\n",
       "  <tbody>\n",
       "    <tr>\n",
       "      <th>const</th>\n",
       "      <td>152.133484</td>\n",
       "    </tr>\n",
       "    <tr>\n",
       "      <th>age</th>\n",
       "      <td>37.240607</td>\n",
       "    </tr>\n",
       "    <tr>\n",
       "      <th>sex</th>\n",
       "      <td>-106.576199</td>\n",
       "    </tr>\n",
       "    <tr>\n",
       "      <th>bmi</th>\n",
       "      <td>787.181650</td>\n",
       "    </tr>\n",
       "    <tr>\n",
       "      <th>bp</th>\n",
       "      <td>416.672511</td>\n",
       "    </tr>\n",
       "  </tbody>\n",
       "</table>\n",
       "</div>"
      ],
      "text/plain": [
       "             coef\n",
       "const  152.133484\n",
       "age     37.240607\n",
       "sex   -106.576199\n",
       "bmi    787.181650\n",
       "bp     416.672511"
      ]
     },
     "execution_count": 24,
     "metadata": {},
     "output_type": "execute_result"
    }
   ],
   "source": [
    "# get parameters\n",
    "params = model_ols.params\n",
    "pd.DataFrame(params).rename(columns={0:\"coef\"})"
   ]
  },
  {
   "cell_type": "code",
   "execution_count": 25,
   "id": "2daecb1b",
   "metadata": {},
   "outputs": [
    {
     "data": {
      "text/html": [
       "<div>\n",
       "<style scoped>\n",
       "    .dataframe tbody tr th:only-of-type {\n",
       "        vertical-align: middle;\n",
       "    }\n",
       "\n",
       "    .dataframe tbody tr th {\n",
       "        vertical-align: top;\n",
       "    }\n",
       "\n",
       "    .dataframe thead th {\n",
       "        text-align: right;\n",
       "    }\n",
       "</style>\n",
       "<table border=\"1\" class=\"dataframe\">\n",
       "  <thead>\n",
       "    <tr style=\"text-align: right;\">\n",
       "      <th></th>\n",
       "      <th>lower</th>\n",
       "      <th>upper</th>\n",
       "    </tr>\n",
       "  </thead>\n",
       "  <tbody>\n",
       "    <tr>\n",
       "      <th>const</th>\n",
       "      <td>146.526670</td>\n",
       "      <td>157.740298</td>\n",
       "    </tr>\n",
       "    <tr>\n",
       "      <th>age</th>\n",
       "      <td>-88.776333</td>\n",
       "      <td>163.257546</td>\n",
       "    </tr>\n",
       "    <tr>\n",
       "      <th>sex</th>\n",
       "      <td>-228.677180</td>\n",
       "      <td>15.524781</td>\n",
       "    </tr>\n",
       "    <tr>\n",
       "      <th>bmi</th>\n",
       "      <td>658.596846</td>\n",
       "      <td>915.766454</td>\n",
       "    </tr>\n",
       "    <tr>\n",
       "      <th>bp</th>\n",
       "      <td>280.087493</td>\n",
       "      <td>553.257528</td>\n",
       "    </tr>\n",
       "  </tbody>\n",
       "</table>\n",
       "</div>"
      ],
      "text/plain": [
       "            lower       upper\n",
       "const  146.526670  157.740298\n",
       "age    -88.776333  163.257546\n",
       "sex   -228.677180   15.524781\n",
       "bmi    658.596846  915.766454\n",
       "bp     280.087493  553.257528"
      ]
     },
     "execution_count": 25,
     "metadata": {},
     "output_type": "execute_result"
    }
   ],
   "source": [
    "# confidence intervals\n",
    "model_ols.conf_int().rename(columns={0:\"lower\", 1:\"upper\"})"
   ]
  },
  {
   "cell_type": "code",
   "execution_count": 26,
   "id": "bb4542cc",
   "metadata": {
    "scrolled": true
   },
   "outputs": [
    {
     "data": {
      "text/html": [
       "<div>\n",
       "<style scoped>\n",
       "    .dataframe tbody tr th:only-of-type {\n",
       "        vertical-align: middle;\n",
       "    }\n",
       "\n",
       "    .dataframe tbody tr th {\n",
       "        vertical-align: top;\n",
       "    }\n",
       "\n",
       "    .dataframe thead th {\n",
       "        text-align: right;\n",
       "    }\n",
       "</style>\n",
       "<table border=\"1\" class=\"dataframe\">\n",
       "  <thead>\n",
       "    <tr style=\"text-align: right;\">\n",
       "      <th></th>\n",
       "      <th>p-values</th>\n",
       "    </tr>\n",
       "  </thead>\n",
       "  <tbody>\n",
       "    <tr>\n",
       "      <th>const</th>\n",
       "      <td>2.048854e-193</td>\n",
       "    </tr>\n",
       "    <tr>\n",
       "      <th>age</th>\n",
       "      <td>5.616622e-01</td>\n",
       "    </tr>\n",
       "    <tr>\n",
       "      <th>sex</th>\n",
       "      <td>8.696030e-02</td>\n",
       "    </tr>\n",
       "    <tr>\n",
       "      <th>bmi</th>\n",
       "      <td>5.342370e-29</td>\n",
       "    </tr>\n",
       "    <tr>\n",
       "      <th>bp</th>\n",
       "      <td>4.245775e-09</td>\n",
       "    </tr>\n",
       "  </tbody>\n",
       "</table>\n",
       "</div>"
      ],
      "text/plain": [
       "            p-values\n",
       "const  2.048854e-193\n",
       "age     5.616622e-01\n",
       "sex     8.696030e-02\n",
       "bmi     5.342370e-29\n",
       "bp      4.245775e-09"
      ]
     },
     "execution_count": 26,
     "metadata": {},
     "output_type": "execute_result"
    }
   ],
   "source": [
    "# p-values\n",
    "pd.DataFrame(model_ols.pvalues).rename(columns={0:\"p-values\"})"
   ]
  },
  {
   "cell_type": "code",
   "execution_count": 27,
   "id": "2cf43147",
   "metadata": {},
   "outputs": [],
   "source": [
    "# function to get a tidy data frame with results\n",
    "\n",
    "def tidy_ols(model):\n",
    "    \"\"\"\n",
    "    input: ols stats model\n",
    "    output: tidy pandas dataframe with models parameters\n",
    "    \n",
    "    \"\"\"\n",
    "    # parameters\n",
    "    params = pd.DataFrame(model.params).rename(columns={0:\"coef\"})\n",
    "    \n",
    "    # confidence intervals\n",
    "    coinf = model.conf_int().rename(columns={0:\"lower\", 1:\"upper\"})\n",
    "    \n",
    "    # p-values\n",
    "    pvalues = pd.DataFrame(model.pvalues).rename(columns={0:\"p-values\"})\n",
    "    \n",
    "    return pd.concat([params, coinf, pvalues], axis=1).reset_index()\n"
   ]
  },
  {
   "cell_type": "code",
   "execution_count": 30,
   "id": "2a1b03dd",
   "metadata": {},
   "outputs": [
    {
     "data": {
      "text/html": [
       "<div>\n",
       "<style scoped>\n",
       "    .dataframe tbody tr th:only-of-type {\n",
       "        vertical-align: middle;\n",
       "    }\n",
       "\n",
       "    .dataframe tbody tr th {\n",
       "        vertical-align: top;\n",
       "    }\n",
       "\n",
       "    .dataframe thead th {\n",
       "        text-align: right;\n",
       "    }\n",
       "</style>\n",
       "<table border=\"1\" class=\"dataframe\">\n",
       "  <thead>\n",
       "    <tr style=\"text-align: right;\">\n",
       "      <th></th>\n",
       "      <th>index</th>\n",
       "      <th>coef</th>\n",
       "      <th>lower</th>\n",
       "      <th>upper</th>\n",
       "      <th>p-values</th>\n",
       "    </tr>\n",
       "  </thead>\n",
       "  <tbody>\n",
       "    <tr>\n",
       "      <th>0</th>\n",
       "      <td>const</td>\n",
       "      <td>152.133484</td>\n",
       "      <td>146.526670</td>\n",
       "      <td>157.740298</td>\n",
       "      <td>2.048854e-193</td>\n",
       "    </tr>\n",
       "    <tr>\n",
       "      <th>1</th>\n",
       "      <td>age</td>\n",
       "      <td>37.240607</td>\n",
       "      <td>-88.776333</td>\n",
       "      <td>163.257546</td>\n",
       "      <td>5.616622e-01</td>\n",
       "    </tr>\n",
       "    <tr>\n",
       "      <th>2</th>\n",
       "      <td>sex</td>\n",
       "      <td>-106.576199</td>\n",
       "      <td>-228.677180</td>\n",
       "      <td>15.524781</td>\n",
       "      <td>8.696030e-02</td>\n",
       "    </tr>\n",
       "    <tr>\n",
       "      <th>3</th>\n",
       "      <td>bmi</td>\n",
       "      <td>787.181650</td>\n",
       "      <td>658.596846</td>\n",
       "      <td>915.766454</td>\n",
       "      <td>5.342370e-29</td>\n",
       "    </tr>\n",
       "    <tr>\n",
       "      <th>4</th>\n",
       "      <td>bp</td>\n",
       "      <td>416.672511</td>\n",
       "      <td>280.087493</td>\n",
       "      <td>553.257528</td>\n",
       "      <td>4.245775e-09</td>\n",
       "    </tr>\n",
       "  </tbody>\n",
       "</table>\n",
       "</div>"
      ],
      "text/plain": [
       "   index        coef       lower       upper       p-values\n",
       "0  const  152.133484  146.526670  157.740298  2.048854e-193\n",
       "1    age   37.240607  -88.776333  163.257546   5.616622e-01\n",
       "2    sex -106.576199 -228.677180   15.524781   8.696030e-02\n",
       "3    bmi  787.181650  658.596846  915.766454   5.342370e-29\n",
       "4     bp  416.672511  280.087493  553.257528   4.245775e-09"
      ]
     },
     "execution_count": 30,
     "metadata": {},
     "output_type": "execute_result"
    }
   ],
   "source": [
    "# run the function\n",
    "ols_tidy = tidy_ols(model_ols)\n",
    "\n",
    "# see\n",
    "ols_tidy.head()"
   ]
  },
  {
   "cell_type": "markdown",
   "id": "b0e85f61",
   "metadata": {},
   "source": [
    "#### Visualizing results"
   ]
  },
  {
   "cell_type": "code",
   "execution_count": 31,
   "id": "1e79adc0",
   "metadata": {},
   "outputs": [
    {
     "data": {
      "image/png": "[encoded data removed]",
      "text/plain": [
       "<Figure size 640x480 with 1 Axes>"
      ]
     },
     "metadata": {
      "image/png": {
       "height": 480,
       "width": 640
      }
     },
     "output_type": "display_data"
    },
    {
     "data": {
      "text/plain": [
       "<Figure Size: (640 x 480)>"
      ]
     },
     "execution_count": 31,
     "metadata": {},
     "output_type": "execute_result"
    }
   ],
   "source": [
    "# Plot\n",
    "plot = (ggplot(ols_tidy, aes(y='coef', x='index'))\n",
    "        + geom_point(aes(y='coef'), size=3, fill=\"red\", color=\"\")\n",
    "        + geom_errorbar(aes(ymin=\"lower\", ymax=\"upper\"), width=0.01, size=2, alpha=.3)\n",
    "        + theme_light()\n",
    "       )\n",
    "plot\n"
   ]
  },
  {
   "cell_type": "markdown",
   "id": "0cb83a4a",
   "metadata": {},
   "source": [
    "#### See more in the [documentation of statsmodels](https://www.statsmodels.org/stable/index.html)"
   ]
  },
  {
   "cell_type": "markdown",
   "id": "ada3d008",
   "metadata": {},
   "source": [
    "## Pratice\n",
    "\n",
    "Time for you to practice. \n",
    "\n",
    "- Estimate a different OLS model using the stats.models api. Add any variable you want to examine the effects\n",
    "- Build a plot with: \n",
    "    - Points with the predicted outcomes for all observations based on your model (y-axis)\n",
    "    - Points with observed valeus (x-axis)\n",
    "    - Line with the perfect fit between y and x\n",
    "    \n",
    "Tips:\n",
    "\n",
    "- You can get the fitted values with `model.fittedvalues`\n",
    "- the perfect fit comes with a 45 degree line `geom_abline(intercept = 0, slope = 1, size = 0.5)`\n",
    "\n",
    "\n",
    "Read more here for other diagnostics: https://www.statsmodels.org/stable/examples/notebooks/generated/ols.html    "
   ]
  },
  {
   "cell_type": "markdown",
   "id": "917272c3",
   "metadata": {},
   "source": [
    "## Statistical learning with sklearn\n",
    "\n",
    "As we discussed in the lecture, in the macinhe learning tradition, we are interest in predictive modeling, instead of understanding relationship. This is the key feature on machine learning. \n",
    "\n",
    "- The goal i is to **_predict_** values of the outcome, $\\hat{y}$\n",
    "  \n",
    "- Models are treated as a **_black box_**\n",
    "\n",
    "- the model doesn't need to be interpretable as long as it provides an accurate prediction of $y$."
   ]
  },
  {
   "cell_type": "markdown",
   "id": "8d5060b1",
   "metadata": {},
   "source": [
    "## Machine Learning Workflow\n",
    "\n",
    "The figure below from Jorge Cimentada's book _Machine Learning for Social Science_ provides a nice summary of the traditional machine learning workiflow. \n",
    "\n",
    "![](https://cimentadaj.github.io/ml_socsci/img/socsci_wflow3_smaller.svg)"
   ]
  },
  {
   "cell_type": "markdown",
   "id": "17f8ee9b",
   "metadata": {},
   "source": [
    "In words: \n",
    "    \n",
    "- Start with a dataset\n",
    "- Split between training and test\n",
    "- Do some pre-processing\n",
    "- Train the model (with or without cross-validation)\n",
    "- Select best parameters (fine-tuning the model)\n",
    "- Evaluate the model in the **test set.**\n",
    "\n",
    "All these steps will be performed using the `sklearn` library. The documentation for `sklearn` is super rich. So I strongly encourage you to check their website and their tutorials: https://scikit-learn.org/stable/tutorial/index.html"
   ]
  },
  {
   "cell_type": "markdown",
   "id": "4b3c5b71",
   "metadata": {},
   "source": [
    "### Simple Example: OLS just to learn the mechanics of the sklearn API"
   ]
  },
  {
   "cell_type": "markdown",
   "id": "ead4472a",
   "metadata": {},
   "source": [
    "#### Open the dataset"
   ]
  },
  {
   "cell_type": "code",
   "execution_count": 34,
   "id": "bdf3822d",
   "metadata": {},
   "outputs": [],
   "source": [
    "# load dataset\n",
    "import numpy as np\n",
    "import pandas as pd\n",
    "from sklearn import datasets\n",
    "\n",
    "# load the dataset as a pandas dataframe\n",
    "diabetes = datasets.load_diabetes(as_frame=True)[\"frame\"]\n",
    "\n",
    "# features\n",
    "X = diabetes.drop(columns=\"target\")\n",
    "\n",
    "# target\n",
    "y = diabetes[\"target\"]"
   ]
  },
  {
   "cell_type": "markdown",
   "id": "546c5dbb",
   "metadata": {},
   "source": [
    "#### Split between training and test"
   ]
  },
  {
   "cell_type": "code",
   "execution_count": 35,
   "id": "55539526",
   "metadata": {},
   "outputs": [],
   "source": [
    "# import function\n",
    "from sklearn.model_selection import train_test_split\n",
    "\n",
    "# split\n",
    "X_train, X_test, y_train, y_test = train_test_split(X, y, \n",
    "                                                    test_size=0.15, \n",
    "                                                    random_state = 417)"
   ]
  },
  {
   "cell_type": "markdown",
   "id": "9accc772",
   "metadata": {},
   "source": [
    "#### Pre-processing"
   ]
  },
  {
   "cell_type": "code",
   "execution_count": 36,
   "id": "5125ca2f",
   "metadata": {},
   "outputs": [
    {
     "data": {
      "text/plain": [
       "age    0\n",
       "sex    0\n",
       "bmi    0\n",
       "bp     0\n",
       "s1     0\n",
       "s2     0\n",
       "s3     0\n",
       "s4     0\n",
       "s5     0\n",
       "s6     0\n",
       "dtype: int64"
      ]
     },
     "execution_count": 36,
     "metadata": {},
     "output_type": "execute_result"
    }
   ],
   "source": [
    "# any missing? \n",
    "X.isna().sum()"
   ]
  },
  {
   "cell_type": "code",
   "execution_count": 37,
   "id": "f5d75581",
   "metadata": {},
   "outputs": [
    {
     "data": {
      "text/html": [
       "<div>\n",
       "<style scoped>\n",
       "    .dataframe tbody tr th:only-of-type {\n",
       "        vertical-align: middle;\n",
       "    }\n",
       "\n",
       "    .dataframe tbody tr th {\n",
       "        vertical-align: top;\n",
       "    }\n",
       "\n",
       "    .dataframe thead th {\n",
       "        text-align: right;\n",
       "    }\n",
       "</style>\n",
       "<table border=\"1\" class=\"dataframe\">\n",
       "  <thead>\n",
       "    <tr style=\"text-align: right;\">\n",
       "      <th></th>\n",
       "      <th>age</th>\n",
       "      <th>sex</th>\n",
       "      <th>bmi</th>\n",
       "      <th>bp</th>\n",
       "      <th>s1</th>\n",
       "      <th>s2</th>\n",
       "      <th>s3</th>\n",
       "      <th>s4</th>\n",
       "      <th>s5</th>\n",
       "      <th>s6</th>\n",
       "    </tr>\n",
       "  </thead>\n",
       "  <tbody>\n",
       "    <tr>\n",
       "      <th>mean</th>\n",
       "      <td>-2.511817e-19</td>\n",
       "      <td>1.230790e-17</td>\n",
       "      <td>-2.245564e-16</td>\n",
       "      <td>-4.797570e-17</td>\n",
       "      <td>-1.381499e-17</td>\n",
       "      <td>3.918434e-17</td>\n",
       "      <td>-5.777179e-18</td>\n",
       "      <td>-9.042540e-18</td>\n",
       "      <td>9.293722e-17</td>\n",
       "      <td>1.130318e-17</td>\n",
       "    </tr>\n",
       "    <tr>\n",
       "      <th>std</th>\n",
       "      <td>4.761905e-02</td>\n",
       "      <td>4.761905e-02</td>\n",
       "      <td>4.761905e-02</td>\n",
       "      <td>4.761905e-02</td>\n",
       "      <td>4.761905e-02</td>\n",
       "      <td>4.761905e-02</td>\n",
       "      <td>4.761905e-02</td>\n",
       "      <td>4.761905e-02</td>\n",
       "      <td>4.761905e-02</td>\n",
       "      <td>4.761905e-02</td>\n",
       "    </tr>\n",
       "  </tbody>\n",
       "</table>\n",
       "</div>"
      ],
      "text/plain": [
       "               age           sex           bmi            bp            s1  \\\n",
       "mean -2.511817e-19  1.230790e-17 -2.245564e-16 -4.797570e-17 -1.381499e-17   \n",
       "std   4.761905e-02  4.761905e-02  4.761905e-02  4.761905e-02  4.761905e-02   \n",
       "\n",
       "                s2            s3            s4            s5            s6  \n",
       "mean  3.918434e-17 -5.777179e-18 -9.042540e-18  9.293722e-17  1.130318e-17  \n",
       "std   4.761905e-02  4.761905e-02  4.761905e-02  4.761905e-02  4.761905e-02  "
      ]
     },
     "execution_count": 37,
     "metadata": {},
     "output_type": "execute_result"
    }
   ],
   "source": [
    "# stardandization?\n",
    "X.describe().loc[[\"mean\", \"std\"],:]"
   ]
  },
  {
   "cell_type": "code",
   "execution_count": 38,
   "id": "619c8505",
   "metadata": {},
   "outputs": [
    {
     "data": {
      "text/plain": [
       "age    float64\n",
       "sex    float64\n",
       "bmi    float64\n",
       "bp     float64\n",
       "s1     float64\n",
       "s2     float64\n",
       "s3     float64\n",
       "s4     float64\n",
       "s5     float64\n",
       "s6     float64\n",
       "dtype: object"
      ]
     },
     "execution_count": 38,
     "metadata": {},
     "output_type": "execute_result"
    }
   ],
   "source": [
    "# any categorical?\n",
    "X.dtypes"
   ]
  },
  {
   "cell_type": "markdown",
   "id": "30ef9e9d",
   "metadata": {},
   "source": [
    "this dataset is pretty much cleaned for us, we can skip pre-processing steps"
   ]
  },
  {
   "cell_type": "markdown",
   "id": "bbe3ec82",
   "metadata": {},
   "source": [
    "#### Train the model\n",
    "\n",
    "**IMPORTANT**: The modeling API follows the same frame work (despite the model). You can fit many different models with very similar code. Let's start with a simple OLS. \n"
   ]
  },
  {
   "cell_type": "code",
   "execution_count": 39,
   "id": "a2cb4257",
   "metadata": {},
   "outputs": [
    {
     "data": {
      "text/html": [
       "<style>#sk-container-id-1 {color: black;}#sk-container-id-1 pre{padding: 0;}#sk-container-id-1 div.sk-toggleable {background-color: white;}#sk-container-id-1 label.sk-toggleable__label {cursor: pointer;display: block;width: 100%;margin-bottom: 0;padding: 0.3em;box-sizing: border-box;text-align: center;}#sk-container-id-1 label.sk-toggleable__label-arrow:before {content: \"▸\";float: left;margin-right: 0.25em;color: #696969;}#sk-container-id-1 label.sk-toggleable__label-arrow:hover:before {color: black;}#sk-container-id-1 div.sk-estimator:hover label.sk-toggleable__label-arrow:before {color: black;}#sk-container-id-1 div.sk-toggleable__content {max-height: 0;max-width: 0;overflow: hidden;text-align: left;background-color: #f0f8ff;}#sk-container-id-1 div.sk-toggleable__content pre {margin: 0.2em;color: black;border-radius: 0.25em;background-color: #f0f8ff;}#sk-container-id-1 input.sk-toggleable__control:checked~div.sk-toggleable__content {max-height: 200px;max-width: 100%;overflow: auto;}#sk-container-id-1 input.sk-toggleable__control:checked~label.sk-toggleable__label-arrow:before {content: \"▾\";}#sk-container-id-1 div.sk-estimator input.sk-toggleable__control:checked~label.sk-toggleable__label {background-color: #d4ebff;}#sk-container-id-1 div.sk-label input.sk-toggleable__control:checked~label.sk-toggleable__label {background-color: #d4ebff;}#sk-container-id-1 input.sk-hidden--visually {border: 0;clip: rect(1px 1px 1px 1px);clip: rect(1px, 1px, 1px, 1px);height: 1px;margin: -1px;overflow: hidden;padding: 0;position: absolute;width: 1px;}#sk-container-id-1 div.sk-estimator {font-family: monospace;background-color: #f0f8ff;border: 1px dotted black;border-radius: 0.25em;box-sizing: border-box;margin-bottom: 0.5em;}#sk-container-id-1 div.sk-estimator:hover {background-color: #d4ebff;}#sk-container-id-1 div.sk-parallel-item::after {content: \"\";width: 100%;border-bottom: 1px solid gray;flex-grow: 1;}#sk-container-id-1 div.sk-label:hover label.sk-toggleable__label {background-color: #d4ebff;}#sk-container-id-1 div.sk-serial::before {content: \"\";position: absolute;border-left: 1px solid gray;box-sizing: border-box;top: 0;bottom: 0;left: 50%;z-index: 0;}#sk-container-id-1 div.sk-serial {display: flex;flex-direction: column;align-items: center;background-color: white;padding-right: 0.2em;padding-left: 0.2em;position: relative;}#sk-container-id-1 div.sk-item {position: relative;z-index: 1;}#sk-container-id-1 div.sk-parallel {display: flex;align-items: stretch;justify-content: center;background-color: white;position: relative;}#sk-container-id-1 div.sk-item::before, #sk-container-id-1 div.sk-parallel-item::before {content: \"\";position: absolute;border-left: 1px solid gray;box-sizing: border-box;top: 0;bottom: 0;left: 50%;z-index: -1;}#sk-container-id-1 div.sk-parallel-item {display: flex;flex-direction: column;z-index: 1;position: relative;background-color: white;}#sk-container-id-1 div.sk-parallel-item:first-child::after {align-self: flex-end;width: 50%;}#sk-container-id-1 div.sk-parallel-item:last-child::after {align-self: flex-start;width: 50%;}#sk-container-id-1 div.sk-parallel-item:only-child::after {width: 0;}#sk-container-id-1 div.sk-dashed-wrapped {border: 1px dashed gray;margin: 0 0.4em 0.5em 0.4em;box-sizing: border-box;padding-bottom: 0.4em;background-color: white;}#sk-container-id-1 div.sk-label label {font-family: monospace;font-weight: bold;display: inline-block;line-height: 1.2em;}#sk-container-id-1 div.sk-label-container {text-align: center;}#sk-container-id-1 div.sk-container {/* jupyter's `normalize.less` sets `[hidden] { display: none; }` but bootstrap.min.css set `[hidden] { display: none !important; }` so we also need the `!important` here to be able to override the default hidden behavior on the sphinx rendered scikit-learn.org. See: https://github.com/scikit-learn/scikit-learn/issues/21755 */display: inline-block !important;position: relative;}#sk-container-id-1 div.sk-text-repr-fallback {display: none;}</style><div id=\"sk-container-id-1\" class=\"sk-top-container\"><div class=\"sk-text-repr-fallback\"><pre>LinearRegression()</pre><b>In a Jupyter environment, please rerun this cell to show the HTML representation or trust the notebook. <br />On GitHub, the HTML representation is unable to render, please try loading this page with nbviewer.org.</b></div><div class=\"sk-container\" hidden><div class=\"sk-item\"><div class=\"sk-estimator sk-toggleable\"><input class=\"sk-toggleable__control sk-hidden--visually\" id=\"sk-estimator-id-1\" type=\"checkbox\" checked><label for=\"sk-estimator-id-1\" class=\"sk-toggleable__label sk-toggleable__label-arrow\">LinearRegression</label><div class=\"sk-toggleable__content\"><pre>LinearRegression()</pre></div></div></div></div></div>"
      ],
      "text/plain": [
       "LinearRegression()"
      ]
     },
     "execution_count": 39,
     "metadata": {},
     "output_type": "execute_result"
    }
   ],
   "source": [
    "# import model \n",
    "from sklearn.linear_model import LinearRegression\n",
    "\n",
    "# Instantiate the modeling object\n",
    "model = LinearRegression()\n",
    "\n",
    "# Fit the model\n",
    "model.fit(X_train,y_train)"
   ]
  },
  {
   "cell_type": "markdown",
   "id": "437b205a",
   "metadata": {},
   "source": [
    "#### Evaluate the model - use the test set!!"
   ]
  },
  {
   "cell_type": "code",
   "execution_count": 40,
   "id": "cd0d751e",
   "metadata": {},
   "outputs": [
    {
     "data": {
      "text/plain": [
       "0.4799898648936971"
      ]
     },
     "execution_count": 40,
     "metadata": {},
     "output_type": "execute_result"
    }
   ],
   "source": [
    "# Fit statistic (metric for how wrong we are) -- R^2\n",
    "model.score(X_test,y_test)\n",
    "\n"
   ]
  },
  {
   "cell_type": "code",
   "execution_count": 41,
   "id": "fbf04418",
   "metadata": {},
   "outputs": [
    {
     "data": {
      "text/plain": [
       "3325.658847637309"
      ]
     },
     "execution_count": 41,
     "metadata": {},
     "output_type": "execute_result"
    }
   ],
   "source": [
    "## if you want to calculate the mean squared error\n",
    "from sklearn.metrics import mean_squared_error\n",
    "\n",
    "# predicted values\n",
    "yhat = model.predict(X_test)\n",
    "\n",
    "## estimate\n",
    "mean_squared_error(y_test, yhat)"
   ]
  },
  {
   "cell_type": "markdown",
   "id": "f288f0d7",
   "metadata": {},
   "source": [
    "### Many, many models, and an API to rule them all!\n",
    "\n",
    "Our performance with the simple linear regression was not great. Let's see if we get better using more complex models. We will try three different families of models. Again, you will learn about these models in DS II\n",
    "\n",
    "- Elastic-net: linear model with regularization parameters. \n",
    "- Support Vector Machines: a supervised model that allows more non-linearity between the parametes\n",
    "- Decision Tree: A model that uses a set of boolean rules in a non-parametric fashion that splits your data in multiple groups for supervised tasks. \n"
   ]
  },
  {
   "cell_type": "code",
   "execution_count": 42,
   "id": "52a6f885",
   "metadata": {},
   "outputs": [],
   "source": [
    "# setup for models\n",
    "from sklearn.linear_model import ElasticNet\n",
    "from sklearn.svm import SVR\n",
    "from sklearn.tree import DecisionTreeRegressor\n",
    "\n",
    "# setup for metrics\n",
    "from sklearn.metrics import mean_squared_error\n",
    "\n",
    "\n",
    "# setup for dataset\n",
    "from sklearn import datasets\n"
   ]
  },
  {
   "cell_type": "code",
   "execution_count": 43,
   "id": "212b15b0",
   "metadata": {},
   "outputs": [],
   "source": [
    "# load the dataset as a pandas dataframe\n",
    "diabetes = datasets.load_diabetes(as_frame=True)[\"frame\"]\n",
    "\n",
    "# features\n",
    "X = diabetes.drop(columns=\"target\")\n",
    "\n",
    "# target\n",
    "y = diabetes[\"target\"]\n",
    "\n",
    "# split\n",
    "X_train, X_test, y_train, y_test = train_test_split(X, y, \n",
    "                                                    test_size=0.15, \n",
    "                                                    random_state = 417)"
   ]
  },
  {
   "cell_type": "markdown",
   "id": "cb242a0d",
   "metadata": {},
   "source": [
    "### linear model"
   ]
  },
  {
   "cell_type": "code",
   "execution_count": 252,
   "id": "727167d7",
   "metadata": {},
   "outputs": [],
   "source": [
    "# linear model\n",
    "\n",
    "# Instantiate the modeling object\n",
    "model_ols = LinearRegression()\n",
    "\n",
    "# Fit the model\n",
    "model_ols.fit(X_train,y_train)\n",
    "\n",
    "# Predict and calculate MSE in the test\n",
    "y_pred_ols = model_ols.predict(X_test)\n",
    "mse_ols = mean_squared_error(y_test, y_pred_ols)"
   ]
  },
  {
   "cell_type": "markdown",
   "id": "a1a6fadf",
   "metadata": {},
   "source": [
    "### Elastic Net"
   ]
  },
  {
   "cell_type": "code",
   "execution_count": 253,
   "id": "380df35e",
   "metadata": {},
   "outputs": [],
   "source": [
    "# Initialize and train the Elastic Net model\n",
    "# alpha and l1_ratio are hyper parameter (learning is here!)\n",
    "elastic_net = ElasticNet(alpha=0.01, l1_ratio=1)  \n",
    "elastic_net.fit(X_train, y_train)\n",
    "\n",
    "# Predict and calculate MSE in the test\n",
    "y_pred_en = elastic_net.predict(X_test)\n",
    "mse_en = mean_squared_error(y_test, y_pred_en)"
   ]
  },
  {
   "cell_type": "markdown",
   "id": "3b2f5cb8",
   "metadata": {},
   "source": [
    "### Support Vector Machine"
   ]
  },
  {
   "cell_type": "code",
   "execution_count": 254,
   "id": "942e80ff",
   "metadata": {},
   "outputs": [],
   "source": [
    "# Initialize and train the SVM model\n",
    "svm = SVR(kernel='linear')  # Using linear kernel for demonstration\n",
    "svm.fit(X_train, y_train)\n",
    "\n",
    "# Predict and calculate MSE in the test\n",
    "y_pred_svm = svm.predict(X_test)\n",
    "mse_svm = mean_squared_error(y_test, y_pred_svm)"
   ]
  },
  {
   "cell_type": "markdown",
   "id": "0cca6f43",
   "metadata": {},
   "source": [
    "### Decision Tree"
   ]
  },
  {
   "cell_type": "code",
   "execution_count": 255,
   "id": "d4cccc12",
   "metadata": {},
   "outputs": [],
   "source": [
    "# Initialize and train the Decision Tree model\n",
    "tree = DecisionTreeRegressor(random_state=0,  max_depth=5)\n",
    "tree.fit(X_train, y_train)\n",
    "\n",
    "# Predict and calculate MSE in the test\n",
    "y_pred_tree = tree.predict(X_test)\n",
    "mse_tree = mean_squared_error(y_test, y_pred_tree)"
   ]
  },
  {
   "cell_type": "code",
   "execution_count": 256,
   "id": "c1000cb0",
   "metadata": {
    "scrolled": false
   },
   "outputs": [
    {
     "data": {
      "text/html": [
       "<div>\n",
       "<style scoped>\n",
       "    .dataframe tbody tr th:only-of-type {\n",
       "        vertical-align: middle;\n",
       "    }\n",
       "\n",
       "    .dataframe tbody tr th {\n",
       "        vertical-align: top;\n",
       "    }\n",
       "\n",
       "    .dataframe thead th {\n",
       "        text-align: right;\n",
       "    }\n",
       "</style>\n",
       "<table border=\"1\" class=\"dataframe\">\n",
       "  <thead>\n",
       "    <tr style=\"text-align: right;\">\n",
       "      <th></th>\n",
       "      <th>values</th>\n",
       "      <th>models</th>\n",
       "    </tr>\n",
       "  </thead>\n",
       "  <tbody>\n",
       "    <tr>\n",
       "      <th>1</th>\n",
       "      <td>3324.324519</td>\n",
       "      <td>elastic-net</td>\n",
       "    </tr>\n",
       "    <tr>\n",
       "      <th>0</th>\n",
       "      <td>3325.658848</td>\n",
       "      <td>ols</td>\n",
       "    </tr>\n",
       "    <tr>\n",
       "      <th>3</th>\n",
       "      <td>5184.585555</td>\n",
       "      <td>tree</td>\n",
       "    </tr>\n",
       "    <tr>\n",
       "      <th>2</th>\n",
       "      <td>7071.125649</td>\n",
       "      <td>svm</td>\n",
       "    </tr>\n",
       "  </tbody>\n",
       "</table>\n",
       "</div>"
      ],
      "text/plain": [
       "        values       models\n",
       "1  3324.324519  elastic-net\n",
       "0  3325.658848          ols\n",
       "3  5184.585555         tree\n",
       "2  7071.125649          svm"
      ]
     },
     "execution_count": 256,
     "metadata": {},
     "output_type": "execute_result"
    }
   ],
   "source": [
    "pd.DataFrame({\"values\":[mse_ols, mse_en,mse_svm, mse_tree], \n",
    "               \"models\":[\"ols\", \"elastic-net\", \"svm\", \"tree\"]}).sort_values(\"values\")"
   ]
  },
  {
   "cell_type": "markdown",
   "id": "bbb34951",
   "metadata": {},
   "source": [
    "### Let's see the fit in the training data"
   ]
  },
  {
   "cell_type": "code",
   "execution_count": 44,
   "id": "2f5c10a7",
   "metadata": {},
   "outputs": [],
   "source": [
    "# linear model\n",
    "\n",
    "# Instantiate the modeling object\n",
    "model_ols = LinearRegression()\n",
    "\n",
    "# Fit the model\n",
    "model_ols.fit(X_train,y_train)\n",
    "\n",
    "# predic and calculate MSE\n",
    "y_pred_ols = model_ols.predict(X_train)\n",
    "mse_ols = mean_squared_error(y_train, y_pred_ols)"
   ]
  },
  {
   "cell_type": "code",
   "execution_count": 45,
   "id": "32450ae2",
   "metadata": {},
   "outputs": [],
   "source": [
    "# Initialize and train the Elastic Net model\n",
    "# alpha is a hyper parameter (learning is here!)\n",
    "elastic_net = ElasticNet(alpha=0.01, l1_ratio=1)  \n",
    "elastic_net.fit(X_train, y_train)\n",
    "\n",
    "# Predict and calculate MSE\n",
    "y_pred_en = elastic_net.predict(X_train)\n",
    "mse_en = mean_squared_error(y_train, y_pred_en)"
   ]
  },
  {
   "cell_type": "code",
   "execution_count": 46,
   "id": "8e99ac9d",
   "metadata": {},
   "outputs": [],
   "source": [
    "# Initialize and train the SVM model\n",
    "svm = SVR(kernel='linear')  # Using linear kernel for demonstration\n",
    "svm.fit(X_train, y_train)\n",
    "\n",
    "# Predict and calculate MSE\n",
    "y_pred_svm = svm.predict(X_train)\n",
    "mse_svm = mean_squared_error(y_train, y_pred_svm)"
   ]
  },
  {
   "cell_type": "code",
   "execution_count": 47,
   "id": "f80b0459",
   "metadata": {},
   "outputs": [],
   "source": [
    "# Initialize and train the Decision Tree model\n",
    "tree = DecisionTreeRegressor(random_state=0,  max_depth=5)\n",
    "tree.fit(X_train, y_train)\n",
    "\n",
    "# Predict and calculate MSE\n",
    "y_pred_tree = tree.predict(X_train)\n",
    "mse_tree = mean_squared_error(y_train, y_pred_tree)"
   ]
  },
  {
   "cell_type": "code",
   "execution_count": 48,
   "id": "568fc5ce",
   "metadata": {},
   "outputs": [
    {
     "data": {
      "text/html": [
       "<div>\n",
       "<style scoped>\n",
       "    .dataframe tbody tr th:only-of-type {\n",
       "        vertical-align: middle;\n",
       "    }\n",
       "\n",
       "    .dataframe tbody tr th {\n",
       "        vertical-align: top;\n",
       "    }\n",
       "\n",
       "    .dataframe thead th {\n",
       "        text-align: right;\n",
       "    }\n",
       "</style>\n",
       "<table border=\"1\" class=\"dataframe\">\n",
       "  <thead>\n",
       "    <tr style=\"text-align: right;\">\n",
       "      <th></th>\n",
       "      <th>values</th>\n",
       "      <th>models</th>\n",
       "    </tr>\n",
       "  </thead>\n",
       "  <tbody>\n",
       "    <tr>\n",
       "      <th>3</th>\n",
       "      <td>2005.933021</td>\n",
       "      <td>tree</td>\n",
       "    </tr>\n",
       "    <tr>\n",
       "      <th>0</th>\n",
       "      <td>2793.124358</td>\n",
       "      <td>ols</td>\n",
       "    </tr>\n",
       "    <tr>\n",
       "      <th>1</th>\n",
       "      <td>2802.447120</td>\n",
       "      <td>elastic-net</td>\n",
       "    </tr>\n",
       "    <tr>\n",
       "      <th>2</th>\n",
       "      <td>5765.841372</td>\n",
       "      <td>svm</td>\n",
       "    </tr>\n",
       "  </tbody>\n",
       "</table>\n",
       "</div>"
      ],
      "text/plain": [
       "        values       models\n",
       "3  2005.933021         tree\n",
       "0  2793.124358          ols\n",
       "1  2802.447120  elastic-net\n",
       "2  5765.841372          svm"
      ]
     },
     "execution_count": 48,
     "metadata": {},
     "output_type": "execute_result"
    }
   ],
   "source": [
    "pd.DataFrame({\"values\":[mse_ols, mse_en,mse_svm, mse_tree], \n",
    "               \"models\":[\"ols\", \"elastic-net\", \"svm\", \"tree\"]}).sort_values(\"values\")"
   ]
  },
  {
   "cell_type": "markdown",
   "id": "987d7c57",
   "metadata": {},
   "source": [
    "### Hyper-Parameter Tunning and Cross Validation\n",
    "\n",
    "As you saw above, more advanced machine learning models have hyper-parameters. \n",
    "\n",
    "Hyperparameters are parameters that are not learned directly from the data but are set in advance before the training process begins, bur their best-values can be learned with training. Examples include the learning rate in gradient descent in deep-learning, the depth of a decision tree, or the number of neighbors in a k-nearest neighbors algorithm.\n",
    "\n",
    "The way we choose the values for hyper-parameters is by looking at the performance of the models. \n",
    "\n",
    "### Cross-validation\n",
    "\n",
    "If we were to find the best-values for hyperparameters looking always to the test-set, we would be pretty much training the model on the test set. Remember, we should always avoid this. The test set should be unseen data, and we should keep its integrity. This process is commonly described as [data leakage](https://towardsdatascience.com/what-is-data-leakage-and-how-can-it-be-avoided-in-machine-learning-eb435a27c3e3)\n",
    "\n",
    "For this reason, when training machine learning models, we often rely on resampling methods, such as cross-validation. These methods allow us to fine tune our models by taking multiple samples of the training data, and training the model multiple times. \n",
    "\n",
    "Read here a nice and shor introduction to cross-validation: https://neptune.ai/blog/cross-validation-in-machine-learning-how-to-do-it-right"
   ]
  },
  {
   "cell_type": "code",
   "execution_count": 66,
   "id": "6264fdbd",
   "metadata": {},
   "outputs": [
    {
     "name": "stdout",
     "output_type": "stream",
     "text": [
      "N Obs. to train on = 282, N obs to test on = 71\n",
      "N Obs. to train on = 282, N obs to test on = 71\n",
      "N Obs. to train on = 282, N obs to test on = 71\n",
      "N Obs. to train on = 283, N obs to test on = 70\n",
      "N Obs. to train on = 283, N obs to test on = 70\n",
      "Total numbers of models run = 5\n"
     ]
    }
   ],
   "source": [
    "# lets see the mechanics first\n",
    "from sklearn.model_selection import train_test_split # Train-test split\n",
    "from sklearn.model_selection import LeaveOneOut # Leave One Out Cross Validation\n",
    "from sklearn.model_selection import KFold # K-fold Cross validation\n",
    "\n",
    "# Intialize the K-Folds (splits)\n",
    "kf = KFold(n_splits=5)\n",
    "\n",
    "# Split the data\n",
    "k_splits = kf.split(X_train)\n",
    "\n",
    "# Let's look at the splits\n",
    "n_models =0\n",
    "for train, test in k_splits:\n",
    "    print(f\"N Obs. to train on = {train.shape[0]}, N obs to test on = {test.shape[0]}\") #\n",
    "    n_models += 1 # Count the number of models\n",
    "\n",
    "print(f\"Total numbers of models run = {n_models}\")\n"
   ]
  },
  {
   "cell_type": "code",
   "execution_count": 79,
   "id": "9b0ab995",
   "metadata": {},
   "outputs": [
    {
     "ename": "KeyError",
     "evalue": "71",
     "output_type": "error",
     "traceback": [
      "\u001b[0;31m---------------------------------------------------------------------------\u001b[0m",
      "\u001b[0;31mKeyError\u001b[0m                                  Traceback (most recent call last)",
      "File \u001b[0;32m~/anaconda3/lib/python3.11/site-packages/pandas/core/indexes/base.py:3802\u001b[0m, in \u001b[0;36mIndex.get_loc\u001b[0;34m(self, key, method, tolerance)\u001b[0m\n\u001b[1;32m   3801\u001b[0m \u001b[38;5;28;01mtry\u001b[39;00m:\n\u001b[0;32m-> 3802\u001b[0m     \u001b[38;5;28;01mreturn\u001b[39;00m \u001b[38;5;28mself\u001b[39m\u001b[38;5;241m.\u001b[39m_engine\u001b[38;5;241m.\u001b[39mget_loc(casted_key)\n\u001b[1;32m   3803\u001b[0m \u001b[38;5;28;01mexcept\u001b[39;00m \u001b[38;5;167;01mKeyError\u001b[39;00m \u001b[38;5;28;01mas\u001b[39;00m err:\n",
      "File \u001b[0;32m~/anaconda3/lib/python3.11/site-packages/pandas/_libs/index.pyx:138\u001b[0m, in \u001b[0;36mpandas._libs.index.IndexEngine.get_loc\u001b[0;34m()\u001b[0m\n",
      "File \u001b[0;32m~/anaconda3/lib/python3.11/site-packages/pandas/_libs/index.pyx:165\u001b[0m, in \u001b[0;36mpandas._libs.index.IndexEngine.get_loc\u001b[0;34m()\u001b[0m\n",
      "File \u001b[0;32mpandas/_libs/hashtable_class_helper.pxi:5745\u001b[0m, in \u001b[0;36mpandas._libs.hashtable.PyObjectHashTable.get_item\u001b[0;34m()\u001b[0m\n",
      "File \u001b[0;32mpandas/_libs/hashtable_class_helper.pxi:5753\u001b[0m, in \u001b[0;36mpandas._libs.hashtable.PyObjectHashTable.get_item\u001b[0;34m()\u001b[0m\n",
      "\u001b[0;31mKeyError\u001b[0m: 71",
      "\nThe above exception was the direct cause of the following exception:\n",
      "\u001b[0;31mKeyError\u001b[0m                                  Traceback (most recent call last)",
      "Cell \u001b[0;32mIn[79], line 1\u001b[0m\n\u001b[0;32m----> 1\u001b[0m X[\u001b[38;5;241m71\u001b[39m]\n",
      "File \u001b[0;32m~/anaconda3/lib/python3.11/site-packages/pandas/core/frame.py:3807\u001b[0m, in \u001b[0;36mDataFrame.__getitem__\u001b[0;34m(self, key)\u001b[0m\n\u001b[1;32m   3805\u001b[0m \u001b[38;5;28;01mif\u001b[39;00m \u001b[38;5;28mself\u001b[39m\u001b[38;5;241m.\u001b[39mcolumns\u001b[38;5;241m.\u001b[39mnlevels \u001b[38;5;241m>\u001b[39m \u001b[38;5;241m1\u001b[39m:\n\u001b[1;32m   3806\u001b[0m     \u001b[38;5;28;01mreturn\u001b[39;00m \u001b[38;5;28mself\u001b[39m\u001b[38;5;241m.\u001b[39m_getitem_multilevel(key)\n\u001b[0;32m-> 3807\u001b[0m indexer \u001b[38;5;241m=\u001b[39m \u001b[38;5;28mself\u001b[39m\u001b[38;5;241m.\u001b[39mcolumns\u001b[38;5;241m.\u001b[39mget_loc(key)\n\u001b[1;32m   3808\u001b[0m \u001b[38;5;28;01mif\u001b[39;00m is_integer(indexer):\n\u001b[1;32m   3809\u001b[0m     indexer \u001b[38;5;241m=\u001b[39m [indexer]\n",
      "File \u001b[0;32m~/anaconda3/lib/python3.11/site-packages/pandas/core/indexes/base.py:3804\u001b[0m, in \u001b[0;36mIndex.get_loc\u001b[0;34m(self, key, method, tolerance)\u001b[0m\n\u001b[1;32m   3802\u001b[0m     \u001b[38;5;28;01mreturn\u001b[39;00m \u001b[38;5;28mself\u001b[39m\u001b[38;5;241m.\u001b[39m_engine\u001b[38;5;241m.\u001b[39mget_loc(casted_key)\n\u001b[1;32m   3803\u001b[0m \u001b[38;5;28;01mexcept\u001b[39;00m \u001b[38;5;167;01mKeyError\u001b[39;00m \u001b[38;5;28;01mas\u001b[39;00m err:\n\u001b[0;32m-> 3804\u001b[0m     \u001b[38;5;28;01mraise\u001b[39;00m \u001b[38;5;167;01mKeyError\u001b[39;00m(key) \u001b[38;5;28;01mfrom\u001b[39;00m \u001b[38;5;21;01merr\u001b[39;00m\n\u001b[1;32m   3805\u001b[0m \u001b[38;5;28;01mexcept\u001b[39;00m \u001b[38;5;167;01mTypeError\u001b[39;00m:\n\u001b[1;32m   3806\u001b[0m     \u001b[38;5;66;03m# If we have a listlike key, _check_indexing_error will raise\u001b[39;00m\n\u001b[1;32m   3807\u001b[0m     \u001b[38;5;66;03m#  InvalidIndexError. Otherwise we fall through and re-raise\u001b[39;00m\n\u001b[1;32m   3808\u001b[0m     \u001b[38;5;66;03m#  the TypeError.\u001b[39;00m\n\u001b[1;32m   3809\u001b[0m     \u001b[38;5;28mself\u001b[39m\u001b[38;5;241m.\u001b[39m_check_indexing_error(key)\n",
      "\u001b[0;31mKeyError\u001b[0m: 71"
     ]
    }
   ],
   "source": [
    "X[71]"
   ]
  },
  {
   "cell_type": "code",
   "execution_count": 85,
   "id": "a1e896ee",
   "metadata": {},
   "outputs": [
    {
     "name": "stdout",
     "output_type": "stream",
     "text": [
      "Fold 1:\n",
      "Fold 2:\n",
      "Fold 3:\n",
      "Fold 4:\n",
      "Fold 5:\n"
     ]
    }
   ],
   "source": [
    "# what the splits are? Index of the data\n",
    "kf = KFold(n_splits=5)\n",
    "\n",
    "# Split the data\n",
    "k_splits = kf.split(X_train)\n",
    "\n",
    "# containers to store the data\n",
    "train_data = list()\n",
    "val_data = list()\n",
    "\n",
    "# iterate\n",
    "for fold_number, (train_indices, val_indices) in enumerate(k_splits):\n",
    "    print(f\"Fold {fold_number + 1}:\")\n",
    "    \n",
    "    # Split your data into training and validation sets using the indices\n",
    "    train_data.append([X_train.iloc[i] for i in train_indices])\n",
    "    val_data.append([X_train.iloc[i] for i in val_indices])"
   ]
  },
  {
   "cell_type": "code",
   "execution_count": 88,
   "id": "a7abf7a4",
   "metadata": {},
   "outputs": [
    {
     "data": {
      "text/html": [
       "<div>\n",
       "<style scoped>\n",
       "    .dataframe tbody tr th:only-of-type {\n",
       "        vertical-align: middle;\n",
       "    }\n",
       "\n",
       "    .dataframe tbody tr th {\n",
       "        vertical-align: top;\n",
       "    }\n",
       "\n",
       "    .dataframe thead th {\n",
       "        text-align: right;\n",
       "    }\n",
       "</style>\n",
       "<table border=\"1\" class=\"dataframe\">\n",
       "  <thead>\n",
       "    <tr style=\"text-align: right;\">\n",
       "      <th></th>\n",
       "      <th>age</th>\n",
       "      <th>sex</th>\n",
       "      <th>bmi</th>\n",
       "      <th>bp</th>\n",
       "      <th>s1</th>\n",
       "      <th>s2</th>\n",
       "      <th>s3</th>\n",
       "      <th>s4</th>\n",
       "      <th>s5</th>\n",
       "      <th>s6</th>\n",
       "    </tr>\n",
       "  </thead>\n",
       "  <tbody>\n",
       "    <tr>\n",
       "      <th>17</th>\n",
       "      <td>0.070769</td>\n",
       "      <td>0.050680</td>\n",
       "      <td>0.012117</td>\n",
       "      <td>0.056301</td>\n",
       "      <td>0.034206</td>\n",
       "      <td>0.049416</td>\n",
       "      <td>-0.039719</td>\n",
       "      <td>0.034309</td>\n",
       "      <td>0.027364</td>\n",
       "      <td>-0.001078</td>\n",
       "    </tr>\n",
       "    <tr>\n",
       "      <th>66</th>\n",
       "      <td>-0.009147</td>\n",
       "      <td>0.050680</td>\n",
       "      <td>-0.018062</td>\n",
       "      <td>-0.033213</td>\n",
       "      <td>-0.020832</td>\n",
       "      <td>0.012152</td>\n",
       "      <td>-0.072854</td>\n",
       "      <td>0.071210</td>\n",
       "      <td>0.000272</td>\n",
       "      <td>0.019633</td>\n",
       "    </tr>\n",
       "    <tr>\n",
       "      <th>137</th>\n",
       "      <td>0.005383</td>\n",
       "      <td>-0.044642</td>\n",
       "      <td>0.049840</td>\n",
       "      <td>0.097615</td>\n",
       "      <td>-0.015328</td>\n",
       "      <td>-0.016345</td>\n",
       "      <td>-0.006584</td>\n",
       "      <td>-0.002592</td>\n",
       "      <td>0.017036</td>\n",
       "      <td>-0.013504</td>\n",
       "    </tr>\n",
       "    <tr>\n",
       "      <th>245</th>\n",
       "      <td>-0.027310</td>\n",
       "      <td>-0.044642</td>\n",
       "      <td>-0.035307</td>\n",
       "      <td>-0.029770</td>\n",
       "      <td>-0.056607</td>\n",
       "      <td>-0.058620</td>\n",
       "      <td>0.030232</td>\n",
       "      <td>-0.039493</td>\n",
       "      <td>-0.049872</td>\n",
       "      <td>-0.129483</td>\n",
       "    </tr>\n",
       "    <tr>\n",
       "      <th>31</th>\n",
       "      <td>-0.023677</td>\n",
       "      <td>-0.044642</td>\n",
       "      <td>-0.065486</td>\n",
       "      <td>-0.081413</td>\n",
       "      <td>-0.038720</td>\n",
       "      <td>-0.053610</td>\n",
       "      <td>0.059685</td>\n",
       "      <td>-0.076395</td>\n",
       "      <td>-0.037129</td>\n",
       "      <td>-0.042499</td>\n",
       "    </tr>\n",
       "    <tr>\n",
       "      <th>...</th>\n",
       "      <td>...</td>\n",
       "      <td>...</td>\n",
       "      <td>...</td>\n",
       "      <td>...</td>\n",
       "      <td>...</td>\n",
       "      <td>...</td>\n",
       "      <td>...</td>\n",
       "      <td>...</td>\n",
       "      <td>...</td>\n",
       "      <td>...</td>\n",
       "    </tr>\n",
       "    <tr>\n",
       "      <th>106</th>\n",
       "      <td>-0.096328</td>\n",
       "      <td>-0.044642</td>\n",
       "      <td>-0.076264</td>\n",
       "      <td>-0.043542</td>\n",
       "      <td>-0.045599</td>\n",
       "      <td>-0.034821</td>\n",
       "      <td>0.008142</td>\n",
       "      <td>-0.039493</td>\n",
       "      <td>-0.059471</td>\n",
       "      <td>-0.083920</td>\n",
       "    </tr>\n",
       "    <tr>\n",
       "      <th>270</th>\n",
       "      <td>0.005383</td>\n",
       "      <td>0.050680</td>\n",
       "      <td>0.030440</td>\n",
       "      <td>0.083844</td>\n",
       "      <td>-0.037344</td>\n",
       "      <td>-0.047347</td>\n",
       "      <td>0.015505</td>\n",
       "      <td>-0.039493</td>\n",
       "      <td>0.008641</td>\n",
       "      <td>0.015491</td>\n",
       "    </tr>\n",
       "    <tr>\n",
       "      <th>348</th>\n",
       "      <td>0.030811</td>\n",
       "      <td>-0.044642</td>\n",
       "      <td>-0.020218</td>\n",
       "      <td>-0.005670</td>\n",
       "      <td>-0.004321</td>\n",
       "      <td>-0.029497</td>\n",
       "      <td>0.078093</td>\n",
       "      <td>-0.039493</td>\n",
       "      <td>-0.010903</td>\n",
       "      <td>-0.001078</td>\n",
       "    </tr>\n",
       "    <tr>\n",
       "      <th>435</th>\n",
       "      <td>-0.012780</td>\n",
       "      <td>-0.044642</td>\n",
       "      <td>-0.023451</td>\n",
       "      <td>-0.040099</td>\n",
       "      <td>-0.016704</td>\n",
       "      <td>0.004636</td>\n",
       "      <td>-0.017629</td>\n",
       "      <td>-0.002592</td>\n",
       "      <td>-0.038460</td>\n",
       "      <td>-0.038357</td>\n",
       "    </tr>\n",
       "    <tr>\n",
       "      <th>102</th>\n",
       "      <td>-0.092695</td>\n",
       "      <td>-0.044642</td>\n",
       "      <td>0.028284</td>\n",
       "      <td>-0.015999</td>\n",
       "      <td>0.036958</td>\n",
       "      <td>0.024991</td>\n",
       "      <td>0.056003</td>\n",
       "      <td>-0.039493</td>\n",
       "      <td>-0.005142</td>\n",
       "      <td>-0.001078</td>\n",
       "    </tr>\n",
       "  </tbody>\n",
       "</table>\n",
       "<p>282 rows × 10 columns</p>\n",
       "</div>"
      ],
      "text/plain": [
       "          age       sex       bmi        bp        s1        s2        s3  \\\n",
       "17   0.070769  0.050680  0.012117  0.056301  0.034206  0.049416 -0.039719   \n",
       "66  -0.009147  0.050680 -0.018062 -0.033213 -0.020832  0.012152 -0.072854   \n",
       "137  0.005383 -0.044642  0.049840  0.097615 -0.015328 -0.016345 -0.006584   \n",
       "245 -0.027310 -0.044642 -0.035307 -0.029770 -0.056607 -0.058620  0.030232   \n",
       "31  -0.023677 -0.044642 -0.065486 -0.081413 -0.038720 -0.053610  0.059685   \n",
       "..        ...       ...       ...       ...       ...       ...       ...   \n",
       "106 -0.096328 -0.044642 -0.076264 -0.043542 -0.045599 -0.034821  0.008142   \n",
       "270  0.005383  0.050680  0.030440  0.083844 -0.037344 -0.047347  0.015505   \n",
       "348  0.030811 -0.044642 -0.020218 -0.005670 -0.004321 -0.029497  0.078093   \n",
       "435 -0.012780 -0.044642 -0.023451 -0.040099 -0.016704  0.004636 -0.017629   \n",
       "102 -0.092695 -0.044642  0.028284 -0.015999  0.036958  0.024991  0.056003   \n",
       "\n",
       "           s4        s5        s6  \n",
       "17   0.034309  0.027364 -0.001078  \n",
       "66   0.071210  0.000272  0.019633  \n",
       "137 -0.002592  0.017036 -0.013504  \n",
       "245 -0.039493 -0.049872 -0.129483  \n",
       "31  -0.076395 -0.037129 -0.042499  \n",
       "..        ...       ...       ...  \n",
       "106 -0.039493 -0.059471 -0.083920  \n",
       "270 -0.039493  0.008641  0.015491  \n",
       "348 -0.039493 -0.010903 -0.001078  \n",
       "435 -0.002592 -0.038460 -0.038357  \n",
       "102 -0.039493 -0.005142 -0.001078  \n",
       "\n",
       "[282 rows x 10 columns]"
      ]
     },
     "execution_count": 88,
     "metadata": {},
     "output_type": "execute_result"
    }
   ],
   "source": [
    "# see data\n",
    "pd.DataFrame(train_data[2])"
   ]
  },
  {
   "cell_type": "markdown",
   "id": "426e3816",
   "metadata": {},
   "source": [
    "### Easy implementation with sklearn"
   ]
  },
  {
   "cell_type": "markdown",
   "id": "e74217f4",
   "metadata": {},
   "source": [
    "Let's implement using `sklearn`. We actually don't need a loop!"
   ]
  },
  {
   "cell_type": "code",
   "execution_count": 49,
   "id": "5fc14670",
   "metadata": {},
   "outputs": [],
   "source": [
    "# split the data\n",
    "from sklearn.model_selection import train_test_split\n",
    "\n",
    "X_train, X_test, y_train, y_test = train_test_split(X, y, test_size=0.2, random_state=42)\n",
    "\n",
    "# create my splits\n",
    "# what the splits are? Index of the data\n",
    "kf = KFold(n_splits=5)\n",
    "\n",
    "# Split the data\n",
    "k_splits = kf.split(X_train)\n"
   ]
  },
  {
   "cell_type": "code",
   "execution_count": 90,
   "id": "6cdad8fe",
   "metadata": {},
   "outputs": [
    {
     "name": "stdout",
     "output_type": "stream",
     "text": [
      "Best Elastic Net parameters: {'alpha': 0.1, 'l1_ratio': 1}\n",
      "Best MSE: 0.45551049830889384\n"
     ]
    },
    {
     "name": "stderr",
     "output_type": "stream",
     "text": [
      "/Users/tb186/anaconda3/lib/python3.11/site-packages/sklearn/linear_model/_coordinate_descent.py:628: ConvergenceWarning: Objective did not converge. You might want to increase the number of iterations, check the scale of the features or consider increasing regularisation. Duality gap: 8.279e+05, tolerance: 1.706e+02 Linear regression models with null weight for the l1 regularization term are more efficiently fitted using one of the solvers implemented in sklearn.linear_model.Ridge/RidgeCV instead.\n",
      "/Users/tb186/anaconda3/lib/python3.11/site-packages/sklearn/linear_model/_coordinate_descent.py:628: ConvergenceWarning: Objective did not converge. You might want to increase the number of iterations, check the scale of the features or consider increasing regularisation. Duality gap: 8.498e+05, tolerance: 1.758e+02 Linear regression models with null weight for the l1 regularization term are more efficiently fitted using one of the solvers implemented in sklearn.linear_model.Ridge/RidgeCV instead.\n",
      "/Users/tb186/anaconda3/lib/python3.11/site-packages/sklearn/linear_model/_coordinate_descent.py:628: ConvergenceWarning: Objective did not converge. You might want to increase the number of iterations, check the scale of the features or consider increasing regularisation. Duality gap: 8.511e+05, tolerance: 1.755e+02 Linear regression models with null weight for the l1 regularization term are more efficiently fitted using one of the solvers implemented in sklearn.linear_model.Ridge/RidgeCV instead.\n",
      "/Users/tb186/anaconda3/lib/python3.11/site-packages/sklearn/linear_model/_coordinate_descent.py:628: ConvergenceWarning: Objective did not converge. You might want to increase the number of iterations, check the scale of the features or consider increasing regularisation. Duality gap: 7.584e+05, tolerance: 1.559e+02 Linear regression models with null weight for the l1 regularization term are more efficiently fitted using one of the solvers implemented in sklearn.linear_model.Ridge/RidgeCV instead.\n",
      "/Users/tb186/anaconda3/lib/python3.11/site-packages/sklearn/linear_model/_coordinate_descent.py:628: ConvergenceWarning: Objective did not converge. You might want to increase the number of iterations, check the scale of the features or consider increasing regularisation. Duality gap: 8.670e+05, tolerance: 1.794e+02 Linear regression models with null weight for the l1 regularization term are more efficiently fitted using one of the solvers implemented in sklearn.linear_model.Ridge/RidgeCV instead.\n",
      "/Users/tb186/anaconda3/lib/python3.11/site-packages/sklearn/linear_model/_coordinate_descent.py:628: ConvergenceWarning: Objective did not converge. You might want to increase the number of iterations, check the scale of the features or consider increasing regularisation. Duality gap: 8.477e+05, tolerance: 1.706e+02 Linear regression models with null weight for the l1 regularization term are more efficiently fitted using one of the solvers implemented in sklearn.linear_model.Ridge/RidgeCV instead.\n",
      "/Users/tb186/anaconda3/lib/python3.11/site-packages/sklearn/linear_model/_coordinate_descent.py:628: ConvergenceWarning: Objective did not converge. You might want to increase the number of iterations, check the scale of the features or consider increasing regularisation. Duality gap: 8.729e+05, tolerance: 1.758e+02 Linear regression models with null weight for the l1 regularization term are more efficiently fitted using one of the solvers implemented in sklearn.linear_model.Ridge/RidgeCV instead.\n",
      "/Users/tb186/anaconda3/lib/python3.11/site-packages/sklearn/linear_model/_coordinate_descent.py:628: ConvergenceWarning: Objective did not converge. You might want to increase the number of iterations, check the scale of the features or consider increasing regularisation. Duality gap: 8.719e+05, tolerance: 1.755e+02 Linear regression models with null weight for the l1 regularization term are more efficiently fitted using one of the solvers implemented in sklearn.linear_model.Ridge/RidgeCV instead.\n",
      "/Users/tb186/anaconda3/lib/python3.11/site-packages/sklearn/linear_model/_coordinate_descent.py:628: ConvergenceWarning: Objective did not converge. You might want to increase the number of iterations, check the scale of the features or consider increasing regularisation. Duality gap: 7.749e+05, tolerance: 1.559e+02 Linear regression models with null weight for the l1 regularization term are more efficiently fitted using one of the solvers implemented in sklearn.linear_model.Ridge/RidgeCV instead.\n",
      "/Users/tb186/anaconda3/lib/python3.11/site-packages/sklearn/linear_model/_coordinate_descent.py:628: ConvergenceWarning: Objective did not converge. You might want to increase the number of iterations, check the scale of the features or consider increasing regularisation. Duality gap: 8.906e+05, tolerance: 1.794e+02 Linear regression models with null weight for the l1 regularization term are more efficiently fitted using one of the solvers implemented in sklearn.linear_model.Ridge/RidgeCV instead.\n",
      "/Users/tb186/anaconda3/lib/python3.11/site-packages/sklearn/linear_model/_coordinate_descent.py:628: ConvergenceWarning: Objective did not converge. You might want to increase the number of iterations, check the scale of the features or consider increasing regularisation. Duality gap: 8.503e+05, tolerance: 1.706e+02 Linear regression models with null weight for the l1 regularization term are more efficiently fitted using one of the solvers implemented in sklearn.linear_model.Ridge/RidgeCV instead.\n",
      "/Users/tb186/anaconda3/lib/python3.11/site-packages/sklearn/linear_model/_coordinate_descent.py:628: ConvergenceWarning: Objective did not converge. You might want to increase the number of iterations, check the scale of the features or consider increasing regularisation. Duality gap: 8.760e+05, tolerance: 1.758e+02 Linear regression models with null weight for the l1 regularization term are more efficiently fitted using one of the solvers implemented in sklearn.linear_model.Ridge/RidgeCV instead.\n",
      "/Users/tb186/anaconda3/lib/python3.11/site-packages/sklearn/linear_model/_coordinate_descent.py:628: ConvergenceWarning: Objective did not converge. You might want to increase the number of iterations, check the scale of the features or consider increasing regularisation. Duality gap: 8.746e+05, tolerance: 1.755e+02 Linear regression models with null weight for the l1 regularization term are more efficiently fitted using one of the solvers implemented in sklearn.linear_model.Ridge/RidgeCV instead.\n",
      "/Users/tb186/anaconda3/lib/python3.11/site-packages/sklearn/linear_model/_coordinate_descent.py:628: ConvergenceWarning: Objective did not converge. You might want to increase the number of iterations, check the scale of the features or consider increasing regularisation. Duality gap: 7.771e+05, tolerance: 1.559e+02 Linear regression models with null weight for the l1 regularization term are more efficiently fitted using one of the solvers implemented in sklearn.linear_model.Ridge/RidgeCV instead.\n",
      "/Users/tb186/anaconda3/lib/python3.11/site-packages/sklearn/linear_model/_coordinate_descent.py:628: ConvergenceWarning: Objective did not converge. You might want to increase the number of iterations, check the scale of the features or consider increasing regularisation. Duality gap: 8.937e+05, tolerance: 1.794e+02 Linear regression models with null weight for the l1 regularization term are more efficiently fitted using one of the solvers implemented in sklearn.linear_model.Ridge/RidgeCV instead.\n",
      "/Users/tb186/anaconda3/lib/python3.11/site-packages/sklearn/linear_model/_coordinate_descent.py:628: ConvergenceWarning: Objective did not converge. You might want to increase the number of iterations, check the scale of the features or consider increasing regularisation. Duality gap: 8.517e+05, tolerance: 1.706e+02 Linear regression models with null weight for the l1 regularization term are more efficiently fitted using one of the solvers implemented in sklearn.linear_model.Ridge/RidgeCV instead.\n",
      "/Users/tb186/anaconda3/lib/python3.11/site-packages/sklearn/linear_model/_coordinate_descent.py:628: ConvergenceWarning: Objective did not converge. You might want to increase the number of iterations, check the scale of the features or consider increasing regularisation. Duality gap: 8.775e+05, tolerance: 1.758e+02 Linear regression models with null weight for the l1 regularization term are more efficiently fitted using one of the solvers implemented in sklearn.linear_model.Ridge/RidgeCV instead.\n",
      "/Users/tb186/anaconda3/lib/python3.11/site-packages/sklearn/linear_model/_coordinate_descent.py:628: ConvergenceWarning: Objective did not converge. You might want to increase the number of iterations, check the scale of the features or consider increasing regularisation. Duality gap: 8.760e+05, tolerance: 1.755e+02 Linear regression models with null weight for the l1 regularization term are more efficiently fitted using one of the solvers implemented in sklearn.linear_model.Ridge/RidgeCV instead.\n",
      "/Users/tb186/anaconda3/lib/python3.11/site-packages/sklearn/linear_model/_coordinate_descent.py:628: ConvergenceWarning: Objective did not converge. You might want to increase the number of iterations, check the scale of the features or consider increasing regularisation. Duality gap: 7.782e+05, tolerance: 1.559e+02 Linear regression models with null weight for the l1 regularization term are more efficiently fitted using one of the solvers implemented in sklearn.linear_model.Ridge/RidgeCV instead.\n",
      "/Users/tb186/anaconda3/lib/python3.11/site-packages/sklearn/linear_model/_coordinate_descent.py:628: ConvergenceWarning: Objective did not converge. You might want to increase the number of iterations, check the scale of the features or consider increasing regularisation. Duality gap: 8.953e+05, tolerance: 1.794e+02 Linear regression models with null weight for the l1 regularization term are more efficiently fitted using one of the solvers implemented in sklearn.linear_model.Ridge/RidgeCV instead.\n",
      "/Users/tb186/anaconda3/lib/python3.11/site-packages/sklearn/linear_model/_coordinate_descent.py:628: ConvergenceWarning: Objective did not converge. You might want to increase the number of iterations, check the scale of the features or consider increasing regularisation. Duality gap: 8.525e+05, tolerance: 1.706e+02 Linear regression models with null weight for the l1 regularization term are more efficiently fitted using one of the solvers implemented in sklearn.linear_model.Ridge/RidgeCV instead.\n",
      "/Users/tb186/anaconda3/lib/python3.11/site-packages/sklearn/linear_model/_coordinate_descent.py:628: ConvergenceWarning: Objective did not converge. You might want to increase the number of iterations, check the scale of the features or consider increasing regularisation. Duality gap: 8.785e+05, tolerance: 1.758e+02 Linear regression models with null weight for the l1 regularization term are more efficiently fitted using one of the solvers implemented in sklearn.linear_model.Ridge/RidgeCV instead.\n",
      "/Users/tb186/anaconda3/lib/python3.11/site-packages/sklearn/linear_model/_coordinate_descent.py:628: ConvergenceWarning: Objective did not converge. You might want to increase the number of iterations, check the scale of the features or consider increasing regularisation. Duality gap: 8.769e+05, tolerance: 1.755e+02 Linear regression models with null weight for the l1 regularization term are more efficiently fitted using one of the solvers implemented in sklearn.linear_model.Ridge/RidgeCV instead.\n",
      "/Users/tb186/anaconda3/lib/python3.11/site-packages/sklearn/linear_model/_coordinate_descent.py:628: ConvergenceWarning: Objective did not converge. You might want to increase the number of iterations, check the scale of the features or consider increasing regularisation. Duality gap: 7.788e+05, tolerance: 1.559e+02 Linear regression models with null weight for the l1 regularization term are more efficiently fitted using one of the solvers implemented in sklearn.linear_model.Ridge/RidgeCV instead.\n",
      "/Users/tb186/anaconda3/lib/python3.11/site-packages/sklearn/linear_model/_coordinate_descent.py:628: ConvergenceWarning: Objective did not converge. You might want to increase the number of iterations, check the scale of the features or consider increasing regularisation. Duality gap: 8.963e+05, tolerance: 1.794e+02 Linear regression models with null weight for the l1 regularization term are more efficiently fitted using one of the solvers implemented in sklearn.linear_model.Ridge/RidgeCV instead.\n"
     ]
    }
   ],
   "source": [
    "from sklearn.linear_model import ElasticNet\n",
    "from sklearn.model_selection import GridSearchCV\n",
    "\n",
    "# Define hyperparameters to tune\n",
    "params = {\n",
    "    'alpha': [0.1, 0.5, 1, 2, 5],\n",
    "    'l1_ratio': [0, 0.25, 0.5, 0.75, 1]\n",
    "}\n",
    "\n",
    "# elastic net\n",
    "elastic_net = ElasticNet()\n",
    "\n",
    "# Grid search with 5-fold cross-validation\n",
    "grid_en = GridSearchCV(elastic_net, params, cv=kf, scoring='r2')\n",
    "grid_en.fit(X_train, y_train)\n",
    "\n",
    "# Best parameters and corresponding MSE\n",
    "print(\"Best Elastic Net parameters:\", grid_en.best_params_)\n",
    "print(\"Best MSE:\", grid_en.best_score_)\n"
   ]
  },
  {
   "cell_type": "code",
   "execution_count": 92,
   "id": "6f8c1ce9",
   "metadata": {},
   "outputs": [
    {
     "name": "stdout",
     "output_type": "stream",
     "text": [
      "Best Decision Tree parameters: {'max_depth': 2, 'min_samples_split': 2}\n",
      "Best MSE: 0.35160918571106714\n"
     ]
    }
   ],
   "source": [
    "from sklearn.tree import DecisionTreeRegressor\n",
    "\n",
    "params = {\n",
    "    'max_depth': [None, 2, 4, 6, 8, 10],\n",
    "    'min_samples_split': [2, 5, 10]\n",
    "}\n",
    "\n",
    "tree = DecisionTreeRegressor()\n",
    "\n",
    "grid_tree = GridSearchCV(tree, params, cv=kf, scoring='r2')\n",
    "grid_tree.fit(X_train, y_train)\n",
    "\n",
    "print(\"Best Decision Tree parameters:\", grid_tree.best_params_)\n",
    "print(\"Best MSE:\", grid_tree.best_score_)\n"
   ]
  },
  {
   "cell_type": "code",
   "execution_count": 91,
   "id": "aa2f0740",
   "metadata": {},
   "outputs": [
    {
     "name": "stdout",
     "output_type": "stream",
     "text": [
      "Best KNN parameters: {'n_neighbors': 9}\n",
      "Best MSE: 0.37833624073149236\n"
     ]
    }
   ],
   "source": [
    "from sklearn.neighbors import KNeighborsRegressor\n",
    "\n",
    "params = {\n",
    "    'n_neighbors': [1, 2, 3, 4, 5, 6, 7, 8, 9, 10]\n",
    "}\n",
    "\n",
    "knn = KNeighborsRegressor()\n",
    "\n",
    "grid_knn = GridSearchCV(knn, params, cv=kf, scoring='r2')\n",
    "grid_knn.fit(X_train, y_train)\n",
    "\n",
    "print(\"Best KNN parameters:\", grid_knn.best_params_)\n",
    "print(\"Best MSE:\", grid_knn.best_score_)\n"
   ]
  },
  {
   "cell_type": "code",
   "execution_count": 93,
   "id": "383cf838",
   "metadata": {},
   "outputs": [],
   "source": [
    "# Select the best model based on cross-validation results\n",
    "best_model = min([grid_en, grid_tree, grid_knn], key=lambda x: -x.best_score_)"
   ]
  },
  {
   "cell_type": "code",
   "execution_count": 95,
   "id": "b7d98c88",
   "metadata": {},
   "outputs": [
    {
     "data": {
      "text/plain": [
       "{'alpha': 0.1, 'l1_ratio': 1}"
      ]
     },
     "execution_count": 95,
     "metadata": {},
     "output_type": "execute_result"
    }
   ],
   "source": [
    "# which model?\n",
    "best_model.best_estimator_\n",
    "\n",
    "# what else\n",
    "best_model.best_params_"
   ]
  },
  {
   "cell_type": "code",
   "execution_count": 55,
   "id": "aa0a9f8c",
   "metadata": {},
   "outputs": [
    {
     "name": "stdout",
     "output_type": "stream",
     "text": [
      "Test set MSE for the best model: 2798.19\n"
     ]
    }
   ],
   "source": [
    "# Predict on the test set\n",
    "y_pred = best_model.predict(X_test)\n",
    "\n",
    "# Calculate the test set MSE\n",
    "mse_test = mean_squared_error(y_test, y_pred)\n",
    "print(f\"Test set MSE for the best model: {mse_test:.2f}\")"
   ]
  },
  {
   "cell_type": "markdown",
   "id": "bf53b421",
   "metadata": {},
   "source": [
    "All of this only touches the top of the iceberg on Machine Learning. If you want to go ahead and learn more before DS II, I would suggest you to: \n",
    "\n",
    "- Read [Introduction to Statistical Learning in Python](https://www.statlearning.com/)\n",
    "\n",
    "- Work through the [tutorials on sklearn webpage](https://scikit-learn.org/stable/index.html)"
   ]
  },
  {
   "cell_type": "markdown",
   "id": "178739c3",
   "metadata": {},
   "source": [
    "### Practice\n",
    "\n",
    "In groups, read the sklearn documentation or check the slide with models I show you in class. \n",
    "\n",
    "Pick a additional model from the sklearn. Compare this model with the three models I show you in this notebook \n",
    "\n",
    "Feel free to copy and paste the code above, and add your new model and compare the results. "
   ]
  },
  {
   "cell_type": "code",
   "execution_count": null,
   "id": "2d3ef1da",
   "metadata": {},
   "outputs": [],
   "source": [
    "## add your code"
   ]
  },
  {
   "cell_type": "code",
   "execution_count": 98,
   "id": "b23740a1",
   "metadata": {},
   "outputs": [
    {
     "name": "stdout",
     "output_type": "stream",
     "text": [
      "[NbConvertApp] Converting notebook _week-9-models.ipynb to html\n",
      "[NbConvertApp] Writing 436849 bytes to _week-9-models.html\n"
     ]
    }
   ],
   "source": [
    "!jupyter nbconvert _week-9-models.ipynb --to html --template classic\n"
   ]
  }
 ],
 "metadata": {
  "kernelspec": {
   "display_name": "Python 3 (ipykernel)",
   "language": "python",
   "name": "python3"
  },
  "language_info": {
   "codemirror_mode": {
    "name": "ipython",
    "version": 3
   },
   "file_extension": ".py",
   "mimetype": "text/x-python",
   "name": "python",
   "nbconvert_exporter": "python",
   "pygments_lexer": "ipython3",
   "version": "3.11.4"
  }
 },
 "nbformat": 4,
 "nbformat_minor": 5
}
