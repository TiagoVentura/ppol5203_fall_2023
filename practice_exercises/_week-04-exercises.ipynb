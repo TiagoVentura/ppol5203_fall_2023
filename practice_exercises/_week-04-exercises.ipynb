{
 "cells": [
  {
   "cell_type": "markdown",
   "id": "40babd62",
   "metadata": {},
   "source": [
    "<h1><center> PPOL 5203 Data Science I: Foundations <br><br> \n",
    "<font color='grey'>Week 4: Practice Exercise<br><br>\n",
    "Tiago Ventura</center></center> <h1> \n"
   ]
  },
  {
   "cell_type": "markdown",
   "id": "a2878ca7",
   "metadata": {},
   "source": [
    "# Practice Question\n",
    "\n",
    "This notebook contains a set of questions for you to practice the topics covered on week 4.  We will see a bit of \n",
    "    \n",
    "- List comprehension\n",
    "- Generators\n",
    "- Numpy\n",
    "\n",
    "This notebook borrows a lot from the Problem Set 1 from 2022 PPOL 564, taught by Professor Rebecca Jonhson."
   ]
  },
  {
   "cell_type": "code",
   "execution_count": 2,
   "id": "b34b8c5d",
   "metadata": {},
   "outputs": [],
   "source": [
    "# imports\n",
    "import numpy as np"
   ]
  }
 ],
 "metadata": {
  "kernelspec": {
   "display_name": "Python 3 (ipykernel)",
   "language": "python",
   "name": "python3"
  },
  "language_info": {
   "codemirror_mode": {
    "name": "ipython",
    "version": 3
   },
   "file_extension": ".py",
   "mimetype": "text/x-python",
   "name": "python",
   "nbconvert_exporter": "python",
   "pygments_lexer": "ipython3",
   "version": "3.8.16"
  }
 },
 "nbformat": 4,
 "nbformat_minor": 5
}
