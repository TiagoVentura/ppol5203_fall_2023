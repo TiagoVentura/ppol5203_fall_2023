{
 "cells": [
  {
   "cell_type": "markdown",
   "id": "40babd62",
   "metadata": {},
   "source": [
    "<h1><center> PPOL 5203 Data Science I: Foundations <br><br> \n",
    "<font color='grey'>Week 4: Practice Exercise<br><br>\n",
    "Tiago Ventura</center></center> <h1> \n"
   ]
  },
  {
   "cell_type": "markdown",
   "id": "a2878ca7",
   "metadata": {},
   "source": [
    "# Practice Question\n",
    "\n",
    "This notebook contains a set of questions for you to practice the topics covered on week 4.  We will see a bit of \n",
    "    \n",
    "- List comprehension\n",
    "- Generators\n",
    "- Numpy\n",
    "\n",
    "This notebook borrows a lot from the Problem Set 1 from 2022 PPOL 564, taught by Professor Rebecca Jonhson."
   ]
  },
  {
   "cell_type": "code",
   "execution_count": 2,
   "id": "b34b8c5d",
   "metadata": {},
   "outputs": [],
   "source": [
    "# imports\n",
    "import numpy as np"
   ]
  },
  {
   "cell_type": "markdown",
   "id": "def6e75c",
   "metadata": {},
   "source": [
    "# 1. Practice with numpy arrays "
   ]
  },
  {
   "cell_type": "markdown",
   "id": "c2f354eb",
   "metadata": {},
   "source": [
    "## 1.1 Converting a list to an array\n",
    "\n",
    "We provide you with a list names roles_list_of_lists\n",
    "\n",
    "- A. Transform the roles_listoflists from the previous part (so with TA replaced with teaching assistant)into a 2D numpy array; call it roles_array\n",
    "- B. Print the shape/dimensions of `roles_array`"
   ]
  },
  {
   "cell_type": "code",
   "execution_count": 17,
   "id": "162ff7cb",
   "metadata": {},
   "outputs": [],
   "source": [
    "## your code here\n",
    "roles_list_of_lists = [[\"Tiago\", \"Ventura\", \"Professor\"], \n",
    "                      [\"Jiaqin\", \"Wu\", \"Teaching Assistant\"]]\n",
    "\n",
    "# A\n",
    "roles_array=np.array(roles_list_of_lists)\n"
   ]
  },
  {
   "cell_type": "markdown",
   "id": "b6385ddf",
   "metadata": {},
   "source": [
    "## 1.2 Subsetting arrays using True/False (boolean) indicators (2 points)\n",
    "\n",
    "- A. Create a boolean indicator for rows where the role (third column) == 'Teaching Assistant' and print that indicator\n",
    "- B. Use that boolean indicator to subset roles_array store the array as roles_TA \n",
    "- C. Print the `roles_TA` array and its dimensions (should be 2x2)"
   ]
  },
  {
   "cell_type": "code",
   "execution_count": 32,
   "id": "6e86d923",
   "metadata": {},
   "outputs": [
    {
     "data": {
      "text/plain": [
       "array([False,  True])"
      ]
     },
     "execution_count": 32,
     "metadata": {},
     "output_type": "execute_result"
    }
   ],
   "source": [
    "## your code here\n",
    "roles_array[:,2]==\"Teaching Assistant\"\n"
   ]
  },
  {
   "cell_type": "code",
   "execution_count": 34,
   "id": "c6fcb456",
   "metadata": {
    "scrolled": true
   },
   "outputs": [],
   "source": [
    "## your code here\n",
    "roles_TA= roles_array[roles_array[:, 2]==\"Teaching Assistant\"]"
   ]
  },
  {
   "cell_type": "code",
   "execution_count": 35,
   "id": "bac3727b",
   "metadata": {},
   "outputs": [
    {
     "data": {
      "text/plain": [
       "(1, 3)"
      ]
     },
     "execution_count": 35,
     "metadata": {},
     "output_type": "execute_result"
    }
   ],
   "source": [
    "## your code here \n",
    "roles_TA.shape"
   ]
  },
  {
   "cell_type": "markdown",
   "id": "6081c5c6",
   "metadata": {},
   "source": [
    "## 1.3 Adding to an array (2 points)\n",
    "\n",
    "- A. Use np.append (google the documentation) to  add the following column with the netids of the two TA to the roles_TA array as the last column \n",
    "- B. Store as role_TA_net\n",
    "- C. Print the dimensions (should be 2x3)"
   ]
  },
  {
   "cell_type": "code",
   "execution_count": 37,
   "id": "18e1d2ea",
   "metadata": {},
   "outputs": [
    {
     "name": "stdout",
     "output_type": "stream",
     "text": [
      "[['yl1374']]\n"
     ]
    }
   ],
   "source": [
    "## column to add \n",
    "netids = np.array([['yl1374']])\n",
    "print(netids)"
   ]
  },
  {
   "cell_type": "code",
   "execution_count": 39,
   "id": "aa47a666",
   "metadata": {},
   "outputs": [
    {
     "data": {
      "text/plain": [
       "array(['Jiaqin', 'Wu', 'Teaching Assistant', 'yl1374'], dtype='<U18')"
      ]
     },
     "execution_count": 39,
     "metadata": {},
     "output_type": "execute_result"
    }
   ],
   "source": [
    "## your code here\n",
    "np.append(roles_TA, netids)"
   ]
  },
  {
   "cell_type": "code",
   "execution_count": 40,
   "id": "adeb5b15",
   "metadata": {},
   "outputs": [
    {
     "data": {
      "text/plain": [
       "(4,)"
      ]
     },
     "execution_count": 40,
     "metadata": {},
     "output_type": "execute_result"
    }
   ],
   "source": [
    "## your code here\n",
    "np.append(roles_TA, netids).shape"
   ]
  },
  {
   "cell_type": "markdown",
   "id": "e62422ed",
   "metadata": {},
   "source": [
    "### 1.4 Numpy Mathemathics. \n",
    "\n",
    "The 2-d array below gives you data with the number of goals scored by a country in six editions of the Fifa Soccer World Cup.\n",
    "\n",
    "Here is the data as a nested list"
   ]
  },
  {
   "cell_type": "code",
   "execution_count": 8,
   "id": "79d2a9f8",
   "metadata": {},
   "outputs": [],
   "source": [
    "# rows and columns\n",
    "rows = [\"Argentina\", \"Brazil\", \"Germany\", \"Spain\", \"France\", \"Japan\", \"Uruguay\"]\n",
    "cols = [\"1990\", \"1994\", \"1998\", \"2002\", \"2006\", \"2010\", \"2014\"]\n",
    "\n",
    "# matrix of goals\n",
    "goals= [[8,10, 2, 11, 10, 10], \n",
    "         [11, 14, 18, 10, 9, 15], \n",
    "         [9, 8, 14 , 14, 16, 29],\n",
    "         [10, 8, 10, 9, 8, 4],  \n",
    "         [0, 15, 0, 9, 1, 12],\n",
    "         [0, 1, 5, 2, 4, 2],\n",
    "         [0, 0, 4, 0, 11, 4]]       \n"
   ]
  },
  {
   "cell_type": "markdown",
   "id": "dab64270",
   "metadata": {},
   "source": [
    "Using only numpy functions (don't try to convert to a panda dataframe), give me the following: \n",
    "\n",
    "- A) How many goals each country scored summing across all the world cup editions?\n",
    "- B) How many goals were scored in each edition summing across all the countries?\n",
    "- C) Which country scored more goals?\n",
    "- d) Which world cup edition had more goals?"
   ]
  },
  {
   "cell_type": "code",
   "execution_count": 62,
   "id": "0e524e7d",
   "metadata": {},
   "outputs": [
    {
     "data": {
      "text/plain": [
       "'2010'"
      ]
     },
     "execution_count": 62,
     "metadata": {},
     "output_type": "execute_result"
    }
   ],
   "source": [
    "import numpy as np\n",
    "\n",
    "# A\n",
    "total_goals_by_country = np.array(goals).sum(axis=1, keepdims=True)\n",
    "\n",
    "# B\n",
    "total_goals_by_wc = np.array(goals).sum(axis=0, keepdims=True)\n",
    "\n",
    "# C\n",
    "rows[np.argmax(total_goals_by_country)]\n",
    "# or\n",
    "concatenated_array = np.concatenate((np.array(rows).reshape(-1, 1), total_goals_by_country.reshape(-1, 1)), axis=1)\n",
    "concatenated_array[concatenated_array[:, 1].argsort()]\n",
    "\n",
    "# D) \n",
    "cols[np.argmax(total_goals_by_)]\n"
   ]
  },
  {
   "cell_type": "markdown",
   "id": "226ba672",
   "metadata": {},
   "source": [
    "# 2. Practice with iteration/list comprehension\n",
    "\n",
    "Here, we provide you with a list containing the course codes for different McCourt/Georgetown"
   ]
  },
  {
   "cell_type": "code",
   "execution_count": 65,
   "id": "a9fbc97f",
   "metadata": {},
   "outputs": [],
   "source": [
    "## course code list \n",
    "course_codes = [\"PPOL 506\", \"PPOL 560\", \"PPOL 564\", \"SOCI 393\"]"
   ]
  },
  {
   "cell_type": "markdown",
   "id": "55cd1366",
   "metadata": {},
   "source": [
    "## 2.1 Using list comprehension to keep all elements / transform them (3 points)\n",
    "\n",
    "- A. Create a new list---course_codes_ns-- that removes the spaces in each course code--- eg PPOL 506 should become PPOL506\n",
    "- B. Print `course_codes_ns`"
   ]
  },
  {
   "cell_type": "code",
   "execution_count": 66,
   "id": "a45bd6c1",
   "metadata": {},
   "outputs": [
    {
     "data": {
      "text/plain": [
       "['PPOL506', 'PPOL560', 'PPOL564', 'SOCI393']"
      ]
     },
     "execution_count": 66,
     "metadata": {},
     "output_type": "execute_result"
    }
   ],
   "source": [
    "## your code here\n",
    "course_codes_ns = [course.replace(\" \", \"\") for course in course_codes]\n",
    "course_codes_ns"
   ]
  },
  {
   "cell_type": "markdown",
   "id": "e52a75ce",
   "metadata": {},
   "source": [
    "## 2.2 Using list comprehension to subset a list (3 points)\n",
    "\n",
    "- A. using course_codes_ns, create a new list just with courses with ppol in the name; store it as `course_codes_ppol`"
   ]
  },
  {
   "cell_type": "code",
   "execution_count": 67,
   "id": "3e1585ed",
   "metadata": {},
   "outputs": [
    {
     "data": {
      "text/plain": [
       "['PPOL506', 'PPOL560', 'PPOL564']"
      ]
     },
     "execution_count": 67,
     "metadata": {},
     "output_type": "execute_result"
    }
   ],
   "source": [
    "## your code here\n",
    "[c for c in course_codes_ns if \"PPOL\" in c]"
   ]
  },
  {
   "cell_type": "markdown",
   "id": "72e35af8",
   "metadata": {},
   "source": [
    "## 2.3 Dictionary Comprehension \n",
    "\n",
    "- A. Create a second list with the grades you which to have in each of these courses\n",
    "- B. Use a dictionary Comprehension to create a dictionary with keys for the course number, and values for your grade\n",
    "- C. Convert the dictionary to a pandas dataframe"
   ]
  },
  {
   "cell_type": "code",
   "execution_count": 68,
   "id": "7d57b8c0",
   "metadata": {},
   "outputs": [
    {
     "name": "stdout",
     "output_type": "stream",
     "text": [
      "{'PPOL 506': 'A+', 'PPOL 560': 'A+', 'PPOL 564': 'A', 'SOCI 393': 'C'}\n"
     ]
    }
   ],
   "source": [
    "## your code here\n",
    "list_grades = [\"A+\", \"A+\", \"A\", \"C\"]\n",
    "\n",
    "## A\n",
    "dict_me = {key:value for key, value in zip(course_codes, list_grades)}\n",
    "print(dict_me)\n",
    "\n",
    "## B\n",
    "import pandas as pd\n",
    "d = pd.DataFrame([dict_me])"
   ]
  },
  {
   "cell_type": "markdown",
   "id": "f1f582f2",
   "metadata": {},
   "source": [
    "## 3 - Generators\n",
    "\n",
    "In class, I argued that generators are extremely memory-efficient tool to build repeated tasks in Python. This happens because a generator is a special kind of function that leverages lazy evaluation, and do not store their contents in memory as you would expect a typical iterable to do. Instead, it only computes the element on demand. \n",
    "\n",
    "Being suspicious of non-evidence based claim as a data scientist needs to be, you decided to write code to verify this assumption. \n",
    "\n",
    "So prove to me with your code that iterating over `range(N)` is indeed more efficient in memory aspects than iterating of a `list(N)` object of the same size. \n",
    "\n",
    "<div class=\"alert alert-block alert-info\"> \n",
    "    \n",
    "**Tip:** you can use the function `sys.getsizeof()` from the module `sys` to calcule the size of a object in Python\n",
    "\n",
    "</div>"
   ]
  },
  {
   "cell_type": "code",
   "execution_count": 7,
   "id": "43df4b53",
   "metadata": {},
   "outputs": [
    {
     "name": "stdout",
     "output_type": "stream",
     "text": [
      "48\n",
      "8448728\n"
     ]
    }
   ],
   "source": [
    "# simple solution\n",
    "print(sys.getsizeof(range(10**6)))\n",
    "print(sys.getsizeof([i for i in range(10**6)]))\n"
   ]
  },
  {
   "cell_type": "code",
   "execution_count": 3,
   "id": "a2ef8a4e",
   "metadata": {},
   "outputs": [
    {
     "data": {
      "image/png": "[encoded data removed]",
      "text/plain": [
       "<Figure size 1200x800 with 1 Axes>"
      ]
     },
     "metadata": {},
     "output_type": "display_data"
    }
   ],
   "source": [
    "## Full solution\n",
    "import sys\n",
    "import matplotlib.pyplot as plt\n",
    "\n",
    "N_values = range(10, 100001, 5000)\n",
    "\n",
    "list_memory_values = [sys.getsizeof([i for i in range(N)]) for N in N_values]\n",
    "generator_memory_values = [sys.getsizeof(range(N)) for N in N_values]\n",
    "\n",
    "# Create a plot\n",
    "plt.figure(figsize=(12, 8))\n",
    "plt.plot(N_values, list_memory_values, label='List')\n",
    "plt.plot(N_values, generator_memory_values, label='Generator')\n",
    "plt.ylabel('Memory Consumption (bytes)')\n",
    "plt.xlabel('N')\n",
    "plt.title('Memory Consumption: List vs Generator')\n",
    "plt.legend()\n",
    "plt.show()"
   ]
  },
  {
   "cell_type": "markdown",
   "id": "f937ce1e",
   "metadata": {},
   "source": [
    "### 4 - Creating Pandas Dataframes\n",
    "\n",
    "Now, similar to the problem above, assume you have a spreadsheet with the following information: \n",
    "\n",
    " Students | Grades_PPOL101 | Grades_PPOL202 |\n",
    "|----------|----------------|----------------|\n",
    "| Alice    | 85            | 82            |\n",
    "| Bob      | 90            | 87            |\n",
    "| Charlie  | 78            | 80            |\n",
    "| David    | 92            | 94            |\n",
    "| Eve      | 88            | 89            |\n",
    "\n",
    "Show me how to create this spreadsheet using: \n",
    "\n",
    "- A row-wise approach \n",
    "- A column-wise Approach\n",
    "\n"
   ]
  },
  {
   "cell_type": "code",
   "execution_count": 74,
   "id": "0f8486f2",
   "metadata": {},
   "outputs": [
    {
     "name": "stdout",
     "output_type": "stream",
     "text": [
      "  students  PPOL101  PPOL202\n",
      "0    Alice       85       82\n",
      "1      Bob       90       87\n",
      "2  Charlie       78       80\n",
      "3    David       92       94\n",
      "4      Eve       88       89\n",
      "  students  PPOL1010  PPOL202\n",
      "0    Alice        85       82\n",
      "1      Bob        90       87\n",
      "2  Charlie        78       80\n",
      "3    David        92       94\n",
      "4      Eve        88       89\n",
      "  students  PPOL101  PPOL202\n",
      "0    Alice       85       82\n",
      "1      Bob       90       87\n",
      "2  Charlie       78       80\n",
      "3    David       92       94\n",
      "4      Eve       88       89\n",
      "  students  PPOL101  PPOL202\n",
      "0    Alice       85       82\n",
      "1      Bob       90       87\n",
      "2  Charlie       78       80\n",
      "3    David       92       94\n",
      "4      Eve       88       89\n"
     ]
    }
   ],
   "source": [
    "# Column-wise: dictionary of lists\n",
    "students = [\"Alice\", \"Bob\", \"Charlie\", \"David\", \"Eve\"]\n",
    "Grades_PPOL101 = [85, 90, 78, 92, 88]\n",
    "Grades_PPOL202 = [82, 87, 80, 94, 89]\n",
    "\n",
    "# dictionary of lists\n",
    "dict_students = {\"students\":students, \n",
    "                 \"PPOL101\":Grades_PPOL101, \n",
    "                 \"PPOL202\":Grades_PPOL202}\n",
    "d_col = pd.DataFrame(dict_students)\n",
    "print(d_col)\n",
    "\n",
    "# row-wise\n",
    "\n",
    "# list of dictionary\n",
    "list_dict = list()\n",
    "for s, g101, g202 in zip(students, Grades_PPOL101, Grades_PPOL202):\n",
    "    # create a temporary dict\n",
    "    dict_ = {\"students\":s, \n",
    "            \"PPOL1010\":g101, \n",
    "            \"PPOL202\":g202}\n",
    "    # append to the list\n",
    "    list_dict.append(dict_)\n",
    "\n",
    "# create row    \n",
    "d_row =pd.DataFrame(list_dict)  \n",
    "print(d_row)\n",
    "\n",
    "# with a list comprehension\n",
    "list_dict = [{\"students\": s, \"PPOL101\": g101, \"PPOL202\": g202} \n",
    "             for s, g101, g202 in zip(students, Grades_PPOL101, Grades_PPOL202)]\n",
    "d_row = pd.DataFrame(list_dict)\n",
    "print(d_row)\n",
    "\n",
    "# Using list of lists\n",
    "data_list = [[s, g101, g202] for s, g101, g202 in zip(students, Grades_PPOL101, Grades_PPOL202)]\n",
    "columns = [\"students\", \"PPOL101\", \"PPOL202\"]\n",
    "\n",
    "d_row_alternative = pd.DataFrame(data_list, columns=columns)\n",
    "print(d_row_alternative)"
   ]
  },
  {
   "cell_type": "code",
   "execution_count": null,
   "id": "57babe05",
   "metadata": {},
   "outputs": [],
   "source": []
  }
 ],
 "metadata": {
  "kernelspec": {
   "display_name": "Python 3 (ipykernel)",
   "language": "python",
   "name": "python3"
  },
  "language_info": {
   "codemirror_mode": {
    "name": "ipython",
    "version": 3
   },
   "file_extension": ".py",
   "mimetype": "text/x-python",
   "name": "python",
   "nbconvert_exporter": "python",
   "pygments_lexer": "ipython3",
   "version": "3.8.16"
  }
 },
 "nbformat": 4,
 "nbformat_minor": 5
}
