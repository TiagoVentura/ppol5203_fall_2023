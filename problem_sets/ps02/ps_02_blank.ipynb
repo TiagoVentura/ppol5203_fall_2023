{
 "cells": [
  {
   "cell_type": "markdown",
   "id": "40babd62",
   "metadata": {},
   "source": [
    "<h1><center> PPOL 5203 Data Science I: Foundations <br><br> \n",
    "<font color='grey'>Problem Sets II<br><br>\n",
    "Tiago Ventura</center></center> <h1> \n"
   ]
  },
  {
   "cell_type": "markdown",
   "id": "a2878ca7",
   "metadata": {},
   "source": [
    "# Introduction to Pset 02\n",
    "\n",
    "This problem set will focus on: \n",
    "\n",
    "\n",
    "- Writing functions    \n",
    "- List comprehension\n",
    "- Generators\n",
    "- Numpy\n",
    "- Intro to pandas\n"
   ]
  },
  {
   "cell_type": "markdown",
   "id": "5aac1c6d",
   "metadata": {},
   "source": [
    "# 1. Writing functions (10 pts)\n",
    "\n",
    "\n",
    "Using the following data, write a function called  mutate() that takes the nested list data and a new list input and returns a new nested list with combining the input list to the nested list. Notice, your single function must support concatenating the nested list with the input list by row or by columne.  \n",
    "\n",
    "Important points:\n",
    "\n",
    "- You should use an argument called axis to indicate the row-wise or column-wise option.\n",
    "\n",
    "- Make sure the function can deal with inputs of different size. \n",
    "\n",
    "- Make sure you include a docstring with your function"
   ]
  },
  {
   "cell_type": "code",
   "execution_count": 21,
   "id": "70bc0af9",
   "metadata": {},
   "outputs": [],
   "source": [
    "# input data\n",
    "data = [\n",
    "  [\"Var1\",\"Var2\",\"Var3\"],\n",
    "  [1,\"Apples\",True],\n",
    "  [4,\"Horses\",None],\n",
    "  [-1,\"Small Birds\",False],\n",
    "]"
   ]
  },
  {
   "cell_type": "code",
   "execution_count": 18,
   "id": "0d2b9379",
   "metadata": {},
   "outputs": [],
   "source": [
    "## Add your response here"
   ]
  },
  {
   "cell_type": "markdown",
   "id": "def6e75c",
   "metadata": {},
   "source": [
    "# 2. Practice with numpy arrays (20pts)"
   ]
  },
  {
   "cell_type": "markdown",
   "id": "c2f354eb",
   "metadata": {},
   "source": [
    "## 2.1 Converting a list to an array\n",
    "\n",
    "We provide you with a list names roles_list_of_lists\n",
    "\n",
    "- A. Transform the roles_list_of_lists into a 2D numpy array; call it roles_array\n",
    "- B. Print the shape/dimensions of `roles_array`"
   ]
  },
  {
   "cell_type": "code",
   "execution_count": 23,
   "id": "162ff7cb",
   "metadata": {},
   "outputs": [],
   "source": [
    "## your code here\n",
    "roles_list_of_lists = [[\"Tiago\", \"Ventura\", \"Professor\"], \n",
    "                      [\"Jiaqin\", \"Wu\", \"Teaching Assistant\"]]\n",
    "\n",
    "# response\n"
   ]
  },
  {
   "cell_type": "markdown",
   "id": "b6385ddf",
   "metadata": {},
   "source": [
    "## 2.2 Subsetting arrays using True/False (boolean) indicators (2 points)\n",
    "\n",
    "- A. Create a boolean indicator for rows where the role (third column) == 'Teaching Assistant' and print that indicator\n",
    "- B. Use that boolean indicator to subset roles_array store the array as roles_TA \n",
    "- C. Print the `roles_TA` array and its dimensions (should be 2x2)"
   ]
  },
  {
   "cell_type": "code",
   "execution_count": 24,
   "id": "6e86d923",
   "metadata": {},
   "outputs": [],
   "source": [
    "## your code here\n"
   ]
  },
  {
   "cell_type": "code",
   "execution_count": 34,
   "id": "c6fcb456",
   "metadata": {
    "scrolled": true
   },
   "outputs": [],
   "source": [
    "## your code here\n"
   ]
  },
  {
   "cell_type": "code",
   "execution_count": 25,
   "id": "bac3727b",
   "metadata": {},
   "outputs": [],
   "source": [
    "## your code here \n"
   ]
  },
  {
   "cell_type": "markdown",
   "id": "6081c5c6",
   "metadata": {},
   "source": [
    "## 2.3 Adding to an array (2 points)\n",
    "\n",
    "- A. Use np.append (google the documentation) to  add the following column with the netids of the two TA to the roles_TA array as the last column \n",
    "- B. Store as role_TA_net\n",
    "- C. Print the dimensions (should be 2x3)"
   ]
  },
  {
   "cell_type": "code",
   "execution_count": 37,
   "id": "18e1d2ea",
   "metadata": {},
   "outputs": [
    {
     "name": "stdout",
     "output_type": "stream",
     "text": [
      "[['yl1374']]\n"
     ]
    }
   ],
   "source": [
    "## column to add \n",
    "netids = np.array([['yl1374']])\n",
    "print(netids)"
   ]
  },
  {
   "cell_type": "code",
   "execution_count": 26,
   "id": "aa47a666",
   "metadata": {},
   "outputs": [],
   "source": [
    "## your code here\n"
   ]
  },
  {
   "cell_type": "code",
   "execution_count": 40,
   "id": "adeb5b15",
   "metadata": {},
   "outputs": [
    {
     "data": {
      "text/plain": [
       "(4,)"
      ]
     },
     "execution_count": 40,
     "metadata": {},
     "output_type": "execute_result"
    }
   ],
   "source": [
    "## your code here\n"
   ]
  },
  {
   "cell_type": "markdown",
   "id": "e62422ed",
   "metadata": {},
   "source": [
    "### 2.4 Numpy Mathemathics. \n",
    "\n",
    "The 2-d array below gives you data with the number of goals scored by a country in six editions of the Fifa Soccer World Cup.\n",
    "\n",
    "Here is the data as a nested list"
   ]
  },
  {
   "cell_type": "code",
   "execution_count": 8,
   "id": "79d2a9f8",
   "metadata": {},
   "outputs": [],
   "source": [
    "# rows and columns\n",
    "rows = [\"Argentina\", \"Brazil\", \"Germany\", \"Spain\", \"France\", \"Japan\", \"Uruguay\"]\n",
    "cols = [\"1990\", \"1994\", \"1998\", \"2002\", \"2006\", \"2010\", \"2014\"]\n",
    "\n",
    "# matrix of goals\n",
    "goals= [[8,10, 2, 11, 10, 10], \n",
    "         [11, 14, 18, 10, 9, 15], \n",
    "         [9, 8, 14 , 14, 16, 29],\n",
    "         [10, 8, 10, 9, 8, 4],  \n",
    "         [0, 15, 0, 9, 1, 12],\n",
    "         [0, 1, 5, 2, 4, 2],\n",
    "         [0, 0, 4, 0, 11, 4]]       \n"
   ]
  },
  {
   "cell_type": "markdown",
   "id": "dab64270",
   "metadata": {},
   "source": [
    "Using only numpy functions (don't try to convert to a panda dataframe), give me the following: \n",
    "\n",
    "- A) How many goals each country scored summing across all the world cup editions?\n",
    "- B) How many goals were scored in each edition summing across all the countries?\n",
    "- C) Which country scored more goals?\n",
    "- d) Which world cup edition had more goals?"
   ]
  },
  {
   "cell_type": "code",
   "execution_count": 62,
   "id": "0e524e7d",
   "metadata": {},
   "outputs": [
    {
     "data": {
      "text/plain": [
       "'2010'"
      ]
     },
     "execution_count": 62,
     "metadata": {},
     "output_type": "execute_result"
    }
   ],
   "source": [
    "# your code here\n"
   ]
  },
  {
   "cell_type": "markdown",
   "id": "226ba672",
   "metadata": {},
   "source": [
    "# 3. Practice with iteration/list comprehension (20pts)\n",
    "\n",
    "Here, we provide you with a list containing the course codes for different McCourt/Georgetown"
   ]
  },
  {
   "cell_type": "code",
   "execution_count": 65,
   "id": "a9fbc97f",
   "metadata": {},
   "outputs": [],
   "source": [
    "## course code list \n",
    "course_codes = [\"PPOL 506\", \"PPOL 560\", \"PPOL 564\", \"SOCI 393\"]"
   ]
  },
  {
   "cell_type": "markdown",
   "id": "55cd1366",
   "metadata": {},
   "source": [
    "## 3.1 Using list comprehension to keep all elements / transform them (3 points)\n",
    "\n",
    "- A. Create a new list---course_codes_ns-- that removes the spaces in each course code--- eg PPOL 506 should become PPOL506\n",
    "- B. Print `course_codes_ns`"
   ]
  },
  {
   "cell_type": "code",
   "execution_count": 66,
   "id": "a45bd6c1",
   "metadata": {},
   "outputs": [
    {
     "data": {
      "text/plain": [
       "['PPOL506', 'PPOL560', 'PPOL564', 'SOCI393']"
      ]
     },
     "execution_count": 66,
     "metadata": {},
     "output_type": "execute_result"
    }
   ],
   "source": [
    "## your code here\n"
   ]
  },
  {
   "cell_type": "markdown",
   "id": "e52a75ce",
   "metadata": {},
   "source": [
    "## 3.2 Using list comprehension to subset a list (3 points)\n",
    "\n",
    "- A. using course_codes_ns, create a new list just with courses with ppol in the name; store it as `course_codes_ppol`"
   ]
  },
  {
   "cell_type": "code",
   "execution_count": 67,
   "id": "3e1585ed",
   "metadata": {},
   "outputs": [
    {
     "data": {
      "text/plain": [
       "['PPOL506', 'PPOL560', 'PPOL564']"
      ]
     },
     "execution_count": 67,
     "metadata": {},
     "output_type": "execute_result"
    }
   ],
   "source": [
    "## your code here\n"
   ]
  },
  {
   "cell_type": "markdown",
   "id": "72e35af8",
   "metadata": {},
   "source": [
    "## 3.3 Dictionary Comprehension \n",
    "\n",
    "- A. Create a second list with the grades you which to have in each of these courses\n",
    "- B. Use a dictionary Comprehension to create a dictionary with keys for the course number, and values for your grade\n",
    "- C. Convert the dictionary to a pandas dataframe"
   ]
  },
  {
   "cell_type": "code",
   "execution_count": 68,
   "id": "7d57b8c0",
   "metadata": {},
   "outputs": [
    {
     "name": "stdout",
     "output_type": "stream",
     "text": [
      "{'PPOL 506': 'A+', 'PPOL 560': 'A+', 'PPOL 564': 'A', 'SOCI 393': 'C'}\n"
     ]
    }
   ],
   "source": [
    "## your code here\n"
   ]
  },
  {
   "cell_type": "markdown",
   "id": "f1f582f2",
   "metadata": {},
   "source": [
    "## 4 - Generators (30pts)\n",
    "\n",
    "In class, I argued that generators are extremely memory-efficient tool to build repeated tasks in Python. This happens because a generator is a special kind of function that leverages lazy evaluation, and do not store their contents in memory as you would expect a typical iterable to do. Instead, it only computes the element on demand. \n",
    "\n",
    "Being suspicious of non-evidence based claim as a data scientist needs to be, you decided to write code to verify this assumption. \n",
    "\n",
    "So prove to me with your code that iterating over `range(N)` is indeed more efficient in memory aspects than iterating of a `list(N)` object of the same size. \n",
    "\n",
    "<div class=\"alert alert-block alert-info\"> \n",
    "    \n",
    "**Tip:** you can use the function `sys.getsizeof()` from the module `sys` to calcule the size of a object in Python\n",
    "\n",
    "</div>"
   ]
  },
  {
   "cell_type": "code",
   "execution_count": null,
   "id": "a2ef8a4e",
   "metadata": {},
   "outputs": [],
   "source": []
  },
  {
   "cell_type": "markdown",
   "id": "f937ce1e",
   "metadata": {},
   "source": [
    "# 5 - Creating Pandas Dataframes (20 points)\n",
    "\n",
    "Now, similar to the problem above, assume you have a spreadsheet with the following information: \n",
    "\n",
    " Students | Grades_PPOL101 | Grades_PPOL202 |\n",
    "|----------|----------------|----------------|\n",
    "| Alice    | 85            | 82            |\n",
    "| Bob      | 90            | 87            |\n",
    "| Charlie  | 78            | 80            |\n",
    "| David    | 92            | 94            |\n",
    "| Eve      | 88            | 89            |\n",
    "\n",
    "Show me how to create this spreadsheet using: \n",
    "\n",
    "- A row-wise approach \n",
    "- A column-wise Approach\n",
    "\n"
   ]
  },
  {
   "cell_type": "code",
   "execution_count": null,
   "id": "0f8486f2",
   "metadata": {},
   "outputs": [],
   "source": []
  }
 ],
 "metadata": {
  "kernelspec": {
   "display_name": "Python 3 (ipykernel)",
   "language": "python",
   "name": "python3"
  },
  "language_info": {
   "codemirror_mode": {
    "name": "ipython",
    "version": 3
   },
   "file_extension": ".py",
   "mimetype": "text/x-python",
   "name": "python",
   "nbconvert_exporter": "python",
   "pygments_lexer": "ipython3",
   "version": "3.8.16"
  }
 },
 "nbformat": 4,
 "nbformat_minor": 5
}
