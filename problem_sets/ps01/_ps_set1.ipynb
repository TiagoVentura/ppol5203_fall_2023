{
 "cells": [
  {
   "cell_type": "markdown",
   "id": "245e7088",
   "metadata": {},
   "source": [
    "<h1><center> PPOL 5203 Data Science I: Foundations <br><br> \n",
    "<font color='grey'>Problem Set I<br><br>\n",
    "Tiago Ventura</center></center> <h1> "
   ]
  },
  {
   "cell_type": "markdown",
   "id": "4fe2c5d4",
   "metadata": {},
   "source": [
    "This problem set will focus on: \n",
    "\n",
    "- Best Practices for project organization, reproducibility and coding\n",
    "- Git: working with branches, mergins, and solving conflict\n",
    "- Git: understanding commit structure. "
   ]
  },
  {
   "cell_type": "markdown",
   "id": "f3e2b620",
   "metadata": {},
   "source": [
    "## Question 1 (pts 30) \n",
    "\n",
    "Congratulations!! Your first academic article was accepted for publication! As it has become the norm among high-quality academic journals, you now have to submit the data and code for replication of your article's results. \n",
    "\n",
    "You decided to create a github repo with all the materials (data, code, figures) of your article. You article has the following materials: \n",
    "\n",
    "- `main.py` (runs the main results of the paper); \n",
    "- `res_sif.py` (runs all results of the appendix);\n",
    "- `ana_add_p.py` (additional analysis main paper);\n",
    "- `prep_II_version_3.py` (does all the processing of the data);\n",
    "- `survey s II qualtrics 12/10.csv` (raw data);\n",
    "- `raw_data_II_saved_by_coauthor_X.json` (clean data);\n",
    "- `fig.png` (figure 1)\n",
    "- `figure abs.png` (figure 2)\n",
    "- `figure abs2.png` (figure 3)\n",
    "- `figure abs3.png` (figure 4)\n",
    "- `figure abs4.png` (figure 5)\n",
    "- `figure sif het.png` (figure 1 appendix)\n",
    "- `figure sif polarization.png` (figure 2 appendix)\n",
    "- `figure sif reviewer asked.png` (figure 3 appendix)\n",
    "\n",
    "**Your taks:** Create and push your  repository to your github account following the best practices for project management we discussed in class. \n",
    "\n",
    "- Tip 1: Check [this repo](https://github.com/TiagoVentura/winning_plosone/tree/main) to see what your response should look like. \n",
    "\n",
    "- Tip 2: Create a readme.md file explaining your repository, describing your article, folder, and all the files.\n",
    "\n",
    "- Tip 3: All the files above have bad names. Rename them following best practices.\n",
    "\n",
    "- Tip 4: I do not care what is inside of each file. Just create a empty file/output with the appropiate name. \n",
    "\n",
    "To submit your homework, paste below the link of your awesome and well organized github repository\n",
    "\n"
   ]
  },
  {
   "cell_type": "code",
   "execution_count": null,
   "id": "825d293b",
   "metadata": {},
   "outputs": [],
   "source": [
    "# Add the link to your github here\n"
   ]
  },
  {
   "cell_type": "markdown",
   "id": "77656f95",
   "metadata": {},
   "source": [
    "## Question 2 (pts 30) \n",
    "\n",
    "**Check how the students will submit those**\n",
    "\n",
    "1. In your repository, create a `.txt` named `solutions_for_question_2`. Write the name of your favorite book in the file.  \n",
    "\n",
    "2. Add that file to the staging area.\n",
    "\n",
    "3. Commit that file with a clear commit message\n",
    "\n",
    "4. Create and checkout a new branch called \"wish_to\"\n",
    "\n",
    "5. Make a change `solutions_for_question_2` and commit. The change should be adding your second favority book.\n",
    "\n",
    "3. Check out the `master` branch.\n",
    "\n",
    "4. Make a change `solutions_for_question_2` and commit; Make sure that change is to the same line as you change in step 5. Make sure the change differs from what you did in step two. \n",
    "\n",
    "5. Now merge the `new` and `master` branches.\n",
    "\n",
    "6. Manually resolve the git conflict and then commit the resolved version.\n",
    "\n",
    "7. Look at your git log to see the timeline of changes. "
   ]
  },
  {
   "cell_type": "markdown",
   "id": "8803051b",
   "metadata": {},
   "source": [
    "## Question 3 (pts 40)\n",
    "\n",
    "Solve the challenges of this Git Scavenger created by our former Faculty, Eric Dunfor. \n",
    "\n",
    "Here is the link of the task:\n",
    "\n",
    "https://github.com/edunford/git-scavenger-hunt\n",
    "\n",
    "Provide you answers below: "
   ]
  },
  {
   "cell_type": "code",
   "execution_count": null,
   "id": "6f9928a7",
   "metadata": {},
   "outputs": [],
   "source": [
    "# add your answers here"
   ]
  }
 ],
 "metadata": {
  "kernelspec": {
   "display_name": "Python 3 (ipykernel)",
   "language": "python",
   "name": "python3"
  },
  "language_info": {
   "codemirror_mode": {
    "name": "ipython",
    "version": 3
   },
   "file_extension": ".py",
   "mimetype": "text/x-python",
   "name": "python",
   "nbconvert_exporter": "python",
   "pygments_lexer": "ipython3",
   "version": "3.8.16"
  }
 },
 "nbformat": 4,
 "nbformat_minor": 5
}
